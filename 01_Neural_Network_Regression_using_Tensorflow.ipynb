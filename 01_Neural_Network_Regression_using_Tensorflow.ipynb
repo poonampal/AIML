{
  "nbformat": 4,
  "nbformat_minor": 0,
  "metadata": {
    "colab": {
      "provenance": [],
      "gpuType": "T4",
      "authorship_tag": "ABX9TyN77OoNLCUMJh4q44DIU4Y9",
      "include_colab_link": true
    },
    "kernelspec": {
      "name": "python3",
      "display_name": "Python 3"
    },
    "language_info": {
      "name": "python"
    },
    "accelerator": "GPU",
    "gpuClass": "standard"
  },
  "cells": [
    {
      "cell_type": "markdown",
      "metadata": {
        "id": "view-in-github",
        "colab_type": "text"
      },
      "source": [
        "<a href=\"https://colab.research.google.com/github/poonampal/AIML/blob/master/01_Neural_Network_Regression_using_Tensorflow.ipynb\" target=\"_parent\"><img src=\"https://colab.research.google.com/assets/colab-badge.svg\" alt=\"Open In Colab\"/></a>"
      ]
    },
    {
      "cell_type": "code",
      "execution_count": 1,
      "metadata": {
        "colab": {
          "base_uri": "https://localhost:8080/"
        },
        "id": "bAjUh2G1okuR",
        "outputId": "cf7b018f-e3c1-498e-b532-2c194649a824"
      },
      "outputs": [
        {
          "output_type": "stream",
          "name": "stdout",
          "text": [
            "2.12.0\n",
            "Last running time of this notebook 2023-05-10 10:02:23.554251\n"
          ]
        }
      ],
      "source": [
        "import tensorflow as tf\n",
        "import datetime\n",
        "import matplotlib.pyplot as plt\n",
        "from tensorflow.keras import models, layers\n",
        "import numpy as np\n",
        "\n",
        "print(tf.__version__)\n",
        "print(f'Last running time of this notebook {datetime.datetime.now()}')"
      ]
    },
    {
      "cell_type": "code",
      "source": [
        "# check if we are using GPU or CPU\n",
        "tf.config.list_physical_devices()"
      ],
      "metadata": {
        "colab": {
          "base_uri": "https://localhost:8080/"
        },
        "id": "kdZPRMKoo4iK",
        "outputId": "b394f1dc-e023-48ce-caf8-afa6e7144cbd"
      },
      "execution_count": 2,
      "outputs": [
        {
          "output_type": "execute_result",
          "data": {
            "text/plain": [
              "[PhysicalDevice(name='/physical_device:CPU:0', device_type='CPU')]"
            ]
          },
          "metadata": {},
          "execution_count": 2
        }
      ]
    },
    {
      "cell_type": "code",
      "source": [
        "# prepare data for regression model\n",
        "\n",
        "X = tf.constant([100,200,300,400,500,600,700,800,900,1000])\n",
        "y = tf.constant([10,20,30,40,50,60,70,80,90,100])\n",
        "\n",
        "print(X[0])"
      ],
      "metadata": {
        "colab": {
          "base_uri": "https://localhost:8080/"
        },
        "id": "09JKhtSkpFJ1",
        "outputId": "70f8d91d-1c71-4e93-b26d-77b0232cf05d"
      },
      "execution_count": 3,
      "outputs": [
        {
          "output_type": "stream",
          "name": "stdout",
          "text": [
            "tf.Tensor(100, shape=(), dtype=int32)\n"
          ]
        }
      ]
    },
    {
      "cell_type": "code",
      "source": [
        "print(X.shape)"
      ],
      "metadata": {
        "colab": {
          "base_uri": "https://localhost:8080/"
        },
        "id": "Z4tl0_KTptxe",
        "outputId": "6f2dffee-3f6b-4a29-e53a-36c07d0b40b9"
      },
      "execution_count": 4,
      "outputs": [
        {
          "output_type": "stream",
          "name": "stdout",
          "text": [
            "(10,)\n"
          ]
        }
      ]
    },
    {
      "cell_type": "code",
      "source": [
        "plt.scatter(X,y)"
      ],
      "metadata": {
        "colab": {
          "base_uri": "https://localhost:8080/",
          "height": 447
        },
        "id": "lI0nL7OopxAC",
        "outputId": "8e645819-da14-404e-b84a-38e8c17c0672"
      },
      "execution_count": 5,
      "outputs": [
        {
          "output_type": "execute_result",
          "data": {
            "text/plain": [
              "<matplotlib.collections.PathCollection at 0x7fe0a9357730>"
            ]
          },
          "metadata": {},
          "execution_count": 5
        },
        {
          "output_type": "display_data",
          "data": {
            "text/plain": [
              "<Figure size 640x480 with 1 Axes>"
            ],
            "image/png": "[encoded data removed]"
          },
          "metadata": {}
        }
      ]
    },
    {
      "cell_type": "code",
      "source": [
        "# set random seed\n",
        "\n",
        "tf.random.set_seed(42)\n",
        "\n",
        "model = models.Sequential([\n",
        "    layers.Dense(1)\n",
        "])\n",
        "\n",
        "model.compile(optimizer = tf.keras.optimizers.SGD(), loss =tf.keras.losses.mae, metrics=['mae'])\n",
        "\n",
        "model.fit(tf.expand_dims(X, axis=-1),y, epochs=5)"
      ],
      "metadata": {
        "colab": {
          "base_uri": "https://localhost:8080/"
        },
        "id": "XXHtOSuhp-dJ",
        "outputId": "abde712e-dde3-45eb-e5ee-4916e2dc2e3c"
      },
      "execution_count": 6,
      "outputs": [
        {
          "output_type": "stream",
          "name": "stdout",
          "text": [
            "Epoch 1/5\n",
            "1/1 [==============================] - 1s 701ms/step - loss: 285.7718 - mae: 285.7718\n",
            "Epoch 2/5\n",
            "1/1 [==============================] - 0s 12ms/step - loss: 2739.2380 - mae: 2739.2380\n",
            "Epoch 3/5\n",
            "1/1 [==============================] - 0s 16ms/step - loss: 285.7719 - mae: 285.7719\n",
            "Epoch 4/5\n",
            "1/1 [==============================] - 0s 14ms/step - loss: 2739.2380 - mae: 2739.2380\n",
            "Epoch 5/5\n",
            "1/1 [==============================] - 0s 12ms/step - loss: 285.7719 - mae: 285.7719\n"
          ]
        },
        {
          "output_type": "execute_result",
          "data": {
            "text/plain": [
              "<keras.callbacks.History at 0x7fe0a414f9a0>"
            ]
          },
          "metadata": {},
          "execution_count": 6
        }
      ]
    },
    {
      "cell_type": "code",
      "source": [
        "X, y"
      ],
      "metadata": {
        "colab": {
          "base_uri": "https://localhost:8080/"
        },
        "id": "qLIHuD49qnd5",
        "outputId": "6344f42a-a78e-43fb-aae6-46c153a0a1a5"
      },
      "execution_count": 7,
      "outputs": [
        {
          "output_type": "execute_result",
          "data": {
            "text/plain": [
              "(<tf.Tensor: shape=(10,), dtype=int32, numpy=\n",
              " array([ 100,  200,  300,  400,  500,  600,  700,  800,  900, 1000],\n",
              "       dtype=int32)>,\n",
              " <tf.Tensor: shape=(10,), dtype=int32, numpy=array([ 10,  20,  30,  40,  50,  60,  70,  80,  90, 100], dtype=int32)>)"
            ]
          },
          "metadata": {},
          "execution_count": 7
        }
      ]
    },
    {
      "cell_type": "code",
      "source": [
        "tf.expand_dims(X, axis=-1)"
      ],
      "metadata": {
        "colab": {
          "base_uri": "https://localhost:8080/"
        },
        "id": "B9Hy59gIre_A",
        "outputId": "3972a5df-9516-4b85-e5e7-7d7cea0e8cba"
      },
      "execution_count": 8,
      "outputs": [
        {
          "output_type": "execute_result",
          "data": {
            "text/plain": [
              "<tf.Tensor: shape=(10, 1), dtype=int32, numpy=\n",
              "array([[ 100],\n",
              "       [ 200],\n",
              "       [ 300],\n",
              "       [ 400],\n",
              "       [ 500],\n",
              "       [ 600],\n",
              "       [ 700],\n",
              "       [ 800],\n",
              "       [ 900],\n",
              "       [1000]], dtype=int32)>"
            ]
          },
          "metadata": {},
          "execution_count": 8
        }
      ]
    },
    {
      "cell_type": "code",
      "source": [
        "model.predict([1100])"
      ],
      "metadata": {
        "colab": {
          "base_uri": "https://localhost:8080/"
        },
        "id": "9Tfbf7DPrnYq",
        "outputId": "4ec66c58-5800-44a3-97a1-e1ac1d272c6c"
      },
      "execution_count": 9,
      "outputs": [
        {
          "output_type": "stream",
          "name": "stdout",
          "text": [
            "1/1 [==============================] - 0s 109ms/step\n"
          ]
        },
        {
          "output_type": "execute_result",
          "data": {
            "text/plain": [
              "array([[5588.466]], dtype=float32)"
            ]
          },
          "metadata": {},
          "execution_count": 9
        }
      ]
    },
    {
      "cell_type": "code",
      "source": [
        "# as prediction is bad so we will try to imporove model and will incrase learning period\n",
        "\n",
        "tf.random.set_seed(42)\n",
        "\n",
        "model = models.Sequential([\n",
        "    layers.Dense(1)\n",
        "])\n",
        "\n",
        "model.compile(optimizer=tf.keras.optimizers.SGD(), loss = tf.keras.losses.mae, metrics=['mae'])\n",
        "\n",
        "model.fit(tf.expand_dims(X, axis=-1), y, epochs=100)"
      ],
      "metadata": {
        "colab": {
          "base_uri": "https://localhost:8080/"
        },
        "id": "bsbsQdWQsAeE",
        "outputId": "15641caa-d60e-43d0-d5d9-30376a63c19e"
      },
      "execution_count": 10,
      "outputs": [
        {
          "output_type": "stream",
          "name": "stdout",
          "text": [
            "Epoch 1/100\n",
            "1/1 [==============================] - 0s 400ms/step - loss: 349.3178 - mae: 349.3178\n",
            "Epoch 2/100\n",
            "1/1 [==============================] - 0s 15ms/step - loss: 2675.6919 - mae: 2675.6919\n",
            "Epoch 3/100\n",
            "1/1 [==============================] - 0s 12ms/step - loss: 349.3177 - mae: 349.3177\n",
            "Epoch 4/100\n",
            "1/1 [==============================] - 0s 17ms/step - loss: 2675.6921 - mae: 2675.6921\n",
            "Epoch 5/100\n",
            "1/1 [==============================] - 0s 14ms/step - loss: 349.3177 - mae: 349.3177\n",
            "Epoch 6/100\n",
            "1/1 [==============================] - 0s 12ms/step - loss: 2675.6921 - mae: 2675.6921\n",
            "Epoch 7/100\n",
            "1/1 [==============================] - 0s 10ms/step - loss: 349.3177 - mae: 349.3177\n",
            "Epoch 8/100\n",
            "1/1 [==============================] - 0s 11ms/step - loss: 2675.6924 - mae: 2675.6924\n",
            "Epoch 9/100\n",
            "1/1 [==============================] - 0s 11ms/step - loss: 349.3177 - mae: 349.3177\n",
            "Epoch 10/100\n",
            "1/1 [==============================] - 0s 10ms/step - loss: 2675.6921 - mae: 2675.6921\n",
            "Epoch 11/100\n",
            "1/1 [==============================] - 0s 14ms/step - loss: 349.3177 - mae: 349.3177\n",
            "Epoch 12/100\n",
            "1/1 [==============================] - 0s 13ms/step - loss: 2675.6921 - mae: 2675.6921\n",
            "Epoch 13/100\n",
            "1/1 [==============================] - 0s 13ms/step - loss: 349.3177 - mae: 349.3177\n",
            "Epoch 14/100\n",
            "1/1 [==============================] - 0s 11ms/step - loss: 2675.6919 - mae: 2675.6919\n",
            "Epoch 15/100\n",
            "1/1 [==============================] - 0s 11ms/step - loss: 349.3177 - mae: 349.3177\n",
            "Epoch 16/100\n",
            "1/1 [==============================] - 0s 15ms/step - loss: 2675.6921 - mae: 2675.6921\n",
            "Epoch 17/100\n",
            "1/1 [==============================] - 0s 11ms/step - loss: 349.3177 - mae: 349.3177\n",
            "Epoch 18/100\n",
            "1/1 [==============================] - 0s 10ms/step - loss: 2675.6921 - mae: 2675.6921\n",
            "Epoch 19/100\n",
            "1/1 [==============================] - 0s 13ms/step - loss: 349.3177 - mae: 349.3177\n",
            "Epoch 20/100\n",
            "1/1 [==============================] - 0s 11ms/step - loss: 2675.6921 - mae: 2675.6921\n",
            "Epoch 21/100\n",
            "1/1 [==============================] - 0s 11ms/step - loss: 349.3177 - mae: 349.3177\n",
            "Epoch 22/100\n",
            "1/1 [==============================] - 0s 13ms/step - loss: 2675.6921 - mae: 2675.6921\n",
            "Epoch 23/100\n",
            "1/1 [==============================] - 0s 11ms/step - loss: 349.3177 - mae: 349.3177\n",
            "Epoch 24/100\n",
            "1/1 [==============================] - 0s 11ms/step - loss: 2675.6921 - mae: 2675.6921\n",
            "Epoch 25/100\n",
            "1/1 [==============================] - 0s 11ms/step - loss: 349.3177 - mae: 349.3177\n",
            "Epoch 26/100\n",
            "1/1 [==============================] - 0s 11ms/step - loss: 2675.6921 - mae: 2675.6921\n",
            "Epoch 27/100\n",
            "1/1 [==============================] - 0s 12ms/step - loss: 349.3177 - mae: 349.3177\n",
            "Epoch 28/100\n",
            "1/1 [==============================] - 0s 12ms/step - loss: 2675.6924 - mae: 2675.6924\n",
            "Epoch 29/100\n",
            "1/1 [==============================] - 0s 11ms/step - loss: 349.3177 - mae: 349.3177\n",
            "Epoch 30/100\n",
            "1/1 [==============================] - 0s 11ms/step - loss: 2675.6921 - mae: 2675.6921\n",
            "Epoch 31/100\n",
            "1/1 [==============================] - 0s 11ms/step - loss: 349.3177 - mae: 349.3177\n",
            "Epoch 32/100\n",
            "1/1 [==============================] - 0s 11ms/step - loss: 2675.6921 - mae: 2675.6921\n",
            "Epoch 33/100\n",
            "1/1 [==============================] - 0s 11ms/step - loss: 349.3177 - mae: 349.3177\n",
            "Epoch 34/100\n",
            "1/1 [==============================] - 0s 11ms/step - loss: 2675.6924 - mae: 2675.6924\n",
            "Epoch 35/100\n",
            "1/1 [==============================] - 0s 14ms/step - loss: 349.3177 - mae: 349.3177\n",
            "Epoch 36/100\n",
            "1/1 [==============================] - 0s 15ms/step - loss: 2675.6921 - mae: 2675.6921\n",
            "Epoch 37/100\n",
            "1/1 [==============================] - 0s 15ms/step - loss: 349.3177 - mae: 349.3177\n",
            "Epoch 38/100\n",
            "1/1 [==============================] - 0s 17ms/step - loss: 2675.6921 - mae: 2675.6921\n",
            "Epoch 39/100\n",
            "1/1 [==============================] - 0s 10ms/step - loss: 349.3177 - mae: 349.3177\n",
            "Epoch 40/100\n",
            "1/1 [==============================] - 0s 10ms/step - loss: 2675.6921 - mae: 2675.6921\n",
            "Epoch 41/100\n",
            "1/1 [==============================] - 0s 10ms/step - loss: 349.3177 - mae: 349.3177\n",
            "Epoch 42/100\n",
            "1/1 [==============================] - 0s 12ms/step - loss: 2675.6921 - mae: 2675.6921\n",
            "Epoch 43/100\n",
            "1/1 [==============================] - 0s 12ms/step - loss: 349.3177 - mae: 349.3177\n",
            "Epoch 44/100\n",
            "1/1 [==============================] - 0s 21ms/step - loss: 2675.6921 - mae: 2675.6921\n",
            "Epoch 45/100\n",
            "1/1 [==============================] - 0s 13ms/step - loss: 349.3177 - mae: 349.3177\n",
            "Epoch 46/100\n",
            "1/1 [==============================] - 0s 13ms/step - loss: 2675.6921 - mae: 2675.6921\n",
            "Epoch 47/100\n",
            "1/1 [==============================] - 0s 11ms/step - loss: 349.3177 - mae: 349.3177\n",
            "Epoch 48/100\n",
            "1/1 [==============================] - 0s 11ms/step - loss: 2675.6921 - mae: 2675.6921\n",
            "Epoch 49/100\n",
            "1/1 [==============================] - 0s 11ms/step - loss: 349.3177 - mae: 349.3177\n",
            "Epoch 50/100\n",
            "1/1 [==============================] - 0s 11ms/step - loss: 2675.6921 - mae: 2675.6921\n",
            "Epoch 51/100\n",
            "1/1 [==============================] - 0s 12ms/step - loss: 349.3177 - mae: 349.3177\n",
            "Epoch 52/100\n",
            "1/1 [==============================] - 0s 10ms/step - loss: 2675.6921 - mae: 2675.6921\n",
            "Epoch 53/100\n",
            "1/1 [==============================] - 0s 10ms/step - loss: 349.3177 - mae: 349.3177\n",
            "Epoch 54/100\n",
            "1/1 [==============================] - 0s 18ms/step - loss: 2675.6921 - mae: 2675.6921\n",
            "Epoch 55/100\n",
            "1/1 [==============================] - 0s 15ms/step - loss: 349.3177 - mae: 349.3177\n",
            "Epoch 56/100\n",
            "1/1 [==============================] - 0s 11ms/step - loss: 2675.6921 - mae: 2675.6921\n",
            "Epoch 57/100\n",
            "1/1 [==============================] - 0s 10ms/step - loss: 349.3177 - mae: 349.3177\n",
            "Epoch 58/100\n",
            "1/1 [==============================] - 0s 11ms/step - loss: 2675.6921 - mae: 2675.6921\n",
            "Epoch 59/100\n",
            "1/1 [==============================] - 0s 11ms/step - loss: 349.3177 - mae: 349.3177\n",
            "Epoch 60/100\n",
            "1/1 [==============================] - 0s 13ms/step - loss: 2675.6921 - mae: 2675.6921\n",
            "Epoch 61/100\n",
            "1/1 [==============================] - 0s 13ms/step - loss: 349.3177 - mae: 349.3177\n",
            "Epoch 62/100\n",
            "1/1 [==============================] - 0s 11ms/step - loss: 2675.6921 - mae: 2675.6921\n",
            "Epoch 63/100\n",
            "1/1 [==============================] - 0s 10ms/step - loss: 349.3177 - mae: 349.3177\n",
            "Epoch 64/100\n",
            "1/1 [==============================] - 0s 10ms/step - loss: 2675.6921 - mae: 2675.6921\n",
            "Epoch 65/100\n",
            "1/1 [==============================] - 0s 11ms/step - loss: 349.3177 - mae: 349.3177\n",
            "Epoch 66/100\n",
            "1/1 [==============================] - 0s 10ms/step - loss: 2675.6924 - mae: 2675.6924\n",
            "Epoch 67/100\n",
            "1/1 [==============================] - 0s 11ms/step - loss: 349.3177 - mae: 349.3177\n",
            "Epoch 68/100\n",
            "1/1 [==============================] - 0s 10ms/step - loss: 2675.6921 - mae: 2675.6921\n",
            "Epoch 69/100\n",
            "1/1 [==============================] - 0s 10ms/step - loss: 349.3177 - mae: 349.3177\n",
            "Epoch 70/100\n",
            "1/1 [==============================] - 0s 10ms/step - loss: 2675.6921 - mae: 2675.6921\n",
            "Epoch 71/100\n",
            "1/1 [==============================] - 0s 10ms/step - loss: 349.3177 - mae: 349.3177\n",
            "Epoch 72/100\n",
            "1/1 [==============================] - 0s 11ms/step - loss: 2675.6921 - mae: 2675.6921\n",
            "Epoch 73/100\n",
            "1/1 [==============================] - 0s 10ms/step - loss: 349.3177 - mae: 349.3177\n",
            "Epoch 74/100\n",
            "1/1 [==============================] - 0s 10ms/step - loss: 2675.6921 - mae: 2675.6921\n",
            "Epoch 75/100\n",
            "1/1 [==============================] - 0s 10ms/step - loss: 349.3177 - mae: 349.3177\n",
            "Epoch 76/100\n",
            "1/1 [==============================] - 0s 11ms/step - loss: 2675.6921 - mae: 2675.6921\n",
            "Epoch 77/100\n",
            "1/1 [==============================] - 0s 10ms/step - loss: 349.3177 - mae: 349.3177\n",
            "Epoch 78/100\n",
            "1/1 [==============================] - 0s 10ms/step - loss: 2675.6921 - mae: 2675.6921\n",
            "Epoch 79/100\n",
            "1/1 [==============================] - 0s 14ms/step - loss: 349.3177 - mae: 349.3177\n",
            "Epoch 80/100\n",
            "1/1 [==============================] - 0s 12ms/step - loss: 2675.6921 - mae: 2675.6921\n",
            "Epoch 81/100\n",
            "1/1 [==============================] - 0s 10ms/step - loss: 349.3177 - mae: 349.3177\n",
            "Epoch 82/100\n",
            "1/1 [==============================] - 0s 12ms/step - loss: 2675.6921 - mae: 2675.6921\n",
            "Epoch 83/100\n",
            "1/1 [==============================] - 0s 10ms/step - loss: 349.3177 - mae: 349.3177\n",
            "Epoch 84/100\n",
            "1/1 [==============================] - 0s 10ms/step - loss: 2675.6921 - mae: 2675.6921\n",
            "Epoch 85/100\n",
            "1/1 [==============================] - 0s 11ms/step - loss: 349.3177 - mae: 349.3177\n",
            "Epoch 86/100\n",
            "1/1 [==============================] - 0s 11ms/step - loss: 2675.6921 - mae: 2675.6921\n",
            "Epoch 87/100\n",
            "1/1 [==============================] - 0s 10ms/step - loss: 349.3177 - mae: 349.3177\n",
            "Epoch 88/100\n",
            "1/1 [==============================] - 0s 10ms/step - loss: 2675.6921 - mae: 2675.6921\n",
            "Epoch 89/100\n",
            "1/1 [==============================] - 0s 12ms/step - loss: 349.3177 - mae: 349.3177\n",
            "Epoch 90/100\n",
            "1/1 [==============================] - 0s 11ms/step - loss: 2675.6921 - mae: 2675.6921\n",
            "Epoch 91/100\n",
            "1/1 [==============================] - 0s 16ms/step - loss: 349.3177 - mae: 349.3177\n",
            "Epoch 92/100\n",
            "1/1 [==============================] - 0s 18ms/step - loss: 2675.6921 - mae: 2675.6921\n",
            "Epoch 93/100\n",
            "1/1 [==============================] - 0s 15ms/step - loss: 349.3177 - mae: 349.3177\n",
            "Epoch 94/100\n",
            "1/1 [==============================] - 0s 12ms/step - loss: 2675.6924 - mae: 2675.6924\n",
            "Epoch 95/100\n",
            "1/1 [==============================] - 0s 8ms/step - loss: 349.3177 - mae: 349.3177\n",
            "Epoch 96/100\n",
            "1/1 [==============================] - 0s 17ms/step - loss: 2675.6921 - mae: 2675.6921\n",
            "Epoch 97/100\n",
            "1/1 [==============================] - 0s 12ms/step - loss: 349.3177 - mae: 349.3177\n",
            "Epoch 98/100\n",
            "1/1 [==============================] - 0s 15ms/step - loss: 2675.6921 - mae: 2675.6921\n",
            "Epoch 99/100\n",
            "1/1 [==============================] - 0s 13ms/step - loss: 349.3177 - mae: 349.3177\n",
            "Epoch 100/100\n",
            "1/1 [==============================] - 0s 18ms/step - loss: 2675.6919 - mae: 2675.6919\n"
          ]
        },
        {
          "output_type": "execute_result",
          "data": {
            "text/plain": [
              "<keras.callbacks.History at 0x7fe097523a90>"
            ]
          },
          "metadata": {},
          "execution_count": 10
        }
      ]
    },
    {
      "cell_type": "code",
      "source": [
        "# learning duration not helping for our model, lets scale our data\n",
        "\n",
        "X_scaled = X /100"
      ],
      "metadata": {
        "id": "hGtE78nks3O-"
      },
      "execution_count": 11,
      "outputs": []
    },
    {
      "cell_type": "code",
      "source": [
        "# train model on scaled data\n",
        "\n",
        "tf.random.set_seed(42)\n",
        "\n",
        "model = models.Sequential([\n",
        "    layers.Dense(1)\n",
        "])\n",
        "\n",
        "model.compile(optimizer=tf.keras.optimizers.SGD(), loss = tf.keras.losses.mae, metrics=['mae'])\n",
        "\n",
        "model.fit(tf.expand_dims(X_scaled, axis=-1), y, epochs= 100)"
      ],
      "metadata": {
        "colab": {
          "base_uri": "https://localhost:8080/"
        },
        "id": "I8FAqMkWtjVl",
        "outputId": "54e97b23-8cf2-4c8f-dd61-17e067768d36"
      },
      "execution_count": 12,
      "outputs": [
        {
          "output_type": "stream",
          "name": "stdout",
          "text": [
            "Epoch 1/100\n",
            "1/1 [==============================] - 1s 533ms/step - loss: 58.3178 - mae: 58.3178\n",
            "Epoch 2/100\n",
            "1/1 [==============================] - 0s 13ms/step - loss: 58.0053 - mae: 58.0053\n",
            "Epoch 3/100\n",
            "1/1 [==============================] - 0s 14ms/step - loss: 57.6928 - mae: 57.6928\n",
            "Epoch 4/100\n",
            "1/1 [==============================] - 0s 13ms/step - loss: 57.3803 - mae: 57.3803\n",
            "Epoch 5/100\n",
            "1/1 [==============================] - 0s 11ms/step - loss: 57.0678 - mae: 57.0678\n",
            "Epoch 6/100\n",
            "1/1 [==============================] - 0s 12ms/step - loss: 56.7553 - mae: 56.7553\n",
            "Epoch 7/100\n",
            "1/1 [==============================] - 0s 18ms/step - loss: 56.4428 - mae: 56.4428\n",
            "Epoch 8/100\n",
            "1/1 [==============================] - 0s 18ms/step - loss: 56.1303 - mae: 56.1303\n",
            "Epoch 9/100\n",
            "1/1 [==============================] - 0s 17ms/step - loss: 55.8178 - mae: 55.8178\n",
            "Epoch 10/100\n",
            "1/1 [==============================] - 0s 21ms/step - loss: 55.5053 - mae: 55.5053\n",
            "Epoch 11/100\n",
            "1/1 [==============================] - 0s 13ms/step - loss: 55.1928 - mae: 55.1928\n",
            "Epoch 12/100\n",
            "1/1 [==============================] - 0s 12ms/step - loss: 54.8803 - mae: 54.8803\n",
            "Epoch 13/100\n",
            "1/1 [==============================] - 0s 19ms/step - loss: 54.5678 - mae: 54.5678\n",
            "Epoch 14/100\n",
            "1/1 [==============================] - 0s 21ms/step - loss: 54.2553 - mae: 54.2553\n",
            "Epoch 15/100\n",
            "1/1 [==============================] - 0s 20ms/step - loss: 53.9428 - mae: 53.9428\n",
            "Epoch 16/100\n",
            "1/1 [==============================] - 0s 20ms/step - loss: 53.6303 - mae: 53.6303\n",
            "Epoch 17/100\n",
            "1/1 [==============================] - 0s 16ms/step - loss: 53.3178 - mae: 53.3178\n",
            "Epoch 18/100\n",
            "1/1 [==============================] - 0s 15ms/step - loss: 53.0053 - mae: 53.0053\n",
            "Epoch 19/100\n",
            "1/1 [==============================] - 0s 15ms/step - loss: 52.6928 - mae: 52.6928\n",
            "Epoch 20/100\n",
            "1/1 [==============================] - 0s 13ms/step - loss: 52.3803 - mae: 52.3803\n",
            "Epoch 21/100\n",
            "1/1 [==============================] - 0s 9ms/step - loss: 52.0678 - mae: 52.0678\n",
            "Epoch 22/100\n",
            "1/1 [==============================] - 0s 15ms/step - loss: 51.7553 - mae: 51.7553\n",
            "Epoch 23/100\n",
            "1/1 [==============================] - 0s 15ms/step - loss: 51.4428 - mae: 51.4428\n",
            "Epoch 24/100\n",
            "1/1 [==============================] - 0s 14ms/step - loss: 51.1303 - mae: 51.1303\n",
            "Epoch 25/100\n",
            "1/1 [==============================] - 0s 14ms/step - loss: 50.8178 - mae: 50.8178\n",
            "Epoch 26/100\n",
            "1/1 [==============================] - 0s 15ms/step - loss: 50.5053 - mae: 50.5053\n",
            "Epoch 27/100\n",
            "1/1 [==============================] - 0s 12ms/step - loss: 50.1928 - mae: 50.1928\n",
            "Epoch 28/100\n",
            "1/1 [==============================] - 0s 13ms/step - loss: 49.8803 - mae: 49.8803\n",
            "Epoch 29/100\n",
            "1/1 [==============================] - 0s 15ms/step - loss: 49.5678 - mae: 49.5678\n",
            "Epoch 30/100\n",
            "1/1 [==============================] - 0s 11ms/step - loss: 49.2553 - mae: 49.2553\n",
            "Epoch 31/100\n",
            "1/1 [==============================] - 0s 15ms/step - loss: 48.9428 - mae: 48.9428\n",
            "Epoch 32/100\n",
            "1/1 [==============================] - 0s 19ms/step - loss: 48.6303 - mae: 48.6303\n",
            "Epoch 33/100\n",
            "1/1 [==============================] - 0s 15ms/step - loss: 48.3178 - mae: 48.3178\n",
            "Epoch 34/100\n",
            "1/1 [==============================] - 0s 18ms/step - loss: 48.0053 - mae: 48.0053\n",
            "Epoch 35/100\n",
            "1/1 [==============================] - 0s 20ms/step - loss: 47.6928 - mae: 47.6928\n",
            "Epoch 36/100\n",
            "1/1 [==============================] - 0s 16ms/step - loss: 47.3803 - mae: 47.3803\n",
            "Epoch 37/100\n",
            "1/1 [==============================] - 0s 22ms/step - loss: 47.0678 - mae: 47.0678\n",
            "Epoch 38/100\n",
            "1/1 [==============================] - 0s 15ms/step - loss: 46.7553 - mae: 46.7553\n",
            "Epoch 39/100\n",
            "1/1 [==============================] - 0s 18ms/step - loss: 46.4428 - mae: 46.4428\n",
            "Epoch 40/100\n",
            "1/1 [==============================] - 0s 13ms/step - loss: 46.1303 - mae: 46.1303\n",
            "Epoch 41/100\n",
            "1/1 [==============================] - 0s 15ms/step - loss: 45.8178 - mae: 45.8178\n",
            "Epoch 42/100\n",
            "1/1 [==============================] - 0s 9ms/step - loss: 45.5053 - mae: 45.5053\n",
            "Epoch 43/100\n",
            "1/1 [==============================] - 0s 16ms/step - loss: 45.1928 - mae: 45.1928\n",
            "Epoch 44/100\n",
            "1/1 [==============================] - 0s 11ms/step - loss: 44.8803 - mae: 44.8803\n",
            "Epoch 45/100\n",
            "1/1 [==============================] - 0s 10ms/step - loss: 44.5678 - mae: 44.5678\n",
            "Epoch 46/100\n",
            "1/1 [==============================] - 0s 14ms/step - loss: 44.2553 - mae: 44.2553\n",
            "Epoch 47/100\n",
            "1/1 [==============================] - 0s 12ms/step - loss: 43.9428 - mae: 43.9428\n",
            "Epoch 48/100\n",
            "1/1 [==============================] - 0s 10ms/step - loss: 43.6303 - mae: 43.6303\n",
            "Epoch 49/100\n",
            "1/1 [==============================] - 0s 11ms/step - loss: 43.3178 - mae: 43.3178\n",
            "Epoch 50/100\n",
            "1/1 [==============================] - 0s 11ms/step - loss: 43.0053 - mae: 43.0053\n",
            "Epoch 51/100\n",
            "1/1 [==============================] - 0s 10ms/step - loss: 42.6928 - mae: 42.6928\n",
            "Epoch 52/100\n",
            "1/1 [==============================] - 0s 9ms/step - loss: 42.3803 - mae: 42.3803\n",
            "Epoch 53/100\n",
            "1/1 [==============================] - 0s 10ms/step - loss: 42.0678 - mae: 42.0678\n",
            "Epoch 54/100\n",
            "1/1 [==============================] - 0s 10ms/step - loss: 41.7553 - mae: 41.7553\n",
            "Epoch 55/100\n",
            "1/1 [==============================] - 0s 12ms/step - loss: 41.4428 - mae: 41.4428\n",
            "Epoch 56/100\n",
            "1/1 [==============================] - 0s 11ms/step - loss: 41.1303 - mae: 41.1303\n",
            "Epoch 57/100\n",
            "1/1 [==============================] - 0s 11ms/step - loss: 40.8178 - mae: 40.8178\n",
            "Epoch 58/100\n",
            "1/1 [==============================] - 0s 13ms/step - loss: 40.5053 - mae: 40.5053\n",
            "Epoch 59/100\n",
            "1/1 [==============================] - 0s 12ms/step - loss: 40.1928 - mae: 40.1928\n",
            "Epoch 60/100\n",
            "1/1 [==============================] - 0s 13ms/step - loss: 39.8803 - mae: 39.8803\n",
            "Epoch 61/100\n",
            "1/1 [==============================] - 0s 10ms/step - loss: 39.5678 - mae: 39.5678\n",
            "Epoch 62/100\n",
            "1/1 [==============================] - 0s 12ms/step - loss: 39.2553 - mae: 39.2553\n",
            "Epoch 63/100\n",
            "1/1 [==============================] - 0s 11ms/step - loss: 38.9428 - mae: 38.9428\n",
            "Epoch 64/100\n",
            "1/1 [==============================] - 0s 10ms/step - loss: 38.6303 - mae: 38.6303\n",
            "Epoch 65/100\n",
            "1/1 [==============================] - 0s 11ms/step - loss: 38.3178 - mae: 38.3178\n",
            "Epoch 66/100\n",
            "1/1 [==============================] - 0s 11ms/step - loss: 38.0053 - mae: 38.0053\n",
            "Epoch 67/100\n",
            "1/1 [==============================] - 0s 11ms/step - loss: 37.6928 - mae: 37.6928\n",
            "Epoch 68/100\n",
            "1/1 [==============================] - 0s 11ms/step - loss: 37.3803 - mae: 37.3803\n",
            "Epoch 69/100\n",
            "1/1 [==============================] - 0s 11ms/step - loss: 37.0678 - mae: 37.0678\n",
            "Epoch 70/100\n",
            "1/1 [==============================] - 0s 10ms/step - loss: 36.7553 - mae: 36.7553\n",
            "Epoch 71/100\n",
            "1/1 [==============================] - 0s 14ms/step - loss: 36.4428 - mae: 36.4428\n",
            "Epoch 72/100\n",
            "1/1 [==============================] - 0s 11ms/step - loss: 36.1303 - mae: 36.1303\n",
            "Epoch 73/100\n",
            "1/1 [==============================] - 0s 11ms/step - loss: 35.8178 - mae: 35.8178\n",
            "Epoch 74/100\n",
            "1/1 [==============================] - 0s 11ms/step - loss: 35.5053 - mae: 35.5053\n",
            "Epoch 75/100\n",
            "1/1 [==============================] - 0s 10ms/step - loss: 35.1928 - mae: 35.1928\n",
            "Epoch 76/100\n",
            "1/1 [==============================] - 0s 11ms/step - loss: 34.8803 - mae: 34.8803\n",
            "Epoch 77/100\n",
            "1/1 [==============================] - 0s 11ms/step - loss: 34.5678 - mae: 34.5678\n",
            "Epoch 78/100\n",
            "1/1 [==============================] - 0s 11ms/step - loss: 34.2553 - mae: 34.2553\n",
            "Epoch 79/100\n",
            "1/1 [==============================] - 0s 11ms/step - loss: 33.9428 - mae: 33.9428\n",
            "Epoch 80/100\n",
            "1/1 [==============================] - 0s 11ms/step - loss: 33.6303 - mae: 33.6303\n",
            "Epoch 81/100\n",
            "1/1 [==============================] - 0s 10ms/step - loss: 33.3178 - mae: 33.3178\n",
            "Epoch 82/100\n",
            "1/1 [==============================] - 0s 11ms/step - loss: 33.0053 - mae: 33.0053\n",
            "Epoch 83/100\n",
            "1/1 [==============================] - 0s 13ms/step - loss: 32.6928 - mae: 32.6928\n",
            "Epoch 84/100\n",
            "1/1 [==============================] - 0s 11ms/step - loss: 32.3803 - mae: 32.3803\n",
            "Epoch 85/100\n",
            "1/1 [==============================] - 0s 10ms/step - loss: 32.0678 - mae: 32.0678\n",
            "Epoch 86/100\n",
            "1/1 [==============================] - 0s 11ms/step - loss: 31.7553 - mae: 31.7553\n",
            "Epoch 87/100\n",
            "1/1 [==============================] - 0s 11ms/step - loss: 31.4428 - mae: 31.4428\n",
            "Epoch 88/100\n",
            "1/1 [==============================] - 0s 11ms/step - loss: 31.1303 - mae: 31.1303\n",
            "Epoch 89/100\n",
            "1/1 [==============================] - 0s 13ms/step - loss: 30.8178 - mae: 30.8178\n",
            "Epoch 90/100\n",
            "1/1 [==============================] - 0s 11ms/step - loss: 30.5053 - mae: 30.5053\n",
            "Epoch 91/100\n",
            "1/1 [==============================] - 0s 11ms/step - loss: 30.1928 - mae: 30.1928\n",
            "Epoch 92/100\n",
            "1/1 [==============================] - 0s 12ms/step - loss: 29.8803 - mae: 29.8803\n",
            "Epoch 93/100\n",
            "1/1 [==============================] - 0s 11ms/step - loss: 29.5678 - mae: 29.5678\n",
            "Epoch 94/100\n",
            "1/1 [==============================] - 0s 11ms/step - loss: 29.2553 - mae: 29.2553\n",
            "Epoch 95/100\n",
            "1/1 [==============================] - 0s 10ms/step - loss: 28.9428 - mae: 28.9428\n",
            "Epoch 96/100\n",
            "1/1 [==============================] - 0s 11ms/step - loss: 28.6303 - mae: 28.6303\n",
            "Epoch 97/100\n",
            "1/1 [==============================] - 0s 10ms/step - loss: 28.3178 - mae: 28.3178\n",
            "Epoch 98/100\n",
            "1/1 [==============================] - 0s 11ms/step - loss: 28.0053 - mae: 28.0053\n",
            "Epoch 99/100\n",
            "1/1 [==============================] - 0s 12ms/step - loss: 27.6928 - mae: 27.6928\n",
            "Epoch 100/100\n",
            "1/1 [==============================] - 0s 12ms/step - loss: 27.3803 - mae: 27.3803\n"
          ]
        },
        {
          "output_type": "execute_result",
          "data": {
            "text/plain": [
              "<keras.callbacks.History at 0x7fe095c06800>"
            ]
          },
          "metadata": {},
          "execution_count": 12
        }
      ]
    },
    {
      "cell_type": "code",
      "source": [
        "# nice our loss reduced , lets predict with new model\n",
        "\n",
        "model.predict([100])"
      ],
      "metadata": {
        "colab": {
          "base_uri": "https://localhost:8080/"
        },
        "id": "0ATfNduOuAXR",
        "outputId": "348a08dc-339d-4e46-8aee-7897c7d2144e"
      },
      "execution_count": 13,
      "outputs": [
        {
          "output_type": "stream",
          "name": "stdout",
          "text": [
            "1/1 [==============================] - 0s 71ms/step\n"
          ]
        },
        {
          "output_type": "execute_result",
          "data": {
            "text/plain": [
              "array([[490.67624]], dtype=float32)"
            ]
          },
          "metadata": {},
          "execution_count": 13
        }
      ]
    },
    {
      "cell_type": "code",
      "source": [
        "# still our model is not even closer to the truth value\n",
        "\n",
        "# lets generate more data - our linear equation for current dataset is y = 10X + c\n",
        "\n",
        "X = np.arange(100, 5100, 100)\n",
        "y= np.arange(10, 510, 10)\n",
        "\n"
      ],
      "metadata": {
        "id": "evlVVS_kuQ9d"
      },
      "execution_count": 14,
      "outputs": []
    },
    {
      "cell_type": "code",
      "source": [
        "# split data into training and test dataset\n",
        "\n",
        "X_train = X[:40]\n",
        "X_test = X[40:]\n",
        "\n",
        "y_train = y[:40]\n",
        "y_test =y[40:]"
      ],
      "metadata": {
        "id": "bo-kGrBr0hIw"
      },
      "execution_count": 15,
      "outputs": []
    },
    {
      "cell_type": "code",
      "source": [
        "X_train, y_train, X_test, y_test"
      ],
      "metadata": {
        "colab": {
          "base_uri": "https://localhost:8080/"
        },
        "id": "Sbqjjzo11Ovv",
        "outputId": "f7480adb-2f4e-4722-d294-9b3990b5e20f"
      },
      "execution_count": 16,
      "outputs": [
        {
          "output_type": "execute_result",
          "data": {
            "text/plain": [
              "(array([ 100,  200,  300,  400,  500,  600,  700,  800,  900, 1000, 1100,\n",
              "        1200, 1300, 1400, 1500, 1600, 1700, 1800, 1900, 2000, 2100, 2200,\n",
              "        2300, 2400, 2500, 2600, 2700, 2800, 2900, 3000, 3100, 3200, 3300,\n",
              "        3400, 3500, 3600, 3700, 3800, 3900, 4000]),\n",
              " array([ 10,  20,  30,  40,  50,  60,  70,  80,  90, 100, 110, 120, 130,\n",
              "        140, 150, 160, 170, 180, 190, 200, 210, 220, 230, 240, 250, 260,\n",
              "        270, 280, 290, 300, 310, 320, 330, 340, 350, 360, 370, 380, 390,\n",
              "        400]),\n",
              " array([4100, 4200, 4300, 4400, 4500, 4600, 4700, 4800, 4900, 5000]),\n",
              " array([410, 420, 430, 440, 450, 460, 470, 480, 490, 500]))"
            ]
          },
          "metadata": {},
          "execution_count": 16
        }
      ]
    },
    {
      "cell_type": "code",
      "source": [
        "# visualize the data\n",
        "\n",
        "plt.figure(figsize=(10,7))\n",
        "plt.scatter(X_train, y_train, c='g', label='Training data')\n",
        "plt.scatter(X_test, y_test, c='b', label='Testing data')\n",
        "plt.legend()"
      ],
      "metadata": {
        "colab": {
          "base_uri": "https://localhost:8080/",
          "height": 616
        },
        "id": "ltU3Qst_1UDv",
        "outputId": "18cf6afe-a10e-4bf0-a7bf-ddc62a3d3c26"
      },
      "execution_count": 17,
      "outputs": [
        {
          "output_type": "execute_result",
          "data": {
            "text/plain": [
              "<matplotlib.legend.Legend at 0x7fe095c35690>"
            ]
          },
          "metadata": {},
          "execution_count": 17
        },
        {
          "output_type": "display_data",
          "data": {
            "text/plain": [
              "<Figure size 1000x700 with 1 Axes>"
            ],
            "image/png": "[encoded data removed]"
          },
          "metadata": {}
        }
      ]
    },
    {
      "cell_type": "code",
      "source": [
        "# time to build model using large dataset\n",
        "\n",
        "tf.random.set_seed(42)\n",
        "\n",
        "model = models.Sequential([\n",
        "    layers.Dense(1)\n",
        "])\n",
        "\n",
        "model.compile(optimizer=tf.keras.optimizers.SGD(), loss = tf.keras.losses.mse, metrics=['mse'])\n"
      ],
      "metadata": {
        "id": "0rpVgsXp1wuU"
      },
      "execution_count": 18,
      "outputs": []
    },
    {
      "cell_type": "code",
      "source": [
        "model.summary()"
      ],
      "metadata": {
        "colab": {
          "base_uri": "https://localhost:8080/",
          "height": 287
        },
        "id": "JUOV2XUX2WQb",
        "outputId": "2553ce0f-928a-4213-e605-97bedd96f23c"
      },
      "execution_count": 20,
      "outputs": [
        {
          "output_type": "error",
          "ename": "ValueError",
          "evalue": "ignored",
          "traceback": [
            "\u001b[0;31m---------------------------------------------------------------------------\u001b[0m",
            "\u001b[0;31mValueError\u001b[0m                                Traceback (most recent call last)",
            "\u001b[0;32m<ipython-input-20-5f15418b3570>\u001b[0m in \u001b[0;36m<cell line: 1>\u001b[0;34m()\u001b[0m\n\u001b[0;32m----> 1\u001b[0;31m \u001b[0mmodel\u001b[0m\u001b[0;34m.\u001b[0m\u001b[0msummary\u001b[0m\u001b[0;34m(\u001b[0m\u001b[0;34m)\u001b[0m\u001b[0;34m\u001b[0m\u001b[0;34m\u001b[0m\u001b[0m\n\u001b[0m",
            "\u001b[0;32m/usr/local/lib/python3.10/dist-packages/keras/engine/training.py\u001b[0m in \u001b[0;36msummary\u001b[0;34m(self, line_length, positions, print_fn, expand_nested, show_trainable, layer_range)\u001b[0m\n\u001b[1;32m   3227\u001b[0m         \"\"\"\n\u001b[1;32m   3228\u001b[0m         \u001b[0;32mif\u001b[0m \u001b[0;32mnot\u001b[0m \u001b[0mself\u001b[0m\u001b[0;34m.\u001b[0m\u001b[0mbuilt\u001b[0m\u001b[0;34m:\u001b[0m\u001b[0;34m\u001b[0m\u001b[0;34m\u001b[0m\u001b[0m\n\u001b[0;32m-> 3229\u001b[0;31m             raise ValueError(\n\u001b[0m\u001b[1;32m   3230\u001b[0m                 \u001b[0;34m\"This model has not yet been built. \"\u001b[0m\u001b[0;34m\u001b[0m\u001b[0;34m\u001b[0m\u001b[0m\n\u001b[1;32m   3231\u001b[0m                 \u001b[0;34m\"Build the model first by calling `build()` or by calling \"\u001b[0m\u001b[0;34m\u001b[0m\u001b[0;34m\u001b[0m\u001b[0m\n",
            "\u001b[0;31mValueError\u001b[0m: This model has not yet been built. Build the model first by calling `build()` or by calling the model on a batch of data."
          ]
        }
      ]
    },
    {
      "cell_type": "code",
      "source": [
        "tf.random.set_seed(42)\n",
        "\n",
        "model = models.Sequential([\n",
        "    layers.Dense(1, input_shape=[1])\n",
        "])\n",
        "\n",
        "model.compile(optimizer=tf.keras.optimizers.SGD(), loss = tf.keras.losses.mae, metrics=['mae'])\n",
        "\n"
      ],
      "metadata": {
        "id": "xaN7BKZV2ZhA"
      },
      "execution_count": 21,
      "outputs": []
    },
    {
      "cell_type": "code",
      "source": [
        "model.summary()"
      ],
      "metadata": {
        "colab": {
          "base_uri": "https://localhost:8080/"
        },
        "id": "kqsAmyTg2897",
        "outputId": "7ed423e9-82a8-4808-f6ed-183728243133"
      },
      "execution_count": 22,
      "outputs": [
        {
          "output_type": "stream",
          "name": "stdout",
          "text": [
            "Model: \"sequential_4\"\n",
            "_________________________________________________________________\n",
            " Layer (type)                Output Shape              Param #   \n",
            "=================================================================\n",
            " dense_4 (Dense)             (None, 1)                 2         \n",
            "                                                                 \n",
            "=================================================================\n",
            "Total params: 2\n",
            "Trainable params: 2\n",
            "Non-trainable params: 0\n",
            "_________________________________________________________________\n"
          ]
        }
      ]
    },
    {
      "cell_type": "code",
      "source": [
        "model.fit(X_train, y_train, epochs=100)"
      ],
      "metadata": {
        "colab": {
          "base_uri": "https://localhost:8080/"
        },
        "id": "5IR5E7Bt2_g5",
        "outputId": "e2e23cf5-848c-4662-ca63-403190c19260"
      },
      "execution_count": 23,
      "outputs": [
        {
          "output_type": "stream",
          "name": "stdout",
          "text": [
            "Epoch 1/100\n",
            "2/2 [==============================] - 0s 16ms/step - loss: 9612.6670 - mae: 9612.6670\n",
            "Epoch 2/100\n",
            "2/2 [==============================] - 0s 10ms/step - loss: 8498.2090 - mae: 8498.2090\n",
            "Epoch 3/100\n",
            "2/2 [==============================] - 0s 9ms/step - loss: 13390.6123 - mae: 13390.6123\n",
            "Epoch 4/100\n",
            "2/2 [==============================] - 0s 11ms/step - loss: 15864.5762 - mae: 15864.5762\n",
            "Epoch 5/100\n",
            "2/2 [==============================] - 0s 10ms/step - loss: 20935.2852 - mae: 20935.2852\n",
            "Epoch 6/100\n",
            "2/2 [==============================] - 0s 10ms/step - loss: 31853.9160 - mae: 31853.9160\n",
            "Epoch 7/100\n",
            "2/2 [==============================] - 0s 7ms/step - loss: 31660.9473 - mae: 31660.9473\n",
            "Epoch 8/100\n",
            "2/2 [==============================] - 0s 10ms/step - loss: 34253.0508 - mae: 34253.0508\n",
            "Epoch 9/100\n",
            "2/2 [==============================] - 0s 8ms/step - loss: 20123.9023 - mae: 20123.9023\n",
            "Epoch 10/100\n",
            "2/2 [==============================] - 0s 9ms/step - loss: 25649.5430 - mae: 25649.5430\n",
            "Epoch 11/100\n",
            "2/2 [==============================] - 0s 8ms/step - loss: 41487.3047 - mae: 41487.3047\n",
            "Epoch 12/100\n",
            "2/2 [==============================] - 0s 9ms/step - loss: 24242.9395 - mae: 24242.9395\n",
            "Epoch 13/100\n",
            "2/2 [==============================] - 0s 12ms/step - loss: 23957.4648 - mae: 23957.4648\n",
            "Epoch 14/100\n",
            "2/2 [==============================] - 0s 10ms/step - loss: 17789.5820 - mae: 17789.5820\n",
            "Epoch 15/100\n",
            "2/2 [==============================] - 0s 8ms/step - loss: 15975.5107 - mae: 15975.5107\n",
            "Epoch 16/100\n",
            "2/2 [==============================] - 0s 9ms/step - loss: 18591.8984 - mae: 18591.8984\n",
            "Epoch 17/100\n",
            "2/2 [==============================] - 0s 8ms/step - loss: 16381.1982 - mae: 16381.1982\n",
            "Epoch 18/100\n",
            "2/2 [==============================] - 0s 11ms/step - loss: 28662.6816 - mae: 28662.6816\n",
            "Epoch 19/100\n",
            "2/2 [==============================] - 0s 7ms/step - loss: 17500.7207 - mae: 17500.7207\n",
            "Epoch 20/100\n",
            "2/2 [==============================] - 0s 8ms/step - loss: 11599.0576 - mae: 11599.0576\n",
            "Epoch 21/100\n",
            "2/2 [==============================] - 0s 7ms/step - loss: 11129.4893 - mae: 11129.4893\n",
            "Epoch 22/100\n",
            "2/2 [==============================] - 0s 8ms/step - loss: 11334.0830 - mae: 11334.0830\n",
            "Epoch 23/100\n",
            "2/2 [==============================] - 0s 7ms/step - loss: 17332.5430 - mae: 17332.5430\n",
            "Epoch 24/100\n",
            "2/2 [==============================] - 0s 8ms/step - loss: 12935.1387 - mae: 12935.1387\n",
            "Epoch 25/100\n",
            "2/2 [==============================] - 0s 8ms/step - loss: 11493.1455 - mae: 11493.1455\n",
            "Epoch 26/100\n",
            "2/2 [==============================] - 0s 9ms/step - loss: 11263.3789 - mae: 11263.3789\n",
            "Epoch 27/100\n",
            "2/2 [==============================] - 0s 9ms/step - loss: 8715.9883 - mae: 8715.9883\n",
            "Epoch 28/100\n",
            "2/2 [==============================] - 0s 8ms/step - loss: 12719.5020 - mae: 12719.5020\n",
            "Epoch 29/100\n",
            "2/2 [==============================] - 0s 9ms/step - loss: 9958.8076 - mae: 9958.8076\n",
            "Epoch 30/100\n",
            "2/2 [==============================] - 0s 9ms/step - loss: 18113.4844 - mae: 18113.4844\n",
            "Epoch 31/100\n",
            "2/2 [==============================] - 0s 8ms/step - loss: 13571.7393 - mae: 13571.7393\n",
            "Epoch 32/100\n",
            "2/2 [==============================] - 0s 8ms/step - loss: 13000.4346 - mae: 13000.4346\n",
            "Epoch 33/100\n",
            "2/2 [==============================] - 0s 8ms/step - loss: 8320.3047 - mae: 8320.3047\n",
            "Epoch 34/100\n",
            "2/2 [==============================] - 0s 8ms/step - loss: 11090.9121 - mae: 11090.9121\n",
            "Epoch 35/100\n",
            "2/2 [==============================] - 0s 8ms/step - loss: 13745.0625 - mae: 13745.0625\n",
            "Epoch 36/100\n",
            "2/2 [==============================] - 0s 8ms/step - loss: 11730.7725 - mae: 11730.7725\n",
            "Epoch 37/100\n",
            "2/2 [==============================] - 0s 8ms/step - loss: 15823.1123 - mae: 15823.1123\n",
            "Epoch 38/100\n",
            "2/2 [==============================] - 0s 8ms/step - loss: 18011.8379 - mae: 18011.8379\n",
            "Epoch 39/100\n",
            "2/2 [==============================] - 0s 8ms/step - loss: 13199.0127 - mae: 13199.0127\n",
            "Epoch 40/100\n",
            "2/2 [==============================] - 0s 8ms/step - loss: 8963.7285 - mae: 8963.7285\n",
            "Epoch 41/100\n",
            "2/2 [==============================] - 0s 9ms/step - loss: 11109.2100 - mae: 11109.2100\n",
            "Epoch 42/100\n",
            "2/2 [==============================] - 0s 8ms/step - loss: 18740.5508 - mae: 18740.5508\n",
            "Epoch 43/100\n",
            "2/2 [==============================] - 0s 8ms/step - loss: 19904.8789 - mae: 19904.8789\n",
            "Epoch 44/100\n",
            "2/2 [==============================] - 0s 8ms/step - loss: 10094.3867 - mae: 10094.3867\n",
            "Epoch 45/100\n",
            "2/2 [==============================] - 0s 10ms/step - loss: 9065.3643 - mae: 9065.3643\n",
            "Epoch 46/100\n",
            "2/2 [==============================] - 0s 7ms/step - loss: 10666.7998 - mae: 10666.7998\n",
            "Epoch 47/100\n",
            "2/2 [==============================] - 0s 9ms/step - loss: 13613.1250 - mae: 13613.1250\n",
            "Epoch 48/100\n",
            "2/2 [==============================] - 0s 7ms/step - loss: 15776.8721 - mae: 15776.8721\n",
            "Epoch 49/100\n",
            "2/2 [==============================] - 0s 7ms/step - loss: 22686.7109 - mae: 22686.7109\n",
            "Epoch 50/100\n",
            "2/2 [==============================] - 0s 9ms/step - loss: 19477.5898 - mae: 19477.5898\n",
            "Epoch 51/100\n",
            "2/2 [==============================] - 0s 10ms/step - loss: 28655.5625 - mae: 28655.5625\n",
            "Epoch 52/100\n",
            "2/2 [==============================] - 0s 8ms/step - loss: 24607.3398 - mae: 24607.3398\n",
            "Epoch 53/100\n",
            "2/2 [==============================] - 0s 7ms/step - loss: 15761.6279 - mae: 15761.6279\n",
            "Epoch 54/100\n",
            "2/2 [==============================] - 0s 7ms/step - loss: 12325.1934 - mae: 12325.1934\n",
            "Epoch 55/100\n",
            "2/2 [==============================] - 0s 10ms/step - loss: 12676.5342 - mae: 12676.5342\n",
            "Epoch 56/100\n",
            "2/2 [==============================] - 0s 8ms/step - loss: 13291.7090 - mae: 13291.7090\n",
            "Epoch 57/100\n",
            "2/2 [==============================] - 0s 8ms/step - loss: 17413.4199 - mae: 17413.4199\n",
            "Epoch 58/100\n",
            "2/2 [==============================] - 0s 8ms/step - loss: 25085.3945 - mae: 25085.3945\n",
            "Epoch 59/100\n",
            "2/2 [==============================] - 0s 11ms/step - loss: 20448.1523 - mae: 20448.1523\n",
            "Epoch 60/100\n",
            "2/2 [==============================] - 0s 8ms/step - loss: 25088.7305 - mae: 25088.7305\n",
            "Epoch 61/100\n",
            "2/2 [==============================] - 0s 8ms/step - loss: 22342.0938 - mae: 22342.0938\n",
            "Epoch 62/100\n",
            "2/2 [==============================] - 0s 8ms/step - loss: 23539.3223 - mae: 23539.3223\n",
            "Epoch 63/100\n",
            "2/2 [==============================] - 0s 8ms/step - loss: 24991.0527 - mae: 24991.0527\n",
            "Epoch 64/100\n",
            "2/2 [==============================] - 0s 8ms/step - loss: 17456.5723 - mae: 17456.5723\n",
            "Epoch 65/100\n",
            "2/2 [==============================] - 0s 8ms/step - loss: 16893.6719 - mae: 16893.6719\n",
            "Epoch 66/100\n",
            "2/2 [==============================] - 0s 9ms/step - loss: 11146.2881 - mae: 11146.2881\n",
            "Epoch 67/100\n",
            "2/2 [==============================] - 0s 9ms/step - loss: 12236.0479 - mae: 12236.0479\n",
            "Epoch 68/100\n",
            "2/2 [==============================] - 0s 10ms/step - loss: 9404.3340 - mae: 9404.3340\n",
            "Epoch 69/100\n",
            "2/2 [==============================] - 0s 8ms/step - loss: 13185.1465 - mae: 13185.1465\n",
            "Epoch 70/100\n",
            "2/2 [==============================] - 0s 8ms/step - loss: 15142.4873 - mae: 15142.4873\n",
            "Epoch 71/100\n",
            "2/2 [==============================] - 0s 8ms/step - loss: 18983.7500 - mae: 18983.7500\n",
            "Epoch 72/100\n",
            "2/2 [==============================] - 0s 7ms/step - loss: 23423.5352 - mae: 23423.5352\n",
            "Epoch 73/100\n",
            "2/2 [==============================] - 0s 8ms/step - loss: 24519.6406 - mae: 24519.6406\n",
            "Epoch 74/100\n",
            "2/2 [==============================] - 0s 8ms/step - loss: 25218.6055 - mae: 25218.6055\n",
            "Epoch 75/100\n",
            "2/2 [==============================] - 0s 8ms/step - loss: 29768.2031 - mae: 29768.2031\n",
            "Epoch 76/100\n",
            "2/2 [==============================] - 0s 8ms/step - loss: 33492.7891 - mae: 33492.7891\n",
            "Epoch 77/100\n",
            "2/2 [==============================] - 0s 7ms/step - loss: 36237.5391 - mae: 36237.5391\n",
            "Epoch 78/100\n",
            "2/2 [==============================] - 0s 8ms/step - loss: 36201.9023 - mae: 36201.9023\n",
            "Epoch 79/100\n",
            "2/2 [==============================] - 0s 8ms/step - loss: 21476.6758 - mae: 21476.6758\n",
            "Epoch 80/100\n",
            "2/2 [==============================] - 0s 8ms/step - loss: 13308.8301 - mae: 13308.8301\n",
            "Epoch 81/100\n",
            "2/2 [==============================] - 0s 8ms/step - loss: 16395.9160 - mae: 16395.9160\n",
            "Epoch 82/100\n",
            "2/2 [==============================] - 0s 8ms/step - loss: 24217.4062 - mae: 24217.4062\n",
            "Epoch 83/100\n",
            "2/2 [==============================] - 0s 11ms/step - loss: 29750.5098 - mae: 29750.5098\n",
            "Epoch 84/100\n",
            "2/2 [==============================] - 0s 8ms/step - loss: 33545.5703 - mae: 33545.5703\n",
            "Epoch 85/100\n",
            "2/2 [==============================] - 0s 9ms/step - loss: 32589.5840 - mae: 32589.5840\n",
            "Epoch 86/100\n",
            "2/2 [==============================] - 0s 10ms/step - loss: 31877.6660 - mae: 31877.6660\n",
            "Epoch 87/100\n",
            "2/2 [==============================] - 0s 7ms/step - loss: 22989.5801 - mae: 22989.5801\n",
            "Epoch 88/100\n",
            "2/2 [==============================] - 0s 8ms/step - loss: 20899.0586 - mae: 20899.0586\n",
            "Epoch 89/100\n",
            "2/2 [==============================] - 0s 8ms/step - loss: 20665.4043 - mae: 20665.4043\n",
            "Epoch 90/100\n",
            "2/2 [==============================] - 0s 8ms/step - loss: 16861.0352 - mae: 16861.0352\n",
            "Epoch 91/100\n",
            "2/2 [==============================] - 0s 8ms/step - loss: 17974.3906 - mae: 17974.3906\n",
            "Epoch 92/100\n",
            "2/2 [==============================] - 0s 8ms/step - loss: 20214.0273 - mae: 20214.0273\n",
            "Epoch 93/100\n",
            "2/2 [==============================] - 0s 7ms/step - loss: 22060.6113 - mae: 22060.6113\n",
            "Epoch 94/100\n",
            "2/2 [==============================] - 0s 7ms/step - loss: 18973.2383 - mae: 18973.2383\n",
            "Epoch 95/100\n",
            "2/2 [==============================] - 0s 7ms/step - loss: 17987.4258 - mae: 17987.4258\n",
            "Epoch 96/100\n",
            "2/2 [==============================] - 0s 8ms/step - loss: 18861.9414 - mae: 18861.9414\n",
            "Epoch 97/100\n",
            "2/2 [==============================] - 0s 8ms/step - loss: 21637.7871 - mae: 21637.7871\n",
            "Epoch 98/100\n",
            "2/2 [==============================] - 0s 9ms/step - loss: 25581.7617 - mae: 25581.7617\n",
            "Epoch 99/100\n",
            "2/2 [==============================] - 0s 8ms/step - loss: 29359.2188 - mae: 29359.2188\n",
            "Epoch 100/100\n",
            "2/2 [==============================] - 0s 8ms/step - loss: 26097.1953 - mae: 26097.1953\n"
          ]
        },
        {
          "output_type": "execute_result",
          "data": {
            "text/plain": [
              "<keras.callbacks.History at 0x7fe0a68d82b0>"
            ]
          },
          "metadata": {},
          "execution_count": 23
        }
      ]
    },
    {
      "cell_type": "code",
      "source": [
        "# lets scale data\n",
        "X_train_scaled = X_train / 100\n",
        "X_test_scaled = X_test / 100"
      ],
      "metadata": {
        "id": "wByp1bqZ3L7P"
      },
      "execution_count": 24,
      "outputs": []
    },
    {
      "cell_type": "code",
      "source": [
        "model.fit(X_train_scaled, y_train, epochs=100)"
      ],
      "metadata": {
        "colab": {
          "base_uri": "https://localhost:8080/"
        },
        "id": "JlPOh41T3bYd",
        "outputId": "3bb7f9ac-4b7d-4042-a295-bc66f0940c45"
      },
      "execution_count": 25,
      "outputs": [
        {
          "output_type": "stream",
          "name": "stdout",
          "text": [
            "Epoch 1/100\n",
            "2/2 [==============================] - 0s 8ms/step - loss: 493.2397 - mae: 493.2397\n",
            "Epoch 2/100\n",
            "2/2 [==============================] - 0s 7ms/step - loss: 484.9413 - mae: 484.9413\n",
            "Epoch 3/100\n",
            "2/2 [==============================] - 0s 8ms/step - loss: 476.9367 - mae: 476.9367\n",
            "Epoch 4/100\n",
            "2/2 [==============================] - 0s 8ms/step - loss: 468.1922 - mae: 468.1922\n",
            "Epoch 5/100\n",
            "2/2 [==============================] - 0s 8ms/step - loss: 459.0756 - mae: 459.0756\n",
            "Epoch 6/100\n",
            "2/2 [==============================] - 0s 12ms/step - loss: 449.8500 - mae: 449.8500\n",
            "Epoch 7/100\n",
            "2/2 [==============================] - 0s 9ms/step - loss: 441.4442 - mae: 441.4442\n",
            "Epoch 8/100\n",
            "2/2 [==============================] - 0s 9ms/step - loss: 433.2744 - mae: 433.2744\n",
            "Epoch 9/100\n",
            "2/2 [==============================] - 0s 10ms/step - loss: 425.5544 - mae: 425.5544\n",
            "Epoch 10/100\n",
            "2/2 [==============================] - 0s 11ms/step - loss: 416.3832 - mae: 416.3832\n",
            "Epoch 11/100\n",
            "2/2 [==============================] - 0s 10ms/step - loss: 407.4279 - mae: 407.4279\n",
            "Epoch 12/100\n",
            "2/2 [==============================] - 0s 9ms/step - loss: 399.8113 - mae: 399.8113\n",
            "Epoch 13/100\n",
            "2/2 [==============================] - 0s 8ms/step - loss: 391.5657 - mae: 391.5657\n",
            "Epoch 14/100\n",
            "2/2 [==============================] - 0s 8ms/step - loss: 383.6193 - mae: 383.6193\n",
            "Epoch 15/100\n",
            "2/2 [==============================] - 0s 9ms/step - loss: 375.2950 - mae: 375.2950\n",
            "Epoch 16/100\n",
            "2/2 [==============================] - 0s 8ms/step - loss: 366.7004 - mae: 366.7004\n",
            "Epoch 17/100\n",
            "2/2 [==============================] - 0s 8ms/step - loss: 358.2681 - mae: 358.2681\n",
            "Epoch 18/100\n",
            "2/2 [==============================] - 0s 8ms/step - loss: 349.1647 - mae: 349.1647\n",
            "Epoch 19/100\n",
            "2/2 [==============================] - 0s 8ms/step - loss: 341.6009 - mae: 341.6009\n",
            "Epoch 20/100\n",
            "2/2 [==============================] - 0s 8ms/step - loss: 333.6528 - mae: 333.6528\n",
            "Epoch 21/100\n",
            "2/2 [==============================] - 0s 9ms/step - loss: 325.2779 - mae: 325.2779\n",
            "Epoch 22/100\n",
            "2/2 [==============================] - 0s 8ms/step - loss: 316.7981 - mae: 316.7981\n",
            "Epoch 23/100\n",
            "2/2 [==============================] - 0s 8ms/step - loss: 307.8860 - mae: 307.8860\n",
            "Epoch 24/100\n",
            "2/2 [==============================] - 0s 7ms/step - loss: 299.8221 - mae: 299.8221\n",
            "Epoch 25/100\n",
            "2/2 [==============================] - 0s 7ms/step - loss: 291.5961 - mae: 291.5961\n",
            "Epoch 26/100\n",
            "2/2 [==============================] - 0s 7ms/step - loss: 283.7645 - mae: 283.7645\n",
            "Epoch 27/100\n",
            "2/2 [==============================] - 0s 8ms/step - loss: 275.5996 - mae: 275.5996\n",
            "Epoch 28/100\n",
            "2/2 [==============================] - 0s 7ms/step - loss: 267.6443 - mae: 267.6443\n",
            "Epoch 29/100\n",
            "2/2 [==============================] - 0s 8ms/step - loss: 259.5930 - mae: 259.5930\n",
            "Epoch 30/100\n",
            "2/2 [==============================] - 0s 11ms/step - loss: 252.5727 - mae: 252.5727\n",
            "Epoch 31/100\n",
            "2/2 [==============================] - 0s 11ms/step - loss: 245.3135 - mae: 245.3135\n",
            "Epoch 32/100\n",
            "2/2 [==============================] - 0s 9ms/step - loss: 237.0065 - mae: 237.0065\n",
            "Epoch 33/100\n",
            "2/2 [==============================] - 0s 12ms/step - loss: 229.0721 - mae: 229.0721\n",
            "Epoch 34/100\n",
            "2/2 [==============================] - 0s 8ms/step - loss: 220.7684 - mae: 220.7684\n",
            "Epoch 35/100\n",
            "2/2 [==============================] - 0s 8ms/step - loss: 212.2104 - mae: 212.2104\n",
            "Epoch 36/100\n",
            "2/2 [==============================] - 0s 7ms/step - loss: 204.3884 - mae: 204.3884\n",
            "Epoch 37/100\n",
            "2/2 [==============================] - 0s 8ms/step - loss: 195.5449 - mae: 195.5449\n",
            "Epoch 38/100\n",
            "2/2 [==============================] - 0s 8ms/step - loss: 187.0268 - mae: 187.0268\n",
            "Epoch 39/100\n",
            "2/2 [==============================] - 0s 8ms/step - loss: 179.0396 - mae: 179.0396\n",
            "Epoch 40/100\n",
            "2/2 [==============================] - 0s 8ms/step - loss: 170.9964 - mae: 170.9964\n",
            "Epoch 41/100\n",
            "2/2 [==============================] - 0s 8ms/step - loss: 162.5914 - mae: 162.5914\n",
            "Epoch 42/100\n",
            "2/2 [==============================] - 0s 8ms/step - loss: 153.4075 - mae: 153.4075\n",
            "Epoch 43/100\n",
            "2/2 [==============================] - 0s 7ms/step - loss: 145.1079 - mae: 145.1079\n",
            "Epoch 44/100\n",
            "2/2 [==============================] - 0s 7ms/step - loss: 137.4542 - mae: 137.4542\n",
            "Epoch 45/100\n",
            "2/2 [==============================] - 0s 7ms/step - loss: 129.2012 - mae: 129.2012\n",
            "Epoch 46/100\n",
            "2/2 [==============================] - 0s 10ms/step - loss: 120.6051 - mae: 120.6051\n",
            "Epoch 47/100\n",
            "2/2 [==============================] - 0s 8ms/step - loss: 111.8751 - mae: 111.8751\n",
            "Epoch 48/100\n",
            "2/2 [==============================] - 0s 8ms/step - loss: 103.1518 - mae: 103.1518\n",
            "Epoch 49/100\n",
            "2/2 [==============================] - 0s 8ms/step - loss: 94.2145 - mae: 94.2145\n",
            "Epoch 50/100\n",
            "2/2 [==============================] - 0s 11ms/step - loss: 85.8436 - mae: 85.8436\n",
            "Epoch 51/100\n",
            "2/2 [==============================] - 0s 12ms/step - loss: 76.8592 - mae: 76.8592\n",
            "Epoch 52/100\n",
            "2/2 [==============================] - 0s 10ms/step - loss: 68.9110 - mae: 68.9110\n",
            "Epoch 53/100\n",
            "2/2 [==============================] - 0s 12ms/step - loss: 61.3565 - mae: 61.3565\n",
            "Epoch 54/100\n",
            "2/2 [==============================] - 0s 8ms/step - loss: 54.1434 - mae: 54.1434\n",
            "Epoch 55/100\n",
            "2/2 [==============================] - 0s 12ms/step - loss: 46.4345 - mae: 46.4345\n",
            "Epoch 56/100\n",
            "2/2 [==============================] - 0s 7ms/step - loss: 37.9064 - mae: 37.9064\n",
            "Epoch 57/100\n",
            "2/2 [==============================] - 0s 11ms/step - loss: 28.9764 - mae: 28.9764\n",
            "Epoch 58/100\n",
            "2/2 [==============================] - 0s 8ms/step - loss: 20.0567 - mae: 20.0567\n",
            "Epoch 59/100\n",
            "2/2 [==============================] - 0s 8ms/step - loss: 11.8934 - mae: 11.8934\n",
            "Epoch 60/100\n",
            "2/2 [==============================] - 0s 7ms/step - loss: 3.4075 - mae: 3.4075\n",
            "Epoch 61/100\n",
            "2/2 [==============================] - 0s 8ms/step - loss: 1.4481 - mae: 1.4481\n",
            "Epoch 62/100\n",
            "2/2 [==============================] - 0s 7ms/step - loss: 1.5660 - mae: 1.5660\n",
            "Epoch 63/100\n",
            "2/2 [==============================] - 0s 9ms/step - loss: 1.3170 - mae: 1.3170\n",
            "Epoch 64/100\n",
            "2/2 [==============================] - 0s 8ms/step - loss: 0.9118 - mae: 0.9118\n",
            "Epoch 65/100\n",
            "2/2 [==============================] - 0s 7ms/step - loss: 2.2000 - mae: 2.2000\n",
            "Epoch 66/100\n",
            "2/2 [==============================] - 0s 8ms/step - loss: 1.6880 - mae: 1.6880\n",
            "Epoch 67/100\n",
            "2/2 [==============================] - 0s 8ms/step - loss: 2.1816 - mae: 2.1816\n",
            "Epoch 68/100\n",
            "2/2 [==============================] - 0s 8ms/step - loss: 2.2289 - mae: 2.2289\n",
            "Epoch 69/100\n",
            "2/2 [==============================] - 0s 9ms/step - loss: 1.5368 - mae: 1.5368\n",
            "Epoch 70/100\n",
            "2/2 [==============================] - 0s 7ms/step - loss: 1.9831 - mae: 1.9831\n",
            "Epoch 71/100\n",
            "2/2 [==============================] - 0s 7ms/step - loss: 2.5100 - mae: 2.5100\n",
            "Epoch 72/100\n",
            "2/2 [==============================] - 0s 8ms/step - loss: 3.2179 - mae: 3.2179\n",
            "Epoch 73/100\n",
            "2/2 [==============================] - 0s 8ms/step - loss: 2.3103 - mae: 2.3103\n",
            "Epoch 74/100\n",
            "2/2 [==============================] - 0s 7ms/step - loss: 2.2264 - mae: 2.2264\n",
            "Epoch 75/100\n",
            "2/2 [==============================] - 0s 8ms/step - loss: 2.6774 - mae: 2.6774\n",
            "Epoch 76/100\n",
            "2/2 [==============================] - 0s 8ms/step - loss: 2.5290 - mae: 2.5290\n",
            "Epoch 77/100\n",
            "2/2 [==============================] - 0s 8ms/step - loss: 2.1725 - mae: 2.1725\n",
            "Epoch 78/100\n",
            "2/2 [==============================] - 0s 8ms/step - loss: 2.3160 - mae: 2.3160\n",
            "Epoch 79/100\n",
            "2/2 [==============================] - 0s 8ms/step - loss: 0.6203 - mae: 0.6203\n",
            "Epoch 80/100\n",
            "2/2 [==============================] - 0s 8ms/step - loss: 1.8961 - mae: 1.8961\n",
            "Epoch 81/100\n",
            "2/2 [==============================] - 0s 7ms/step - loss: 2.1613 - mae: 2.1613\n",
            "Epoch 82/100\n",
            "2/2 [==============================] - 0s 8ms/step - loss: 3.4397 - mae: 3.4397\n",
            "Epoch 83/100\n",
            "2/2 [==============================] - 0s 8ms/step - loss: 3.0328 - mae: 3.0328\n",
            "Epoch 84/100\n",
            "2/2 [==============================] - 0s 8ms/step - loss: 2.6147 - mae: 2.6147\n",
            "Epoch 85/100\n",
            "2/2 [==============================] - 0s 9ms/step - loss: 2.3221 - mae: 2.3221\n",
            "Epoch 86/100\n",
            "2/2 [==============================] - 0s 13ms/step - loss: 1.6322 - mae: 1.6322\n",
            "Epoch 87/100\n",
            "2/2 [==============================] - 0s 8ms/step - loss: 0.8782 - mae: 0.8782\n",
            "Epoch 88/100\n",
            "2/2 [==============================] - 0s 7ms/step - loss: 1.9391 - mae: 1.9391\n",
            "Epoch 89/100\n",
            "2/2 [==============================] - 0s 8ms/step - loss: 2.1087 - mae: 2.1087\n",
            "Epoch 90/100\n",
            "2/2 [==============================] - 0s 11ms/step - loss: 1.8532 - mae: 1.8532\n",
            "Epoch 91/100\n",
            "2/2 [==============================] - 0s 8ms/step - loss: 2.0895 - mae: 2.0895\n",
            "Epoch 92/100\n",
            "2/2 [==============================] - 0s 9ms/step - loss: 2.5075 - mae: 2.5075\n",
            "Epoch 93/100\n",
            "2/2 [==============================] - 0s 10ms/step - loss: 2.9022 - mae: 2.9022\n",
            "Epoch 94/100\n",
            "2/2 [==============================] - 0s 8ms/step - loss: 2.6518 - mae: 2.6518\n",
            "Epoch 95/100\n",
            "2/2 [==============================] - 0s 9ms/step - loss: 2.5698 - mae: 2.5698\n",
            "Epoch 96/100\n",
            "2/2 [==============================] - 0s 10ms/step - loss: 2.6636 - mae: 2.6636\n",
            "Epoch 97/100\n",
            "2/2 [==============================] - 0s 11ms/step - loss: 3.0641 - mae: 3.0641\n",
            "Epoch 98/100\n",
            "2/2 [==============================] - 0s 12ms/step - loss: 1.3934 - mae: 1.3934\n",
            "Epoch 99/100\n",
            "2/2 [==============================] - 0s 8ms/step - loss: 1.4635 - mae: 1.4635\n",
            "Epoch 100/100\n",
            "2/2 [==============================] - 0s 8ms/step - loss: 0.8742 - mae: 0.8742\n"
          ]
        },
        {
          "output_type": "execute_result",
          "data": {
            "text/plain": [
              "<keras.callbacks.History at 0x7fe0a68da680>"
            ]
          },
          "metadata": {},
          "execution_count": 25
        }
      ]
    },
    {
      "cell_type": "code",
      "source": [
        "model.summary()"
      ],
      "metadata": {
        "colab": {
          "base_uri": "https://localhost:8080/"
        },
        "id": "n3BqD8b33gc-",
        "outputId": "28c41252-4ae3-4562-97a1-d749bb949ce6"
      },
      "execution_count": 26,
      "outputs": [
        {
          "output_type": "stream",
          "name": "stdout",
          "text": [
            "Model: \"sequential_4\"\n",
            "_________________________________________________________________\n",
            " Layer (type)                Output Shape              Param #   \n",
            "=================================================================\n",
            " dense_4 (Dense)             (None, 1)                 2         \n",
            "                                                                 \n",
            "=================================================================\n",
            "Total params: 2\n",
            "Trainable params: 2\n",
            "Non-trainable params: 0\n",
            "_________________________________________________________________\n"
          ]
        }
      ]
    },
    {
      "cell_type": "code",
      "source": [
        "# alongside summary, we can plot 2D model using plot_model() function\n",
        "\n",
        "from tensorflow.keras.utils import plot_model\n",
        "\n",
        "plot_model(model, show_shapes=True)"
      ],
      "metadata": {
        "colab": {
          "base_uri": "https://localhost:8080/",
          "height": 201
        },
        "id": "1hMblm223rHe",
        "outputId": "12f5dfdd-b499-4dcc-e123-0981f952313b"
      },
      "execution_count": 27,
      "outputs": [
        {
          "output_type": "execute_result",
          "data": {
            "image/png": "[encoded data removed]",
            "text/plain": [
              "<IPython.core.display.Image object>"
            ]
          },
          "metadata": {},
          "execution_count": 27
        }
      ]
    },
    {
      "cell_type": "code",
      "source": [
        "y_preds = model.predict(X_test_scaled)"
      ],
      "metadata": {
        "colab": {
          "base_uri": "https://localhost:8080/"
        },
        "id": "q1bsmP4x3-LL",
        "outputId": "5f306f57-69b7-4ab9-c995-6aabf630335c"
      },
      "execution_count": 28,
      "outputs": [
        {
          "output_type": "stream",
          "name": "stdout",
          "text": [
            "1/1 [==============================] - 0s 49ms/step\n"
          ]
        }
      ]
    },
    {
      "cell_type": "code",
      "source": [
        "y_preds"
      ],
      "metadata": {
        "colab": {
          "base_uri": "https://localhost:8080/"
        },
        "id": "BirEtjwk4Nd9",
        "outputId": "d6861d8d-4b37-4e5b-bbeb-4d45d602a782"
      },
      "execution_count": 29,
      "outputs": [
        {
          "output_type": "execute_result",
          "data": {
            "text/plain": [
              "array([[411.9596 ],\n",
              "       [421.9818 ],\n",
              "       [432.00403],\n",
              "       [442.02625],\n",
              "       [452.04846],\n",
              "       [462.07068],\n",
              "       [472.0929 ],\n",
              "       [482.11508],\n",
              "       [492.1373 ],\n",
              "       [502.15952]], dtype=float32)"
            ]
          },
          "metadata": {},
          "execution_count": 29
        }
      ]
    },
    {
      "cell_type": "code",
      "source": [
        "y_test"
      ],
      "metadata": {
        "colab": {
          "base_uri": "https://localhost:8080/"
        },
        "id": "eA0l4az54O1J",
        "outputId": "518ee017-722d-4210-fde3-512b05aa5a9e"
      },
      "execution_count": 30,
      "outputs": [
        {
          "output_type": "execute_result",
          "data": {
            "text/plain": [
              "array([410, 420, 430, 440, 450, 460, 470, 480, 490, 500])"
            ]
          },
          "metadata": {},
          "execution_count": 30
        }
      ]
    },
    {
      "cell_type": "code",
      "source": [
        "def plot_predictions(X_train, X_test, y_train, y_test, predictions):\n",
        "  plt.figure(figsize=(10,7))\n",
        "  plt.scatter(X_train, y_train, c='g', label='Training data')\n",
        "  plt.scatter(X_test, y_test, c='b', label='Testing data')\n",
        "  plt.scatter(X_test, predictions, c='r', label='Predicted data')\n",
        "  plt.legend()"
      ],
      "metadata": {
        "id": "4iCK-7o54R99"
      },
      "execution_count": 31,
      "outputs": []
    },
    {
      "cell_type": "code",
      "source": [
        "plot_predictions(X_train=X_train_scaled, X_test=X_test_scaled, y_train=y_train, y_test=y_test, predictions=y_preds)"
      ],
      "metadata": {
        "colab": {
          "base_uri": "https://localhost:8080/",
          "height": 599
        },
        "id": "J1APUHjO47JL",
        "outputId": "b23d73c2-fc69-4c65-95e1-a6bc605d1727"
      },
      "execution_count": 32,
      "outputs": [
        {
          "output_type": "display_data",
          "data": {
            "text/plain": [
              "<Figure size 1000x700 with 1 Axes>"
            ],
            "image/png": "[encoded data removed]"
          },
          "metadata": {}
        }
      ]
    },
    {
      "cell_type": "code",
      "source": [
        "# Evaluate our model\n",
        "\n",
        "model.evaluate(X_test_scaled, y_test)"
      ],
      "metadata": {
        "colab": {
          "base_uri": "https://localhost:8080/"
        },
        "id": "JDtBBw5N5o31",
        "outputId": "394c628a-a78f-42b9-b2a5-ceb6a786fe85"
      },
      "execution_count": 33,
      "outputs": [
        {
          "output_type": "stream",
          "name": "stdout",
          "text": [
            "1/1 [==============================] - 0s 155ms/step - loss: 2.0596 - mae: 2.0596\n"
          ]
        },
        {
          "output_type": "execute_result",
          "data": {
            "text/plain": [
              "[2.059561252593994, 2.059561252593994]"
            ]
          },
          "metadata": {},
          "execution_count": 33
        }
      ]
    },
    {
      "cell_type": "code",
      "source": [
        "mae = tf.metrics.mean_absolute_error(y_true=y_test, y_pred=y_preds)\n",
        "mae"
      ],
      "metadata": {
        "colab": {
          "base_uri": "https://localhost:8080/"
        },
        "id": "Sx4oJiqy5zLm",
        "outputId": "d6d5d8f0-ffb9-4367-eeb5-777a4e2bb46e"
      },
      "execution_count": 34,
      "outputs": [
        {
          "output_type": "execute_result",
          "data": {
            "text/plain": [
              "<tf.Tensor: shape=(10,), dtype=float32, numpy=\n",
              "array([43.432323, 35.810913, 30.19839 , 26.594751, 25.      , 25.414135,\n",
              "       27.837158, 32.26905 , 38.70984 , 47.159515], dtype=float32)>"
            ]
          },
          "metadata": {},
          "execution_count": 34
        }
      ]
    },
    {
      "cell_type": "code",
      "source": [
        "y_test"
      ],
      "metadata": {
        "colab": {
          "base_uri": "https://localhost:8080/"
        },
        "id": "BoZMH-hv6nfO",
        "outputId": "105fee03-41a2-4482-ce04-1d6647e129a8"
      },
      "execution_count": 35,
      "outputs": [
        {
          "output_type": "execute_result",
          "data": {
            "text/plain": [
              "array([410, 420, 430, 440, 450, 460, 470, 480, 490, 500])"
            ]
          },
          "metadata": {},
          "execution_count": 35
        }
      ]
    },
    {
      "cell_type": "code",
      "source": [
        "y_preds"
      ],
      "metadata": {
        "colab": {
          "base_uri": "https://localhost:8080/"
        },
        "id": "8WE9U_mZ6w7V",
        "outputId": "ce2938e0-49f2-412d-a9d2-6a2e10190e45"
      },
      "execution_count": 36,
      "outputs": [
        {
          "output_type": "execute_result",
          "data": {
            "text/plain": [
              "array([[411.9596 ],\n",
              "       [421.9818 ],\n",
              "       [432.00403],\n",
              "       [442.02625],\n",
              "       [452.04846],\n",
              "       [462.07068],\n",
              "       [472.0929 ],\n",
              "       [482.11508],\n",
              "       [492.1373 ],\n",
              "       [502.15952]], dtype=float32)"
            ]
          },
          "metadata": {},
          "execution_count": 36
        }
      ]
    },
    {
      "cell_type": "code",
      "source": [
        "y_test.shape, y_preds.shape"
      ],
      "metadata": {
        "colab": {
          "base_uri": "https://localhost:8080/"
        },
        "id": "M3YrjJGX6ypt",
        "outputId": "8eb106f5-91eb-47c4-f956-b0cc9a6fc0ce"
      },
      "execution_count": 37,
      "outputs": [
        {
          "output_type": "execute_result",
          "data": {
            "text/plain": [
              "((10,), (10, 1))"
            ]
          },
          "metadata": {},
          "execution_count": 37
        }
      ]
    },
    {
      "cell_type": "code",
      "source": [
        "mae  = tf.metrics.mean_absolute_error(y_true= y_test, y_pred=y_preds.squeeze())\n",
        "mae"
      ],
      "metadata": {
        "colab": {
          "base_uri": "https://localhost:8080/"
        },
        "id": "I_KDlZ89623h",
        "outputId": "9e57cfad-1d97-41e6-e3ca-e86c3ff43dc6"
      },
      "execution_count": 38,
      "outputs": [
        {
          "output_type": "execute_result",
          "data": {
            "text/plain": [
              "<tf.Tensor: shape=(), dtype=float32, numpy=2.0595613>"
            ]
          },
          "metadata": {},
          "execution_count": 38
        }
      ]
    },
    {
      "cell_type": "code",
      "source": [
        "mse = tf.metrics.mean_squared_error(y_true=y_test, y_pred=y_preds.squeeze())\n",
        "mse"
      ],
      "metadata": {
        "colab": {
          "base_uri": "https://localhost:8080/"
        },
        "id": "_gWt8ZvO7Dlt",
        "outputId": "daf0cfb5-4dd0-4aec-e52c-4e623a0de8f3"
      },
      "execution_count": 39,
      "outputs": [
        {
          "output_type": "execute_result",
          "data": {
            "text/plain": [
              "<tf.Tensor: shape=(), dtype=float32, numpy=4.245863>"
            ]
          },
          "metadata": {},
          "execution_count": 39
        }
      ]
    },
    {
      "cell_type": "code",
      "source": [
        "tf.reduce_mean(tf.abs(y_test - y_preds.squeeze()))"
      ],
      "metadata": {
        "colab": {
          "base_uri": "https://localhost:8080/"
        },
        "id": "a4-lRCE07TMC",
        "outputId": "503b4d93-f352-46c0-bd22-e0ee408c4c04"
      },
      "execution_count": 40,
      "outputs": [
        {
          "output_type": "execute_result",
          "data": {
            "text/plain": [
              "<tf.Tensor: shape=(), dtype=float64, numpy=2.0595611572265624>"
            ]
          },
          "metadata": {},
          "execution_count": 40
        }
      ]
    },
    {
      "cell_type": "code",
      "source": [
        "# running experiment for improving model\n",
        "\n",
        "# 1. run model for 200 orders\n",
        "# 2. 2 layers , trained for 100 epochs\n",
        "# 3. 2 layers , 500 epochs"
      ],
      "metadata": {
        "id": "-YV7ihNb7aN8"
      },
      "execution_count": 41,
      "outputs": []
    },
    {
      "cell_type": "code",
      "source": [
        "tf.random.set_seed(42)\n",
        "\n",
        "model_1 = models.Sequential([\n",
        "    layers.Dense(1, input_shape=[1])\n",
        "])\n",
        "\n",
        "model_1.compile(optimizer= tf.keras.optimizers.SGD(), loss = tf.keras.losses.mae, metrics=['mae'])\n",
        "\n",
        "model_1.fit(X_train_scaled, y_train, epochs=200, verbose=0)"
      ],
      "metadata": {
        "colab": {
          "base_uri": "https://localhost:8080/"
        },
        "id": "-0WPnGwhJDGw",
        "outputId": "4060b60c-f508-4830-9e76-8b70f7c3bdb9"
      },
      "execution_count": 42,
      "outputs": [
        {
          "output_type": "execute_result",
          "data": {
            "text/plain": [
              "<keras.callbacks.History at 0x7fe0a66c2ad0>"
            ]
          },
          "metadata": {},
          "execution_count": 42
        }
      ]
    },
    {
      "cell_type": "code",
      "source": [
        "model_1.summary()"
      ],
      "metadata": {
        "colab": {
          "base_uri": "https://localhost:8080/"
        },
        "id": "mdohX8eNJeVa",
        "outputId": "7ae6935c-6057-4bda-87ce-7532e1fc74c6"
      },
      "execution_count": 43,
      "outputs": [
        {
          "output_type": "stream",
          "name": "stdout",
          "text": [
            "Model: \"sequential_5\"\n",
            "_________________________________________________________________\n",
            " Layer (type)                Output Shape              Param #   \n",
            "=================================================================\n",
            " dense_5 (Dense)             (None, 1)                 2         \n",
            "                                                                 \n",
            "=================================================================\n",
            "Total params: 2\n",
            "Trainable params: 2\n",
            "Non-trainable params: 0\n",
            "_________________________________________________________________\n"
          ]
        }
      ]
    },
    {
      "cell_type": "code",
      "source": [
        "model_1.get_weights()"
      ],
      "metadata": {
        "colab": {
          "base_uri": "https://localhost:8080/"
        },
        "id": "OKxv3-keJ2ig",
        "outputId": "bf85ed05-fe5b-46a2-c29c-8e70ee9570a7"
      },
      "execution_count": 44,
      "outputs": [
        {
          "output_type": "execute_result",
          "data": {
            "text/plain": [
              "[array([[10.062604]], dtype=float32), array([0.2681259], dtype=float32)]"
            ]
          },
          "metadata": {},
          "execution_count": 44
        }
      ]
    },
    {
      "cell_type": "code",
      "source": [
        "model_1.evaluate(X_test_scaled, y_test)"
      ],
      "metadata": {
        "colab": {
          "base_uri": "https://localhost:8080/"
        },
        "id": "TeiJKwqEJ6S4",
        "outputId": "da1e0511-4299-4091-f45e-839d0f48e0f2"
      },
      "execution_count": 45,
      "outputs": [
        {
          "output_type": "stream",
          "name": "stdout",
          "text": [
            "1/1 [==============================] - 0s 113ms/step - loss: 3.1166 - mae: 3.1166\n"
          ]
        },
        {
          "output_type": "execute_result",
          "data": {
            "text/plain": [
              "[3.116607666015625, 3.116607666015625]"
            ]
          },
          "metadata": {},
          "execution_count": 45
        }
      ]
    },
    {
      "cell_type": "code",
      "source": [
        "y_preds_1 = model_1.predict(X_test_scaled)"
      ],
      "metadata": {
        "colab": {
          "base_uri": "https://localhost:8080/"
        },
        "id": "VbRFPXg2KNax",
        "outputId": "f1c6ebc4-8653-4056-b8fb-5c247d92733b"
      },
      "execution_count": 46,
      "outputs": [
        {
          "output_type": "stream",
          "name": "stdout",
          "text": [
            "1/1 [==============================] - 0s 49ms/step\n"
          ]
        }
      ]
    },
    {
      "cell_type": "code",
      "source": [
        "plt.figure(figsize=(10,7))\n",
        "plt.scatter(X_train_scaled, y_train, c='g', label='Training Data')\n",
        "plt.scatter(X_test_scaled, y_test, c='b', label='Testing Data')\n",
        "plt.scatter(X_test_scaled, y_preds_1, c='r', label='Predictions')\n",
        "plt.legend()"
      ],
      "metadata": {
        "colab": {
          "base_uri": "https://localhost:8080/",
          "height": 616
        },
        "id": "vdNaJopSKV_b",
        "outputId": "94d025c5-05a8-4001-c45c-ce27d941dfd6"
      },
      "execution_count": 47,
      "outputs": [
        {
          "output_type": "execute_result",
          "data": {
            "text/plain": [
              "<matplotlib.legend.Legend at 0x7fe0a6590b20>"
            ]
          },
          "metadata": {},
          "execution_count": 47
        },
        {
          "output_type": "display_data",
          "data": {
            "text/plain": [
              "<Figure size 1000x700 with 1 Axes>"
            ],
            "image/png": "[encoded data removed]"
          },
          "metadata": {}
        }
      ]
    },
    {
      "cell_type": "code",
      "source": [
        "def mae(y_true, y_pred):\n",
        "  return tf.metrics.mean_absolute_error(y_true, y_pred)\n",
        "\n",
        "def mse(y_true, y_pred):\n",
        "  return tf.metrics.mean_squared_error(y_true, y_pred)"
      ],
      "metadata": {
        "id": "YrLj7_rVKx0u"
      },
      "execution_count": 48,
      "outputs": []
    },
    {
      "cell_type": "code",
      "source": [
        "y_test.shape, y_preds_1.shape"
      ],
      "metadata": {
        "colab": {
          "base_uri": "https://localhost:8080/"
        },
        "id": "IYPuv34yL-r_",
        "outputId": "9174f5d2-1eb2-4d27-da24-e79a0e4fbdc1"
      },
      "execution_count": 49,
      "outputs": [
        {
          "output_type": "execute_result",
          "data": {
            "text/plain": [
              "((10,), (10, 1))"
            ]
          },
          "metadata": {},
          "execution_count": 49
        }
      ]
    },
    {
      "cell_type": "code",
      "source": [
        "mae_1 = mae(y_test, tf.squeeze(y_preds_1, axis=-1)).numpy()\n",
        "mse_1 = mse(y_test, tf.squeeze(y_preds_1,axis=-1)).numpy()\n",
        "\n",
        "mae_1, mse_1"
      ],
      "metadata": {
        "colab": {
          "base_uri": "https://localhost:8080/"
        },
        "id": "C6shoBfJLY6j",
        "outputId": "22735e5e-6c22-48b6-e5a6-1893dea9a358"
      },
      "execution_count": 50,
      "outputs": [
        {
          "output_type": "execute_result",
          "data": {
            "text/plain": [
              "(3.1166077, 9.745578)"
            ]
          },
          "metadata": {},
          "execution_count": 50
        }
      ]
    },
    {
      "cell_type": "code",
      "source": [
        "tf.random.set_seed(42)\n",
        "\n",
        "model_2 = models.Sequential([\n",
        "    layers.Dense(10, input_shape=[1]),\n",
        "    layers.Dense(1)\n",
        "])\n",
        "\n",
        "model_2.compile(optimizer=tf.keras.optimizers.SGD(), loss=tf.keras.losses.mae, metrics=['mae'])\n",
        "\n",
        "model_2.fit(X_train_scaled, y_train, epochs= 100)"
      ],
      "metadata": {
        "colab": {
          "base_uri": "https://localhost:8080/"
        },
        "id": "plhKOCubLoJd",
        "outputId": "97931547-fa8f-46ba-86e7-c3398f6c44a6"
      },
      "execution_count": 51,
      "outputs": [
        {
          "output_type": "stream",
          "name": "stdout",
          "text": [
            "Epoch 1/100\n",
            "2/2 [==============================] - 0s 13ms/step - loss: 178.2271 - mae: 178.2271\n",
            "Epoch 2/100\n",
            "2/2 [==============================] - 0s 9ms/step - loss: 139.9086 - mae: 139.9086\n",
            "Epoch 3/100\n",
            "2/2 [==============================] - 0s 9ms/step - loss: 68.4260 - mae: 68.4260\n",
            "Epoch 4/100\n",
            "2/2 [==============================] - 0s 17ms/step - loss: 56.5701 - mae: 56.5701\n",
            "Epoch 5/100\n",
            "2/2 [==============================] - 0s 8ms/step - loss: 56.2787 - mae: 56.2787\n",
            "Epoch 6/100\n",
            "2/2 [==============================] - 0s 8ms/step - loss: 70.9271 - mae: 70.9271\n",
            "Epoch 7/100\n",
            "2/2 [==============================] - 0s 16ms/step - loss: 54.3847 - mae: 54.3847\n",
            "Epoch 8/100\n",
            "2/2 [==============================] - 0s 8ms/step - loss: 38.8988 - mae: 38.8988\n",
            "Epoch 9/100\n",
            "2/2 [==============================] - 0s 9ms/step - loss: 28.4722 - mae: 28.4722\n",
            "Epoch 10/100\n",
            "2/2 [==============================] - 0s 9ms/step - loss: 42.8632 - mae: 42.8632\n",
            "Epoch 11/100\n",
            "2/2 [==============================] - 0s 7ms/step - loss: 82.9381 - mae: 82.9381\n",
            "Epoch 12/100\n",
            "2/2 [==============================] - 0s 8ms/step - loss: 26.3423 - mae: 26.3423\n",
            "Epoch 13/100\n",
            "2/2 [==============================] - 0s 7ms/step - loss: 18.2352 - mae: 18.2352\n",
            "Epoch 14/100\n",
            "2/2 [==============================] - 0s 9ms/step - loss: 14.5324 - mae: 14.5324\n",
            "Epoch 15/100\n",
            "2/2 [==============================] - 0s 9ms/step - loss: 30.0871 - mae: 30.0871\n",
            "Epoch 16/100\n",
            "2/2 [==============================] - 0s 8ms/step - loss: 42.4165 - mae: 42.4165\n",
            "Epoch 17/100\n",
            "2/2 [==============================] - 0s 7ms/step - loss: 41.0334 - mae: 41.0334\n",
            "Epoch 18/100\n",
            "2/2 [==============================] - 0s 8ms/step - loss: 84.0696 - mae: 84.0696\n",
            "Epoch 19/100\n",
            "2/2 [==============================] - 0s 8ms/step - loss: 24.2937 - mae: 24.2937\n",
            "Epoch 20/100\n",
            "2/2 [==============================] - 0s 10ms/step - loss: 28.6463 - mae: 28.6463\n",
            "Epoch 21/100\n",
            "2/2 [==============================] - 0s 15ms/step - loss: 35.9070 - mae: 35.9070\n",
            "Epoch 22/100\n",
            "2/2 [==============================] - 0s 10ms/step - loss: 39.6088 - mae: 39.6088\n",
            "Epoch 23/100\n",
            "2/2 [==============================] - 0s 8ms/step - loss: 67.0235 - mae: 67.0235\n",
            "Epoch 24/100\n",
            "2/2 [==============================] - 0s 7ms/step - loss: 52.0853 - mae: 52.0853\n",
            "Epoch 25/100\n",
            "2/2 [==============================] - 0s 8ms/step - loss: 35.6815 - mae: 35.6815\n",
            "Epoch 26/100\n",
            "2/2 [==============================] - 0s 7ms/step - loss: 23.2553 - mae: 23.2553\n",
            "Epoch 27/100\n",
            "2/2 [==============================] - 0s 8ms/step - loss: 28.2234 - mae: 28.2234\n",
            "Epoch 28/100\n",
            "2/2 [==============================] - 0s 8ms/step - loss: 26.8598 - mae: 26.8598\n",
            "Epoch 29/100\n",
            "2/2 [==============================] - 0s 8ms/step - loss: 33.0373 - mae: 33.0373\n",
            "Epoch 30/100\n",
            "2/2 [==============================] - 0s 8ms/step - loss: 9.6020 - mae: 9.6020\n",
            "Epoch 31/100\n",
            "2/2 [==============================] - 0s 10ms/step - loss: 46.6736 - mae: 46.6736\n",
            "Epoch 32/100\n",
            "2/2 [==============================] - 0s 9ms/step - loss: 56.8220 - mae: 56.8220\n",
            "Epoch 33/100\n",
            "2/2 [==============================] - 0s 7ms/step - loss: 62.8139 - mae: 62.8139\n",
            "Epoch 34/100\n",
            "2/2 [==============================] - 0s 7ms/step - loss: 40.2605 - mae: 40.2605\n",
            "Epoch 35/100\n",
            "2/2 [==============================] - 0s 10ms/step - loss: 35.4947 - mae: 35.4947\n",
            "Epoch 36/100\n",
            "2/2 [==============================] - 0s 8ms/step - loss: 27.1867 - mae: 27.1867\n",
            "Epoch 37/100\n",
            "2/2 [==============================] - 0s 10ms/step - loss: 41.3141 - mae: 41.3141\n",
            "Epoch 38/100\n",
            "2/2 [==============================] - 0s 8ms/step - loss: 54.1677 - mae: 54.1677\n",
            "Epoch 39/100\n",
            "2/2 [==============================] - 0s 8ms/step - loss: 54.4894 - mae: 54.4894\n",
            "Epoch 40/100\n",
            "2/2 [==============================] - 0s 7ms/step - loss: 59.1090 - mae: 59.1090\n",
            "Epoch 41/100\n",
            "2/2 [==============================] - 0s 7ms/step - loss: 37.6023 - mae: 37.6023\n",
            "Epoch 42/100\n",
            "2/2 [==============================] - 0s 7ms/step - loss: 45.2012 - mae: 45.2012\n",
            "Epoch 43/100\n",
            "2/2 [==============================] - 0s 7ms/step - loss: 32.5792 - mae: 32.5792\n",
            "Epoch 44/100\n",
            "2/2 [==============================] - 0s 8ms/step - loss: 28.1220 - mae: 28.1220\n",
            "Epoch 45/100\n",
            "2/2 [==============================] - 0s 8ms/step - loss: 32.1128 - mae: 32.1128\n",
            "Epoch 46/100\n",
            "2/2 [==============================] - 0s 8ms/step - loss: 40.8330 - mae: 40.8330\n",
            "Epoch 47/100\n",
            "2/2 [==============================] - 0s 10ms/step - loss: 54.4838 - mae: 54.4838\n",
            "Epoch 48/100\n",
            "2/2 [==============================] - 0s 8ms/step - loss: 71.3167 - mae: 71.3167\n",
            "Epoch 49/100\n",
            "2/2 [==============================] - 0s 7ms/step - loss: 80.3092 - mae: 80.3092\n",
            "Epoch 50/100\n",
            "2/2 [==============================] - 0s 10ms/step - loss: 52.9227 - mae: 52.9227\n",
            "Epoch 51/100\n",
            "2/2 [==============================] - 0s 8ms/step - loss: 61.9247 - mae: 61.9247\n",
            "Epoch 52/100\n",
            "2/2 [==============================] - 0s 7ms/step - loss: 34.9739 - mae: 34.9739\n",
            "Epoch 53/100\n",
            "2/2 [==============================] - 0s 7ms/step - loss: 20.4005 - mae: 20.4005\n",
            "Epoch 54/100\n",
            "2/2 [==============================] - 0s 7ms/step - loss: 26.8274 - mae: 26.8274\n",
            "Epoch 55/100\n",
            "2/2 [==============================] - 0s 8ms/step - loss: 31.5109 - mae: 31.5109\n",
            "Epoch 56/100\n",
            "2/2 [==============================] - 0s 8ms/step - loss: 38.4196 - mae: 38.4196\n",
            "Epoch 57/100\n",
            "2/2 [==============================] - 0s 9ms/step - loss: 52.8916 - mae: 52.8916\n",
            "Epoch 58/100\n",
            "2/2 [==============================] - 0s 8ms/step - loss: 86.7234 - mae: 86.7234\n",
            "Epoch 59/100\n",
            "2/2 [==============================] - 0s 8ms/step - loss: 55.0788 - mae: 55.0788\n",
            "Epoch 60/100\n",
            "2/2 [==============================] - 0s 8ms/step - loss: 52.0514 - mae: 52.0514\n",
            "Epoch 61/100\n",
            "2/2 [==============================] - 0s 8ms/step - loss: 31.9021 - mae: 31.9021\n",
            "Epoch 62/100\n",
            "2/2 [==============================] - 0s 7ms/step - loss: 21.6296 - mae: 21.6296\n",
            "Epoch 63/100\n",
            "2/2 [==============================] - 0s 8ms/step - loss: 19.4312 - mae: 19.4312\n",
            "Epoch 64/100\n",
            "2/2 [==============================] - 0s 9ms/step - loss: 15.7320 - mae: 15.7320\n",
            "Epoch 65/100\n",
            "2/2 [==============================] - 0s 7ms/step - loss: 25.9356 - mae: 25.9356\n",
            "Epoch 66/100\n",
            "2/2 [==============================] - 0s 7ms/step - loss: 24.7567 - mae: 24.7567\n",
            "Epoch 67/100\n",
            "2/2 [==============================] - 0s 8ms/step - loss: 35.2307 - mae: 35.2307\n",
            "Epoch 68/100\n",
            "2/2 [==============================] - 0s 8ms/step - loss: 40.4404 - mae: 40.4404\n",
            "Epoch 69/100\n",
            "2/2 [==============================] - 0s 7ms/step - loss: 35.8780 - mae: 35.8780\n",
            "Epoch 70/100\n",
            "2/2 [==============================] - 0s 8ms/step - loss: 44.4427 - mae: 44.4427\n",
            "Epoch 71/100\n",
            "2/2 [==============================] - 0s 8ms/step - loss: 64.7433 - mae: 64.7433\n",
            "Epoch 72/100\n",
            "2/2 [==============================] - 0s 8ms/step - loss: 64.2459 - mae: 64.2459\n",
            "Epoch 73/100\n",
            "2/2 [==============================] - 0s 8ms/step - loss: 51.9307 - mae: 51.9307\n",
            "Epoch 74/100\n",
            "2/2 [==============================] - 0s 8ms/step - loss: 40.7611 - mae: 40.7611\n",
            "Epoch 75/100\n",
            "2/2 [==============================] - 0s 9ms/step - loss: 38.0617 - mae: 38.0617\n",
            "Epoch 76/100\n",
            "2/2 [==============================] - 0s 9ms/step - loss: 32.4171 - mae: 32.4171\n",
            "Epoch 77/100\n",
            "2/2 [==============================] - 0s 11ms/step - loss: 27.0539 - mae: 27.0539\n",
            "Epoch 78/100\n",
            "2/2 [==============================] - 0s 8ms/step - loss: 13.1537 - mae: 13.1537\n",
            "Epoch 79/100\n",
            "2/2 [==============================] - 0s 8ms/step - loss: 43.0922 - mae: 43.0922\n",
            "Epoch 80/100\n",
            "2/2 [==============================] - 0s 8ms/step - loss: 35.7338 - mae: 35.7338\n",
            "Epoch 81/100\n",
            "2/2 [==============================] - 0s 8ms/step - loss: 43.9608 - mae: 43.9608\n",
            "Epoch 82/100\n",
            "2/2 [==============================] - 0s 9ms/step - loss: 80.1799 - mae: 80.1799\n",
            "Epoch 83/100\n",
            "2/2 [==============================] - 0s 9ms/step - loss: 44.7217 - mae: 44.7217\n",
            "Epoch 84/100\n",
            "2/2 [==============================] - 0s 8ms/step - loss: 37.4076 - mae: 37.4076\n",
            "Epoch 85/100\n",
            "2/2 [==============================] - 0s 8ms/step - loss: 21.1700 - mae: 21.1700\n",
            "Epoch 86/100\n",
            "2/2 [==============================] - 0s 8ms/step - loss: 23.5250 - mae: 23.5250\n",
            "Epoch 87/100\n",
            "2/2 [==============================] - 0s 8ms/step - loss: 19.6103 - mae: 19.6103\n",
            "Epoch 88/100\n",
            "2/2 [==============================] - 0s 11ms/step - loss: 25.5309 - mae: 25.5309\n",
            "Epoch 89/100\n",
            "2/2 [==============================] - 0s 8ms/step - loss: 32.9154 - mae: 32.9154\n",
            "Epoch 90/100\n",
            "2/2 [==============================] - 0s 10ms/step - loss: 34.4767 - mae: 34.4767\n",
            "Epoch 91/100\n",
            "2/2 [==============================] - 0s 9ms/step - loss: 42.8625 - mae: 42.8625\n",
            "Epoch 92/100\n",
            "2/2 [==============================] - 0s 11ms/step - loss: 55.3882 - mae: 55.3882\n",
            "Epoch 93/100\n",
            "2/2 [==============================] - 0s 12ms/step - loss: 75.3201 - mae: 75.3201\n",
            "Epoch 94/100\n",
            "2/2 [==============================] - 0s 9ms/step - loss: 50.0679 - mae: 50.0679\n",
            "Epoch 95/100\n",
            "2/2 [==============================] - 0s 8ms/step - loss: 33.4720 - mae: 33.4720\n",
            "Epoch 96/100\n",
            "2/2 [==============================] - 0s 8ms/step - loss: 23.3273 - mae: 23.3273\n",
            "Epoch 97/100\n",
            "2/2 [==============================] - 0s 7ms/step - loss: 18.1366 - mae: 18.1366\n",
            "Epoch 98/100\n",
            "2/2 [==============================] - 0s 8ms/step - loss: 20.9555 - mae: 20.9555\n",
            "Epoch 99/100\n",
            "2/2 [==============================] - 0s 8ms/step - loss: 33.3596 - mae: 33.3596\n",
            "Epoch 100/100\n",
            "2/2 [==============================] - 0s 8ms/step - loss: 36.4888 - mae: 36.4888\n"
          ]
        },
        {
          "output_type": "execute_result",
          "data": {
            "text/plain": [
              "<keras.callbacks.History at 0x7fe0a6619bd0>"
            ]
          },
          "metadata": {},
          "execution_count": 51
        }
      ]
    },
    {
      "cell_type": "code",
      "source": [
        "model_2.evaluate(X_test_scaled, y_test)"
      ],
      "metadata": {
        "colab": {
          "base_uri": "https://localhost:8080/"
        },
        "id": "X1ubVaqbNJLc",
        "outputId": "70c469df-6838-4451-f5b6-56be5e4d2cd5"
      },
      "execution_count": 52,
      "outputs": [
        {
          "output_type": "stream",
          "name": "stdout",
          "text": [
            "1/1 [==============================] - 0s 130ms/step - loss: 108.3958 - mae: 108.3958\n"
          ]
        },
        {
          "output_type": "execute_result",
          "data": {
            "text/plain": [
              "[108.39576721191406, 108.39576721191406]"
            ]
          },
          "metadata": {},
          "execution_count": 52
        }
      ]
    },
    {
      "cell_type": "code",
      "source": [
        "model_2.summary()"
      ],
      "metadata": {
        "colab": {
          "base_uri": "https://localhost:8080/"
        },
        "id": "wdZ8QOfgNceV",
        "outputId": "6d0e8a5b-38fd-41c1-97e3-d1173776150c"
      },
      "execution_count": 53,
      "outputs": [
        {
          "output_type": "stream",
          "name": "stdout",
          "text": [
            "Model: \"sequential_6\"\n",
            "_________________________________________________________________\n",
            " Layer (type)                Output Shape              Param #   \n",
            "=================================================================\n",
            " dense_6 (Dense)             (None, 10)                20        \n",
            "                                                                 \n",
            " dense_7 (Dense)             (None, 1)                 11        \n",
            "                                                                 \n",
            "=================================================================\n",
            "Total params: 31\n",
            "Trainable params: 31\n",
            "Non-trainable params: 0\n",
            "_________________________________________________________________\n"
          ]
        }
      ]
    },
    {
      "cell_type": "code",
      "source": [
        "y_preds_2 = model_2.predict(X_test_scaled)"
      ],
      "metadata": {
        "colab": {
          "base_uri": "https://localhost:8080/"
        },
        "id": "aDfPsAUeNgk6",
        "outputId": "5dc19b38-e2b3-4503-ddeb-9343f415036a"
      },
      "execution_count": 54,
      "outputs": [
        {
          "output_type": "stream",
          "name": "stderr",
          "text": [
            "WARNING:tensorflow:5 out of the last 5 calls to <function Model.make_predict_function.<locals>.predict_function at 0x7fe0a65cfb50> triggered tf.function retracing. Tracing is expensive and the excessive number of tracings could be due to (1) creating @tf.function repeatedly in a loop, (2) passing tensors with different shapes, (3) passing Python objects instead of tensors. For (1), please define your @tf.function outside of the loop. For (2), @tf.function has reduce_retracing=True option that can avoid unnecessary retracing. For (3), please refer to https://www.tensorflow.org/guide/function#controlling_retracing and https://www.tensorflow.org/api_docs/python/tf/function for  more details.\n"
          ]
        },
        {
          "output_type": "stream",
          "name": "stdout",
          "text": [
            "1/1 [==============================] - 0s 58ms/step\n"
          ]
        }
      ]
    },
    {
      "cell_type": "code",
      "source": [
        "plt.figure(figsize=(10,7))\n",
        "plt.scatter(X_train_scaled, y_train, c='g', label='Training Data')\n",
        "plt.scatter(X_test_scaled, y_test, c='b', label='Testing Data')\n",
        "plt.scatter(X_test_scaled, y_preds_2, c='red', label='Predictions')\n",
        "plt.legend()"
      ],
      "metadata": {
        "colab": {
          "base_uri": "https://localhost:8080/",
          "height": 616
        },
        "id": "GyKkA1-iNvaC",
        "outputId": "ff3ea7d4-b9a3-47bf-d0be-a6fb311820ca"
      },
      "execution_count": 55,
      "outputs": [
        {
          "output_type": "execute_result",
          "data": {
            "text/plain": [
              "<matplotlib.legend.Legend at 0x7fe0a6516260>"
            ]
          },
          "metadata": {},
          "execution_count": 55
        },
        {
          "output_type": "display_data",
          "data": {
            "text/plain": [
              "<Figure size 1000x700 with 1 Axes>"
            ],
            "image/png": "[encoded data removed]"
          },
          "metadata": {}
        }
      ]
    },
    {
      "cell_type": "code",
      "source": [
        "tf.random.set_seed(42)\n",
        "\n",
        "model_3 = models.Sequential([\n",
        "    layers.Dense(10, input_shape=[1]),\n",
        "    layers.Dense(1)\n",
        "])\n",
        "\n",
        "model_3.compile(optimizer=tf.keras.optimizers.SGD(), loss=tf.keras.losses.mae, metrics=['mae'])\n",
        "\n",
        "model_3.fit(X_train_scaled, y_train, epochs=500)"
      ],
      "metadata": {
        "colab": {
          "base_uri": "https://localhost:8080/"
        },
        "id": "fY-S6pTDOM7n",
        "outputId": "c6deb8c9-4e9d-46d9-c337-fc7257ac3db6"
      },
      "execution_count": 56,
      "outputs": [
        {
          "output_type": "stream",
          "name": "stdout",
          "text": [
            "Epoch 1/500\n",
            "2/2 [==============================] - 0s 13ms/step - loss: 198.6689 - mae: 198.6689\n",
            "Epoch 2/500\n",
            "2/2 [==============================] - 0s 11ms/step - loss: 156.9978 - mae: 156.9978\n",
            "Epoch 3/500\n",
            "2/2 [==============================] - 0s 9ms/step - loss: 93.3887 - mae: 93.3887\n",
            "Epoch 4/500\n",
            "2/2 [==============================] - 0s 9ms/step - loss: 29.5465 - mae: 29.5465\n",
            "Epoch 5/500\n",
            "2/2 [==============================] - 0s 10ms/step - loss: 30.9046 - mae: 30.9046\n",
            "Epoch 6/500\n",
            "2/2 [==============================] - 0s 9ms/step - loss: 38.9276 - mae: 38.9276\n",
            "Epoch 7/500\n",
            "2/2 [==============================] - 0s 9ms/step - loss: 25.1061 - mae: 25.1061\n",
            "Epoch 8/500\n",
            "2/2 [==============================] - 0s 8ms/step - loss: 16.1829 - mae: 16.1829\n",
            "Epoch 9/500\n",
            "2/2 [==============================] - 0s 9ms/step - loss: 29.6033 - mae: 29.6033\n",
            "Epoch 10/500\n",
            "2/2 [==============================] - 0s 7ms/step - loss: 32.2073 - mae: 32.2073\n",
            "Epoch 11/500\n",
            "2/2 [==============================] - 0s 11ms/step - loss: 38.9166 - mae: 38.9166\n",
            "Epoch 12/500\n",
            "2/2 [==============================] - 0s 12ms/step - loss: 26.6140 - mae: 26.6140\n",
            "Epoch 13/500\n",
            "2/2 [==============================] - 0s 9ms/step - loss: 33.2712 - mae: 33.2712\n",
            "Epoch 14/500\n",
            "2/2 [==============================] - 0s 9ms/step - loss: 31.6113 - mae: 31.6113\n",
            "Epoch 15/500\n",
            "2/2 [==============================] - 0s 9ms/step - loss: 35.8767 - mae: 35.8767\n",
            "Epoch 16/500\n",
            "2/2 [==============================] - 0s 8ms/step - loss: 48.2445 - mae: 48.2445\n",
            "Epoch 17/500\n",
            "2/2 [==============================] - 0s 8ms/step - loss: 46.8156 - mae: 46.8156\n",
            "Epoch 18/500\n",
            "2/2 [==============================] - 0s 11ms/step - loss: 105.9020 - mae: 105.9020\n",
            "Epoch 19/500\n",
            "2/2 [==============================] - 0s 7ms/step - loss: 53.4419 - mae: 53.4419\n",
            "Epoch 20/500\n",
            "2/2 [==============================] - 0s 7ms/step - loss: 23.9028 - mae: 23.9028\n",
            "Epoch 21/500\n",
            "2/2 [==============================] - 0s 10ms/step - loss: 21.2699 - mae: 21.2699\n",
            "Epoch 22/500\n",
            "2/2 [==============================] - 0s 6ms/step - loss: 29.0379 - mae: 29.0379\n",
            "Epoch 23/500\n",
            "2/2 [==============================] - 0s 7ms/step - loss: 49.0928 - mae: 49.0928\n",
            "Epoch 24/500\n",
            "2/2 [==============================] - 0s 7ms/step - loss: 47.8213 - mae: 47.8213\n",
            "Epoch 25/500\n",
            "2/2 [==============================] - 0s 9ms/step - loss: 57.4374 - mae: 57.4374\n",
            "Epoch 26/500\n",
            "2/2 [==============================] - 0s 7ms/step - loss: 59.9951 - mae: 59.9951\n",
            "Epoch 27/500\n",
            "2/2 [==============================] - 0s 7ms/step - loss: 40.1354 - mae: 40.1354\n",
            "Epoch 28/500\n",
            "2/2 [==============================] - 0s 8ms/step - loss: 18.5707 - mae: 18.5707\n",
            "Epoch 29/500\n",
            "2/2 [==============================] - 0s 14ms/step - loss: 23.6865 - mae: 23.6865\n",
            "Epoch 30/500\n",
            "2/2 [==============================] - 0s 9ms/step - loss: 22.4489 - mae: 22.4489\n",
            "Epoch 31/500\n",
            "2/2 [==============================] - 0s 8ms/step - loss: 41.0254 - mae: 41.0254\n",
            "Epoch 32/500\n",
            "2/2 [==============================] - 0s 8ms/step - loss: 50.0262 - mae: 50.0262\n",
            "Epoch 33/500\n",
            "2/2 [==============================] - 0s 8ms/step - loss: 47.3425 - mae: 47.3425\n",
            "Epoch 34/500\n",
            "2/2 [==============================] - 0s 7ms/step - loss: 47.3841 - mae: 47.3841\n",
            "Epoch 35/500\n",
            "2/2 [==============================] - 0s 8ms/step - loss: 73.6696 - mae: 73.6696\n",
            "Epoch 36/500\n",
            "2/2 [==============================] - 0s 10ms/step - loss: 38.8347 - mae: 38.8347\n",
            "Epoch 37/500\n",
            "2/2 [==============================] - 0s 7ms/step - loss: 36.1176 - mae: 36.1176\n",
            "Epoch 38/500\n",
            "2/2 [==============================] - 0s 9ms/step - loss: 27.1901 - mae: 27.1901\n",
            "Epoch 39/500\n",
            "2/2 [==============================] - 0s 11ms/step - loss: 23.8419 - mae: 23.8419\n",
            "Epoch 40/500\n",
            "2/2 [==============================] - 0s 9ms/step - loss: 25.0569 - mae: 25.0569\n",
            "Epoch 41/500\n",
            "2/2 [==============================] - 0s 7ms/step - loss: 30.2035 - mae: 30.2035\n",
            "Epoch 42/500\n",
            "2/2 [==============================] - 0s 9ms/step - loss: 51.2612 - mae: 51.2612\n",
            "Epoch 43/500\n",
            "2/2 [==============================] - 0s 8ms/step - loss: 80.2311 - mae: 80.2311\n",
            "Epoch 44/500\n",
            "2/2 [==============================] - 0s 9ms/step - loss: 34.9120 - mae: 34.9120\n",
            "Epoch 45/500\n",
            "2/2 [==============================] - 0s 9ms/step - loss: 17.1879 - mae: 17.1879\n",
            "Epoch 46/500\n",
            "2/2 [==============================] - 0s 7ms/step - loss: 24.8810 - mae: 24.8810\n",
            "Epoch 47/500\n",
            "2/2 [==============================] - 0s 8ms/step - loss: 37.4623 - mae: 37.4623\n",
            "Epoch 48/500\n",
            "2/2 [==============================] - 0s 9ms/step - loss: 44.7677 - mae: 44.7677\n",
            "Epoch 49/500\n",
            "2/2 [==============================] - 0s 12ms/step - loss: 76.7903 - mae: 76.7903\n",
            "Epoch 50/500\n",
            "2/2 [==============================] - 0s 10ms/step - loss: 40.8424 - mae: 40.8424\n",
            "Epoch 51/500\n",
            "2/2 [==============================] - 0s 9ms/step - loss: 46.7777 - mae: 46.7777\n",
            "Epoch 52/500\n",
            "2/2 [==============================] - 0s 8ms/step - loss: 21.2594 - mae: 21.2594\n",
            "Epoch 53/500\n",
            "2/2 [==============================] - 0s 9ms/step - loss: 30.9752 - mae: 30.9752\n",
            "Epoch 54/500\n",
            "2/2 [==============================] - 0s 8ms/step - loss: 13.3661 - mae: 13.3661\n",
            "Epoch 55/500\n",
            "2/2 [==============================] - 0s 11ms/step - loss: 38.5745 - mae: 38.5745\n",
            "Epoch 56/500\n",
            "2/2 [==============================] - 0s 11ms/step - loss: 44.0637 - mae: 44.0637\n",
            "Epoch 57/500\n",
            "2/2 [==============================] - 0s 7ms/step - loss: 64.7038 - mae: 64.7038\n",
            "Epoch 58/500\n",
            "2/2 [==============================] - 0s 7ms/step - loss: 69.6746 - mae: 69.6746\n",
            "Epoch 59/500\n",
            "2/2 [==============================] - 0s 8ms/step - loss: 42.0555 - mae: 42.0555\n",
            "Epoch 60/500\n",
            "2/2 [==============================] - 0s 8ms/step - loss: 38.0012 - mae: 38.0012\n",
            "Epoch 61/500\n",
            "2/2 [==============================] - 0s 8ms/step - loss: 20.1049 - mae: 20.1049\n",
            "Epoch 62/500\n",
            "2/2 [==============================] - 0s 7ms/step - loss: 22.3208 - mae: 22.3208\n",
            "Epoch 63/500\n",
            "2/2 [==============================] - 0s 8ms/step - loss: 31.1294 - mae: 31.1294\n",
            "Epoch 64/500\n",
            "2/2 [==============================] - 0s 8ms/step - loss: 27.9202 - mae: 27.9202\n",
            "Epoch 65/500\n",
            "2/2 [==============================] - 0s 10ms/step - loss: 35.3735 - mae: 35.3735\n",
            "Epoch 66/500\n",
            "2/2 [==============================] - 0s 11ms/step - loss: 32.6346 - mae: 32.6346\n",
            "Epoch 67/500\n",
            "2/2 [==============================] - 0s 9ms/step - loss: 42.9787 - mae: 42.9787\n",
            "Epoch 68/500\n",
            "2/2 [==============================] - 0s 8ms/step - loss: 48.7861 - mae: 48.7861\n",
            "Epoch 69/500\n",
            "2/2 [==============================] - 0s 7ms/step - loss: 42.7392 - mae: 42.7392\n",
            "Epoch 70/500\n",
            "2/2 [==============================] - 0s 8ms/step - loss: 53.0404 - mae: 53.0404\n",
            "Epoch 71/500\n",
            "2/2 [==============================] - 0s 10ms/step - loss: 76.3222 - mae: 76.3222\n",
            "Epoch 72/500\n",
            "2/2 [==============================] - 0s 10ms/step - loss: 74.4548 - mae: 74.4548\n",
            "Epoch 73/500\n",
            "2/2 [==============================] - 0s 10ms/step - loss: 61.4293 - mae: 61.4293\n",
            "Epoch 74/500\n",
            "2/2 [==============================] - 0s 9ms/step - loss: 49.1598 - mae: 49.1598\n",
            "Epoch 75/500\n",
            "2/2 [==============================] - 0s 9ms/step - loss: 46.5153 - mae: 46.5153\n",
            "Epoch 76/500\n",
            "2/2 [==============================] - 0s 9ms/step - loss: 40.5332 - mae: 40.5332\n",
            "Epoch 77/500\n",
            "2/2 [==============================] - 0s 9ms/step - loss: 35.1602 - mae: 35.1602\n",
            "Epoch 78/500\n",
            "2/2 [==============================] - 0s 9ms/step - loss: 22.4449 - mae: 22.4449\n",
            "Epoch 79/500\n",
            "2/2 [==============================] - 0s 8ms/step - loss: 37.4815 - mae: 37.4815\n",
            "Epoch 80/500\n",
            "2/2 [==============================] - 0s 8ms/step - loss: 31.3788 - mae: 31.3788\n",
            "Epoch 81/500\n",
            "2/2 [==============================] - 0s 9ms/step - loss: 40.8857 - mae: 40.8857\n",
            "Epoch 82/500\n",
            "2/2 [==============================] - 0s 11ms/step - loss: 73.2819 - mae: 73.2819\n",
            "Epoch 83/500\n",
            "2/2 [==============================] - 0s 8ms/step - loss: 53.6162 - mae: 53.6162\n",
            "Epoch 84/500\n",
            "2/2 [==============================] - 0s 8ms/step - loss: 46.4666 - mae: 46.4666\n",
            "Epoch 85/500\n",
            "2/2 [==============================] - 0s 7ms/step - loss: 29.4389 - mae: 29.4389\n",
            "Epoch 86/500\n",
            "2/2 [==============================] - 0s 8ms/step - loss: 16.9027 - mae: 16.9027\n",
            "Epoch 87/500\n",
            "2/2 [==============================] - 0s 11ms/step - loss: 19.3517 - mae: 19.3517\n",
            "Epoch 88/500\n",
            "2/2 [==============================] - 0s 8ms/step - loss: 26.5148 - mae: 26.5148\n",
            "Epoch 89/500\n",
            "2/2 [==============================] - 0s 9ms/step - loss: 33.9009 - mae: 33.9009\n",
            "Epoch 90/500\n",
            "2/2 [==============================] - 0s 8ms/step - loss: 35.3331 - mae: 35.3331\n",
            "Epoch 91/500\n",
            "2/2 [==============================] - 0s 8ms/step - loss: 43.6100 - mae: 43.6100\n",
            "Epoch 92/500\n",
            "2/2 [==============================] - 0s 9ms/step - loss: 56.8852 - mae: 56.8852\n",
            "Epoch 93/500\n",
            "2/2 [==============================] - 0s 9ms/step - loss: 73.2804 - mae: 73.2804\n",
            "Epoch 94/500\n",
            "2/2 [==============================] - 0s 10ms/step - loss: 48.3181 - mae: 48.3181\n",
            "Epoch 95/500\n",
            "2/2 [==============================] - 0s 8ms/step - loss: 31.9303 - mae: 31.9303\n",
            "Epoch 96/500\n",
            "2/2 [==============================] - 0s 9ms/step - loss: 21.9368 - mae: 21.9368\n",
            "Epoch 97/500\n",
            "2/2 [==============================] - 0s 7ms/step - loss: 16.8240 - mae: 16.8240\n",
            "Epoch 98/500\n",
            "2/2 [==============================] - 0s 9ms/step - loss: 21.8943 - mae: 21.8943\n",
            "Epoch 99/500\n",
            "2/2 [==============================] - 0s 15ms/step - loss: 34.3152 - mae: 34.3152\n",
            "Epoch 100/500\n",
            "2/2 [==============================] - 0s 8ms/step - loss: 37.3540 - mae: 37.3540\n",
            "Epoch 101/500\n",
            "2/2 [==============================] - 0s 8ms/step - loss: 44.3389 - mae: 44.3389\n",
            "Epoch 102/500\n",
            "2/2 [==============================] - 0s 8ms/step - loss: 45.7150 - mae: 45.7150\n",
            "Epoch 103/500\n",
            "2/2 [==============================] - 0s 10ms/step - loss: 86.6189 - mae: 86.6189\n",
            "Epoch 104/500\n",
            "2/2 [==============================] - 0s 8ms/step - loss: 44.8178 - mae: 44.8178\n",
            "Epoch 105/500\n",
            "2/2 [==============================] - 0s 8ms/step - loss: 27.0834 - mae: 27.0834\n",
            "Epoch 106/500\n",
            "2/2 [==============================] - 0s 8ms/step - loss: 18.7423 - mae: 18.7423\n",
            "Epoch 107/500\n",
            "2/2 [==============================] - 0s 8ms/step - loss: 17.1990 - mae: 17.1990\n",
            "Epoch 108/500\n",
            "2/2 [==============================] - 0s 8ms/step - loss: 22.8286 - mae: 22.8286\n",
            "Epoch 109/500\n",
            "2/2 [==============================] - 0s 9ms/step - loss: 25.8329 - mae: 25.8329\n",
            "Epoch 110/500\n",
            "2/2 [==============================] - 0s 8ms/step - loss: 39.0104 - mae: 39.0104\n",
            "Epoch 111/500\n",
            "2/2 [==============================] - 0s 8ms/step - loss: 46.7250 - mae: 46.7250\n",
            "Epoch 112/500\n",
            "2/2 [==============================] - 0s 9ms/step - loss: 95.6602 - mae: 95.6602\n",
            "Epoch 113/500\n",
            "2/2 [==============================] - 0s 8ms/step - loss: 54.2680 - mae: 54.2680\n",
            "Epoch 114/500\n",
            "2/2 [==============================] - 0s 8ms/step - loss: 16.6062 - mae: 16.6062\n",
            "Epoch 115/500\n",
            "2/2 [==============================] - 0s 9ms/step - loss: 27.2648 - mae: 27.2648\n",
            "Epoch 116/500\n",
            "2/2 [==============================] - 0s 8ms/step - loss: 33.2606 - mae: 33.2606\n",
            "Epoch 117/500\n",
            "2/2 [==============================] - 0s 8ms/step - loss: 46.1833 - mae: 46.1833\n",
            "Epoch 118/500\n",
            "2/2 [==============================] - 0s 8ms/step - loss: 68.2627 - mae: 68.2627\n",
            "Epoch 119/500\n",
            "2/2 [==============================] - 0s 9ms/step - loss: 64.7418 - mae: 64.7418\n",
            "Epoch 120/500\n",
            "2/2 [==============================] - 0s 8ms/step - loss: 22.7565 - mae: 22.7565\n",
            "Epoch 121/500\n",
            "2/2 [==============================] - 0s 9ms/step - loss: 32.9226 - mae: 32.9226\n",
            "Epoch 122/500\n",
            "2/2 [==============================] - 0s 11ms/step - loss: 11.4525 - mae: 11.4525\n",
            "Epoch 123/500\n",
            "2/2 [==============================] - 0s 8ms/step - loss: 41.7326 - mae: 41.7326\n",
            "Epoch 124/500\n",
            "2/2 [==============================] - 0s 8ms/step - loss: 38.2714 - mae: 38.2714\n",
            "Epoch 125/500\n",
            "2/2 [==============================] - 0s 8ms/step - loss: 47.7772 - mae: 47.7772\n",
            "Epoch 126/500\n",
            "2/2 [==============================] - 0s 10ms/step - loss: 80.9270 - mae: 80.9270\n",
            "Epoch 127/500\n",
            "2/2 [==============================] - 0s 8ms/step - loss: 71.3530 - mae: 71.3530\n",
            "Epoch 128/500\n",
            "2/2 [==============================] - 0s 8ms/step - loss: 29.0742 - mae: 29.0742\n",
            "Epoch 129/500\n",
            "2/2 [==============================] - 0s 7ms/step - loss: 15.5754 - mae: 15.5754\n",
            "Epoch 130/500\n",
            "2/2 [==============================] - 0s 9ms/step - loss: 37.7651 - mae: 37.7651\n",
            "Epoch 131/500\n",
            "2/2 [==============================] - 0s 8ms/step - loss: 40.7677 - mae: 40.7677\n",
            "Epoch 132/500\n",
            "2/2 [==============================] - 0s 9ms/step - loss: 38.2969 - mae: 38.2969\n",
            "Epoch 133/500\n",
            "2/2 [==============================] - 0s 8ms/step - loss: 42.8391 - mae: 42.8391\n",
            "Epoch 134/500\n",
            "2/2 [==============================] - 0s 8ms/step - loss: 35.5938 - mae: 35.5938\n",
            "Epoch 135/500\n",
            "2/2 [==============================] - 0s 8ms/step - loss: 46.2061 - mae: 46.2061\n",
            "Epoch 136/500\n",
            "2/2 [==============================] - 0s 7ms/step - loss: 64.6298 - mae: 64.6298\n",
            "Epoch 137/500\n",
            "2/2 [==============================] - 0s 9ms/step - loss: 53.4515 - mae: 53.4515\n",
            "Epoch 138/500\n",
            "2/2 [==============================] - 0s 9ms/step - loss: 63.5069 - mae: 63.5069\n",
            "Epoch 139/500\n",
            "2/2 [==============================] - 0s 9ms/step - loss: 77.8171 - mae: 77.8171\n",
            "Epoch 140/500\n",
            "2/2 [==============================] - 0s 9ms/step - loss: 64.5636 - mae: 64.5636\n",
            "Epoch 141/500\n",
            "2/2 [==============================] - 0s 9ms/step - loss: 55.4259 - mae: 55.4259\n",
            "Epoch 142/500\n",
            "2/2 [==============================] - 0s 10ms/step - loss: 20.1229 - mae: 20.1229\n",
            "Epoch 143/500\n",
            "2/2 [==============================] - 0s 9ms/step - loss: 23.1375 - mae: 23.1375\n",
            "Epoch 144/500\n",
            "2/2 [==============================] - 0s 8ms/step - loss: 44.8890 - mae: 44.8890\n",
            "Epoch 145/500\n",
            "2/2 [==============================] - 0s 8ms/step - loss: 40.1905 - mae: 40.1905\n",
            "Epoch 146/500\n",
            "2/2 [==============================] - 0s 9ms/step - loss: 40.7407 - mae: 40.7407\n",
            "Epoch 147/500\n",
            "2/2 [==============================] - 0s 9ms/step - loss: 82.7759 - mae: 82.7759\n",
            "Epoch 148/500\n",
            "2/2 [==============================] - 0s 8ms/step - loss: 30.0440 - mae: 30.0440\n",
            "Epoch 149/500\n",
            "2/2 [==============================] - 0s 7ms/step - loss: 31.6492 - mae: 31.6492\n",
            "Epoch 150/500\n",
            "2/2 [==============================] - 0s 8ms/step - loss: 27.7091 - mae: 27.7091\n",
            "Epoch 151/500\n",
            "2/2 [==============================] - 0s 8ms/step - loss: 33.0342 - mae: 33.0342\n",
            "Epoch 152/500\n",
            "2/2 [==============================] - 0s 8ms/step - loss: 42.4167 - mae: 42.4167\n",
            "Epoch 153/500\n",
            "2/2 [==============================] - 0s 9ms/step - loss: 42.2268 - mae: 42.2268\n",
            "Epoch 154/500\n",
            "2/2 [==============================] - 0s 8ms/step - loss: 78.2562 - mae: 78.2562\n",
            "Epoch 155/500\n",
            "2/2 [==============================] - 0s 8ms/step - loss: 41.9438 - mae: 41.9438\n",
            "Epoch 156/500\n",
            "2/2 [==============================] - 0s 8ms/step - loss: 16.2634 - mae: 16.2634\n",
            "Epoch 157/500\n",
            "2/2 [==============================] - 0s 8ms/step - loss: 37.2615 - mae: 37.2615\n",
            "Epoch 158/500\n",
            "2/2 [==============================] - 0s 8ms/step - loss: 35.4943 - mae: 35.4943\n",
            "Epoch 159/500\n",
            "2/2 [==============================] - 0s 8ms/step - loss: 54.5528 - mae: 54.5528\n",
            "Epoch 160/500\n",
            "2/2 [==============================] - 0s 8ms/step - loss: 61.5562 - mae: 61.5562\n",
            "Epoch 161/500\n",
            "2/2 [==============================] - 0s 8ms/step - loss: 43.3011 - mae: 43.3011\n",
            "Epoch 162/500\n",
            "2/2 [==============================] - 0s 8ms/step - loss: 19.9179 - mae: 19.9179\n",
            "Epoch 163/500\n",
            "2/2 [==============================] - 0s 8ms/step - loss: 31.4883 - mae: 31.4883\n",
            "Epoch 164/500\n",
            "2/2 [==============================] - 0s 8ms/step - loss: 40.6111 - mae: 40.6111\n",
            "Epoch 165/500\n",
            "2/2 [==============================] - 0s 8ms/step - loss: 62.7605 - mae: 62.7605\n",
            "Epoch 166/500\n",
            "2/2 [==============================] - 0s 8ms/step - loss: 67.4069 - mae: 67.4069\n",
            "Epoch 167/500\n",
            "2/2 [==============================] - 0s 8ms/step - loss: 31.4085 - mae: 31.4085\n",
            "Epoch 168/500\n",
            "2/2 [==============================] - 0s 8ms/step - loss: 22.8811 - mae: 22.8811\n",
            "Epoch 169/500\n",
            "2/2 [==============================] - 0s 9ms/step - loss: 24.2904 - mae: 24.2904\n",
            "Epoch 170/500\n",
            "2/2 [==============================] - 0s 7ms/step - loss: 32.6357 - mae: 32.6357\n",
            "Epoch 171/500\n",
            "2/2 [==============================] - 0s 8ms/step - loss: 35.3032 - mae: 35.3032\n",
            "Epoch 172/500\n",
            "2/2 [==============================] - 0s 9ms/step - loss: 49.0446 - mae: 49.0446\n",
            "Epoch 173/500\n",
            "2/2 [==============================] - 0s 8ms/step - loss: 42.5278 - mae: 42.5278\n",
            "Epoch 174/500\n",
            "2/2 [==============================] - 0s 8ms/step - loss: 53.1026 - mae: 53.1026\n",
            "Epoch 175/500\n",
            "2/2 [==============================] - 0s 12ms/step - loss: 53.3532 - mae: 53.3532\n",
            "Epoch 176/500\n",
            "2/2 [==============================] - 0s 8ms/step - loss: 70.3586 - mae: 70.3586\n",
            "Epoch 177/500\n",
            "2/2 [==============================] - 0s 9ms/step - loss: 62.3426 - mae: 62.3426\n",
            "Epoch 178/500\n",
            "2/2 [==============================] - 0s 8ms/step - loss: 42.4137 - mae: 42.4137\n",
            "Epoch 179/500\n",
            "2/2 [==============================] - 0s 9ms/step - loss: 37.0525 - mae: 37.0525\n",
            "Epoch 180/500\n",
            "2/2 [==============================] - 0s 9ms/step - loss: 54.4371 - mae: 54.4371\n",
            "Epoch 181/500\n",
            "2/2 [==============================] - 0s 8ms/step - loss: 27.2390 - mae: 27.2390\n",
            "Epoch 182/500\n",
            "2/2 [==============================] - 0s 8ms/step - loss: 26.1927 - mae: 26.1927\n",
            "Epoch 183/500\n",
            "2/2 [==============================] - 0s 9ms/step - loss: 47.3696 - mae: 47.3696\n",
            "Epoch 184/500\n",
            "2/2 [==============================] - 0s 9ms/step - loss: 28.2557 - mae: 28.2557\n",
            "Epoch 185/500\n",
            "2/2 [==============================] - 0s 9ms/step - loss: 37.0133 - mae: 37.0133\n",
            "Epoch 186/500\n",
            "2/2 [==============================] - 0s 7ms/step - loss: 36.0331 - mae: 36.0331\n",
            "Epoch 187/500\n",
            "2/2 [==============================] - 0s 8ms/step - loss: 57.7542 - mae: 57.7542\n",
            "Epoch 188/500\n",
            "2/2 [==============================] - 0s 8ms/step - loss: 56.5613 - mae: 56.5613\n",
            "Epoch 189/500\n",
            "2/2 [==============================] - 0s 8ms/step - loss: 67.1102 - mae: 67.1102\n",
            "Epoch 190/500\n",
            "2/2 [==============================] - 0s 8ms/step - loss: 48.9122 - mae: 48.9122\n",
            "Epoch 191/500\n",
            "2/2 [==============================] - 0s 9ms/step - loss: 38.0577 - mae: 38.0577\n",
            "Epoch 192/500\n",
            "2/2 [==============================] - 0s 8ms/step - loss: 37.0590 - mae: 37.0590\n",
            "Epoch 193/500\n",
            "2/2 [==============================] - 0s 8ms/step - loss: 26.1522 - mae: 26.1522\n",
            "Epoch 194/500\n",
            "2/2 [==============================] - 0s 8ms/step - loss: 39.7250 - mae: 39.7250\n",
            "Epoch 195/500\n",
            "2/2 [==============================] - 0s 9ms/step - loss: 55.5820 - mae: 55.5820\n",
            "Epoch 196/500\n",
            "2/2 [==============================] - 0s 8ms/step - loss: 60.8813 - mae: 60.8813\n",
            "Epoch 197/500\n",
            "2/2 [==============================] - 0s 8ms/step - loss: 90.0570 - mae: 90.0570\n",
            "Epoch 198/500\n",
            "2/2 [==============================] - 0s 9ms/step - loss: 83.2772 - mae: 83.2772\n",
            "Epoch 199/500\n",
            "2/2 [==============================] - 0s 10ms/step - loss: 38.8817 - mae: 38.8817\n",
            "Epoch 200/500\n",
            "2/2 [==============================] - 0s 9ms/step - loss: 22.7972 - mae: 22.7972\n",
            "Epoch 201/500\n",
            "2/2 [==============================] - 0s 8ms/step - loss: 16.4672 - mae: 16.4672\n",
            "Epoch 202/500\n",
            "2/2 [==============================] - 0s 8ms/step - loss: 26.8487 - mae: 26.8487\n",
            "Epoch 203/500\n",
            "2/2 [==============================] - 0s 8ms/step - loss: 18.9328 - mae: 18.9328\n",
            "Epoch 204/500\n",
            "2/2 [==============================] - 0s 9ms/step - loss: 28.6690 - mae: 28.6690\n",
            "Epoch 205/500\n",
            "2/2 [==============================] - 0s 8ms/step - loss: 35.5110 - mae: 35.5110\n",
            "Epoch 206/500\n",
            "2/2 [==============================] - 0s 9ms/step - loss: 51.8465 - mae: 51.8465\n",
            "Epoch 207/500\n",
            "2/2 [==============================] - 0s 9ms/step - loss: 77.2733 - mae: 77.2733\n",
            "Epoch 208/500\n",
            "2/2 [==============================] - 0s 8ms/step - loss: 38.9102 - mae: 38.9102\n",
            "Epoch 209/500\n",
            "2/2 [==============================] - 0s 8ms/step - loss: 29.0707 - mae: 29.0707\n",
            "Epoch 210/500\n",
            "2/2 [==============================] - 0s 8ms/step - loss: 35.1446 - mae: 35.1446\n",
            "Epoch 211/500\n",
            "2/2 [==============================] - 0s 7ms/step - loss: 39.2263 - mae: 39.2263\n",
            "Epoch 212/500\n",
            "2/2 [==============================] - 0s 8ms/step - loss: 48.9532 - mae: 48.9532\n",
            "Epoch 213/500\n",
            "2/2 [==============================] - 0s 8ms/step - loss: 62.8069 - mae: 62.8069\n",
            "Epoch 214/500\n",
            "2/2 [==============================] - 0s 11ms/step - loss: 58.8154 - mae: 58.8154\n",
            "Epoch 215/500\n",
            "2/2 [==============================] - 0s 8ms/step - loss: 35.6571 - mae: 35.6571\n",
            "Epoch 216/500\n",
            "2/2 [==============================] - 0s 9ms/step - loss: 29.3250 - mae: 29.3250\n",
            "Epoch 217/500\n",
            "2/2 [==============================] - 0s 8ms/step - loss: 26.5776 - mae: 26.5776\n",
            "Epoch 218/500\n",
            "2/2 [==============================] - 0s 9ms/step - loss: 47.9684 - mae: 47.9684\n",
            "Epoch 219/500\n",
            "2/2 [==============================] - 0s 9ms/step - loss: 90.0350 - mae: 90.0350\n",
            "Epoch 220/500\n",
            "2/2 [==============================] - 0s 8ms/step - loss: 78.2965 - mae: 78.2965\n",
            "Epoch 221/500\n",
            "2/2 [==============================] - 0s 8ms/step - loss: 14.9143 - mae: 14.9143\n",
            "Epoch 222/500\n",
            "2/2 [==============================] - 0s 9ms/step - loss: 30.4163 - mae: 30.4163\n",
            "Epoch 223/500\n",
            "2/2 [==============================] - 0s 9ms/step - loss: 41.6473 - mae: 41.6473\n",
            "Epoch 224/500\n",
            "2/2 [==============================] - 0s 9ms/step - loss: 84.6953 - mae: 84.6953\n",
            "Epoch 225/500\n",
            "2/2 [==============================] - 0s 8ms/step - loss: 32.2383 - mae: 32.2383\n",
            "Epoch 226/500\n",
            "2/2 [==============================] - 0s 8ms/step - loss: 20.6572 - mae: 20.6572\n",
            "Epoch 227/500\n",
            "2/2 [==============================] - 0s 8ms/step - loss: 25.7605 - mae: 25.7605\n",
            "Epoch 228/500\n",
            "2/2 [==============================] - 0s 8ms/step - loss: 36.2498 - mae: 36.2498\n",
            "Epoch 229/500\n",
            "2/2 [==============================] - 0s 9ms/step - loss: 59.9628 - mae: 59.9628\n",
            "Epoch 230/500\n",
            "2/2 [==============================] - 0s 11ms/step - loss: 69.1796 - mae: 69.1796\n",
            "Epoch 231/500\n",
            "2/2 [==============================] - 0s 8ms/step - loss: 28.4940 - mae: 28.4940\n",
            "Epoch 232/500\n",
            "2/2 [==============================] - 0s 10ms/step - loss: 14.5071 - mae: 14.5071\n",
            "Epoch 233/500\n",
            "2/2 [==============================] - 0s 8ms/step - loss: 33.1589 - mae: 33.1589\n",
            "Epoch 234/500\n",
            "2/2 [==============================] - 0s 8ms/step - loss: 36.3572 - mae: 36.3572\n",
            "Epoch 235/500\n",
            "2/2 [==============================] - 0s 8ms/step - loss: 33.2375 - mae: 33.2375\n",
            "Epoch 236/500\n",
            "2/2 [==============================] - 0s 9ms/step - loss: 49.2936 - mae: 49.2936\n",
            "Epoch 237/500\n",
            "2/2 [==============================] - 0s 10ms/step - loss: 55.3213 - mae: 55.3213\n",
            "Epoch 238/500\n",
            "2/2 [==============================] - 0s 8ms/step - loss: 84.4225 - mae: 84.4225\n",
            "Epoch 239/500\n",
            "2/2 [==============================] - 0s 9ms/step - loss: 57.0535 - mae: 57.0535\n",
            "Epoch 240/500\n",
            "2/2 [==============================] - 0s 9ms/step - loss: 40.8583 - mae: 40.8583\n",
            "Epoch 241/500\n",
            "2/2 [==============================] - 0s 8ms/step - loss: 39.9641 - mae: 39.9641\n",
            "Epoch 242/500\n",
            "2/2 [==============================] - 0s 8ms/step - loss: 32.5101 - mae: 32.5101\n",
            "Epoch 243/500\n",
            "2/2 [==============================] - 0s 9ms/step - loss: 18.9392 - mae: 18.9392\n",
            "Epoch 244/500\n",
            "2/2 [==============================] - 0s 9ms/step - loss: 20.4068 - mae: 20.4068\n",
            "Epoch 245/500\n",
            "2/2 [==============================] - 0s 8ms/step - loss: 25.8710 - mae: 25.8710\n",
            "Epoch 246/500\n",
            "2/2 [==============================] - 0s 8ms/step - loss: 42.1757 - mae: 42.1757\n",
            "Epoch 247/500\n",
            "2/2 [==============================] - 0s 8ms/step - loss: 44.9848 - mae: 44.9848\n",
            "Epoch 248/500\n",
            "2/2 [==============================] - 0s 8ms/step - loss: 51.7665 - mae: 51.7665\n",
            "Epoch 249/500\n",
            "2/2 [==============================] - 0s 8ms/step - loss: 73.2780 - mae: 73.2780\n",
            "Epoch 250/500\n",
            "2/2 [==============================] - 0s 8ms/step - loss: 43.8066 - mae: 43.8066\n",
            "Epoch 251/500\n",
            "2/2 [==============================] - 0s 8ms/step - loss: 22.4186 - mae: 22.4186\n",
            "Epoch 252/500\n",
            "2/2 [==============================] - 0s 8ms/step - loss: 37.7297 - mae: 37.7297\n",
            "Epoch 253/500\n",
            "2/2 [==============================] - 0s 8ms/step - loss: 43.4724 - mae: 43.4724\n",
            "Epoch 254/500\n",
            "2/2 [==============================] - 0s 9ms/step - loss: 57.8380 - mae: 57.8380\n",
            "Epoch 255/500\n",
            "2/2 [==============================] - 0s 7ms/step - loss: 57.8416 - mae: 57.8416\n",
            "Epoch 256/500\n",
            "2/2 [==============================] - 0s 8ms/step - loss: 51.0571 - mae: 51.0571\n",
            "Epoch 257/500\n",
            "2/2 [==============================] - 0s 8ms/step - loss: 54.1371 - mae: 54.1371\n",
            "Epoch 258/500\n",
            "2/2 [==============================] - 0s 8ms/step - loss: 48.4561 - mae: 48.4561\n",
            "Epoch 259/500\n",
            "2/2 [==============================] - 0s 8ms/step - loss: 22.2508 - mae: 22.2508\n",
            "Epoch 260/500\n",
            "2/2 [==============================] - 0s 11ms/step - loss: 31.2464 - mae: 31.2464\n",
            "Epoch 261/500\n",
            "2/2 [==============================] - 0s 7ms/step - loss: 29.0808 - mae: 29.0808\n",
            "Epoch 262/500\n",
            "2/2 [==============================] - 0s 8ms/step - loss: 56.8550 - mae: 56.8550\n",
            "Epoch 263/500\n",
            "2/2 [==============================] - 0s 8ms/step - loss: 80.5283 - mae: 80.5283\n",
            "Epoch 264/500\n",
            "2/2 [==============================] - 0s 8ms/step - loss: 57.9781 - mae: 57.9781\n",
            "Epoch 265/500\n",
            "2/2 [==============================] - 0s 8ms/step - loss: 73.4320 - mae: 73.4320\n",
            "Epoch 266/500\n",
            "2/2 [==============================] - 0s 9ms/step - loss: 82.6266 - mae: 82.6266\n",
            "Epoch 267/500\n",
            "2/2 [==============================] - 0s 8ms/step - loss: 76.4574 - mae: 76.4574\n",
            "Epoch 268/500\n",
            "2/2 [==============================] - 0s 8ms/step - loss: 54.1372 - mae: 54.1372\n",
            "Epoch 269/500\n",
            "2/2 [==============================] - 0s 8ms/step - loss: 19.5389 - mae: 19.5389\n",
            "Epoch 270/500\n",
            "2/2 [==============================] - 0s 8ms/step - loss: 28.8993 - mae: 28.8993\n",
            "Epoch 271/500\n",
            "2/2 [==============================] - 0s 9ms/step - loss: 52.6387 - mae: 52.6387\n",
            "Epoch 272/500\n",
            "2/2 [==============================] - 0s 8ms/step - loss: 43.9968 - mae: 43.9968\n",
            "Epoch 273/500\n",
            "2/2 [==============================] - 0s 8ms/step - loss: 55.1819 - mae: 55.1819\n",
            "Epoch 274/500\n",
            "2/2 [==============================] - 0s 10ms/step - loss: 83.6085 - mae: 83.6085\n",
            "Epoch 275/500\n",
            "2/2 [==============================] - 0s 9ms/step - loss: 24.2323 - mae: 24.2323\n",
            "Epoch 276/500\n",
            "2/2 [==============================] - 0s 9ms/step - loss: 11.5094 - mae: 11.5094\n",
            "Epoch 277/500\n",
            "2/2 [==============================] - 0s 10ms/step - loss: 30.2343 - mae: 30.2343\n",
            "Epoch 278/500\n",
            "2/2 [==============================] - 0s 12ms/step - loss: 50.6839 - mae: 50.6839\n",
            "Epoch 279/500\n",
            "2/2 [==============================] - 0s 9ms/step - loss: 57.1479 - mae: 57.1479\n",
            "Epoch 280/500\n",
            "2/2 [==============================] - 0s 8ms/step - loss: 60.1074 - mae: 60.1074\n",
            "Epoch 281/500\n",
            "2/2 [==============================] - 0s 8ms/step - loss: 48.4570 - mae: 48.4570\n",
            "Epoch 282/500\n",
            "2/2 [==============================] - 0s 8ms/step - loss: 32.2167 - mae: 32.2167\n",
            "Epoch 283/500\n",
            "2/2 [==============================] - 0s 8ms/step - loss: 22.9964 - mae: 22.9964\n",
            "Epoch 284/500\n",
            "2/2 [==============================] - 0s 8ms/step - loss: 26.9101 - mae: 26.9101\n",
            "Epoch 285/500\n",
            "2/2 [==============================] - 0s 11ms/step - loss: 28.2851 - mae: 28.2851\n",
            "Epoch 286/500\n",
            "2/2 [==============================] - 0s 10ms/step - loss: 32.6129 - mae: 32.6129\n",
            "Epoch 287/500\n",
            "2/2 [==============================] - 0s 9ms/step - loss: 29.5482 - mae: 29.5482\n",
            "Epoch 288/500\n",
            "2/2 [==============================] - 0s 8ms/step - loss: 37.1749 - mae: 37.1749\n",
            "Epoch 289/500\n",
            "2/2 [==============================] - 0s 9ms/step - loss: 44.2281 - mae: 44.2281\n",
            "Epoch 290/500\n",
            "2/2 [==============================] - 0s 9ms/step - loss: 56.9203 - mae: 56.9203\n",
            "Epoch 291/500\n",
            "2/2 [==============================] - 0s 9ms/step - loss: 66.1259 - mae: 66.1259\n",
            "Epoch 292/500\n",
            "2/2 [==============================] - 0s 8ms/step - loss: 66.1710 - mae: 66.1710\n",
            "Epoch 293/500\n",
            "2/2 [==============================] - 0s 10ms/step - loss: 31.1804 - mae: 31.1804\n",
            "Epoch 294/500\n",
            "2/2 [==============================] - 0s 9ms/step - loss: 28.0400 - mae: 28.0400\n",
            "Epoch 295/500\n",
            "2/2 [==============================] - 0s 8ms/step - loss: 38.5786 - mae: 38.5786\n",
            "Epoch 296/500\n",
            "2/2 [==============================] - 0s 9ms/step - loss: 44.8265 - mae: 44.8265\n",
            "Epoch 297/500\n",
            "2/2 [==============================] - 0s 8ms/step - loss: 70.9660 - mae: 70.9660\n",
            "Epoch 298/500\n",
            "2/2 [==============================] - 0s 12ms/step - loss: 48.6052 - mae: 48.6052\n",
            "Epoch 299/500\n",
            "2/2 [==============================] - 0s 47ms/step - loss: 25.3155 - mae: 25.3155\n",
            "Epoch 300/500\n",
            "2/2 [==============================] - 0s 37ms/step - loss: 29.6381 - mae: 29.6381\n",
            "Epoch 301/500\n",
            "2/2 [==============================] - 0s 30ms/step - loss: 26.2660 - mae: 26.2660\n",
            "Epoch 302/500\n",
            "2/2 [==============================] - 0s 50ms/step - loss: 46.4266 - mae: 46.4266\n",
            "Epoch 303/500\n",
            "2/2 [==============================] - 0s 21ms/step - loss: 50.6576 - mae: 50.6576\n",
            "Epoch 304/500\n",
            "2/2 [==============================] - 0s 46ms/step - loss: 69.2773 - mae: 69.2773\n",
            "Epoch 305/500\n",
            "2/2 [==============================] - 0s 34ms/step - loss: 92.6093 - mae: 92.6093\n",
            "Epoch 306/500\n",
            "2/2 [==============================] - 0s 33ms/step - loss: 61.5544 - mae: 61.5544\n",
            "Epoch 307/500\n",
            "2/2 [==============================] - 0s 29ms/step - loss: 55.0937 - mae: 55.0937\n",
            "Epoch 308/500\n",
            "2/2 [==============================] - 0s 29ms/step - loss: 53.2116 - mae: 53.2116\n",
            "Epoch 309/500\n",
            "2/2 [==============================] - 0s 51ms/step - loss: 45.5083 - mae: 45.5083\n",
            "Epoch 310/500\n",
            "2/2 [==============================] - 0s 39ms/step - loss: 29.4635 - mae: 29.4635\n",
            "Epoch 311/500\n",
            "2/2 [==============================] - 0s 36ms/step - loss: 21.2722 - mae: 21.2722\n",
            "Epoch 312/500\n",
            "2/2 [==============================] - 0s 34ms/step - loss: 38.0379 - mae: 38.0379\n",
            "Epoch 313/500\n",
            "2/2 [==============================] - 0s 33ms/step - loss: 35.4983 - mae: 35.4983\n",
            "Epoch 314/500\n",
            "2/2 [==============================] - 0s 28ms/step - loss: 74.2385 - mae: 74.2385\n",
            "Epoch 315/500\n",
            "2/2 [==============================] - 0s 54ms/step - loss: 41.8730 - mae: 41.8730\n",
            "Epoch 316/500\n",
            "2/2 [==============================] - 0s 26ms/step - loss: 31.3105 - mae: 31.3105\n",
            "Epoch 317/500\n",
            "2/2 [==============================] - 0s 34ms/step - loss: 30.8975 - mae: 30.8975\n",
            "Epoch 318/500\n",
            "2/2 [==============================] - 0s 32ms/step - loss: 41.0097 - mae: 41.0097\n",
            "Epoch 319/500\n",
            "2/2 [==============================] - 0s 23ms/step - loss: 45.9299 - mae: 45.9299\n",
            "Epoch 320/500\n",
            "2/2 [==============================] - 0s 24ms/step - loss: 58.5164 - mae: 58.5164\n",
            "Epoch 321/500\n",
            "2/2 [==============================] - 0s 11ms/step - loss: 62.8585 - mae: 62.8585\n",
            "Epoch 322/500\n",
            "2/2 [==============================] - 0s 8ms/step - loss: 78.7505 - mae: 78.7505\n",
            "Epoch 323/500\n",
            "2/2 [==============================] - 0s 9ms/step - loss: 63.5117 - mae: 63.5117\n",
            "Epoch 324/500\n",
            "2/2 [==============================] - 0s 12ms/step - loss: 48.0667 - mae: 48.0667\n",
            "Epoch 325/500\n",
            "2/2 [==============================] - 0s 11ms/step - loss: 26.0031 - mae: 26.0031\n",
            "Epoch 326/500\n",
            "2/2 [==============================] - 0s 8ms/step - loss: 19.9313 - mae: 19.9313\n",
            "Epoch 327/500\n",
            "2/2 [==============================] - 0s 9ms/step - loss: 27.3174 - mae: 27.3174\n",
            "Epoch 328/500\n",
            "2/2 [==============================] - 0s 8ms/step - loss: 43.6337 - mae: 43.6337\n",
            "Epoch 329/500\n",
            "2/2 [==============================] - 0s 12ms/step - loss: 62.7437 - mae: 62.7437\n",
            "Epoch 330/500\n",
            "2/2 [==============================] - 0s 12ms/step - loss: 71.4887 - mae: 71.4887\n",
            "Epoch 331/500\n",
            "2/2 [==============================] - 0s 60ms/step - loss: 41.2321 - mae: 41.2321\n",
            "Epoch 332/500\n",
            "2/2 [==============================] - 0s 29ms/step - loss: 18.7634 - mae: 18.7634\n",
            "Epoch 333/500\n",
            "2/2 [==============================] - 0s 32ms/step - loss: 31.7011 - mae: 31.7011\n",
            "Epoch 334/500\n",
            "2/2 [==============================] - 0s 41ms/step - loss: 42.4338 - mae: 42.4338\n",
            "Epoch 335/500\n",
            "2/2 [==============================] - 0s 32ms/step - loss: 71.7693 - mae: 71.7693\n",
            "Epoch 336/500\n",
            "2/2 [==============================] - 0s 36ms/step - loss: 34.0675 - mae: 34.0675\n",
            "Epoch 337/500\n",
            "2/2 [==============================] - 0s 32ms/step - loss: 19.3451 - mae: 19.3451\n",
            "Epoch 338/500\n",
            "2/2 [==============================] - 0s 50ms/step - loss: 25.3167 - mae: 25.3167\n",
            "Epoch 339/500\n",
            "2/2 [==============================] - 0s 48ms/step - loss: 24.5070 - mae: 24.5070\n",
            "Epoch 340/500\n",
            "2/2 [==============================] - 0s 26ms/step - loss: 23.4674 - mae: 23.4674\n",
            "Epoch 341/500\n",
            "2/2 [==============================] - 0s 26ms/step - loss: 21.4834 - mae: 21.4834\n",
            "Epoch 342/500\n",
            "2/2 [==============================] - 0s 40ms/step - loss: 34.7118 - mae: 34.7118\n",
            "Epoch 343/500\n",
            "2/2 [==============================] - 0s 12ms/step - loss: 67.0178 - mae: 67.0178\n",
            "Epoch 344/500\n",
            "2/2 [==============================] - 0s 18ms/step - loss: 73.6534 - mae: 73.6534\n",
            "Epoch 345/500\n",
            "2/2 [==============================] - 0s 43ms/step - loss: 15.1482 - mae: 15.1482\n",
            "Epoch 346/500\n",
            "2/2 [==============================] - 0s 8ms/step - loss: 38.5054 - mae: 38.5054\n",
            "Epoch 347/500\n",
            "2/2 [==============================] - 0s 34ms/step - loss: 40.1337 - mae: 40.1337\n",
            "Epoch 348/500\n",
            "2/2 [==============================] - 0s 21ms/step - loss: 45.5053 - mae: 45.5053\n",
            "Epoch 349/500\n",
            "2/2 [==============================] - 0s 15ms/step - loss: 63.1166 - mae: 63.1166\n",
            "Epoch 350/500\n",
            "2/2 [==============================] - 0s 21ms/step - loss: 63.3493 - mae: 63.3493\n",
            "Epoch 351/500\n",
            "2/2 [==============================] - 0s 27ms/step - loss: 20.9315 - mae: 20.9315\n",
            "Epoch 352/500\n",
            "2/2 [==============================] - 0s 22ms/step - loss: 25.3018 - mae: 25.3018\n",
            "Epoch 353/500\n",
            "2/2 [==============================] - 0s 14ms/step - loss: 32.4177 - mae: 32.4177\n",
            "Epoch 354/500\n",
            "2/2 [==============================] - 0s 11ms/step - loss: 44.4786 - mae: 44.4786\n",
            "Epoch 355/500\n",
            "2/2 [==============================] - 0s 10ms/step - loss: 59.0946 - mae: 59.0946\n",
            "Epoch 356/500\n",
            "2/2 [==============================] - 0s 7ms/step - loss: 77.0593 - mae: 77.0593\n",
            "Epoch 357/500\n",
            "2/2 [==============================] - 0s 11ms/step - loss: 39.1690 - mae: 39.1690\n",
            "Epoch 358/500\n",
            "2/2 [==============================] - 0s 8ms/step - loss: 24.7349 - mae: 24.7349\n",
            "Epoch 359/500\n",
            "2/2 [==============================] - 0s 8ms/step - loss: 31.6884 - mae: 31.6884\n",
            "Epoch 360/500\n",
            "2/2 [==============================] - 0s 8ms/step - loss: 24.1875 - mae: 24.1875\n",
            "Epoch 361/500\n",
            "2/2 [==============================] - 0s 7ms/step - loss: 39.6416 - mae: 39.6416\n",
            "Epoch 362/500\n",
            "2/2 [==============================] - 0s 8ms/step - loss: 39.9380 - mae: 39.9380\n",
            "Epoch 363/500\n",
            "2/2 [==============================] - 0s 7ms/step - loss: 35.1545 - mae: 35.1545\n",
            "Epoch 364/500\n",
            "2/2 [==============================] - 0s 7ms/step - loss: 26.3050 - mae: 26.3050\n",
            "Epoch 365/500\n",
            "2/2 [==============================] - 0s 7ms/step - loss: 36.1109 - mae: 36.1109\n",
            "Epoch 366/500\n",
            "2/2 [==============================] - 0s 7ms/step - loss: 69.3823 - mae: 69.3823\n",
            "Epoch 367/500\n",
            "2/2 [==============================] - 0s 8ms/step - loss: 39.7718 - mae: 39.7718\n",
            "Epoch 368/500\n",
            "2/2 [==============================] - 0s 7ms/step - loss: 19.9727 - mae: 19.9727\n",
            "Epoch 369/500\n",
            "2/2 [==============================] - 0s 7ms/step - loss: 16.6608 - mae: 16.6608\n",
            "Epoch 370/500\n",
            "2/2 [==============================] - 0s 8ms/step - loss: 24.7981 - mae: 24.7981\n",
            "Epoch 371/500\n",
            "2/2 [==============================] - 0s 8ms/step - loss: 32.6801 - mae: 32.6801\n",
            "Epoch 372/500\n",
            "2/2 [==============================] - 0s 7ms/step - loss: 51.9178 - mae: 51.9178\n",
            "Epoch 373/500\n",
            "2/2 [==============================] - 0s 25ms/step - loss: 46.1640 - mae: 46.1640\n",
            "Epoch 374/500\n",
            "2/2 [==============================] - 0s 14ms/step - loss: 54.0149 - mae: 54.0149\n",
            "Epoch 375/500\n",
            "2/2 [==============================] - 0s 34ms/step - loss: 77.4138 - mae: 77.4138\n",
            "Epoch 376/500\n",
            "2/2 [==============================] - 0s 44ms/step - loss: 71.6235 - mae: 71.6235\n",
            "Epoch 377/500\n",
            "2/2 [==============================] - 0s 49ms/step - loss: 92.3778 - mae: 92.3778\n",
            "Epoch 378/500\n",
            "2/2 [==============================] - 0s 41ms/step - loss: 50.4981 - mae: 50.4981\n",
            "Epoch 379/500\n",
            "2/2 [==============================] - 0s 31ms/step - loss: 19.6614 - mae: 19.6614\n",
            "Epoch 380/500\n",
            "2/2 [==============================] - 0s 27ms/step - loss: 32.7782 - mae: 32.7782\n",
            "Epoch 381/500\n",
            "2/2 [==============================] - 0s 20ms/step - loss: 41.3570 - mae: 41.3570\n",
            "Epoch 382/500\n",
            "2/2 [==============================] - 0s 46ms/step - loss: 59.7572 - mae: 59.7572\n",
            "Epoch 383/500\n",
            "2/2 [==============================] - 0s 30ms/step - loss: 59.4305 - mae: 59.4305\n",
            "Epoch 384/500\n",
            "2/2 [==============================] - 0s 16ms/step - loss: 62.1680 - mae: 62.1680\n",
            "Epoch 385/500\n",
            "2/2 [==============================] - 0s 32ms/step - loss: 80.7077 - mae: 80.7077\n",
            "Epoch 386/500\n",
            "2/2 [==============================] - 0s 32ms/step - loss: 63.9582 - mae: 63.9582\n",
            "Epoch 387/500\n",
            "2/2 [==============================] - 0s 40ms/step - loss: 53.7109 - mae: 53.7109\n",
            "Epoch 388/500\n",
            "2/2 [==============================] - 0s 23ms/step - loss: 32.4650 - mae: 32.4650\n",
            "Epoch 389/500\n",
            "2/2 [==============================] - 0s 9ms/step - loss: 20.8617 - mae: 20.8617\n",
            "Epoch 390/500\n",
            "2/2 [==============================] - 0s 14ms/step - loss: 33.2659 - mae: 33.2659\n",
            "Epoch 391/500\n",
            "2/2 [==============================] - 0s 19ms/step - loss: 42.9913 - mae: 42.9913\n",
            "Epoch 392/500\n",
            "2/2 [==============================] - 0s 23ms/step - loss: 42.2626 - mae: 42.2626\n",
            "Epoch 393/500\n",
            "2/2 [==============================] - 0s 18ms/step - loss: 64.8665 - mae: 64.8665\n",
            "Epoch 394/500\n",
            "2/2 [==============================] - 0s 23ms/step - loss: 60.7905 - mae: 60.7905\n",
            "Epoch 395/500\n",
            "2/2 [==============================] - 0s 10ms/step - loss: 32.1496 - mae: 32.1496\n",
            "Epoch 396/500\n",
            "2/2 [==============================] - 0s 32ms/step - loss: 20.2278 - mae: 20.2278\n",
            "Epoch 397/500\n",
            "2/2 [==============================] - 0s 18ms/step - loss: 17.6078 - mae: 17.6078\n",
            "Epoch 398/500\n",
            "2/2 [==============================] - 0s 18ms/step - loss: 31.0429 - mae: 31.0429\n",
            "Epoch 399/500\n",
            "2/2 [==============================] - 0s 9ms/step - loss: 41.1220 - mae: 41.1220\n",
            "Epoch 400/500\n",
            "2/2 [==============================] - 0s 10ms/step - loss: 38.5452 - mae: 38.5452\n",
            "Epoch 401/500\n",
            "2/2 [==============================] - 0s 10ms/step - loss: 52.8021 - mae: 52.8021\n",
            "Epoch 402/500\n",
            "2/2 [==============================] - 0s 7ms/step - loss: 37.7735 - mae: 37.7735\n",
            "Epoch 403/500\n",
            "2/2 [==============================] - 0s 7ms/step - loss: 63.8312 - mae: 63.8312\n",
            "Epoch 404/500\n",
            "2/2 [==============================] - 0s 8ms/step - loss: 49.6829 - mae: 49.6829\n",
            "Epoch 405/500\n",
            "2/2 [==============================] - 0s 7ms/step - loss: 29.0128 - mae: 29.0128\n",
            "Epoch 406/500\n",
            "2/2 [==============================] - 0s 13ms/step - loss: 24.5426 - mae: 24.5426\n",
            "Epoch 407/500\n",
            "2/2 [==============================] - 0s 8ms/step - loss: 36.6508 - mae: 36.6508\n",
            "Epoch 408/500\n",
            "2/2 [==============================] - 0s 7ms/step - loss: 42.6696 - mae: 42.6696\n",
            "Epoch 409/500\n",
            "2/2 [==============================] - 0s 8ms/step - loss: 30.8346 - mae: 30.8346\n",
            "Epoch 410/500\n",
            "2/2 [==============================] - 0s 8ms/step - loss: 34.6146 - mae: 34.6146\n",
            "Epoch 411/500\n",
            "2/2 [==============================] - 0s 9ms/step - loss: 35.9594 - mae: 35.9594\n",
            "Epoch 412/500\n",
            "2/2 [==============================] - 0s 8ms/step - loss: 37.0313 - mae: 37.0313\n",
            "Epoch 413/500\n",
            "2/2 [==============================] - 0s 8ms/step - loss: 42.0057 - mae: 42.0057\n",
            "Epoch 414/500\n",
            "2/2 [==============================] - 0s 9ms/step - loss: 47.3114 - mae: 47.3114\n",
            "Epoch 415/500\n",
            "2/2 [==============================] - 0s 9ms/step - loss: 61.8244 - mae: 61.8244\n",
            "Epoch 416/500\n",
            "2/2 [==============================] - 0s 9ms/step - loss: 63.9970 - mae: 63.9970\n",
            "Epoch 417/500\n",
            "2/2 [==============================] - 0s 10ms/step - loss: 45.5255 - mae: 45.5255\n",
            "Epoch 418/500\n",
            "2/2 [==============================] - 0s 9ms/step - loss: 26.1749 - mae: 26.1749\n",
            "Epoch 419/500\n",
            "2/2 [==============================] - 0s 9ms/step - loss: 13.8139 - mae: 13.8139\n",
            "Epoch 420/500\n",
            "2/2 [==============================] - 0s 9ms/step - loss: 37.1926 - mae: 37.1926\n",
            "Epoch 421/500\n",
            "2/2 [==============================] - 0s 9ms/step - loss: 45.2648 - mae: 45.2648\n",
            "Epoch 422/500\n",
            "2/2 [==============================] - 0s 7ms/step - loss: 73.0929 - mae: 73.0929\n",
            "Epoch 423/500\n",
            "2/2 [==============================] - 0s 9ms/step - loss: 40.3902 - mae: 40.3902\n",
            "Epoch 424/500\n",
            "2/2 [==============================] - 0s 8ms/step - loss: 21.1824 - mae: 21.1824\n",
            "Epoch 425/500\n",
            "2/2 [==============================] - 0s 8ms/step - loss: 31.4478 - mae: 31.4478\n",
            "Epoch 426/500\n",
            "2/2 [==============================] - 0s 9ms/step - loss: 37.1562 - mae: 37.1562\n",
            "Epoch 427/500\n",
            "2/2 [==============================] - 0s 9ms/step - loss: 60.7615 - mae: 60.7615\n",
            "Epoch 428/500\n",
            "2/2 [==============================] - 0s 11ms/step - loss: 70.0910 - mae: 70.0910\n",
            "Epoch 429/500\n",
            "2/2 [==============================] - 0s 9ms/step - loss: 33.9105 - mae: 33.9105\n",
            "Epoch 430/500\n",
            "2/2 [==============================] - 0s 8ms/step - loss: 25.1544 - mae: 25.1544\n",
            "Epoch 431/500\n",
            "2/2 [==============================] - 0s 8ms/step - loss: 18.6229 - mae: 18.6229\n",
            "Epoch 432/500\n",
            "2/2 [==============================] - 0s 10ms/step - loss: 16.3330 - mae: 16.3330\n",
            "Epoch 433/500\n",
            "2/2 [==============================] - 0s 8ms/step - loss: 21.0719 - mae: 21.0719\n",
            "Epoch 434/500\n",
            "2/2 [==============================] - 0s 9ms/step - loss: 23.1117 - mae: 23.1117\n",
            "Epoch 435/500\n",
            "2/2 [==============================] - 0s 8ms/step - loss: 13.2058 - mae: 13.2058\n",
            "Epoch 436/500\n",
            "2/2 [==============================] - 0s 9ms/step - loss: 34.1765 - mae: 34.1765\n",
            "Epoch 437/500\n",
            "2/2 [==============================] - 0s 9ms/step - loss: 24.6899 - mae: 24.6899\n",
            "Epoch 438/500\n",
            "2/2 [==============================] - 0s 13ms/step - loss: 11.4290 - mae: 11.4290\n",
            "Epoch 439/500\n",
            "2/2 [==============================] - 0s 8ms/step - loss: 34.8976 - mae: 34.8976\n",
            "Epoch 440/500\n",
            "2/2 [==============================] - 0s 9ms/step - loss: 23.3202 - mae: 23.3202\n",
            "Epoch 441/500\n",
            "2/2 [==============================] - 0s 7ms/step - loss: 22.4881 - mae: 22.4881\n",
            "Epoch 442/500\n",
            "2/2 [==============================] - 0s 8ms/step - loss: 21.4744 - mae: 21.4744\n",
            "Epoch 443/500\n",
            "2/2 [==============================] - 0s 8ms/step - loss: 34.9229 - mae: 34.9229\n",
            "Epoch 444/500\n",
            "2/2 [==============================] - 0s 8ms/step - loss: 37.4630 - mae: 37.4630\n",
            "Epoch 445/500\n",
            "2/2 [==============================] - 0s 10ms/step - loss: 63.1156 - mae: 63.1156\n",
            "Epoch 446/500\n",
            "2/2 [==============================] - 0s 6ms/step - loss: 56.4017 - mae: 56.4017\n",
            "Epoch 447/500\n",
            "2/2 [==============================] - 0s 8ms/step - loss: 62.5842 - mae: 62.5842\n",
            "Epoch 448/500\n",
            "2/2 [==============================] - 0s 8ms/step - loss: 72.0909 - mae: 72.0909\n",
            "Epoch 449/500\n",
            "2/2 [==============================] - 0s 7ms/step - loss: 59.9508 - mae: 59.9508\n",
            "Epoch 450/500\n",
            "2/2 [==============================] - 0s 8ms/step - loss: 37.5029 - mae: 37.5029\n",
            "Epoch 451/500\n",
            "2/2 [==============================] - 0s 9ms/step - loss: 15.5237 - mae: 15.5237\n",
            "Epoch 452/500\n",
            "2/2 [==============================] - 0s 8ms/step - loss: 43.0304 - mae: 43.0304\n",
            "Epoch 453/500\n",
            "2/2 [==============================] - 0s 9ms/step - loss: 43.4514 - mae: 43.4514\n",
            "Epoch 454/500\n",
            "2/2 [==============================] - 0s 8ms/step - loss: 42.4573 - mae: 42.4573\n",
            "Epoch 455/500\n",
            "2/2 [==============================] - 0s 11ms/step - loss: 42.6143 - mae: 42.6143\n",
            "Epoch 456/500\n",
            "2/2 [==============================] - 0s 9ms/step - loss: 53.3002 - mae: 53.3002\n",
            "Epoch 457/500\n",
            "2/2 [==============================] - 0s 10ms/step - loss: 51.9827 - mae: 51.9827\n",
            "Epoch 458/500\n",
            "2/2 [==============================] - 0s 7ms/step - loss: 80.7225 - mae: 80.7225\n",
            "Epoch 459/500\n",
            "2/2 [==============================] - 0s 8ms/step - loss: 34.6623 - mae: 34.6623\n",
            "Epoch 460/500\n",
            "2/2 [==============================] - 0s 8ms/step - loss: 28.7803 - mae: 28.7803\n",
            "Epoch 461/500\n",
            "2/2 [==============================] - 0s 7ms/step - loss: 16.9211 - mae: 16.9211\n",
            "Epoch 462/500\n",
            "2/2 [==============================] - 0s 10ms/step - loss: 28.3269 - mae: 28.3269\n",
            "Epoch 463/500\n",
            "2/2 [==============================] - 0s 8ms/step - loss: 31.6711 - mae: 31.6711\n",
            "Epoch 464/500\n",
            "2/2 [==============================] - 0s 8ms/step - loss: 40.9863 - mae: 40.9863\n",
            "Epoch 465/500\n",
            "2/2 [==============================] - 0s 8ms/step - loss: 61.9732 - mae: 61.9732\n",
            "Epoch 466/500\n",
            "2/2 [==============================] - 0s 7ms/step - loss: 71.8419 - mae: 71.8419\n",
            "Epoch 467/500\n",
            "2/2 [==============================] - 0s 8ms/step - loss: 46.3219 - mae: 46.3219\n",
            "Epoch 468/500\n",
            "2/2 [==============================] - 0s 7ms/step - loss: 34.7681 - mae: 34.7681\n",
            "Epoch 469/500\n",
            "2/2 [==============================] - 0s 7ms/step - loss: 21.1246 - mae: 21.1246\n",
            "Epoch 470/500\n",
            "2/2 [==============================] - 0s 8ms/step - loss: 26.7548 - mae: 26.7548\n",
            "Epoch 471/500\n",
            "2/2 [==============================] - 0s 8ms/step - loss: 33.1801 - mae: 33.1801\n",
            "Epoch 472/500\n",
            "2/2 [==============================] - 0s 7ms/step - loss: 39.9929 - mae: 39.9929\n",
            "Epoch 473/500\n",
            "2/2 [==============================] - 0s 9ms/step - loss: 52.8600 - mae: 52.8600\n",
            "Epoch 474/500\n",
            "2/2 [==============================] - 0s 8ms/step - loss: 52.8240 - mae: 52.8240\n",
            "Epoch 475/500\n",
            "2/2 [==============================] - 0s 7ms/step - loss: 47.8651 - mae: 47.8651\n",
            "Epoch 476/500\n",
            "2/2 [==============================] - 0s 7ms/step - loss: 96.1288 - mae: 96.1288\n",
            "Epoch 477/500\n",
            "2/2 [==============================] - 0s 9ms/step - loss: 59.8558 - mae: 59.8558\n",
            "Epoch 478/500\n",
            "2/2 [==============================] - 0s 8ms/step - loss: 35.1941 - mae: 35.1941\n",
            "Epoch 479/500\n",
            "2/2 [==============================] - 0s 8ms/step - loss: 40.5482 - mae: 40.5482\n",
            "Epoch 480/500\n",
            "2/2 [==============================] - 0s 8ms/step - loss: 19.2016 - mae: 19.2016\n",
            "Epoch 481/500\n",
            "2/2 [==============================] - 0s 8ms/step - loss: 26.5382 - mae: 26.5382\n",
            "Epoch 482/500\n",
            "2/2 [==============================] - 0s 7ms/step - loss: 31.1819 - mae: 31.1819\n",
            "Epoch 483/500\n",
            "2/2 [==============================] - 0s 8ms/step - loss: 49.4811 - mae: 49.4811\n",
            "Epoch 484/500\n",
            "2/2 [==============================] - 0s 8ms/step - loss: 37.6188 - mae: 37.6188\n",
            "Epoch 485/500\n",
            "2/2 [==============================] - 0s 9ms/step - loss: 75.3530 - mae: 75.3530\n",
            "Epoch 486/500\n",
            "2/2 [==============================] - 0s 7ms/step - loss: 39.6589 - mae: 39.6589\n",
            "Epoch 487/500\n",
            "2/2 [==============================] - 0s 9ms/step - loss: 52.2736 - mae: 52.2736\n",
            "Epoch 488/500\n",
            "2/2 [==============================] - 0s 7ms/step - loss: 25.9143 - mae: 25.9143\n",
            "Epoch 489/500\n",
            "2/2 [==============================] - 0s 9ms/step - loss: 35.0067 - mae: 35.0067\n",
            "Epoch 490/500\n",
            "2/2 [==============================] - 0s 10ms/step - loss: 34.4809 - mae: 34.4809\n",
            "Epoch 491/500\n",
            "2/2 [==============================] - 0s 8ms/step - loss: 19.4395 - mae: 19.4395\n",
            "Epoch 492/500\n",
            "2/2 [==============================] - 0s 8ms/step - loss: 24.7646 - mae: 24.7646\n",
            "Epoch 493/500\n",
            "2/2 [==============================] - 0s 9ms/step - loss: 35.4661 - mae: 35.4661\n",
            "Epoch 494/500\n",
            "2/2 [==============================] - 0s 9ms/step - loss: 34.7225 - mae: 34.7225\n",
            "Epoch 495/500\n",
            "2/2 [==============================] - 0s 8ms/step - loss: 58.9979 - mae: 58.9979\n",
            "Epoch 496/500\n",
            "2/2 [==============================] - 0s 8ms/step - loss: 72.1929 - mae: 72.1929\n",
            "Epoch 497/500\n",
            "2/2 [==============================] - 0s 7ms/step - loss: 68.6868 - mae: 68.6868\n",
            "Epoch 498/500\n",
            "2/2 [==============================] - 0s 8ms/step - loss: 30.3732 - mae: 30.3732\n",
            "Epoch 499/500\n",
            "2/2 [==============================] - 0s 10ms/step - loss: 20.7041 - mae: 20.7041\n",
            "Epoch 500/500\n",
            "2/2 [==============================] - 0s 7ms/step - loss: 18.7933 - mae: 18.7933\n"
          ]
        },
        {
          "output_type": "execute_result",
          "data": {
            "text/plain": [
              "<keras.callbacks.History at 0x7fe0a6583970>"
            ]
          },
          "metadata": {},
          "execution_count": 56
        }
      ]
    },
    {
      "cell_type": "code",
      "source": [
        "y_preds_3 = model_3.predict(X_test_scaled)"
      ],
      "metadata": {
        "colab": {
          "base_uri": "https://localhost:8080/"
        },
        "id": "YnMHgVf0O1D7",
        "outputId": "ddbb4311-c1b2-499a-af9c-284504b826da"
      },
      "execution_count": 57,
      "outputs": [
        {
          "output_type": "stream",
          "name": "stderr",
          "text": [
            "WARNING:tensorflow:6 out of the last 6 calls to <function Model.make_predict_function.<locals>.predict_function at 0x7fe0960fd480> triggered tf.function retracing. Tracing is expensive and the excessive number of tracings could be due to (1) creating @tf.function repeatedly in a loop, (2) passing tensors with different shapes, (3) passing Python objects instead of tensors. For (1), please define your @tf.function outside of the loop. For (2), @tf.function has reduce_retracing=True option that can avoid unnecessary retracing. For (3), please refer to https://www.tensorflow.org/guide/function#controlling_retracing and https://www.tensorflow.org/api_docs/python/tf/function for  more details.\n"
          ]
        },
        {
          "output_type": "stream",
          "name": "stdout",
          "text": [
            "1/1 [==============================] - 0s 59ms/step\n"
          ]
        }
      ]
    },
    {
      "cell_type": "code",
      "source": [
        "plt.figure(figsize=(10,7))\n",
        "plt.scatter(X_train_scaled, y_train, c='g', label='Training Data')\n",
        "plt.scatter(X_test_scaled, y_test, c='b', label='Testing Data')\n",
        "plt.scatter(X_test_scaled, y_preds_3, c='r', label='Predictions')\n",
        "plt.legend()"
      ],
      "metadata": {
        "colab": {
          "base_uri": "https://localhost:8080/",
          "height": 616
        },
        "id": "FJlXL0yoPFrg",
        "outputId": "8e967503-191f-4172-bf39-129d915ef893"
      },
      "execution_count": 58,
      "outputs": [
        {
          "output_type": "execute_result",
          "data": {
            "text/plain": [
              "<matplotlib.legend.Legend at 0x7fe0a6515090>"
            ]
          },
          "metadata": {},
          "execution_count": 58
        },
        {
          "output_type": "display_data",
          "data": {
            "text/plain": [
              "<Figure size 1000x700 with 1 Axes>"
            ],
            "image/png": "[encoded data removed]"
          },
          "metadata": {}
        }
      ]
    },
    {
      "cell_type": "code",
      "source": [
        "mae_3 = tf.metrics.mean_absolute_error(y_test, tf.squeeze(y_preds_3)).numpy()\n",
        "mse_3 = tf.metrics.mean_squared_error(y_test, tf.squeeze(y_preds_3)).numpy()\n",
        "\n",
        "mae_3, mse_3"
      ],
      "metadata": {
        "colab": {
          "base_uri": "https://localhost:8080/"
        },
        "id": "adNG7Q5kPeq3",
        "outputId": "4c69c6c5-5b7f-4e5d-9186-5403f7567ed8"
      },
      "execution_count": 59,
      "outputs": [
        {
          "output_type": "execute_result",
          "data": {
            "text/plain": [
              "(58.98037, 3492.0735)"
            ]
          },
          "metadata": {},
          "execution_count": 59
        }
      ]
    },
    {
      "cell_type": "code",
      "source": [
        "mae_2 = tf.metrics.mean_absolute_error(y_test, tf.squeeze(y_preds_2)).numpy()\n",
        "mse_2 = tf.metrics.mean_squared_error(y_test, tf.squeeze(y_preds_2)).numpy()\n",
        "mae_2, mse_2"
      ],
      "metadata": {
        "colab": {
          "base_uri": "https://localhost:8080/"
        },
        "id": "lRDZG-NnP-nm",
        "outputId": "5a609648-dcb0-40af-b61f-0bcf06e0f8f0"
      },
      "execution_count": 60,
      "outputs": [
        {
          "output_type": "execute_result",
          "data": {
            "text/plain": [
              "(108.39575, 11796.817)"
            ]
          },
          "metadata": {},
          "execution_count": 60
        }
      ]
    },
    {
      "cell_type": "code",
      "source": [
        "model_results = [[\"Model 1\", mae_1, mse_1],\n",
        "                 [\"Model 2\", mae_2, mse_2],\n",
        "                 [\"Model 3\", mae_3, mse_3]]"
      ],
      "metadata": {
        "id": "KpJIApTWQh4h"
      },
      "execution_count": 61,
      "outputs": []
    },
    {
      "cell_type": "code",
      "source": [
        "import pandas as pd"
      ],
      "metadata": {
        "id": "KyDZMlSfQ08l"
      },
      "execution_count": 62,
      "outputs": []
    },
    {
      "cell_type": "code",
      "source": [
        "all_results = pd.DataFrame(model_results, columns=['Model','Mae','Mse'])\n",
        "all_results"
      ],
      "metadata": {
        "colab": {
          "base_uri": "https://localhost:8080/",
          "height": 143
        },
        "id": "4xH3m3noQ2x3",
        "outputId": "0a6ba846-c664-4719-92b4-ffb80f68653d"
      },
      "execution_count": 63,
      "outputs": [
        {
          "output_type": "execute_result",
          "data": {
            "text/plain": [
              "     Model         Mae           Mse\n",
              "0  Model 1    3.116608      9.745578\n",
              "1  Model 2  108.395752  11796.817383\n",
              "2  Model 3   58.980370   3492.073486"
            ],
            "text/html": [
              "\n",
              "  <div id=\"df-d16ad0a5-b32f-4c7a-8ef3-2f73bff52c8b\">\n",
              "    <div class=\"colab-df-container\">\n",
              "      <div>\n",
              "<style scoped>\n",
              "    .dataframe tbody tr th:only-of-type {\n",
              "        vertical-align: middle;\n",
              "    }\n",
              "\n",
              "    .dataframe tbody tr th {\n",
              "        vertical-align: top;\n",
              "    }\n",
              "\n",
              "    .dataframe thead th {\n",
              "        text-align: right;\n",
              "    }\n",
              "</style>\n",
              "<table border=\"1\" class=\"dataframe\">\n",
              "  <thead>\n",
              "    <tr style=\"text-align: right;\">\n",
              "      <th></th>\n",
              "      <th>Model</th>\n",
              "      <th>Mae</th>\n",
              "      <th>Mse</th>\n",
              "    </tr>\n",
              "  </thead>\n",
              "  <tbody>\n",
              "    <tr>\n",
              "      <th>0</th>\n",
              "      <td>Model 1</td>\n",
              "      <td>3.116608</td>\n",
              "      <td>9.745578</td>\n",
              "    </tr>\n",
              "    <tr>\n",
              "      <th>1</th>\n",
              "      <td>Model 2</td>\n",
              "      <td>108.395752</td>\n",
              "      <td>11796.817383</td>\n",
              "    </tr>\n",
              "    <tr>\n",
              "      <th>2</th>\n",
              "      <td>Model 3</td>\n",
              "      <td>58.980370</td>\n",
              "      <td>3492.073486</td>\n",
              "    </tr>\n",
              "  </tbody>\n",
              "</table>\n",
              "</div>\n",
              "      <button class=\"colab-df-convert\" onclick=\"convertToInteractive('df-d16ad0a5-b32f-4c7a-8ef3-2f73bff52c8b')\"\n",
              "              title=\"Convert this dataframe to an interactive table.\"\n",
              "              style=\"display:none;\">\n",
              "        \n",
              "  <svg xmlns=\"http://www.w3.org/2000/svg\" height=\"24px\"viewBox=\"0 0 24 24\"\n",
              "       width=\"24px\">\n",
              "    <path d=\"M0 0h24v24H0V0z\" fill=\"none\"/>\n",
              "    <path d=\"M18.56 5.44l.94 2.06.94-2.06 2.06-.94-2.06-.94-.94-2.06-.94 2.06-2.06.94zm-11 1L8.5 8.5l.94-2.06 2.06-.94-2.06-.94L8.5 2.5l-.94 2.06-2.06.94zm10 10l.94 2.06.94-2.06 2.06-.94-2.06-.94-.94-2.06-.94 2.06-2.06.94z\"/><path d=\"M17.41 7.96l-1.37-1.37c-.4-.4-.92-.59-1.43-.59-.52 0-1.04.2-1.43.59L10.3 9.45l-7.72 7.72c-.78.78-.78 2.05 0 2.83L4 21.41c.39.39.9.59 1.41.59.51 0 1.02-.2 1.41-.59l7.78-7.78 2.81-2.81c.8-.78.8-2.07 0-2.86zM5.41 20L4 18.59l7.72-7.72 1.47 1.35L5.41 20z\"/>\n",
              "  </svg>\n",
              "      </button>\n",
              "      \n",
              "  <style>\n",
              "    .colab-df-container {\n",
              "      display:flex;\n",
              "      flex-wrap:wrap;\n",
              "      gap: 12px;\n",
              "    }\n",
              "\n",
              "    .colab-df-convert {\n",
              "      background-color: #E8F0FE;\n",
              "      border: none;\n",
              "      border-radius: 50%;\n",
              "      cursor: pointer;\n",
              "      display: none;\n",
              "      fill: #1967D2;\n",
              "      height: 32px;\n",
              "      padding: 0 0 0 0;\n",
              "      width: 32px;\n",
              "    }\n",
              "\n",
              "    .colab-df-convert:hover {\n",
              "      background-color: #E2EBFA;\n",
              "      box-shadow: 0px 1px 2px rgba(60, 64, 67, 0.3), 0px 1px 3px 1px rgba(60, 64, 67, 0.15);\n",
              "      fill: #174EA6;\n",
              "    }\n",
              "\n",
              "    [theme=dark] .colab-df-convert {\n",
              "      background-color: #3B4455;\n",
              "      fill: #D2E3FC;\n",
              "    }\n",
              "\n",
              "    [theme=dark] .colab-df-convert:hover {\n",
              "      background-color: #434B5C;\n",
              "      box-shadow: 0px 1px 3px 1px rgba(0, 0, 0, 0.15);\n",
              "      filter: drop-shadow(0px 1px 2px rgba(0, 0, 0, 0.3));\n",
              "      fill: #FFFFFF;\n",
              "    }\n",
              "  </style>\n",
              "\n",
              "      <script>\n",
              "        const buttonEl =\n",
              "          document.querySelector('#df-d16ad0a5-b32f-4c7a-8ef3-2f73bff52c8b button.colab-df-convert');\n",
              "        buttonEl.style.display =\n",
              "          google.colab.kernel.accessAllowed ? 'block' : 'none';\n",
              "\n",
              "        async function convertToInteractive(key) {\n",
              "          const element = document.querySelector('#df-d16ad0a5-b32f-4c7a-8ef3-2f73bff52c8b');\n",
              "          const dataTable =\n",
              "            await google.colab.kernel.invokeFunction('convertToInteractive',\n",
              "                                                     [key], {});\n",
              "          if (!dataTable) return;\n",
              "\n",
              "          const docLinkHtml = 'Like what you see? Visit the ' +\n",
              "            '<a target=\"_blank\" href=https://colab.research.google.com/notebooks/data_table.ipynb>data table notebook</a>'\n",
              "            + ' to learn more about interactive tables.';\n",
              "          element.innerHTML = '';\n",
              "          dataTable['output_type'] = 'display_data';\n",
              "          await google.colab.output.renderOutput(dataTable, element);\n",
              "          const docLink = document.createElement('div');\n",
              "          docLink.innerHTML = docLinkHtml;\n",
              "          element.appendChild(docLink);\n",
              "        }\n",
              "      </script>\n",
              "    </div>\n",
              "  </div>\n",
              "  "
            ]
          },
          "metadata": {},
          "execution_count": 63
        }
      ]
    },
    {
      "cell_type": "code",
      "source": [
        "model_1.save('best_model')"
      ],
      "metadata": {
        "colab": {
          "base_uri": "https://localhost:8080/"
        },
        "id": "xMoUtRqgRBZw",
        "outputId": "758c9b83-c4f0-4404-9001-8fad878a5378"
      },
      "execution_count": 64,
      "outputs": [
        {
          "output_type": "stream",
          "name": "stderr",
          "text": [
            "WARNING:absl:Found untraced functions such as _update_step_xla while saving (showing 1 of 1). These functions will not be directly callable after loading.\n"
          ]
        }
      ]
    },
    {
      "cell_type": "code",
      "source": [
        "!ls best_model"
      ],
      "metadata": {
        "colab": {
          "base_uri": "https://localhost:8080/"
        },
        "id": "1k3G2-CORMxq",
        "outputId": "7456399a-0b4e-41e7-d5fc-618207502742"
      },
      "execution_count": 65,
      "outputs": [
        {
          "output_type": "stream",
          "name": "stdout",
          "text": [
            "assets\tfingerprint.pb\tkeras_metadata.pb  saved_model.pb  variables\n"
          ]
        }
      ]
    },
    {
      "cell_type": "code",
      "source": [
        "loaded_saved_model = tf.keras.models.load_model('best_model')\n",
        "loaded_saved_model.summary()"
      ],
      "metadata": {
        "colab": {
          "base_uri": "https://localhost:8080/"
        },
        "id": "xSl0FN3pRQKd",
        "outputId": "e32a119e-ecab-49d9-8dfc-9da6fa9d9b12"
      },
      "execution_count": 66,
      "outputs": [
        {
          "output_type": "stream",
          "name": "stdout",
          "text": [
            "Model: \"sequential_5\"\n",
            "_________________________________________________________________\n",
            " Layer (type)                Output Shape              Param #   \n",
            "=================================================================\n",
            " dense_5 (Dense)             (None, 1)                 2         \n",
            "                                                                 \n",
            "=================================================================\n",
            "Total params: 2\n",
            "Trainable params: 2\n",
            "Non-trainable params: 0\n",
            "_________________________________________________________________\n"
          ]
        }
      ]
    },
    {
      "cell_type": "code",
      "source": [
        "model_1_preds = model_1.predict(X_test_scaled)\n",
        "saved_model_preds = loaded_saved_model.predict(X_test_scaled)\n",
        "\n",
        "mae(X_test_scaled, tf.squeeze(model_1_preds)).numpy() , mae(X_test_scaled, tf.squeeze(saved_model_preds)).numpy()"
      ],
      "metadata": {
        "colab": {
          "base_uri": "https://localhost:8080/"
        },
        "id": "tkoDCmGfRf2M",
        "outputId": "da5585d9-f002-4648-e434-ea0a54d1e5ee"
      },
      "execution_count": 67,
      "outputs": [
        {
          "output_type": "stream",
          "name": "stdout",
          "text": [
            "1/1 [==============================] - 0s 51ms/step\n",
            "1/1 [==============================] - 0s 81ms/step\n"
          ]
        },
        {
          "output_type": "execute_result",
          "data": {
            "text/plain": [
              "(412.6166, 412.6166)"
            ]
          },
          "metadata": {},
          "execution_count": 67
        }
      ]
    },
    {
      "cell_type": "code",
      "source": [
        "## lets try new dataset\n",
        "\n",
        "data = pd.read_csv('https://raw.githubusercontent.com/stedy/Machine-Learning-with-R-datasets/master/insurance.csv')"
      ],
      "metadata": {
        "id": "NkphEpolSFMw"
      },
      "execution_count": 68,
      "outputs": []
    },
    {
      "cell_type": "code",
      "source": [
        "data.head()"
      ],
      "metadata": {
        "colab": {
          "base_uri": "https://localhost:8080/",
          "height": 206
        },
        "id": "SfmDkBncTR1l",
        "outputId": "8903a77a-b1ef-4e12-b920-744e0a3c1c1f"
      },
      "execution_count": 69,
      "outputs": [
        {
          "output_type": "execute_result",
          "data": {
            "text/plain": [
              "   age     sex     bmi  children smoker     region      charges\n",
              "0   19  female  27.900         0    yes  southwest  16884.92400\n",
              "1   18    male  33.770         1     no  southeast   1725.55230\n",
              "2   28    male  33.000         3     no  southeast   4449.46200\n",
              "3   33    male  22.705         0     no  northwest  21984.47061\n",
              "4   32    male  28.880         0     no  northwest   3866.85520"
            ],
            "text/html": [
              "\n",
              "  <div id=\"df-13b0c538-c8af-4322-8360-95af4f16b151\">\n",
              "    <div class=\"colab-df-container\">\n",
              "      <div>\n",
              "<style scoped>\n",
              "    .dataframe tbody tr th:only-of-type {\n",
              "        vertical-align: middle;\n",
              "    }\n",
              "\n",
              "    .dataframe tbody tr th {\n",
              "        vertical-align: top;\n",
              "    }\n",
              "\n",
              "    .dataframe thead th {\n",
              "        text-align: right;\n",
              "    }\n",
              "</style>\n",
              "<table border=\"1\" class=\"dataframe\">\n",
              "  <thead>\n",
              "    <tr style=\"text-align: right;\">\n",
              "      <th></th>\n",
              "      <th>age</th>\n",
              "      <th>sex</th>\n",
              "      <th>bmi</th>\n",
              "      <th>children</th>\n",
              "      <th>smoker</th>\n",
              "      <th>region</th>\n",
              "      <th>charges</th>\n",
              "    </tr>\n",
              "  </thead>\n",
              "  <tbody>\n",
              "    <tr>\n",
              "      <th>0</th>\n",
              "      <td>19</td>\n",
              "      <td>female</td>\n",
              "      <td>27.900</td>\n",
              "      <td>0</td>\n",
              "      <td>yes</td>\n",
              "      <td>southwest</td>\n",
              "      <td>16884.92400</td>\n",
              "    </tr>\n",
              "    <tr>\n",
              "      <th>1</th>\n",
              "      <td>18</td>\n",
              "      <td>male</td>\n",
              "      <td>33.770</td>\n",
              "      <td>1</td>\n",
              "      <td>no</td>\n",
              "      <td>southeast</td>\n",
              "      <td>1725.55230</td>\n",
              "    </tr>\n",
              "    <tr>\n",
              "      <th>2</th>\n",
              "      <td>28</td>\n",
              "      <td>male</td>\n",
              "      <td>33.000</td>\n",
              "      <td>3</td>\n",
              "      <td>no</td>\n",
              "      <td>southeast</td>\n",
              "      <td>4449.46200</td>\n",
              "    </tr>\n",
              "    <tr>\n",
              "      <th>3</th>\n",
              "      <td>33</td>\n",
              "      <td>male</td>\n",
              "      <td>22.705</td>\n",
              "      <td>0</td>\n",
              "      <td>no</td>\n",
              "      <td>northwest</td>\n",
              "      <td>21984.47061</td>\n",
              "    </tr>\n",
              "    <tr>\n",
              "      <th>4</th>\n",
              "      <td>32</td>\n",
              "      <td>male</td>\n",
              "      <td>28.880</td>\n",
              "      <td>0</td>\n",
              "      <td>no</td>\n",
              "      <td>northwest</td>\n",
              "      <td>3866.85520</td>\n",
              "    </tr>\n",
              "  </tbody>\n",
              "</table>\n",
              "</div>\n",
              "      <button class=\"colab-df-convert\" onclick=\"convertToInteractive('df-13b0c538-c8af-4322-8360-95af4f16b151')\"\n",
              "              title=\"Convert this dataframe to an interactive table.\"\n",
              "              style=\"display:none;\">\n",
              "        \n",
              "  <svg xmlns=\"http://www.w3.org/2000/svg\" height=\"24px\"viewBox=\"0 0 24 24\"\n",
              "       width=\"24px\">\n",
              "    <path d=\"M0 0h24v24H0V0z\" fill=\"none\"/>\n",
              "    <path d=\"M18.56 5.44l.94 2.06.94-2.06 2.06-.94-2.06-.94-.94-2.06-.94 2.06-2.06.94zm-11 1L8.5 8.5l.94-2.06 2.06-.94-2.06-.94L8.5 2.5l-.94 2.06-2.06.94zm10 10l.94 2.06.94-2.06 2.06-.94-2.06-.94-.94-2.06-.94 2.06-2.06.94z\"/><path d=\"M17.41 7.96l-1.37-1.37c-.4-.4-.92-.59-1.43-.59-.52 0-1.04.2-1.43.59L10.3 9.45l-7.72 7.72c-.78.78-.78 2.05 0 2.83L4 21.41c.39.39.9.59 1.41.59.51 0 1.02-.2 1.41-.59l7.78-7.78 2.81-2.81c.8-.78.8-2.07 0-2.86zM5.41 20L4 18.59l7.72-7.72 1.47 1.35L5.41 20z\"/>\n",
              "  </svg>\n",
              "      </button>\n",
              "      \n",
              "  <style>\n",
              "    .colab-df-container {\n",
              "      display:flex;\n",
              "      flex-wrap:wrap;\n",
              "      gap: 12px;\n",
              "    }\n",
              "\n",
              "    .colab-df-convert {\n",
              "      background-color: #E8F0FE;\n",
              "      border: none;\n",
              "      border-radius: 50%;\n",
              "      cursor: pointer;\n",
              "      display: none;\n",
              "      fill: #1967D2;\n",
              "      height: 32px;\n",
              "      padding: 0 0 0 0;\n",
              "      width: 32px;\n",
              "    }\n",
              "\n",
              "    .colab-df-convert:hover {\n",
              "      background-color: #E2EBFA;\n",
              "      box-shadow: 0px 1px 2px rgba(60, 64, 67, 0.3), 0px 1px 3px 1px rgba(60, 64, 67, 0.15);\n",
              "      fill: #174EA6;\n",
              "    }\n",
              "\n",
              "    [theme=dark] .colab-df-convert {\n",
              "      background-color: #3B4455;\n",
              "      fill: #D2E3FC;\n",
              "    }\n",
              "\n",
              "    [theme=dark] .colab-df-convert:hover {\n",
              "      background-color: #434B5C;\n",
              "      box-shadow: 0px 1px 3px 1px rgba(0, 0, 0, 0.15);\n",
              "      filter: drop-shadow(0px 1px 2px rgba(0, 0, 0, 0.3));\n",
              "      fill: #FFFFFF;\n",
              "    }\n",
              "  </style>\n",
              "\n",
              "      <script>\n",
              "        const buttonEl =\n",
              "          document.querySelector('#df-13b0c538-c8af-4322-8360-95af4f16b151 button.colab-df-convert');\n",
              "        buttonEl.style.display =\n",
              "          google.colab.kernel.accessAllowed ? 'block' : 'none';\n",
              "\n",
              "        async function convertToInteractive(key) {\n",
              "          const element = document.querySelector('#df-13b0c538-c8af-4322-8360-95af4f16b151');\n",
              "          const dataTable =\n",
              "            await google.colab.kernel.invokeFunction('convertToInteractive',\n",
              "                                                     [key], {});\n",
              "          if (!dataTable) return;\n",
              "\n",
              "          const docLinkHtml = 'Like what you see? Visit the ' +\n",
              "            '<a target=\"_blank\" href=https://colab.research.google.com/notebooks/data_table.ipynb>data table notebook</a>'\n",
              "            + ' to learn more about interactive tables.';\n",
              "          element.innerHTML = '';\n",
              "          dataTable['output_type'] = 'display_data';\n",
              "          await google.colab.output.renderOutput(dataTable, element);\n",
              "          const docLink = document.createElement('div');\n",
              "          docLink.innerHTML = docLinkHtml;\n",
              "          element.appendChild(docLink);\n",
              "        }\n",
              "      </script>\n",
              "    </div>\n",
              "  </div>\n",
              "  "
            ]
          },
          "metadata": {},
          "execution_count": 69
        }
      ]
    },
    {
      "cell_type": "code",
      "source": [
        "# neural network doesn't support string values, we have to use one hot encoding to convert string data into numerical values\n",
        "\n",
        "df = pd.get_dummies(data)\n",
        "df.head()"
      ],
      "metadata": {
        "colab": {
          "base_uri": "https://localhost:8080/",
          "height": 206
        },
        "id": "m6_iMH4dTUoU",
        "outputId": "adb60e89-b837-4404-d676-c82b25d9485b"
      },
      "execution_count": 70,
      "outputs": [
        {
          "output_type": "execute_result",
          "data": {
            "text/plain": [
              "   age     bmi  children      charges  sex_female  sex_male  smoker_no  \\\n",
              "0   19  27.900         0  16884.92400           1         0          0   \n",
              "1   18  33.770         1   1725.55230           0         1          1   \n",
              "2   28  33.000         3   4449.46200           0         1          1   \n",
              "3   33  22.705         0  21984.47061           0         1          1   \n",
              "4   32  28.880         0   3866.85520           0         1          1   \n",
              "\n",
              "   smoker_yes  region_northeast  region_northwest  region_southeast  \\\n",
              "0           1                 0                 0                 0   \n",
              "1           0                 0                 0                 1   \n",
              "2           0                 0                 0                 1   \n",
              "3           0                 0                 1                 0   \n",
              "4           0                 0                 1                 0   \n",
              "\n",
              "   region_southwest  \n",
              "0                 1  \n",
              "1                 0  \n",
              "2                 0  \n",
              "3                 0  \n",
              "4                 0  "
            ],
            "text/html": [
              "\n",
              "  <div id=\"df-0ea3a64c-25c8-4142-9f06-0dce5b01fe72\">\n",
              "    <div class=\"colab-df-container\">\n",
              "      <div>\n",
              "<style scoped>\n",
              "    .dataframe tbody tr th:only-of-type {\n",
              "        vertical-align: middle;\n",
              "    }\n",
              "\n",
              "    .dataframe tbody tr th {\n",
              "        vertical-align: top;\n",
              "    }\n",
              "\n",
              "    .dataframe thead th {\n",
              "        text-align: right;\n",
              "    }\n",
              "</style>\n",
              "<table border=\"1\" class=\"dataframe\">\n",
              "  <thead>\n",
              "    <tr style=\"text-align: right;\">\n",
              "      <th></th>\n",
              "      <th>age</th>\n",
              "      <th>bmi</th>\n",
              "      <th>children</th>\n",
              "      <th>charges</th>\n",
              "      <th>sex_female</th>\n",
              "      <th>sex_male</th>\n",
              "      <th>smoker_no</th>\n",
              "      <th>smoker_yes</th>\n",
              "      <th>region_northeast</th>\n",
              "      <th>region_northwest</th>\n",
              "      <th>region_southeast</th>\n",
              "      <th>region_southwest</th>\n",
              "    </tr>\n",
              "  </thead>\n",
              "  <tbody>\n",
              "    <tr>\n",
              "      <th>0</th>\n",
              "      <td>19</td>\n",
              "      <td>27.900</td>\n",
              "      <td>0</td>\n",
              "      <td>16884.92400</td>\n",
              "      <td>1</td>\n",
              "      <td>0</td>\n",
              "      <td>0</td>\n",
              "      <td>1</td>\n",
              "      <td>0</td>\n",
              "      <td>0</td>\n",
              "      <td>0</td>\n",
              "      <td>1</td>\n",
              "    </tr>\n",
              "    <tr>\n",
              "      <th>1</th>\n",
              "      <td>18</td>\n",
              "      <td>33.770</td>\n",
              "      <td>1</td>\n",
              "      <td>1725.55230</td>\n",
              "      <td>0</td>\n",
              "      <td>1</td>\n",
              "      <td>1</td>\n",
              "      <td>0</td>\n",
              "      <td>0</td>\n",
              "      <td>0</td>\n",
              "      <td>1</td>\n",
              "      <td>0</td>\n",
              "    </tr>\n",
              "    <tr>\n",
              "      <th>2</th>\n",
              "      <td>28</td>\n",
              "      <td>33.000</td>\n",
              "      <td>3</td>\n",
              "      <td>4449.46200</td>\n",
              "      <td>0</td>\n",
              "      <td>1</td>\n",
              "      <td>1</td>\n",
              "      <td>0</td>\n",
              "      <td>0</td>\n",
              "      <td>0</td>\n",
              "      <td>1</td>\n",
              "      <td>0</td>\n",
              "    </tr>\n",
              "    <tr>\n",
              "      <th>3</th>\n",
              "      <td>33</td>\n",
              "      <td>22.705</td>\n",
              "      <td>0</td>\n",
              "      <td>21984.47061</td>\n",
              "      <td>0</td>\n",
              "      <td>1</td>\n",
              "      <td>1</td>\n",
              "      <td>0</td>\n",
              "      <td>0</td>\n",
              "      <td>1</td>\n",
              "      <td>0</td>\n",
              "      <td>0</td>\n",
              "    </tr>\n",
              "    <tr>\n",
              "      <th>4</th>\n",
              "      <td>32</td>\n",
              "      <td>28.880</td>\n",
              "      <td>0</td>\n",
              "      <td>3866.85520</td>\n",
              "      <td>0</td>\n",
              "      <td>1</td>\n",
              "      <td>1</td>\n",
              "      <td>0</td>\n",
              "      <td>0</td>\n",
              "      <td>1</td>\n",
              "      <td>0</td>\n",
              "      <td>0</td>\n",
              "    </tr>\n",
              "  </tbody>\n",
              "</table>\n",
              "</div>\n",
              "      <button class=\"colab-df-convert\" onclick=\"convertToInteractive('df-0ea3a64c-25c8-4142-9f06-0dce5b01fe72')\"\n",
              "              title=\"Convert this dataframe to an interactive table.\"\n",
              "              style=\"display:none;\">\n",
              "        \n",
              "  <svg xmlns=\"http://www.w3.org/2000/svg\" height=\"24px\"viewBox=\"0 0 24 24\"\n",
              "       width=\"24px\">\n",
              "    <path d=\"M0 0h24v24H0V0z\" fill=\"none\"/>\n",
              "    <path d=\"M18.56 5.44l.94 2.06.94-2.06 2.06-.94-2.06-.94-.94-2.06-.94 2.06-2.06.94zm-11 1L8.5 8.5l.94-2.06 2.06-.94-2.06-.94L8.5 2.5l-.94 2.06-2.06.94zm10 10l.94 2.06.94-2.06 2.06-.94-2.06-.94-.94-2.06-.94 2.06-2.06.94z\"/><path d=\"M17.41 7.96l-1.37-1.37c-.4-.4-.92-.59-1.43-.59-.52 0-1.04.2-1.43.59L10.3 9.45l-7.72 7.72c-.78.78-.78 2.05 0 2.83L4 21.41c.39.39.9.59 1.41.59.51 0 1.02-.2 1.41-.59l7.78-7.78 2.81-2.81c.8-.78.8-2.07 0-2.86zM5.41 20L4 18.59l7.72-7.72 1.47 1.35L5.41 20z\"/>\n",
              "  </svg>\n",
              "      </button>\n",
              "      \n",
              "  <style>\n",
              "    .colab-df-container {\n",
              "      display:flex;\n",
              "      flex-wrap:wrap;\n",
              "      gap: 12px;\n",
              "    }\n",
              "\n",
              "    .colab-df-convert {\n",
              "      background-color: #E8F0FE;\n",
              "      border: none;\n",
              "      border-radius: 50%;\n",
              "      cursor: pointer;\n",
              "      display: none;\n",
              "      fill: #1967D2;\n",
              "      height: 32px;\n",
              "      padding: 0 0 0 0;\n",
              "      width: 32px;\n",
              "    }\n",
              "\n",
              "    .colab-df-convert:hover {\n",
              "      background-color: #E2EBFA;\n",
              "      box-shadow: 0px 1px 2px rgba(60, 64, 67, 0.3), 0px 1px 3px 1px rgba(60, 64, 67, 0.15);\n",
              "      fill: #174EA6;\n",
              "    }\n",
              "\n",
              "    [theme=dark] .colab-df-convert {\n",
              "      background-color: #3B4455;\n",
              "      fill: #D2E3FC;\n",
              "    }\n",
              "\n",
              "    [theme=dark] .colab-df-convert:hover {\n",
              "      background-color: #434B5C;\n",
              "      box-shadow: 0px 1px 3px 1px rgba(0, 0, 0, 0.15);\n",
              "      filter: drop-shadow(0px 1px 2px rgba(0, 0, 0, 0.3));\n",
              "      fill: #FFFFFF;\n",
              "    }\n",
              "  </style>\n",
              "\n",
              "      <script>\n",
              "        const buttonEl =\n",
              "          document.querySelector('#df-0ea3a64c-25c8-4142-9f06-0dce5b01fe72 button.colab-df-convert');\n",
              "        buttonEl.style.display =\n",
              "          google.colab.kernel.accessAllowed ? 'block' : 'none';\n",
              "\n",
              "        async function convertToInteractive(key) {\n",
              "          const element = document.querySelector('#df-0ea3a64c-25c8-4142-9f06-0dce5b01fe72');\n",
              "          const dataTable =\n",
              "            await google.colab.kernel.invokeFunction('convertToInteractive',\n",
              "                                                     [key], {});\n",
              "          if (!dataTable) return;\n",
              "\n",
              "          const docLinkHtml = 'Like what you see? Visit the ' +\n",
              "            '<a target=\"_blank\" href=https://colab.research.google.com/notebooks/data_table.ipynb>data table notebook</a>'\n",
              "            + ' to learn more about interactive tables.';\n",
              "          element.innerHTML = '';\n",
              "          dataTable['output_type'] = 'display_data';\n",
              "          await google.colab.output.renderOutput(dataTable, element);\n",
              "          const docLink = document.createElement('div');\n",
              "          docLink.innerHTML = docLinkHtml;\n",
              "          element.appendChild(docLink);\n",
              "        }\n",
              "      </script>\n",
              "    </div>\n",
              "  </div>\n",
              "  "
            ]
          },
          "metadata": {},
          "execution_count": 70
        }
      ]
    },
    {
      "cell_type": "code",
      "source": [
        "# split data into features (X) and labels (y)\n",
        "\n",
        "X = df.drop('charges', axis=1)\n",
        "y = df['charges']"
      ],
      "metadata": {
        "id": "pzOMfClvTre_"
      },
      "execution_count": 71,
      "outputs": []
    },
    {
      "cell_type": "code",
      "source": [
        "X.head()"
      ],
      "metadata": {
        "colab": {
          "base_uri": "https://localhost:8080/",
          "height": 206
        },
        "id": "UA0MvNCeUfTk",
        "outputId": "96e44864-7c59-4a96-84d6-662fce4ecd9e"
      },
      "execution_count": 72,
      "outputs": [
        {
          "output_type": "execute_result",
          "data": {
            "text/plain": [
              "   age     bmi  children  sex_female  sex_male  smoker_no  smoker_yes  \\\n",
              "0   19  27.900         0           1         0          0           1   \n",
              "1   18  33.770         1           0         1          1           0   \n",
              "2   28  33.000         3           0         1          1           0   \n",
              "3   33  22.705         0           0         1          1           0   \n",
              "4   32  28.880         0           0         1          1           0   \n",
              "\n",
              "   region_northeast  region_northwest  region_southeast  region_southwest  \n",
              "0                 0                 0                 0                 1  \n",
              "1                 0                 0                 1                 0  \n",
              "2                 0                 0                 1                 0  \n",
              "3                 0                 1                 0                 0  \n",
              "4                 0                 1                 0                 0  "
            ],
            "text/html": [
              "\n",
              "  <div id=\"df-2ff8a513-bb0f-48ea-b2a9-98d55149585c\">\n",
              "    <div class=\"colab-df-container\">\n",
              "      <div>\n",
              "<style scoped>\n",
              "    .dataframe tbody tr th:only-of-type {\n",
              "        vertical-align: middle;\n",
              "    }\n",
              "\n",
              "    .dataframe tbody tr th {\n",
              "        vertical-align: top;\n",
              "    }\n",
              "\n",
              "    .dataframe thead th {\n",
              "        text-align: right;\n",
              "    }\n",
              "</style>\n",
              "<table border=\"1\" class=\"dataframe\">\n",
              "  <thead>\n",
              "    <tr style=\"text-align: right;\">\n",
              "      <th></th>\n",
              "      <th>age</th>\n",
              "      <th>bmi</th>\n",
              "      <th>children</th>\n",
              "      <th>sex_female</th>\n",
              "      <th>sex_male</th>\n",
              "      <th>smoker_no</th>\n",
              "      <th>smoker_yes</th>\n",
              "      <th>region_northeast</th>\n",
              "      <th>region_northwest</th>\n",
              "      <th>region_southeast</th>\n",
              "      <th>region_southwest</th>\n",
              "    </tr>\n",
              "  </thead>\n",
              "  <tbody>\n",
              "    <tr>\n",
              "      <th>0</th>\n",
              "      <td>19</td>\n",
              "      <td>27.900</td>\n",
              "      <td>0</td>\n",
              "      <td>1</td>\n",
              "      <td>0</td>\n",
              "      <td>0</td>\n",
              "      <td>1</td>\n",
              "      <td>0</td>\n",
              "      <td>0</td>\n",
              "      <td>0</td>\n",
              "      <td>1</td>\n",
              "    </tr>\n",
              "    <tr>\n",
              "      <th>1</th>\n",
              "      <td>18</td>\n",
              "      <td>33.770</td>\n",
              "      <td>1</td>\n",
              "      <td>0</td>\n",
              "      <td>1</td>\n",
              "      <td>1</td>\n",
              "      <td>0</td>\n",
              "      <td>0</td>\n",
              "      <td>0</td>\n",
              "      <td>1</td>\n",
              "      <td>0</td>\n",
              "    </tr>\n",
              "    <tr>\n",
              "      <th>2</th>\n",
              "      <td>28</td>\n",
              "      <td>33.000</td>\n",
              "      <td>3</td>\n",
              "      <td>0</td>\n",
              "      <td>1</td>\n",
              "      <td>1</td>\n",
              "      <td>0</td>\n",
              "      <td>0</td>\n",
              "      <td>0</td>\n",
              "      <td>1</td>\n",
              "      <td>0</td>\n",
              "    </tr>\n",
              "    <tr>\n",
              "      <th>3</th>\n",
              "      <td>33</td>\n",
              "      <td>22.705</td>\n",
              "      <td>0</td>\n",
              "      <td>0</td>\n",
              "      <td>1</td>\n",
              "      <td>1</td>\n",
              "      <td>0</td>\n",
              "      <td>0</td>\n",
              "      <td>1</td>\n",
              "      <td>0</td>\n",
              "      <td>0</td>\n",
              "    </tr>\n",
              "    <tr>\n",
              "      <th>4</th>\n",
              "      <td>32</td>\n",
              "      <td>28.880</td>\n",
              "      <td>0</td>\n",
              "      <td>0</td>\n",
              "      <td>1</td>\n",
              "      <td>1</td>\n",
              "      <td>0</td>\n",
              "      <td>0</td>\n",
              "      <td>1</td>\n",
              "      <td>0</td>\n",
              "      <td>0</td>\n",
              "    </tr>\n",
              "  </tbody>\n",
              "</table>\n",
              "</div>\n",
              "      <button class=\"colab-df-convert\" onclick=\"convertToInteractive('df-2ff8a513-bb0f-48ea-b2a9-98d55149585c')\"\n",
              "              title=\"Convert this dataframe to an interactive table.\"\n",
              "              style=\"display:none;\">\n",
              "        \n",
              "  <svg xmlns=\"http://www.w3.org/2000/svg\" height=\"24px\"viewBox=\"0 0 24 24\"\n",
              "       width=\"24px\">\n",
              "    <path d=\"M0 0h24v24H0V0z\" fill=\"none\"/>\n",
              "    <path d=\"M18.56 5.44l.94 2.06.94-2.06 2.06-.94-2.06-.94-.94-2.06-.94 2.06-2.06.94zm-11 1L8.5 8.5l.94-2.06 2.06-.94-2.06-.94L8.5 2.5l-.94 2.06-2.06.94zm10 10l.94 2.06.94-2.06 2.06-.94-2.06-.94-.94-2.06-.94 2.06-2.06.94z\"/><path d=\"M17.41 7.96l-1.37-1.37c-.4-.4-.92-.59-1.43-.59-.52 0-1.04.2-1.43.59L10.3 9.45l-7.72 7.72c-.78.78-.78 2.05 0 2.83L4 21.41c.39.39.9.59 1.41.59.51 0 1.02-.2 1.41-.59l7.78-7.78 2.81-2.81c.8-.78.8-2.07 0-2.86zM5.41 20L4 18.59l7.72-7.72 1.47 1.35L5.41 20z\"/>\n",
              "  </svg>\n",
              "      </button>\n",
              "      \n",
              "  <style>\n",
              "    .colab-df-container {\n",
              "      display:flex;\n",
              "      flex-wrap:wrap;\n",
              "      gap: 12px;\n",
              "    }\n",
              "\n",
              "    .colab-df-convert {\n",
              "      background-color: #E8F0FE;\n",
              "      border: none;\n",
              "      border-radius: 50%;\n",
              "      cursor: pointer;\n",
              "      display: none;\n",
              "      fill: #1967D2;\n",
              "      height: 32px;\n",
              "      padding: 0 0 0 0;\n",
              "      width: 32px;\n",
              "    }\n",
              "\n",
              "    .colab-df-convert:hover {\n",
              "      background-color: #E2EBFA;\n",
              "      box-shadow: 0px 1px 2px rgba(60, 64, 67, 0.3), 0px 1px 3px 1px rgba(60, 64, 67, 0.15);\n",
              "      fill: #174EA6;\n",
              "    }\n",
              "\n",
              "    [theme=dark] .colab-df-convert {\n",
              "      background-color: #3B4455;\n",
              "      fill: #D2E3FC;\n",
              "    }\n",
              "\n",
              "    [theme=dark] .colab-df-convert:hover {\n",
              "      background-color: #434B5C;\n",
              "      box-shadow: 0px 1px 3px 1px rgba(0, 0, 0, 0.15);\n",
              "      filter: drop-shadow(0px 1px 2px rgba(0, 0, 0, 0.3));\n",
              "      fill: #FFFFFF;\n",
              "    }\n",
              "  </style>\n",
              "\n",
              "      <script>\n",
              "        const buttonEl =\n",
              "          document.querySelector('#df-2ff8a513-bb0f-48ea-b2a9-98d55149585c button.colab-df-convert');\n",
              "        buttonEl.style.display =\n",
              "          google.colab.kernel.accessAllowed ? 'block' : 'none';\n",
              "\n",
              "        async function convertToInteractive(key) {\n",
              "          const element = document.querySelector('#df-2ff8a513-bb0f-48ea-b2a9-98d55149585c');\n",
              "          const dataTable =\n",
              "            await google.colab.kernel.invokeFunction('convertToInteractive',\n",
              "                                                     [key], {});\n",
              "          if (!dataTable) return;\n",
              "\n",
              "          const docLinkHtml = 'Like what you see? Visit the ' +\n",
              "            '<a target=\"_blank\" href=https://colab.research.google.com/notebooks/data_table.ipynb>data table notebook</a>'\n",
              "            + ' to learn more about interactive tables.';\n",
              "          element.innerHTML = '';\n",
              "          dataTable['output_type'] = 'display_data';\n",
              "          await google.colab.output.renderOutput(dataTable, element);\n",
              "          const docLink = document.createElement('div');\n",
              "          docLink.innerHTML = docLinkHtml;\n",
              "          element.appendChild(docLink);\n",
              "        }\n",
              "      </script>\n",
              "    </div>\n",
              "  </div>\n",
              "  "
            ]
          },
          "metadata": {},
          "execution_count": 72
        }
      ]
    },
    {
      "cell_type": "code",
      "source": [
        "# create trainig and test dataset\n",
        "\n",
        "from sklearn.model_selection import train_test_split\n",
        "\n",
        "X_train, X_test, y_train, y_test = train_test_split(X, y, test_size=0.2, random_state=42)\n",
        "\n",
        "X_train.shape, X_test.shape,y_train.shape, y_test.shape"
      ],
      "metadata": {
        "colab": {
          "base_uri": "https://localhost:8080/"
        },
        "id": "RGsxMo9eUhDh",
        "outputId": "319ec49b-834e-4b2d-d5e0-8783ce690ba1"
      },
      "execution_count": 73,
      "outputs": [
        {
          "output_type": "execute_result",
          "data": {
            "text/plain": [
              "((1070, 11), (268, 11), (1070,), (268,))"
            ]
          },
          "metadata": {},
          "execution_count": 73
        }
      ]
    },
    {
      "cell_type": "code",
      "source": [
        "# build model\n",
        "\n",
        "tf.random.set_seed(42)\n",
        "\n",
        "insurance_model = models.Sequential([\n",
        "    layers.Dense(1),\n",
        "    layers.Dense(1)\n",
        "])\n",
        "\n",
        "insurance_model.compile(optimizer=tf.keras.optimizers.SGD(), loss=tf.keras.losses.mae, metrics=['mae'])\n",
        "\n",
        "insurance_model.fit(X_train, y_train, epochs=100)"
      ],
      "metadata": {
        "colab": {
          "base_uri": "https://localhost:8080/"
        },
        "id": "Kl4sYz5uU_ng",
        "outputId": "3fe55de8-b806-43af-af88-9290ccfe4fd3"
      },
      "execution_count": 74,
      "outputs": [
        {
          "output_type": "stream",
          "name": "stdout",
          "text": [
            "Epoch 1/100\n",
            "34/34 [==============================] - 1s 3ms/step - loss: 8773.8809 - mae: 8773.8809\n",
            "Epoch 2/100\n",
            "34/34 [==============================] - 0s 3ms/step - loss: 7833.2271 - mae: 7833.2271\n",
            "Epoch 3/100\n",
            "34/34 [==============================] - 0s 3ms/step - loss: 7542.9365 - mae: 7542.9365\n",
            "Epoch 4/100\n",
            "34/34 [==============================] - 0s 3ms/step - loss: 7694.4663 - mae: 7694.4663\n",
            "Epoch 5/100\n",
            "34/34 [==============================] - 0s 3ms/step - loss: 7672.9741 - mae: 7672.9741\n",
            "Epoch 6/100\n",
            "34/34 [==============================] - 0s 3ms/step - loss: 7600.4272 - mae: 7600.4272\n",
            "Epoch 7/100\n",
            "34/34 [==============================] - 0s 3ms/step - loss: 7531.1250 - mae: 7531.1250\n",
            "Epoch 8/100\n",
            "34/34 [==============================] - 0s 3ms/step - loss: 7741.0835 - mae: 7741.0835\n",
            "Epoch 9/100\n",
            "34/34 [==============================] - 0s 3ms/step - loss: 7612.7876 - mae: 7612.7876\n",
            "Epoch 10/100\n",
            "34/34 [==============================] - 0s 3ms/step - loss: 7665.9004 - mae: 7665.9004\n",
            "Epoch 11/100\n",
            "34/34 [==============================] - 0s 3ms/step - loss: 7494.9409 - mae: 7494.9409\n",
            "Epoch 12/100\n",
            "34/34 [==============================] - 0s 3ms/step - loss: 7659.5312 - mae: 7659.5312\n",
            "Epoch 13/100\n",
            "34/34 [==============================] - 0s 3ms/step - loss: 7612.7080 - mae: 7612.7080\n",
            "Epoch 14/100\n",
            "34/34 [==============================] - 0s 3ms/step - loss: 7735.8618 - mae: 7735.8618\n",
            "Epoch 15/100\n",
            "34/34 [==============================] - 0s 3ms/step - loss: 7512.6196 - mae: 7512.6196\n",
            "Epoch 16/100\n",
            "34/34 [==============================] - 0s 3ms/step - loss: 7770.5747 - mae: 7770.5747\n",
            "Epoch 17/100\n",
            "34/34 [==============================] - 0s 3ms/step - loss: 7519.3394 - mae: 7519.3394\n",
            "Epoch 18/100\n",
            "34/34 [==============================] - 0s 3ms/step - loss: 7557.3208 - mae: 7557.3208\n",
            "Epoch 19/100\n",
            "34/34 [==============================] - 0s 3ms/step - loss: 7743.9072 - mae: 7743.9072\n",
            "Epoch 20/100\n",
            "34/34 [==============================] - 0s 3ms/step - loss: 7870.4785 - mae: 7870.4785\n",
            "Epoch 21/100\n",
            "34/34 [==============================] - 0s 3ms/step - loss: 7536.5273 - mae: 7536.5273\n",
            "Epoch 22/100\n",
            "34/34 [==============================] - 0s 3ms/step - loss: 7769.3872 - mae: 7769.3872\n",
            "Epoch 23/100\n",
            "34/34 [==============================] - 0s 3ms/step - loss: 7707.3149 - mae: 7707.3149\n",
            "Epoch 24/100\n",
            "34/34 [==============================] - 0s 3ms/step - loss: 7533.0542 - mae: 7533.0542\n",
            "Epoch 25/100\n",
            "34/34 [==============================] - 0s 3ms/step - loss: 7552.9385 - mae: 7552.9385\n",
            "Epoch 26/100\n",
            "34/34 [==============================] - 0s 3ms/step - loss: 7661.6543 - mae: 7661.6543\n",
            "Epoch 27/100\n",
            "34/34 [==============================] - 0s 2ms/step - loss: 7573.9326 - mae: 7573.9326\n",
            "Epoch 28/100\n",
            "34/34 [==============================] - 0s 2ms/step - loss: 7556.1641 - mae: 7556.1641\n",
            "Epoch 29/100\n",
            "34/34 [==============================] - 0s 1ms/step - loss: 7655.9067 - mae: 7655.9067\n",
            "Epoch 30/100\n",
            "34/34 [==============================] - 0s 2ms/step - loss: 7508.9346 - mae: 7508.9346\n",
            "Epoch 31/100\n",
            "34/34 [==============================] - 0s 2ms/step - loss: 7691.6167 - mae: 7691.6167\n",
            "Epoch 32/100\n",
            "34/34 [==============================] - 0s 2ms/step - loss: 7531.0889 - mae: 7531.0889\n",
            "Epoch 33/100\n",
            "34/34 [==============================] - 0s 2ms/step - loss: 7410.6973 - mae: 7410.6973\n",
            "Epoch 34/100\n",
            "34/34 [==============================] - 0s 2ms/step - loss: 7300.8604 - mae: 7300.8604\n",
            "Epoch 35/100\n",
            "34/34 [==============================] - 0s 2ms/step - loss: 7493.6450 - mae: 7493.6450\n",
            "Epoch 36/100\n",
            "34/34 [==============================] - 0s 2ms/step - loss: 7570.5972 - mae: 7570.5972\n",
            "Epoch 37/100\n",
            "34/34 [==============================] - 0s 2ms/step - loss: 7688.7036 - mae: 7688.7036\n",
            "Epoch 38/100\n",
            "34/34 [==============================] - 0s 2ms/step - loss: 7597.0703 - mae: 7597.0703\n",
            "Epoch 39/100\n",
            "34/34 [==============================] - 0s 2ms/step - loss: 7491.8066 - mae: 7491.8066\n",
            "Epoch 40/100\n",
            "34/34 [==============================] - 0s 2ms/step - loss: 7318.2222 - mae: 7318.2222\n",
            "Epoch 41/100\n",
            "34/34 [==============================] - 0s 2ms/step - loss: 7600.7710 - mae: 7600.7710\n",
            "Epoch 42/100\n",
            "34/34 [==============================] - 0s 2ms/step - loss: 7321.1436 - mae: 7321.1436\n",
            "Epoch 43/100\n",
            "34/34 [==============================] - 0s 2ms/step - loss: 7607.5454 - mae: 7607.5454\n",
            "Epoch 44/100\n",
            "34/34 [==============================] - 0s 2ms/step - loss: 7419.5610 - mae: 7419.5610\n",
            "Epoch 45/100\n",
            "34/34 [==============================] - 0s 2ms/step - loss: 7556.6094 - mae: 7556.6094\n",
            "Epoch 46/100\n",
            "34/34 [==============================] - 0s 2ms/step - loss: 7371.3721 - mae: 7371.3721\n",
            "Epoch 47/100\n",
            "34/34 [==============================] - 0s 2ms/step - loss: 7405.3208 - mae: 7405.3208\n",
            "Epoch 48/100\n",
            "34/34 [==============================] - 0s 2ms/step - loss: 7390.2725 - mae: 7390.2725\n",
            "Epoch 49/100\n",
            "34/34 [==============================] - 0s 2ms/step - loss: 7555.6606 - mae: 7555.6606\n",
            "Epoch 50/100\n",
            "34/34 [==============================] - 0s 2ms/step - loss: 7513.5757 - mae: 7513.5757\n",
            "Epoch 51/100\n",
            "34/34 [==============================] - 0s 2ms/step - loss: 7409.2339 - mae: 7409.2339\n",
            "Epoch 52/100\n",
            "34/34 [==============================] - 0s 2ms/step - loss: 7527.1436 - mae: 7527.1436\n",
            "Epoch 53/100\n",
            "34/34 [==============================] - 0s 2ms/step - loss: 7575.4287 - mae: 7575.4287\n",
            "Epoch 54/100\n",
            "34/34 [==============================] - 0s 1ms/step - loss: 7233.6670 - mae: 7233.6670\n",
            "Epoch 55/100\n",
            "34/34 [==============================] - 0s 2ms/step - loss: 7220.2939 - mae: 7220.2939\n",
            "Epoch 56/100\n",
            "34/34 [==============================] - 0s 2ms/step - loss: 7250.2661 - mae: 7250.2661\n",
            "Epoch 57/100\n",
            "34/34 [==============================] - 0s 2ms/step - loss: 7336.5986 - mae: 7336.5986\n",
            "Epoch 58/100\n",
            "34/34 [==============================] - 0s 2ms/step - loss: 7491.1670 - mae: 7491.1670\n",
            "Epoch 59/100\n",
            "34/34 [==============================] - 0s 2ms/step - loss: 7601.1484 - mae: 7601.1484\n",
            "Epoch 60/100\n",
            "34/34 [==============================] - 0s 2ms/step - loss: 7517.6499 - mae: 7517.6499\n",
            "Epoch 61/100\n",
            "34/34 [==============================] - 0s 2ms/step - loss: 7388.5869 - mae: 7388.5869\n",
            "Epoch 62/100\n",
            "34/34 [==============================] - 0s 2ms/step - loss: 7411.4692 - mae: 7411.4692\n",
            "Epoch 63/100\n",
            "34/34 [==============================] - 0s 2ms/step - loss: 7273.8105 - mae: 7273.8105\n",
            "Epoch 64/100\n",
            "34/34 [==============================] - 0s 2ms/step - loss: 7353.3521 - mae: 7353.3521\n",
            "Epoch 65/100\n",
            "34/34 [==============================] - 0s 2ms/step - loss: 7358.1177 - mae: 7358.1177\n",
            "Epoch 66/100\n",
            "34/34 [==============================] - 0s 2ms/step - loss: 7510.1084 - mae: 7510.1084\n",
            "Epoch 67/100\n",
            "34/34 [==============================] - 0s 2ms/step - loss: 7295.7881 - mae: 7295.7881\n",
            "Epoch 68/100\n",
            "34/34 [==============================] - 0s 2ms/step - loss: 7462.7490 - mae: 7462.7490\n",
            "Epoch 69/100\n",
            "34/34 [==============================] - 0s 2ms/step - loss: 7618.5195 - mae: 7618.5195\n",
            "Epoch 70/100\n",
            "34/34 [==============================] - 0s 2ms/step - loss: 7572.5918 - mae: 7572.5918\n",
            "Epoch 71/100\n",
            "34/34 [==============================] - 0s 2ms/step - loss: 7273.1543 - mae: 7273.1543\n",
            "Epoch 72/100\n",
            "34/34 [==============================] - 0s 2ms/step - loss: 7386.8618 - mae: 7386.8618\n",
            "Epoch 73/100\n",
            "34/34 [==============================] - 0s 2ms/step - loss: 7394.7646 - mae: 7394.7646\n",
            "Epoch 74/100\n",
            "34/34 [==============================] - 0s 2ms/step - loss: 7382.8110 - mae: 7382.8110\n",
            "Epoch 75/100\n",
            "34/34 [==============================] - 0s 2ms/step - loss: 7288.4697 - mae: 7288.4697\n",
            "Epoch 76/100\n",
            "34/34 [==============================] - 0s 2ms/step - loss: 7193.9570 - mae: 7193.9570\n",
            "Epoch 77/100\n",
            "34/34 [==============================] - 0s 2ms/step - loss: 7264.5483 - mae: 7264.5483\n",
            "Epoch 78/100\n",
            "34/34 [==============================] - 0s 2ms/step - loss: 7333.7026 - mae: 7333.7026\n",
            "Epoch 79/100\n",
            "34/34 [==============================] - 0s 2ms/step - loss: 7387.1133 - mae: 7387.1133\n",
            "Epoch 80/100\n",
            "34/34 [==============================] - 0s 2ms/step - loss: 7268.8525 - mae: 7268.8525\n",
            "Epoch 81/100\n",
            "34/34 [==============================] - 0s 2ms/step - loss: 7255.0752 - mae: 7255.0752\n",
            "Epoch 82/100\n",
            "34/34 [==============================] - 0s 2ms/step - loss: 7144.2876 - mae: 7144.2876\n",
            "Epoch 83/100\n",
            "34/34 [==============================] - 0s 2ms/step - loss: 7506.9336 - mae: 7506.9336\n",
            "Epoch 84/100\n",
            "34/34 [==============================] - 0s 2ms/step - loss: 7367.2275 - mae: 7367.2275\n",
            "Epoch 85/100\n",
            "34/34 [==============================] - 0s 2ms/step - loss: 7542.4893 - mae: 7542.4893\n",
            "Epoch 86/100\n",
            "34/34 [==============================] - 0s 2ms/step - loss: 7572.0630 - mae: 7572.0630\n",
            "Epoch 87/100\n",
            "34/34 [==============================] - 0s 2ms/step - loss: 7076.9067 - mae: 7076.9067\n",
            "Epoch 88/100\n",
            "34/34 [==============================] - 0s 2ms/step - loss: 7236.4741 - mae: 7236.4741\n",
            "Epoch 89/100\n",
            "34/34 [==============================] - 0s 2ms/step - loss: 7211.4912 - mae: 7211.4912\n",
            "Epoch 90/100\n",
            "34/34 [==============================] - 0s 2ms/step - loss: 7313.8403 - mae: 7313.8403\n",
            "Epoch 91/100\n",
            "34/34 [==============================] - 0s 2ms/step - loss: 7206.4722 - mae: 7206.4722\n",
            "Epoch 92/100\n",
            "34/34 [==============================] - 0s 2ms/step - loss: 7276.0322 - mae: 7276.0322\n",
            "Epoch 93/100\n",
            "34/34 [==============================] - 0s 2ms/step - loss: 7415.2500 - mae: 7415.2500\n",
            "Epoch 94/100\n",
            "34/34 [==============================] - 0s 2ms/step - loss: 7163.7075 - mae: 7163.7075\n",
            "Epoch 95/100\n",
            "34/34 [==============================] - 0s 2ms/step - loss: 7434.0542 - mae: 7434.0542\n",
            "Epoch 96/100\n",
            "34/34 [==============================] - 0s 2ms/step - loss: 7329.6514 - mae: 7329.6514\n",
            "Epoch 97/100\n",
            "34/34 [==============================] - 0s 2ms/step - loss: 7182.5049 - mae: 7182.5049\n",
            "Epoch 98/100\n",
            "34/34 [==============================] - 0s 2ms/step - loss: 7336.3096 - mae: 7336.3096\n",
            "Epoch 99/100\n",
            "34/34 [==============================] - 0s 2ms/step - loss: 7384.4175 - mae: 7384.4175\n",
            "Epoch 100/100\n",
            "34/34 [==============================] - 0s 2ms/step - loss: 7425.2534 - mae: 7425.2534\n"
          ]
        },
        {
          "output_type": "execute_result",
          "data": {
            "text/plain": [
              "<keras.callbacks.History at 0x7fe0913962c0>"
            ]
          },
          "metadata": {},
          "execution_count": 74
        }
      ]
    },
    {
      "cell_type": "code",
      "source": [
        "insurance_model.evaluate(X_test, y_test)"
      ],
      "metadata": {
        "colab": {
          "base_uri": "https://localhost:8080/"
        },
        "id": "0xlMOC1AVvJc",
        "outputId": "4e916485-5bc3-4e3d-8768-1f902e4ac4ea"
      },
      "execution_count": 75,
      "outputs": [
        {
          "output_type": "stream",
          "name": "stdout",
          "text": [
            "9/9 [==============================] - 0s 2ms/step - loss: 8404.7617 - mae: 8404.7617\n"
          ]
        },
        {
          "output_type": "execute_result",
          "data": {
            "text/plain": [
              "[8404.76171875, 8404.76171875]"
            ]
          },
          "metadata": {},
          "execution_count": 75
        }
      ]
    },
    {
      "cell_type": "code",
      "source": [
        "# model performing very bad, so we will try to improve, will add additioanl layers and will increase nurons in layers\n",
        "\n",
        "tf.random.set_seed(42)\n",
        "\n",
        "insurance_model_2 = models.Sequential([\n",
        "    layers.Dense(100),\n",
        "    layers.Dense(10),\n",
        "    layers.Dense(1)\n",
        "])\n",
        "\n",
        "insurance_model_2.compile(optimizer=tf.keras.optimizers.Adam(), loss=tf.keras.losses.mae, metrics=['mae'])\n",
        "\n",
        "history = insurance_model_2.fit(X_test, y_test, epochs=100)"
      ],
      "metadata": {
        "colab": {
          "base_uri": "https://localhost:8080/"
        },
        "id": "otwglDazV8pX",
        "outputId": "531293c5-526c-4e8a-8a35-116f454096a1"
      },
      "execution_count": 76,
      "outputs": [
        {
          "output_type": "stream",
          "name": "stdout",
          "text": [
            "Epoch 1/100\n",
            "9/9 [==============================] - 1s 4ms/step - loss: 12959.1250 - mae: 12959.1250\n",
            "Epoch 2/100\n",
            "9/9 [==============================] - 0s 3ms/step - loss: 12934.3701 - mae: 12934.3701\n",
            "Epoch 3/100\n",
            "9/9 [==============================] - 0s 3ms/step - loss: 12906.9385 - mae: 12906.9385\n",
            "Epoch 4/100\n",
            "9/9 [==============================] - 0s 3ms/step - loss: 12874.8359 - mae: 12874.8359\n",
            "Epoch 5/100\n",
            "9/9 [==============================] - 0s 3ms/step - loss: 12836.8311 - mae: 12836.8311\n",
            "Epoch 6/100\n",
            "9/9 [==============================] - 0s 3ms/step - loss: 12789.6201 - mae: 12789.6201\n",
            "Epoch 7/100\n",
            "9/9 [==============================] - 0s 3ms/step - loss: 12731.4482 - mae: 12731.4482\n",
            "Epoch 8/100\n",
            "9/9 [==============================] - 0s 3ms/step - loss: 12659.2207 - mae: 12659.2207\n",
            "Epoch 9/100\n",
            "9/9 [==============================] - 0s 3ms/step - loss: 12570.1924 - mae: 12570.1924\n",
            "Epoch 10/100\n",
            "9/9 [==============================] - 0s 3ms/step - loss: 12462.1357 - mae: 12462.1357\n",
            "Epoch 11/100\n",
            "9/9 [==============================] - 0s 3ms/step - loss: 12332.6152 - mae: 12332.6162\n",
            "Epoch 12/100\n",
            "9/9 [==============================] - 0s 3ms/step - loss: 12177.0801 - mae: 12177.0801\n",
            "Epoch 13/100\n",
            "9/9 [==============================] - 0s 4ms/step - loss: 11992.0410 - mae: 11992.0410\n",
            "Epoch 14/100\n",
            "9/9 [==============================] - 0s 3ms/step - loss: 11776.9609 - mae: 11776.9609\n",
            "Epoch 15/100\n",
            "9/9 [==============================] - 0s 3ms/step - loss: 11527.2744 - mae: 11527.2744\n",
            "Epoch 16/100\n",
            "9/9 [==============================] - 0s 3ms/step - loss: 11241.8232 - mae: 11241.8232\n",
            "Epoch 17/100\n",
            "9/9 [==============================] - 0s 3ms/step - loss: 10924.7041 - mae: 10924.7041\n",
            "Epoch 18/100\n",
            "9/9 [==============================] - 0s 3ms/step - loss: 10580.2988 - mae: 10580.2988\n",
            "Epoch 19/100\n",
            "9/9 [==============================] - 0s 3ms/step - loss: 10217.4678 - mae: 10217.4678\n",
            "Epoch 20/100\n",
            "9/9 [==============================] - 0s 3ms/step - loss: 9849.7246 - mae: 9849.7246\n",
            "Epoch 21/100\n",
            "9/9 [==============================] - 0s 3ms/step - loss: 9470.4844 - mae: 9470.4844\n",
            "Epoch 22/100\n",
            "9/9 [==============================] - 0s 3ms/step - loss: 9104.0459 - mae: 9104.0459\n",
            "Epoch 23/100\n",
            "9/9 [==============================] - 0s 3ms/step - loss: 8752.9355 - mae: 8752.9355\n",
            "Epoch 24/100\n",
            "9/9 [==============================] - 0s 3ms/step - loss: 8450.9961 - mae: 8450.9961\n",
            "Epoch 25/100\n",
            "9/9 [==============================] - 0s 3ms/step - loss: 8198.8203 - mae: 8198.8203\n",
            "Epoch 26/100\n",
            "9/9 [==============================] - 0s 3ms/step - loss: 8013.5337 - mae: 8013.5337\n",
            "Epoch 27/100\n",
            "9/9 [==============================] - 0s 3ms/step - loss: 7875.5503 - mae: 7875.5503\n",
            "Epoch 28/100\n",
            "9/9 [==============================] - 0s 3ms/step - loss: 7792.2979 - mae: 7792.2979\n",
            "Epoch 29/100\n",
            "9/9 [==============================] - 0s 4ms/step - loss: 7730.0879 - mae: 7730.0879\n",
            "Epoch 30/100\n",
            "9/9 [==============================] - 0s 3ms/step - loss: 7672.9688 - mae: 7672.9688\n",
            "Epoch 31/100\n",
            "9/9 [==============================] - 0s 3ms/step - loss: 7636.3696 - mae: 7636.3696\n",
            "Epoch 32/100\n",
            "9/9 [==============================] - 0s 3ms/step - loss: 7607.2100 - mae: 7607.2100\n",
            "Epoch 33/100\n",
            "9/9 [==============================] - 0s 3ms/step - loss: 7581.0801 - mae: 7581.0801\n",
            "Epoch 34/100\n",
            "9/9 [==============================] - 0s 3ms/step - loss: 7567.0786 - mae: 7567.0786\n",
            "Epoch 35/100\n",
            "9/9 [==============================] - 0s 3ms/step - loss: 7556.4111 - mae: 7556.4111\n",
            "Epoch 36/100\n",
            "9/9 [==============================] - 0s 3ms/step - loss: 7546.5317 - mae: 7546.5317\n",
            "Epoch 37/100\n",
            "9/9 [==============================] - 0s 3ms/step - loss: 7535.5337 - mae: 7535.5337\n",
            "Epoch 38/100\n",
            "9/9 [==============================] - 0s 3ms/step - loss: 7527.1138 - mae: 7527.1138\n",
            "Epoch 39/100\n",
            "9/9 [==============================] - 0s 3ms/step - loss: 7518.0166 - mae: 7518.0166\n",
            "Epoch 40/100\n",
            "9/9 [==============================] - 0s 3ms/step - loss: 7508.5254 - mae: 7508.5254\n",
            "Epoch 41/100\n",
            "9/9 [==============================] - 0s 3ms/step - loss: 7499.6636 - mae: 7499.6636\n",
            "Epoch 42/100\n",
            "9/9 [==============================] - 0s 3ms/step - loss: 7489.5894 - mae: 7489.5894\n",
            "Epoch 43/100\n",
            "9/9 [==============================] - 0s 4ms/step - loss: 7480.4297 - mae: 7480.4297\n",
            "Epoch 44/100\n",
            "9/9 [==============================] - 0s 4ms/step - loss: 7472.0674 - mae: 7472.0674\n",
            "Epoch 45/100\n",
            "9/9 [==============================] - 0s 4ms/step - loss: 7461.4663 - mae: 7461.4663\n",
            "Epoch 46/100\n",
            "9/9 [==============================] - 0s 4ms/step - loss: 7452.4951 - mae: 7452.4951\n",
            "Epoch 47/100\n",
            "9/9 [==============================] - 0s 4ms/step - loss: 7442.6797 - mae: 7442.6797\n",
            "Epoch 48/100\n",
            "9/9 [==============================] - 0s 5ms/step - loss: 7434.0278 - mae: 7434.0278\n",
            "Epoch 49/100\n",
            "9/9 [==============================] - 0s 5ms/step - loss: 7425.9834 - mae: 7425.9834\n",
            "Epoch 50/100\n",
            "9/9 [==============================] - 0s 4ms/step - loss: 7415.8374 - mae: 7415.8374\n",
            "Epoch 51/100\n",
            "9/9 [==============================] - 0s 4ms/step - loss: 7406.8213 - mae: 7406.8213\n",
            "Epoch 52/100\n",
            "9/9 [==============================] - 0s 4ms/step - loss: 7396.0972 - mae: 7396.0972\n",
            "Epoch 53/100\n",
            "9/9 [==============================] - 0s 5ms/step - loss: 7386.4375 - mae: 7386.4375\n",
            "Epoch 54/100\n",
            "9/9 [==============================] - 0s 5ms/step - loss: 7377.0508 - mae: 7377.0508\n",
            "Epoch 55/100\n",
            "9/9 [==============================] - 0s 4ms/step - loss: 7367.1338 - mae: 7367.1338\n",
            "Epoch 56/100\n",
            "9/9 [==============================] - 0s 4ms/step - loss: 7358.0981 - mae: 7358.0981\n",
            "Epoch 57/100\n",
            "9/9 [==============================] - 0s 4ms/step - loss: 7347.5801 - mae: 7347.5801\n",
            "Epoch 58/100\n",
            "9/9 [==============================] - 0s 4ms/step - loss: 7338.6880 - mae: 7338.6880\n",
            "Epoch 59/100\n",
            "9/9 [==============================] - 0s 4ms/step - loss: 7328.3384 - mae: 7328.3384\n",
            "Epoch 60/100\n",
            "9/9 [==============================] - 0s 4ms/step - loss: 7319.5669 - mae: 7319.5669\n",
            "Epoch 61/100\n",
            "9/9 [==============================] - 0s 5ms/step - loss: 7309.7617 - mae: 7309.7617\n",
            "Epoch 62/100\n",
            "9/9 [==============================] - 0s 5ms/step - loss: 7299.3154 - mae: 7299.3154\n",
            "Epoch 63/100\n",
            "9/9 [==============================] - 0s 5ms/step - loss: 7289.6548 - mae: 7289.6548\n",
            "Epoch 64/100\n",
            "9/9 [==============================] - 0s 4ms/step - loss: 7280.7788 - mae: 7280.7788\n",
            "Epoch 65/100\n",
            "9/9 [==============================] - 0s 4ms/step - loss: 7270.3394 - mae: 7270.3394\n",
            "Epoch 66/100\n",
            "9/9 [==============================] - 0s 4ms/step - loss: 7260.7437 - mae: 7260.7437\n",
            "Epoch 67/100\n",
            "9/9 [==============================] - 0s 4ms/step - loss: 7249.0215 - mae: 7249.0215\n",
            "Epoch 68/100\n",
            "9/9 [==============================] - 0s 4ms/step - loss: 7238.9697 - mae: 7238.9697\n",
            "Epoch 69/100\n",
            "9/9 [==============================] - 0s 4ms/step - loss: 7229.3940 - mae: 7229.3940\n",
            "Epoch 70/100\n",
            "9/9 [==============================] - 0s 4ms/step - loss: 7218.2261 - mae: 7218.2261\n",
            "Epoch 71/100\n",
            "9/9 [==============================] - 0s 4ms/step - loss: 7207.3477 - mae: 7207.3477\n",
            "Epoch 72/100\n",
            "9/9 [==============================] - 0s 4ms/step - loss: 7196.8975 - mae: 7196.8975\n",
            "Epoch 73/100\n",
            "9/9 [==============================] - 0s 4ms/step - loss: 7186.2837 - mae: 7186.2837\n",
            "Epoch 74/100\n",
            "9/9 [==============================] - 0s 4ms/step - loss: 7174.5469 - mae: 7174.5469\n",
            "Epoch 75/100\n",
            "9/9 [==============================] - 0s 5ms/step - loss: 7163.1489 - mae: 7163.1489\n",
            "Epoch 76/100\n",
            "9/9 [==============================] - 0s 4ms/step - loss: 7151.1499 - mae: 7151.1499\n",
            "Epoch 77/100\n",
            "9/9 [==============================] - 0s 6ms/step - loss: 7143.3857 - mae: 7143.3857\n",
            "Epoch 78/100\n",
            "9/9 [==============================] - 0s 5ms/step - loss: 7129.1733 - mae: 7129.1733\n",
            "Epoch 79/100\n",
            "9/9 [==============================] - 0s 3ms/step - loss: 7116.5308 - mae: 7116.5308\n",
            "Epoch 80/100\n",
            "9/9 [==============================] - 0s 3ms/step - loss: 7104.0435 - mae: 7104.0435\n",
            "Epoch 81/100\n",
            "9/9 [==============================] - 0s 3ms/step - loss: 7094.2759 - mae: 7094.2759\n",
            "Epoch 82/100\n",
            "9/9 [==============================] - 0s 4ms/step - loss: 7080.6177 - mae: 7080.6177\n",
            "Epoch 83/100\n",
            "9/9 [==============================] - 0s 5ms/step - loss: 7071.7563 - mae: 7071.7563\n",
            "Epoch 84/100\n",
            "9/9 [==============================] - 0s 4ms/step - loss: 7054.5493 - mae: 7054.5493\n",
            "Epoch 85/100\n",
            "9/9 [==============================] - 0s 4ms/step - loss: 7042.8945 - mae: 7042.8945\n",
            "Epoch 86/100\n",
            "9/9 [==============================] - 0s 4ms/step - loss: 7030.9712 - mae: 7030.9712\n",
            "Epoch 87/100\n",
            "9/9 [==============================] - 0s 4ms/step - loss: 7018.6836 - mae: 7018.6836\n",
            "Epoch 88/100\n",
            "9/9 [==============================] - 0s 4ms/step - loss: 7006.7402 - mae: 7006.7402\n",
            "Epoch 89/100\n",
            "9/9 [==============================] - 0s 4ms/step - loss: 6995.2725 - mae: 6995.2725\n",
            "Epoch 90/100\n",
            "9/9 [==============================] - 0s 4ms/step - loss: 6983.0122 - mae: 6983.0122\n",
            "Epoch 91/100\n",
            "9/9 [==============================] - 0s 4ms/step - loss: 6971.7666 - mae: 6971.7666\n",
            "Epoch 92/100\n",
            "9/9 [==============================] - 0s 5ms/step - loss: 6961.0122 - mae: 6961.0122\n",
            "Epoch 93/100\n",
            "9/9 [==============================] - 0s 4ms/step - loss: 6945.8296 - mae: 6945.8296\n",
            "Epoch 94/100\n",
            "9/9 [==============================] - 0s 4ms/step - loss: 6935.3657 - mae: 6935.3657\n",
            "Epoch 95/100\n",
            "9/9 [==============================] - 0s 5ms/step - loss: 6921.1069 - mae: 6921.1069\n",
            "Epoch 96/100\n",
            "9/9 [==============================] - 0s 4ms/step - loss: 6908.1987 - mae: 6908.1987\n",
            "Epoch 97/100\n",
            "9/9 [==============================] - 0s 5ms/step - loss: 6893.7358 - mae: 6893.7358\n",
            "Epoch 98/100\n",
            "9/9 [==============================] - 0s 4ms/step - loss: 6880.6401 - mae: 6880.6401\n",
            "Epoch 99/100\n",
            "9/9 [==============================] - 0s 4ms/step - loss: 6867.2661 - mae: 6867.2661\n",
            "Epoch 100/100\n",
            "9/9 [==============================] - 0s 4ms/step - loss: 6852.7349 - mae: 6852.7349\n"
          ]
        }
      ]
    },
    {
      "cell_type": "code",
      "source": [
        "insurance_model_2.evaluate(X_test, y_test)"
      ],
      "metadata": {
        "colab": {
          "base_uri": "https://localhost:8080/"
        },
        "id": "DWqwIc-yWsW1",
        "outputId": "ecede383-5973-48ca-d540-1bfe885f3839"
      },
      "execution_count": 77,
      "outputs": [
        {
          "output_type": "stream",
          "name": "stdout",
          "text": [
            "9/9 [==============================] - 0s 3ms/step - loss: 6843.8960 - mae: 6843.8960\n"
          ]
        },
        {
          "output_type": "execute_result",
          "data": {
            "text/plain": [
              "[6843.89599609375, 6843.89599609375]"
            ]
          },
          "metadata": {},
          "execution_count": 77
        }
      ]
    },
    {
      "cell_type": "code",
      "source": [
        "# plot history also known as loss curve\n",
        "\n",
        "pd.DataFrame(history.history).plot()\n",
        "plt.ylabel('loss')\n",
        "plt.xlabel('epochs')"
      ],
      "metadata": {
        "colab": {
          "base_uri": "https://localhost:8080/",
          "height": 466
        },
        "id": "UBiiLc-IhnCd",
        "outputId": "2bd91e63-6c81-47c1-e456-2d6667e1e3f1"
      },
      "execution_count": 78,
      "outputs": [
        {
          "output_type": "execute_result",
          "data": {
            "text/plain": [
              "Text(0.5, 0, 'epochs')"
            ]
          },
          "metadata": {},
          "execution_count": 78
        },
        {
          "output_type": "display_data",
          "data": {
            "text/plain": [
              "<Figure size 640x480 with 1 Axes>"
            ],
            "image/png": "[encoded data removed]"
          },
          "metadata": {}
        }
      ]
    },
    {
      "cell_type": "code",
      "source": [
        "history_2 = insurance_model_2.fit(X_train, y_train, epochs=100)"
      ],
      "metadata": {
        "colab": {
          "base_uri": "https://localhost:8080/"
        },
        "id": "XpLfiXb5iN-3",
        "outputId": "b4087576-72e8-4428-d79a-b2749d92985a"
      },
      "execution_count": 79,
      "outputs": [
        {
          "output_type": "stream",
          "name": "stdout",
          "text": [
            "Epoch 1/100\n",
            "34/34 [==============================] - 0s 3ms/step - loss: 6855.6680 - mae: 6855.6680\n",
            "Epoch 2/100\n",
            "34/34 [==============================] - 0s 2ms/step - loss: 6826.7607 - mae: 6826.7607\n",
            "Epoch 3/100\n",
            "34/34 [==============================] - 0s 2ms/step - loss: 6793.2793 - mae: 6793.2793\n",
            "Epoch 4/100\n",
            "34/34 [==============================] - 0s 2ms/step - loss: 6761.0054 - mae: 6761.0054\n",
            "Epoch 5/100\n",
            "34/34 [==============================] - 0s 2ms/step - loss: 6729.6797 - mae: 6729.6797\n",
            "Epoch 6/100\n",
            "34/34 [==============================] - 0s 2ms/step - loss: 6699.3223 - mae: 6699.3223\n",
            "Epoch 7/100\n",
            "34/34 [==============================] - 0s 2ms/step - loss: 6666.9546 - mae: 6666.9546\n",
            "Epoch 8/100\n",
            "34/34 [==============================] - 0s 2ms/step - loss: 6636.9590 - mae: 6636.9590\n",
            "Epoch 9/100\n",
            "34/34 [==============================] - 0s 2ms/step - loss: 6609.2944 - mae: 6609.2944\n",
            "Epoch 10/100\n",
            "34/34 [==============================] - 0s 2ms/step - loss: 6584.3828 - mae: 6584.3828\n",
            "Epoch 11/100\n",
            "34/34 [==============================] - 0s 2ms/step - loss: 6563.8555 - mae: 6563.8555\n",
            "Epoch 12/100\n",
            "34/34 [==============================] - 0s 2ms/step - loss: 6543.6206 - mae: 6543.6206\n",
            "Epoch 13/100\n",
            "34/34 [==============================] - 0s 2ms/step - loss: 6527.4136 - mae: 6527.4136\n",
            "Epoch 14/100\n",
            "34/34 [==============================] - 0s 3ms/step - loss: 6512.1147 - mae: 6512.1147\n",
            "Epoch 15/100\n",
            "34/34 [==============================] - 0s 2ms/step - loss: 6501.7222 - mae: 6501.7222\n",
            "Epoch 16/100\n",
            "34/34 [==============================] - 0s 3ms/step - loss: 6483.4692 - mae: 6483.4692\n",
            "Epoch 17/100\n",
            "34/34 [==============================] - 0s 2ms/step - loss: 6472.5288 - mae: 6472.5288\n",
            "Epoch 18/100\n",
            "34/34 [==============================] - 0s 2ms/step - loss: 6459.4414 - mae: 6459.4414\n",
            "Epoch 19/100\n",
            "34/34 [==============================] - 0s 2ms/step - loss: 6447.2271 - mae: 6447.2271\n",
            "Epoch 20/100\n",
            "34/34 [==============================] - 0s 2ms/step - loss: 6433.8877 - mae: 6433.8877\n",
            "Epoch 21/100\n",
            "34/34 [==============================] - 0s 2ms/step - loss: 6420.1934 - mae: 6420.1934\n",
            "Epoch 22/100\n",
            "34/34 [==============================] - 0s 3ms/step - loss: 6413.1255 - mae: 6413.1255\n",
            "Epoch 23/100\n",
            "34/34 [==============================] - 0s 2ms/step - loss: 6396.5776 - mae: 6396.5776\n",
            "Epoch 24/100\n",
            "34/34 [==============================] - 0s 2ms/step - loss: 6385.3687 - mae: 6385.3687\n",
            "Epoch 25/100\n",
            "34/34 [==============================] - 0s 3ms/step - loss: 6371.1450 - mae: 6371.1450\n",
            "Epoch 26/100\n",
            "34/34 [==============================] - 0s 3ms/step - loss: 6357.0986 - mae: 6357.0986\n",
            "Epoch 27/100\n",
            "34/34 [==============================] - 0s 2ms/step - loss: 6344.3862 - mae: 6344.3862\n",
            "Epoch 28/100\n",
            "34/34 [==============================] - 0s 2ms/step - loss: 6330.2544 - mae: 6330.2544\n",
            "Epoch 29/100\n",
            "34/34 [==============================] - 0s 2ms/step - loss: 6315.2881 - mae: 6315.2881\n",
            "Epoch 30/100\n",
            "34/34 [==============================] - 0s 2ms/step - loss: 6307.2812 - mae: 6307.2812\n",
            "Epoch 31/100\n",
            "34/34 [==============================] - 0s 2ms/step - loss: 6289.0269 - mae: 6289.0269\n",
            "Epoch 32/100\n",
            "34/34 [==============================] - 0s 2ms/step - loss: 6276.5293 - mae: 6276.5293\n",
            "Epoch 33/100\n",
            "34/34 [==============================] - 0s 2ms/step - loss: 6264.1470 - mae: 6264.1470\n",
            "Epoch 34/100\n",
            "34/34 [==============================] - 0s 2ms/step - loss: 6246.5952 - mae: 6246.5952\n",
            "Epoch 35/100\n",
            "34/34 [==============================] - 0s 3ms/step - loss: 6230.1011 - mae: 6230.1011\n",
            "Epoch 36/100\n",
            "34/34 [==============================] - 0s 2ms/step - loss: 6216.9810 - mae: 6216.9810\n",
            "Epoch 37/100\n",
            "34/34 [==============================] - 0s 2ms/step - loss: 6196.1890 - mae: 6196.1890\n",
            "Epoch 38/100\n",
            "34/34 [==============================] - 0s 2ms/step - loss: 6185.0596 - mae: 6185.0596\n",
            "Epoch 39/100\n",
            "34/34 [==============================] - 0s 2ms/step - loss: 6165.2871 - mae: 6165.2871\n",
            "Epoch 40/100\n",
            "34/34 [==============================] - 0s 2ms/step - loss: 6147.5923 - mae: 6147.5923\n",
            "Epoch 41/100\n",
            "34/34 [==============================] - 0s 2ms/step - loss: 6132.1904 - mae: 6132.1904\n",
            "Epoch 42/100\n",
            "34/34 [==============================] - 0s 2ms/step - loss: 6113.4751 - mae: 6113.4751\n",
            "Epoch 43/100\n",
            "34/34 [==============================] - 0s 2ms/step - loss: 6098.8535 - mae: 6098.8535\n",
            "Epoch 44/100\n",
            "34/34 [==============================] - 0s 2ms/step - loss: 6072.9814 - mae: 6072.9814\n",
            "Epoch 45/100\n",
            "34/34 [==============================] - 0s 2ms/step - loss: 6061.9326 - mae: 6061.9326\n",
            "Epoch 46/100\n",
            "34/34 [==============================] - 0s 2ms/step - loss: 6035.8413 - mae: 6035.8413\n",
            "Epoch 47/100\n",
            "34/34 [==============================] - 0s 3ms/step - loss: 6015.1523 - mae: 6015.1523\n",
            "Epoch 48/100\n",
            "34/34 [==============================] - 0s 3ms/step - loss: 5987.2690 - mae: 5987.2690\n",
            "Epoch 49/100\n",
            "34/34 [==============================] - 0s 3ms/step - loss: 5967.1572 - mae: 5967.1572\n",
            "Epoch 50/100\n",
            "34/34 [==============================] - 0s 3ms/step - loss: 5946.4810 - mae: 5946.4810\n",
            "Epoch 51/100\n",
            "34/34 [==============================] - 0s 2ms/step - loss: 5921.3779 - mae: 5921.3779\n",
            "Epoch 52/100\n",
            "34/34 [==============================] - 0s 3ms/step - loss: 5894.4126 - mae: 5894.4126\n",
            "Epoch 53/100\n",
            "34/34 [==============================] - 0s 2ms/step - loss: 5866.5088 - mae: 5866.5088\n",
            "Epoch 54/100\n",
            "34/34 [==============================] - 0s 2ms/step - loss: 5838.1602 - mae: 5838.1602\n",
            "Epoch 55/100\n",
            "34/34 [==============================] - 0s 3ms/step - loss: 5811.6445 - mae: 5811.6445\n",
            "Epoch 56/100\n",
            "34/34 [==============================] - 0s 2ms/step - loss: 5782.9155 - mae: 5782.9155\n",
            "Epoch 57/100\n",
            "34/34 [==============================] - 0s 3ms/step - loss: 5753.0596 - mae: 5753.0596\n",
            "Epoch 58/100\n",
            "34/34 [==============================] - 0s 3ms/step - loss: 5719.4536 - mae: 5719.4536\n",
            "Epoch 59/100\n",
            "34/34 [==============================] - 0s 3ms/step - loss: 5686.6953 - mae: 5686.6953\n",
            "Epoch 60/100\n",
            "34/34 [==============================] - 0s 3ms/step - loss: 5659.3247 - mae: 5659.3247\n",
            "Epoch 61/100\n",
            "34/34 [==============================] - 0s 2ms/step - loss: 5614.3306 - mae: 5614.3306\n",
            "Epoch 62/100\n",
            "34/34 [==============================] - 0s 2ms/step - loss: 5582.5664 - mae: 5582.5664\n",
            "Epoch 63/100\n",
            "34/34 [==============================] - 0s 2ms/step - loss: 5537.4370 - mae: 5537.4370\n",
            "Epoch 64/100\n",
            "34/34 [==============================] - 0s 2ms/step - loss: 5492.5190 - mae: 5492.5190\n",
            "Epoch 65/100\n",
            "34/34 [==============================] - 0s 2ms/step - loss: 5454.7539 - mae: 5454.7539\n",
            "Epoch 66/100\n",
            "34/34 [==============================] - 0s 3ms/step - loss: 5402.3047 - mae: 5402.3047\n",
            "Epoch 67/100\n",
            "34/34 [==============================] - 0s 2ms/step - loss: 5362.3618 - mae: 5362.3618\n",
            "Epoch 68/100\n",
            "34/34 [==============================] - 0s 2ms/step - loss: 5306.6680 - mae: 5306.6680\n",
            "Epoch 69/100\n",
            "34/34 [==============================] - 0s 2ms/step - loss: 5258.9551 - mae: 5258.9551\n",
            "Epoch 70/100\n",
            "34/34 [==============================] - 0s 2ms/step - loss: 5199.9756 - mae: 5199.9756\n",
            "Epoch 71/100\n",
            "34/34 [==============================] - 0s 2ms/step - loss: 5138.8970 - mae: 5138.8970\n",
            "Epoch 72/100\n",
            "34/34 [==============================] - 0s 2ms/step - loss: 5079.1909 - mae: 5079.1909\n",
            "Epoch 73/100\n",
            "34/34 [==============================] - 0s 2ms/step - loss: 5026.1577 - mae: 5026.1577\n",
            "Epoch 74/100\n",
            "34/34 [==============================] - 0s 2ms/step - loss: 4953.4849 - mae: 4953.4849\n",
            "Epoch 75/100\n",
            "34/34 [==============================] - 0s 2ms/step - loss: 4882.8945 - mae: 4882.8945\n",
            "Epoch 76/100\n",
            "34/34 [==============================] - 0s 2ms/step - loss: 4808.5864 - mae: 4808.5864\n",
            "Epoch 77/100\n",
            "34/34 [==============================] - 0s 2ms/step - loss: 4732.4521 - mae: 4732.4521\n",
            "Epoch 78/100\n",
            "34/34 [==============================] - 0s 2ms/step - loss: 4649.3691 - mae: 4649.3691\n",
            "Epoch 79/100\n",
            "34/34 [==============================] - 0s 2ms/step - loss: 4571.3623 - mae: 4571.3623\n",
            "Epoch 80/100\n",
            "34/34 [==============================] - 0s 2ms/step - loss: 4475.4331 - mae: 4475.4331\n",
            "Epoch 81/100\n",
            "34/34 [==============================] - 0s 2ms/step - loss: 4394.2075 - mae: 4394.2075\n",
            "Epoch 82/100\n",
            "34/34 [==============================] - 0s 2ms/step - loss: 4311.6196 - mae: 4311.6196\n",
            "Epoch 83/100\n",
            "34/34 [==============================] - 0s 2ms/step - loss: 4226.4214 - mae: 4226.4214\n",
            "Epoch 84/100\n",
            "34/34 [==============================] - 0s 2ms/step - loss: 4143.6357 - mae: 4143.6357\n",
            "Epoch 85/100\n",
            "34/34 [==============================] - 0s 2ms/step - loss: 4081.1379 - mae: 4081.1379\n",
            "Epoch 86/100\n",
            "34/34 [==============================] - 0s 2ms/step - loss: 4023.7476 - mae: 4023.7476\n",
            "Epoch 87/100\n",
            "34/34 [==============================] - 0s 2ms/step - loss: 3963.5083 - mae: 3963.5083\n",
            "Epoch 88/100\n",
            "34/34 [==============================] - 0s 2ms/step - loss: 3932.1140 - mae: 3932.1140\n",
            "Epoch 89/100\n",
            "34/34 [==============================] - 0s 2ms/step - loss: 3901.9270 - mae: 3901.9270\n",
            "Epoch 90/100\n",
            "34/34 [==============================] - 0s 2ms/step - loss: 3888.1865 - mae: 3888.1865\n",
            "Epoch 91/100\n",
            "34/34 [==============================] - 0s 2ms/step - loss: 3872.3245 - mae: 3872.3245\n",
            "Epoch 92/100\n",
            "34/34 [==============================] - 0s 2ms/step - loss: 3857.9216 - mae: 3857.9216\n",
            "Epoch 93/100\n",
            "34/34 [==============================] - 0s 3ms/step - loss: 3842.6604 - mae: 3842.6604\n",
            "Epoch 94/100\n",
            "34/34 [==============================] - 0s 2ms/step - loss: 3826.5186 - mae: 3826.5186\n",
            "Epoch 95/100\n",
            "34/34 [==============================] - 0s 2ms/step - loss: 3815.0288 - mae: 3815.0288\n",
            "Epoch 96/100\n",
            "34/34 [==============================] - 0s 2ms/step - loss: 3812.6013 - mae: 3812.6013\n",
            "Epoch 97/100\n",
            "34/34 [==============================] - 0s 2ms/step - loss: 3803.7534 - mae: 3803.7534\n",
            "Epoch 98/100\n",
            "34/34 [==============================] - 0s 2ms/step - loss: 3797.9231 - mae: 3797.9231\n",
            "Epoch 99/100\n",
            "34/34 [==============================] - 0s 2ms/step - loss: 3798.7998 - mae: 3798.7998\n",
            "Epoch 100/100\n",
            "34/34 [==============================] - 0s 2ms/step - loss: 3797.8103 - mae: 3797.8103\n"
          ]
        }
      ]
    },
    {
      "cell_type": "code",
      "source": [
        "pd.DataFrame(history_2.history).plot()"
      ],
      "metadata": {
        "colab": {
          "base_uri": "https://localhost:8080/",
          "height": 451
        },
        "id": "PTQl5ysditQ2",
        "outputId": "5f3561b0-d829-49f3-d106-0f359b5ebf93"
      },
      "execution_count": 80,
      "outputs": [
        {
          "output_type": "execute_result",
          "data": {
            "text/plain": [
              "<Axes: >"
            ]
          },
          "metadata": {},
          "execution_count": 80
        },
        {
          "output_type": "display_data",
          "data": {
            "text/plain": [
              "<Figure size 640x480 with 1 Axes>"
            ],
            "image/png": "[encoded data removed]"
          },
          "metadata": {}
        }
      ]
    },
    {
      "cell_type": "code",
      "source": [
        "insurance_model_2_loss, insurance_model_2_mae = insurance_model_2.evaluate(X_test, y_test)\n",
        "insurance_model_2_loss, insurance_model_2_mae"
      ],
      "metadata": {
        "colab": {
          "base_uri": "https://localhost:8080/"
        },
        "id": "VkbspWo3i3GB",
        "outputId": "6f071be4-0fa0-42bc-c7b1-1c35f11b4ef8"
      },
      "execution_count": 81,
      "outputs": [
        {
          "output_type": "stream",
          "name": "stdout",
          "text": [
            "9/9 [==============================] - 0s 3ms/step - loss: 3686.0950 - mae: 3686.0950\n"
          ]
        },
        {
          "output_type": "execute_result",
          "data": {
            "text/plain": [
              "(3686.094970703125, 3686.094970703125)"
            ]
          },
          "metadata": {},
          "execution_count": 81
        }
      ]
    },
    {
      "cell_type": "code",
      "source": [
        "insurance_1 = pd.read_csv(\"https://raw.githubusercontent.com/stedy/Machine-Learning-with-R-datasets/master/insurance.csv\")"
      ],
      "metadata": {
        "id": "9r7cVLKZI3wL"
      },
      "execution_count": 82,
      "outputs": []
    },
    {
      "cell_type": "code",
      "source": [
        "insurance_1.head()"
      ],
      "metadata": {
        "id": "Yqqkd_P6I6GZ",
        "outputId": "0e8b54a5-2323-4e19-903c-6f3f054dc2f7",
        "colab": {
          "base_uri": "https://localhost:8080/",
          "height": 206
        }
      },
      "execution_count": 83,
      "outputs": [
        {
          "output_type": "execute_result",
          "data": {
            "text/plain": [
              "   age     sex     bmi  children smoker     region      charges\n",
              "0   19  female  27.900         0    yes  southwest  16884.92400\n",
              "1   18    male  33.770         1     no  southeast   1725.55230\n",
              "2   28    male  33.000         3     no  southeast   4449.46200\n",
              "3   33    male  22.705         0     no  northwest  21984.47061\n",
              "4   32    male  28.880         0     no  northwest   3866.85520"
            ],
            "text/html": [
              "\n",
              "  <div id=\"df-69244d30-8404-4274-9139-59a62f031ab0\">\n",
              "    <div class=\"colab-df-container\">\n",
              "      <div>\n",
              "<style scoped>\n",
              "    .dataframe tbody tr th:only-of-type {\n",
              "        vertical-align: middle;\n",
              "    }\n",
              "\n",
              "    .dataframe tbody tr th {\n",
              "        vertical-align: top;\n",
              "    }\n",
              "\n",
              "    .dataframe thead th {\n",
              "        text-align: right;\n",
              "    }\n",
              "</style>\n",
              "<table border=\"1\" class=\"dataframe\">\n",
              "  <thead>\n",
              "    <tr style=\"text-align: right;\">\n",
              "      <th></th>\n",
              "      <th>age</th>\n",
              "      <th>sex</th>\n",
              "      <th>bmi</th>\n",
              "      <th>children</th>\n",
              "      <th>smoker</th>\n",
              "      <th>region</th>\n",
              "      <th>charges</th>\n",
              "    </tr>\n",
              "  </thead>\n",
              "  <tbody>\n",
              "    <tr>\n",
              "      <th>0</th>\n",
              "      <td>19</td>\n",
              "      <td>female</td>\n",
              "      <td>27.900</td>\n",
              "      <td>0</td>\n",
              "      <td>yes</td>\n",
              "      <td>southwest</td>\n",
              "      <td>16884.92400</td>\n",
              "    </tr>\n",
              "    <tr>\n",
              "      <th>1</th>\n",
              "      <td>18</td>\n",
              "      <td>male</td>\n",
              "      <td>33.770</td>\n",
              "      <td>1</td>\n",
              "      <td>no</td>\n",
              "      <td>southeast</td>\n",
              "      <td>1725.55230</td>\n",
              "    </tr>\n",
              "    <tr>\n",
              "      <th>2</th>\n",
              "      <td>28</td>\n",
              "      <td>male</td>\n",
              "      <td>33.000</td>\n",
              "      <td>3</td>\n",
              "      <td>no</td>\n",
              "      <td>southeast</td>\n",
              "      <td>4449.46200</td>\n",
              "    </tr>\n",
              "    <tr>\n",
              "      <th>3</th>\n",
              "      <td>33</td>\n",
              "      <td>male</td>\n",
              "      <td>22.705</td>\n",
              "      <td>0</td>\n",
              "      <td>no</td>\n",
              "      <td>northwest</td>\n",
              "      <td>21984.47061</td>\n",
              "    </tr>\n",
              "    <tr>\n",
              "      <th>4</th>\n",
              "      <td>32</td>\n",
              "      <td>male</td>\n",
              "      <td>28.880</td>\n",
              "      <td>0</td>\n",
              "      <td>no</td>\n",
              "      <td>northwest</td>\n",
              "      <td>3866.85520</td>\n",
              "    </tr>\n",
              "  </tbody>\n",
              "</table>\n",
              "</div>\n",
              "      <button class=\"colab-df-convert\" onclick=\"convertToInteractive('df-69244d30-8404-4274-9139-59a62f031ab0')\"\n",
              "              title=\"Convert this dataframe to an interactive table.\"\n",
              "              style=\"display:none;\">\n",
              "        \n",
              "  <svg xmlns=\"http://www.w3.org/2000/svg\" height=\"24px\"viewBox=\"0 0 24 24\"\n",
              "       width=\"24px\">\n",
              "    <path d=\"M0 0h24v24H0V0z\" fill=\"none\"/>\n",
              "    <path d=\"M18.56 5.44l.94 2.06.94-2.06 2.06-.94-2.06-.94-.94-2.06-.94 2.06-2.06.94zm-11 1L8.5 8.5l.94-2.06 2.06-.94-2.06-.94L8.5 2.5l-.94 2.06-2.06.94zm10 10l.94 2.06.94-2.06 2.06-.94-2.06-.94-.94-2.06-.94 2.06-2.06.94z\"/><path d=\"M17.41 7.96l-1.37-1.37c-.4-.4-.92-.59-1.43-.59-.52 0-1.04.2-1.43.59L10.3 9.45l-7.72 7.72c-.78.78-.78 2.05 0 2.83L4 21.41c.39.39.9.59 1.41.59.51 0 1.02-.2 1.41-.59l7.78-7.78 2.81-2.81c.8-.78.8-2.07 0-2.86zM5.41 20L4 18.59l7.72-7.72 1.47 1.35L5.41 20z\"/>\n",
              "  </svg>\n",
              "      </button>\n",
              "      \n",
              "  <style>\n",
              "    .colab-df-container {\n",
              "      display:flex;\n",
              "      flex-wrap:wrap;\n",
              "      gap: 12px;\n",
              "    }\n",
              "\n",
              "    .colab-df-convert {\n",
              "      background-color: #E8F0FE;\n",
              "      border: none;\n",
              "      border-radius: 50%;\n",
              "      cursor: pointer;\n",
              "      display: none;\n",
              "      fill: #1967D2;\n",
              "      height: 32px;\n",
              "      padding: 0 0 0 0;\n",
              "      width: 32px;\n",
              "    }\n",
              "\n",
              "    .colab-df-convert:hover {\n",
              "      background-color: #E2EBFA;\n",
              "      box-shadow: 0px 1px 2px rgba(60, 64, 67, 0.3), 0px 1px 3px 1px rgba(60, 64, 67, 0.15);\n",
              "      fill: #174EA6;\n",
              "    }\n",
              "\n",
              "    [theme=dark] .colab-df-convert {\n",
              "      background-color: #3B4455;\n",
              "      fill: #D2E3FC;\n",
              "    }\n",
              "\n",
              "    [theme=dark] .colab-df-convert:hover {\n",
              "      background-color: #434B5C;\n",
              "      box-shadow: 0px 1px 3px 1px rgba(0, 0, 0, 0.15);\n",
              "      filter: drop-shadow(0px 1px 2px rgba(0, 0, 0, 0.3));\n",
              "      fill: #FFFFFF;\n",
              "    }\n",
              "  </style>\n",
              "\n",
              "      <script>\n",
              "        const buttonEl =\n",
              "          document.querySelector('#df-69244d30-8404-4274-9139-59a62f031ab0 button.colab-df-convert');\n",
              "        buttonEl.style.display =\n",
              "          google.colab.kernel.accessAllowed ? 'block' : 'none';\n",
              "\n",
              "        async function convertToInteractive(key) {\n",
              "          const element = document.querySelector('#df-69244d30-8404-4274-9139-59a62f031ab0');\n",
              "          const dataTable =\n",
              "            await google.colab.kernel.invokeFunction('convertToInteractive',\n",
              "                                                     [key], {});\n",
              "          if (!dataTable) return;\n",
              "\n",
              "          const docLinkHtml = 'Like what you see? Visit the ' +\n",
              "            '<a target=\"_blank\" href=https://colab.research.google.com/notebooks/data_table.ipynb>data table notebook</a>'\n",
              "            + ' to learn more about interactive tables.';\n",
              "          element.innerHTML = '';\n",
              "          dataTable['output_type'] = 'display_data';\n",
              "          await google.colab.output.renderOutput(dataTable, element);\n",
              "          const docLink = document.createElement('div');\n",
              "          docLink.innerHTML = docLinkHtml;\n",
              "          element.appendChild(docLink);\n",
              "        }\n",
              "      </script>\n",
              "    </div>\n",
              "  </div>\n",
              "  "
            ]
          },
          "metadata": {},
          "execution_count": 83
        }
      ]
    },
    {
      "cell_type": "code",
      "source": [
        "from sklearn.compose import make_column_transformer\n",
        "from sklearn.preprocessing import MinMaxScaler, OneHotEncoder\n",
        "\n",
        "ct = make_column_transformer(\n",
        "    (MinMaxScaler(),['bmi','age','children']),\n",
        "    (OneHotEncoder(handle_unknown=\"ignore\"), ['sex','smoker','region'])\n",
        ")\n",
        "\n",
        "X = insurance_1.drop(['charges'], axis=1)\n",
        "y = insurance_1['charges']\n",
        "\n",
        "X_train, X_test, y_train, y_test = train_test_split(X, y, test_size=0.2, random_state=42)\n",
        "ct.fit(X_train)\n",
        "\n",
        "X_train_normal = ct.transform(X_train)\n",
        "X_test_normal = ct.transform(X_test)"
      ],
      "metadata": {
        "id": "zKuK1GEBjKIu"
      },
      "execution_count": 84,
      "outputs": []
    },
    {
      "cell_type": "code",
      "source": [
        "tf.random.set_seed(42)\n",
        "\n",
        "insurance_model_3 = models.Sequential([\n",
        "    layers.Dense(10),\n",
        "    layers.Dense(1)\n",
        "])\n",
        "\n",
        "insurance_model_3.compile(optimizer=tf.keras.optimizers.SGD(), loss=tf.keras.losses.mae, metrics=['mae'])\n",
        "\n",
        "history_3 = insurance_model_3.fit(X_train_normal, y_train, epochs=100)"
      ],
      "metadata": {
        "id": "K29AKPX2Jwih",
        "outputId": "24dfa777-e0aa-48d5-8aba-2d2754d3cf20",
        "colab": {
          "base_uri": "https://localhost:8080/"
        }
      },
      "execution_count": 90,
      "outputs": [
        {
          "output_type": "stream",
          "name": "stdout",
          "text": [
            "Epoch 1/100\n",
            "34/34 [==============================] - 1s 2ms/step - loss: 13345.3672 - mae: 13345.3672\n",
            "Epoch 2/100\n",
            "34/34 [==============================] - 0s 2ms/step - loss: 13341.7666 - mae: 13341.7666\n",
            "Epoch 3/100\n",
            "34/34 [==============================] - 0s 2ms/step - loss: 13332.6934 - mae: 13332.6934\n",
            "Epoch 4/100\n",
            "34/34 [==============================] - 0s 2ms/step - loss: 13305.5605 - mae: 13305.5605\n",
            "Epoch 5/100\n",
            "34/34 [==============================] - 0s 2ms/step - loss: 13221.9756 - mae: 13221.9756\n",
            "Epoch 6/100\n",
            "34/34 [==============================] - 0s 2ms/step - loss: 12961.8438 - mae: 12961.8438\n",
            "Epoch 7/100\n",
            "34/34 [==============================] - 0s 2ms/step - loss: 12162.9600 - mae: 12162.9600\n",
            "Epoch 8/100\n",
            "34/34 [==============================] - 0s 2ms/step - loss: 10496.7256 - mae: 10496.7256\n",
            "Epoch 9/100\n",
            "34/34 [==============================] - 0s 2ms/step - loss: 8959.3164 - mae: 8959.3164\n",
            "Epoch 10/100\n",
            "34/34 [==============================] - 0s 2ms/step - loss: 8281.2432 - mae: 8281.2432\n",
            "Epoch 11/100\n",
            "34/34 [==============================] - 0s 2ms/step - loss: 8016.5605 - mae: 8016.5605\n",
            "Epoch 12/100\n",
            "34/34 [==============================] - 0s 2ms/step - loss: 7801.0962 - mae: 7801.0962\n",
            "Epoch 13/100\n",
            "34/34 [==============================] - 0s 2ms/step - loss: 7570.1953 - mae: 7570.1953\n",
            "Epoch 14/100\n",
            "34/34 [==============================] - 0s 2ms/step - loss: 7303.2031 - mae: 7303.2031\n",
            "Epoch 15/100\n",
            "34/34 [==============================] - 0s 2ms/step - loss: 6999.1030 - mae: 6999.1030\n",
            "Epoch 16/100\n",
            "34/34 [==============================] - 0s 2ms/step - loss: 6637.0845 - mae: 6637.0845\n",
            "Epoch 17/100\n",
            "34/34 [==============================] - 0s 2ms/step - loss: 6213.5571 - mae: 6213.5571\n",
            "Epoch 18/100\n",
            "34/34 [==============================] - 0s 2ms/step - loss: 5693.6968 - mae: 5693.6968\n",
            "Epoch 19/100\n",
            "34/34 [==============================] - 0s 2ms/step - loss: 5108.6108 - mae: 5108.6108\n",
            "Epoch 20/100\n",
            "34/34 [==============================] - 0s 2ms/step - loss: 4532.9917 - mae: 4532.9917\n",
            "Epoch 21/100\n",
            "34/34 [==============================] - 0s 2ms/step - loss: 4119.5459 - mae: 4119.5459\n",
            "Epoch 22/100\n",
            "34/34 [==============================] - 0s 2ms/step - loss: 3872.7368 - mae: 3872.7368\n",
            "Epoch 23/100\n",
            "34/34 [==============================] - 0s 2ms/step - loss: 3752.2861 - mae: 3752.2861\n",
            "Epoch 24/100\n",
            "34/34 [==============================] - 0s 2ms/step - loss: 3709.3247 - mae: 3709.3247\n",
            "Epoch 25/100\n",
            "34/34 [==============================] - 0s 2ms/step - loss: 3690.9128 - mae: 3690.9128\n",
            "Epoch 26/100\n",
            "34/34 [==============================] - 0s 2ms/step - loss: 3686.4238 - mae: 3686.4238\n",
            "Epoch 27/100\n",
            "34/34 [==============================] - 0s 2ms/step - loss: 3675.0918 - mae: 3675.0918\n",
            "Epoch 28/100\n",
            "34/34 [==============================] - 0s 2ms/step - loss: 3668.6780 - mae: 3668.6780\n",
            "Epoch 29/100\n",
            "34/34 [==============================] - 0s 2ms/step - loss: 3661.2678 - mae: 3661.2678\n",
            "Epoch 30/100\n",
            "34/34 [==============================] - 0s 2ms/step - loss: 3662.7310 - mae: 3662.7310\n",
            "Epoch 31/100\n",
            "34/34 [==============================] - 0s 3ms/step - loss: 3655.1006 - mae: 3655.1006\n",
            "Epoch 32/100\n",
            "34/34 [==============================] - 0s 2ms/step - loss: 3644.7668 - mae: 3644.7668\n",
            "Epoch 33/100\n",
            "34/34 [==============================] - 0s 2ms/step - loss: 3645.9841 - mae: 3645.9841\n",
            "Epoch 34/100\n",
            "34/34 [==============================] - 0s 2ms/step - loss: 3639.5535 - mae: 3639.5535\n",
            "Epoch 35/100\n",
            "34/34 [==============================] - 0s 2ms/step - loss: 3631.3342 - mae: 3631.3342\n",
            "Epoch 36/100\n",
            "34/34 [==============================] - 0s 2ms/step - loss: 3632.3318 - mae: 3632.3318\n",
            "Epoch 37/100\n",
            "34/34 [==============================] - 0s 2ms/step - loss: 3624.9729 - mae: 3624.9729\n",
            "Epoch 38/100\n",
            "34/34 [==============================] - 0s 2ms/step - loss: 3611.7732 - mae: 3611.7732\n",
            "Epoch 39/100\n",
            "34/34 [==============================] - 0s 2ms/step - loss: 3608.9871 - mae: 3608.9871\n",
            "Epoch 40/100\n",
            "34/34 [==============================] - 0s 2ms/step - loss: 3595.8096 - mae: 3595.8096\n",
            "Epoch 41/100\n",
            "34/34 [==============================] - 0s 2ms/step - loss: 3590.4783 - mae: 3590.4783\n",
            "Epoch 42/100\n",
            "34/34 [==============================] - 0s 2ms/step - loss: 3586.6846 - mae: 3586.6846\n",
            "Epoch 43/100\n",
            "34/34 [==============================] - 0s 2ms/step - loss: 3581.2549 - mae: 3581.2549\n",
            "Epoch 44/100\n",
            "34/34 [==============================] - 0s 2ms/step - loss: 3576.2441 - mae: 3576.2441\n",
            "Epoch 45/100\n",
            "34/34 [==============================] - 0s 2ms/step - loss: 3568.4910 - mae: 3568.4910\n",
            "Epoch 46/100\n",
            "34/34 [==============================] - 0s 2ms/step - loss: 3568.0034 - mae: 3568.0034\n",
            "Epoch 47/100\n",
            "34/34 [==============================] - 0s 2ms/step - loss: 3559.7107 - mae: 3559.7107\n",
            "Epoch 48/100\n",
            "34/34 [==============================] - 0s 2ms/step - loss: 3552.7036 - mae: 3552.7036\n",
            "Epoch 49/100\n",
            "34/34 [==============================] - 0s 2ms/step - loss: 3548.1072 - mae: 3548.1072\n",
            "Epoch 50/100\n",
            "34/34 [==============================] - 0s 2ms/step - loss: 3546.3914 - mae: 3546.3914\n",
            "Epoch 51/100\n",
            "34/34 [==============================] - 0s 2ms/step - loss: 3543.5513 - mae: 3543.5513\n",
            "Epoch 52/100\n",
            "34/34 [==============================] - 0s 2ms/step - loss: 3533.2708 - mae: 3533.2708\n",
            "Epoch 53/100\n",
            "34/34 [==============================] - 0s 2ms/step - loss: 3534.1101 - mae: 3534.1101\n",
            "Epoch 54/100\n",
            "34/34 [==============================] - 0s 2ms/step - loss: 3534.3020 - mae: 3534.3020\n",
            "Epoch 55/100\n",
            "34/34 [==============================] - 0s 2ms/step - loss: 3526.0933 - mae: 3526.0933\n",
            "Epoch 56/100\n",
            "34/34 [==============================] - 0s 2ms/step - loss: 3523.2258 - mae: 3523.2258\n",
            "Epoch 57/100\n",
            "34/34 [==============================] - 0s 2ms/step - loss: 3517.7549 - mae: 3517.7549\n",
            "Epoch 58/100\n",
            "34/34 [==============================] - 0s 2ms/step - loss: 3522.5435 - mae: 3522.5435\n",
            "Epoch 59/100\n",
            "34/34 [==============================] - 0s 2ms/step - loss: 3510.8181 - mae: 3510.8181\n",
            "Epoch 60/100\n",
            "34/34 [==============================] - 0s 2ms/step - loss: 3512.2869 - mae: 3512.2869\n",
            "Epoch 61/100\n",
            "34/34 [==============================] - 0s 2ms/step - loss: 3516.4963 - mae: 3516.4963\n",
            "Epoch 62/100\n",
            "34/34 [==============================] - 0s 2ms/step - loss: 3499.1938 - mae: 3499.1938\n",
            "Epoch 63/100\n",
            "34/34 [==============================] - 0s 2ms/step - loss: 3500.7644 - mae: 3500.7644\n",
            "Epoch 64/100\n",
            "34/34 [==============================] - 0s 2ms/step - loss: 3487.5657 - mae: 3487.5657\n",
            "Epoch 65/100\n",
            "34/34 [==============================] - 0s 2ms/step - loss: 3489.2473 - mae: 3489.2473\n",
            "Epoch 66/100\n",
            "34/34 [==============================] - 0s 4ms/step - loss: 3488.2463 - mae: 3488.2463\n",
            "Epoch 67/100\n",
            "34/34 [==============================] - 0s 6ms/step - loss: 3484.6897 - mae: 3484.6897\n",
            "Epoch 68/100\n",
            "34/34 [==============================] - 0s 4ms/step - loss: 3488.8237 - mae: 3488.8237\n",
            "Epoch 69/100\n",
            "34/34 [==============================] - 0s 6ms/step - loss: 3489.9055 - mae: 3489.9055\n",
            "Epoch 70/100\n",
            "34/34 [==============================] - 0s 6ms/step - loss: 3495.2581 - mae: 3495.2581\n",
            "Epoch 71/100\n",
            "34/34 [==============================] - 0s 4ms/step - loss: 3487.7063 - mae: 3487.7063\n",
            "Epoch 72/100\n",
            "34/34 [==============================] - 0s 7ms/step - loss: 3496.8071 - mae: 3496.8071\n",
            "Epoch 73/100\n",
            "34/34 [==============================] - 0s 5ms/step - loss: 3488.1135 - mae: 3488.1135\n",
            "Epoch 74/100\n",
            "34/34 [==============================] - 0s 9ms/step - loss: 3488.0801 - mae: 3488.0801\n",
            "Epoch 75/100\n",
            "34/34 [==============================] - 0s 6ms/step - loss: 3488.9316 - mae: 3488.9316\n",
            "Epoch 76/100\n",
            "34/34 [==============================] - 0s 5ms/step - loss: 3480.7759 - mae: 3480.7759\n",
            "Epoch 77/100\n",
            "34/34 [==============================] - 0s 6ms/step - loss: 3488.6042 - mae: 3488.6042\n",
            "Epoch 78/100\n",
            "34/34 [==============================] - 0s 4ms/step - loss: 3483.1995 - mae: 3483.1995\n",
            "Epoch 79/100\n",
            "34/34 [==============================] - 0s 4ms/step - loss: 3493.7356 - mae: 3493.7356\n",
            "Epoch 80/100\n",
            "34/34 [==============================] - 0s 3ms/step - loss: 3492.4836 - mae: 3492.4836\n",
            "Epoch 81/100\n",
            "34/34 [==============================] - 0s 3ms/step - loss: 3485.0276 - mae: 3485.0276\n",
            "Epoch 82/100\n",
            "34/34 [==============================] - 0s 3ms/step - loss: 3488.2473 - mae: 3488.2473\n",
            "Epoch 83/100\n",
            "34/34 [==============================] - 0s 3ms/step - loss: 3494.5403 - mae: 3494.5403\n",
            "Epoch 84/100\n",
            "34/34 [==============================] - 0s 3ms/step - loss: 3479.6399 - mae: 3479.6399\n",
            "Epoch 85/100\n",
            "34/34 [==============================] - 0s 3ms/step - loss: 3485.9211 - mae: 3485.9211\n",
            "Epoch 86/100\n",
            "34/34 [==============================] - 0s 4ms/step - loss: 3481.4473 - mae: 3481.4473\n",
            "Epoch 87/100\n",
            "34/34 [==============================] - 0s 4ms/step - loss: 3487.2163 - mae: 3487.2163\n",
            "Epoch 88/100\n",
            "34/34 [==============================] - 0s 4ms/step - loss: 3495.1892 - mae: 3495.1892\n",
            "Epoch 89/100\n",
            "34/34 [==============================] - 0s 4ms/step - loss: 3488.8315 - mae: 3488.8315\n",
            "Epoch 90/100\n",
            "34/34 [==============================] - 0s 4ms/step - loss: 3493.6667 - mae: 3493.6667\n",
            "Epoch 91/100\n",
            "34/34 [==============================] - 0s 4ms/step - loss: 3491.0854 - mae: 3491.0854\n",
            "Epoch 92/100\n",
            "34/34 [==============================] - 0s 6ms/step - loss: 3497.5259 - mae: 3497.5259\n",
            "Epoch 93/100\n",
            "34/34 [==============================] - 0s 5ms/step - loss: 3487.7310 - mae: 3487.7310\n",
            "Epoch 94/100\n",
            "34/34 [==============================] - 0s 5ms/step - loss: 3486.5083 - mae: 3486.5083\n",
            "Epoch 95/100\n",
            "34/34 [==============================] - 0s 6ms/step - loss: 3485.2639 - mae: 3485.2639\n",
            "Epoch 96/100\n",
            "34/34 [==============================] - 0s 7ms/step - loss: 3482.2920 - mae: 3482.2920\n",
            "Epoch 97/100\n",
            "34/34 [==============================] - 0s 6ms/step - loss: 3490.4385 - mae: 3490.4385\n",
            "Epoch 98/100\n",
            "34/34 [==============================] - 0s 4ms/step - loss: 3481.3513 - mae: 3481.3513\n",
            "Epoch 99/100\n",
            "34/34 [==============================] - 0s 8ms/step - loss: 3490.5386 - mae: 3490.5386\n",
            "Epoch 100/100\n",
            "34/34 [==============================] - 0s 6ms/step - loss: 3499.0947 - mae: 3499.0947\n"
          ]
        }
      ]
    },
    {
      "cell_type": "code",
      "source": [
        "insurance_model_3_loss, insurance_model_3_mae = insurance_model_3.evaluate(X_test_normal, y_test)\n",
        "insurance_model_3_loss, insurance_model_3_mae"
      ],
      "metadata": {
        "id": "Ln7sumQbKagK",
        "outputId": "2e1d4619-d9f3-481d-d217-87de85c63f0d",
        "colab": {
          "base_uri": "https://localhost:8080/"
        }
      },
      "execution_count": 89,
      "outputs": [
        {
          "output_type": "stream",
          "name": "stdout",
          "text": [
            "9/9 [==============================] - 0s 5ms/step - loss: 3160.5896 - mae: 3160.5896\n"
          ]
        },
        {
          "output_type": "execute_result",
          "data": {
            "text/plain": [
              "(3160.589599609375, 3160.589599609375)"
            ]
          },
          "metadata": {},
          "execution_count": 89
        }
      ]
    },
    {
      "cell_type": "code",
      "source": [
        "pd.DataFrame(history_3.history).plot()\n",
        "plt.xlabel('Epochs')\n",
        "plt.ylabel('Loss')"
      ],
      "metadata": {
        "id": "K3105-73K7q-",
        "outputId": "934e3c07-b653-4a9c-fff0-343ac933e861",
        "colab": {
          "base_uri": "https://localhost:8080/",
          "height": 466
        }
      },
      "execution_count": 92,
      "outputs": [
        {
          "output_type": "execute_result",
          "data": {
            "text/plain": [
              "Text(0, 0.5, 'Loss')"
            ]
          },
          "metadata": {},
          "execution_count": 92
        },
        {
          "output_type": "display_data",
          "data": {
            "text/plain": [
              "<Figure size 640x480 with 1 Axes>"
            ],
            "image/png": "[encoded data removed]"
          },
          "metadata": {}
        }
      ]
    },
    {
      "cell_type": "code",
      "source": [],
      "metadata": {
        "id": "Bp23njM3LGqc"
      },
      "execution_count": null,
      "outputs": []
    }
  ]
}