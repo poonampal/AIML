{
  "cells": [
    {
      "cell_type": "markdown",
      "metadata": {
        "id": "view-in-github",
        "colab_type": "text"
      },
      "source": [
        "<a href=\"https://colab.research.google.com/github/poonampal/AIML/blob/master/04_transfer_learning_with_tensorflow.ipynb\" target=\"_parent\"><img src=\"https://colab.research.google.com/assets/colab-badge.svg\" alt=\"Open In Colab\"/></a>"
      ]
    },
    {
      "cell_type": "code",
      "execution_count": null,
      "metadata": {
        "colab": {
          "base_uri": "https://localhost:8080/"
        },
        "id": "mZKLHJOpTtyz",
        "outputId": "5f057592-d1c7-4262-cbab-2a2c2840982e"
      },
      "outputs": [
        {
          "name": "stdout",
          "output_type": "stream",
          "text": [
            "Notebook last run 2023-05-16 13:10:32.579195\n"
          ]
        }
      ],
      "source": [
        "import datetime\n",
        "print(f\"Notebook last run {datetime.datetime.now()}\")"
      ]
    },
    {
      "cell_type": "code",
      "execution_count": null,
      "metadata": {
        "colab": {
          "base_uri": "https://localhost:8080/"
        },
        "id": "IV0qU90PT_Hy",
        "outputId": "373cd46c-6021-4113-bb04-685c3951a961"
      },
      "outputs": [
        {
          "name": "stdout",
          "output_type": "stream",
          "text": [
            "Tue May 16 13:10:33 2023       \n",
            "+-----------------------------------------------------------------------------+\n",
            "| NVIDIA-SMI 525.85.12    Driver Version: 525.85.12    CUDA Version: 12.0     |\n",
            "|-------------------------------+----------------------+----------------------+\n",
            "| GPU  Name        Persistence-M| Bus-Id        Disp.A | Volatile Uncorr. ECC |\n",
            "| Fan  Temp  Perf  Pwr:Usage/Cap|         Memory-Usage | GPU-Util  Compute M. |\n",
            "|                               |                      |               MIG M. |\n",
            "|===============================+======================+======================|\n",
            "|   0  Tesla T4            Off  | 00000000:00:04.0 Off |                    0 |\n",
            "| N/A   55C    P8    12W /  70W |      0MiB / 15360MiB |      0%      Default |\n",
            "|                               |                      |                  N/A |\n",
            "+-------------------------------+----------------------+----------------------+\n",
            "                                                                               \n",
            "+-----------------------------------------------------------------------------+\n",
            "| Processes:                                                                  |\n",
            "|  GPU   GI   CI        PID   Type   Process name                  GPU Memory |\n",
            "|        ID   ID                                                   Usage      |\n",
            "|=============================================================================|\n",
            "|  No running processes found                                                 |\n",
            "+-----------------------------------------------------------------------------+\n"
          ]
        }
      ],
      "source": [
        "!nvidia-smi"
      ]
    },
    {
      "cell_type": "code",
      "execution_count": null,
      "metadata": {
        "id": "mu5ntpufUDpl"
      },
      "outputs": [],
      "source": [
        "import zipfile\n"
      ]
    },
    {
      "cell_type": "code",
      "execution_count": null,
      "metadata": {
        "colab": {
          "base_uri": "https://localhost:8080/"
        },
        "id": "EIeWBxjCUHdm",
        "outputId": "7f695958-c72e-4f63-bf25-c33feab2f722"
      },
      "outputs": [
        {
          "name": "stdout",
          "output_type": "stream",
          "text": [
            "--2023-05-16 13:10:37--  https://storage.googleapis.com/ztm_tf_course/food_vision/10_food_classes_10_percent.zip\n",
            "Resolving storage.googleapis.com (storage.googleapis.com)... 64.233.191.128, 173.194.74.128, 173.194.192.128, ...\n",
            "Connecting to storage.googleapis.com (storage.googleapis.com)|64.233.191.128|:443... connected.\n",
            "HTTP request sent, awaiting response... 200 OK\n",
            "Length: 168546183 (161M) [application/zip]\n",
            "Saving to: ‘10_food_classes_10_percent.zip’\n",
            "\n",
            "10_food_classes_10_ 100%[===================>] 160.74M   147MB/s    in 1.1s    \n",
            "\n",
            "2023-05-16 13:10:39 (147 MB/s) - ‘10_food_classes_10_percent.zip’ saved [168546183/168546183]\n",
            "\n"
          ]
        }
      ],
      "source": [
        "!wget https://storage.googleapis.com/ztm_tf_course/food_vision/10_food_classes_10_percent.zip"
      ]
    },
    {
      "cell_type": "code",
      "execution_count": null,
      "metadata": {
        "id": "atlrJ90OUJtS"
      },
      "outputs": [],
      "source": [
        "zip_ref = zipfile.ZipFile(\"10_food_classes_10_percent.zip\", \"r\")\n",
        "zip_ref.extractall()\n",
        "zip_ref.close()"
      ]
    },
    {
      "cell_type": "code",
      "execution_count": null,
      "metadata": {
        "colab": {
          "base_uri": "https://localhost:8080/"
        },
        "id": "HzgMbtPEUWfj",
        "outputId": "e83df4b3-f8d9-4214-af91-86a4164660b2"
      },
      "outputs": [
        {
          "name": "stdout",
          "output_type": "stream",
          "text": [
            "There are  2 directories and 0 images in '10_food_classes_10_percent'\n",
            "There are  10 directories and 0 images in '10_food_classes_10_percent/train'\n",
            "There are  0 directories and 75 images in '10_food_classes_10_percent/train/grilled_salmon'\n",
            "There are  0 directories and 75 images in '10_food_classes_10_percent/train/hamburger'\n",
            "There are  0 directories and 75 images in '10_food_classes_10_percent/train/ramen'\n",
            "There are  0 directories and 75 images in '10_food_classes_10_percent/train/ice_cream'\n",
            "There are  0 directories and 75 images in '10_food_classes_10_percent/train/chicken_curry'\n",
            "There are  0 directories and 75 images in '10_food_classes_10_percent/train/sushi'\n",
            "There are  0 directories and 75 images in '10_food_classes_10_percent/train/pizza'\n",
            "There are  0 directories and 75 images in '10_food_classes_10_percent/train/chicken_wings'\n",
            "There are  0 directories and 75 images in '10_food_classes_10_percent/train/steak'\n",
            "There are  0 directories and 75 images in '10_food_classes_10_percent/train/fried_rice'\n",
            "There are  10 directories and 0 images in '10_food_classes_10_percent/test'\n",
            "There are  0 directories and 250 images in '10_food_classes_10_percent/test/grilled_salmon'\n",
            "There are  0 directories and 250 images in '10_food_classes_10_percent/test/hamburger'\n",
            "There are  0 directories and 250 images in '10_food_classes_10_percent/test/ramen'\n",
            "There are  0 directories and 250 images in '10_food_classes_10_percent/test/ice_cream'\n",
            "There are  0 directories and 250 images in '10_food_classes_10_percent/test/chicken_curry'\n",
            "There are  0 directories and 250 images in '10_food_classes_10_percent/test/sushi'\n",
            "There are  0 directories and 250 images in '10_food_classes_10_percent/test/pizza'\n",
            "There are  0 directories and 250 images in '10_food_classes_10_percent/test/chicken_wings'\n",
            "There are  0 directories and 250 images in '10_food_classes_10_percent/test/steak'\n",
            "There are  0 directories and 250 images in '10_food_classes_10_percent/test/fried_rice'\n"
          ]
        }
      ],
      "source": [
        "import os\n",
        "\n",
        "for dirpath, dirnames, filenames in os.walk('10_food_classes_10_percent'):\n",
        "  print(f\"There are  {len(dirnames)} directories and {len(filenames)} images in '{dirpath}'\")"
      ]
    },
    {
      "cell_type": "code",
      "execution_count": null,
      "metadata": {
        "colab": {
          "base_uri": "https://localhost:8080/"
        },
        "id": "L3dZ7H5YU7OQ",
        "outputId": "13706633-a966-47d5-af7c-5ca4325f0520"
      },
      "outputs": [
        {
          "name": "stdout",
          "output_type": "stream",
          "text": [
            "Training images\n",
            "Found 750 images belonging to 10 classes.\n",
            "Testing images\n",
            "Found 2500 images belonging to 10 classes.\n"
          ]
        }
      ],
      "source": [
        "from tensorflow.keras.preprocessing.image import ImageDataGenerator\n",
        "IMAGE_SHAPE =(224,224)\n",
        "BATCH_SIZE = 32\n",
        "\n",
        "train_dir = \"10_food_classes_10_percent/train/\"\n",
        "test_dir = \"10_food_classes_10_percent/test/\"\n",
        "\n",
        "train_datagen = ImageDataGenerator(rescale=1/255)\n",
        "test_datagen = ImageDataGenerator(rescale=1/255)\n",
        "\n",
        "print(\"Training images\")\n",
        "train_data_10_percent = train_datagen.flow_from_directory(train_dir, target_size= IMAGE_SHAPE, batch_size=BATCH_SIZE, class_mode='categorical')\n",
        "\n",
        "print(\"Testing images\")\n",
        "test_data_10_percent = test_datagen.flow_from_directory(test_dir, target_size=IMAGE_SHAPE, batch_size=BATCH_SIZE, class_mode='categorical')\n",
        "\n"
      ]
    },
    {
      "cell_type": "code",
      "execution_count": null,
      "metadata": {
        "id": "Z3zNIpXDWK6f"
      },
      "outputs": [],
      "source": [
        "import datetime\n",
        "\n",
        "def create_tensorboard_callback(dir_name, experiment_name):\n",
        "  log_dir = dir_name + '/' + experiment_name + '/' + datetime.datetime.now().strftime('%Y%m%d-%H%M%S')\n",
        "  tensorboard_callback = tf.keras.callbacks.TensorBoard(\n",
        "      log_dir=log_dir\n",
        "  )\n",
        "  print(f\"Saving tensorboard log files at: {log_dir}\")\n",
        "\n",
        "  return tensorboard_callback"
      ]
    },
    {
      "cell_type": "code",
      "execution_count": null,
      "metadata": {
        "id": "LPxOKNdiXCj6"
      },
      "outputs": [],
      "source": [
        "import tensorflow as tf\n",
        "import tensorflow_hub as hub\n",
        "from tensorflow.keras import layers"
      ]
    },
    {
      "cell_type": "code",
      "execution_count": null,
      "metadata": {
        "id": "PtPvOWR6XOJR"
      },
      "outputs": [],
      "source": [
        "# Resnet 50 V2 feature vector\n",
        "resnet_url = \"https://tfhub.dev/google/imagenet/resnet_v2_50/feature_vector/4\"\n",
        "\n",
        "# Original: EfficientNetB0 feature vector (version 1)\n",
        "efficientnet_url = \"https://tfhub.dev/tensorflow/efficientnet/b0/feature-vector/1\"\n",
        "\n",
        "# # New: EfficientNetB0 feature vector (version 2)\n",
        "# efficientnet_url = \"https://tfhub.dev/google/imagenet/efficientnet_v2_imagenet1k_b0/feature_vector/2\""
      ]
    },
    {
      "cell_type": "code",
      "execution_count": null,
      "metadata": {
        "id": "dUkQwIVCXUTi"
      },
      "outputs": [],
      "source": [
        "def create_model(model_url, num_classes=10):\n",
        "  feature_extractor_layer = hub.KerasLayer(model_url, trainable= False, name ='feature_extractor_layer', input_shape=IMAGE_SHAPE+(3,))\n",
        "\n",
        "  model = tf.keras.Sequential([\n",
        "      feature_extractor_layer,\n",
        "      layers.Dense(num_classes, activation='softmax', name='output_layer')\n",
        "  ])\n",
        "\n",
        "  return model"
      ]
    },
    {
      "cell_type": "code",
      "execution_count": null,
      "metadata": {
        "id": "oW8bz09dYAk-"
      },
      "outputs": [],
      "source": [
        "resnet_model = create_model(resnet_url, num_classes=train_data_10_percent.num_classes)\n",
        "\n",
        "resnet_model.compile(loss='categorical_crossentropy', optimizer=tf.keras.optimizers.Adam(), metrics =['accuracy'])\n"
      ]
    },
    {
      "cell_type": "code",
      "execution_count": null,
      "metadata": {
        "colab": {
          "base_uri": "https://localhost:8080/"
        },
        "id": "NMJloPXpYkhk",
        "outputId": "de4b49b4-eb11-4a52-a5b1-104d3b310d65"
      },
      "outputs": [
        {
          "name": "stdout",
          "output_type": "stream",
          "text": [
            "Saving tensorboard log files at: tensorflow_hub/resnet50V2/20230516-131129\n",
            "Epoch 1/5\n",
            "24/24 [==============================] - 34s 873ms/step - loss: 1.9513 - accuracy: 0.3467 - val_loss: 1.1922 - val_accuracy: 0.6292\n",
            "Epoch 2/5\n",
            "24/24 [==============================] - 19s 795ms/step - loss: 0.9166 - accuracy: 0.6933 - val_loss: 0.8384 - val_accuracy: 0.7360\n",
            "Epoch 3/5\n",
            "24/24 [==============================] - 17s 746ms/step - loss: 0.6378 - accuracy: 0.8080 - val_loss: 0.7509 - val_accuracy: 0.7612\n",
            "Epoch 4/5\n",
            "24/24 [==============================] - 24s 1s/step - loss: 0.4944 - accuracy: 0.8613 - val_loss: 0.7109 - val_accuracy: 0.7716\n",
            "Epoch 5/5\n",
            "24/24 [==============================] - 18s 757ms/step - loss: 0.3903 - accuracy: 0.9067 - val_loss: 0.6708 - val_accuracy: 0.7776\n"
          ]
        }
      ],
      "source": [
        "resnet_history = resnet_model.fit(train_data_10_percent, epochs=5, steps_per_epoch=len(train_data_10_percent), validation_data= test_data_10_percent, validation_steps = len(test_data_10_percent), \n",
        "                                  callbacks = [create_tensorboard_callback(dir_name='tensorflow_hub', experiment_name='resnet50V2')])"
      ]
    },
    {
      "cell_type": "code",
      "execution_count": null,
      "metadata": {
        "id": "wLnq4aVEZJMC"
      },
      "outputs": [],
      "source": [
        "import matplotlib.pyplot as plt\n"
      ]
    },
    {
      "cell_type": "code",
      "execution_count": null,
      "metadata": {
        "id": "hh3A4RTUZqbB"
      },
      "outputs": [],
      "source": [
        "def plot_loss_curves(history):\n",
        "\n",
        "  loss = history.history['loss']\n",
        "  val_loss = history.history['val_loss']\n",
        "\n",
        "  accuracy = history.history['accuracy']\n",
        "  val_accuracy = history.history['val_accuracy']\n",
        "\n",
        "  epochs = range(len(loss))\n",
        "\n",
        "  plt.plot(epochs, loss, label='Training_Loss')\n",
        "  plt.plot(epochs, val_loss, label='Validation_Loss')\n",
        "  plt.xlabel('Epochs')\n",
        "  plt.title('Loss')\n",
        "  plt.legend()\n",
        "\n",
        "  plt.figure()\n",
        "  plt.plot(epochs, accuracy, label='Training_Accuracy')\n",
        "  plt.plot(epochs, val_accuracy, label='Validation_Accuracy')\n",
        "  plt.xlabel('Epochs')\n",
        "  plt.title('Accuracy')\n",
        "  plt.legend()"
      ]
    },
    {
      "cell_type": "code",
      "execution_count": null,
      "metadata": {
        "colab": {
          "base_uri": "https://localhost:8080/",
          "height": 927
        },
        "id": "ysP-wz8-m9EO",
        "outputId": "85104c73-a1d6-456a-96a8-20d58bb442f1"
      },
      "outputs": [
        {
          "data": {
            "image/png": "[encoded data removed]",
            "text/plain": [
              "<Figure size 640x480 with 1 Axes>"
            ]
          },
          "metadata": {},
          "output_type": "display_data"
        },
        {
          "data": {
            "image/png": "[encoded data removed]",
            "text/plain": [
              "<Figure size 640x480 with 1 Axes>"
            ]
          },
          "metadata": {},
          "output_type": "display_data"
        }
      ],
      "source": [
        "plot_loss_curves(resnet_history)"
      ]
    },
    {
      "cell_type": "code",
      "execution_count": null,
      "metadata": {
        "colab": {
          "base_uri": "https://localhost:8080/"
        },
        "id": "xJ6Uh2QunfwR",
        "outputId": "cb491742-5330-4b05-bb4c-d42e23bba33a"
      },
      "outputs": [
        {
          "name": "stdout",
          "output_type": "stream",
          "text": [
            "Model: \"sequential\"\n",
            "_________________________________________________________________\n",
            " Layer (type)                Output Shape              Param #   \n",
            "=================================================================\n",
            " feature_extractor_layer (Ke  (None, 2048)             23564800  \n",
            " rasLayer)                                                       \n",
            "                                                                 \n",
            " output_layer (Dense)        (None, 10)                20490     \n",
            "                                                                 \n",
            "=================================================================\n",
            "Total params: 23,585,290\n",
            "Trainable params: 20,490\n",
            "Non-trainable params: 23,564,800\n",
            "_________________________________________________________________\n"
          ]
        }
      ],
      "source": [
        "resnet_model.summary()"
      ]
    },
    {
      "cell_type": "code",
      "execution_count": null,
      "metadata": {
        "colab": {
          "background_save": true,
          "base_uri": "https://localhost:8080/"
        },
        "id": "kpvBgd4Bnmc-",
        "outputId": "5e626bc4-7424-421f-d277-08f07a146167"
      },
      "outputs": [
        {
          "name": "stdout",
          "output_type": "stream",
          "text": [
            "Saving tensorboard log files at: tensorflow_hub/efficientnet/20230516-125800\n",
            "Epoch 1/5\n",
            "24/24 [==============================] - 343s 14s/step - loss: 1.8686 - accuracy: 0.4507 - val_loss: 1.2903 - val_accuracy: 0.7388\n",
            "Epoch 2/5\n",
            "24/24 [==============================] - 257s 11s/step - loss: 1.0613 - accuracy: 0.7773 - val_loss: 0.8629 - val_accuracy: 0.8328\n",
            "Epoch 3/5\n",
            "24/24 [==============================] - 322s 14s/step - loss: 0.7552 - accuracy: 0.8400 - val_loss: 0.6908 - val_accuracy: 0.8488\n",
            "Epoch 4/5\n",
            "24/24 [==============================] - 255s 11s/step - loss: 0.6027 - accuracy: 0.8707 - val_loss: 0.6089 - val_accuracy: 0.8588\n",
            "Epoch 5/5\n",
            "24/24 [==============================] - 255s 11s/step - loss: 0.5106 - accuracy: 0.8893 - val_loss: 0.5565 - val_accuracy: 0.8640\n"
          ]
        }
      ],
      "source": [
        "efficientnet_model = create_model(model_url=efficientnet_url, num_classes=train_data_10_percent.num_classes)\n",
        "\n",
        "efficientnet_model.compile(loss='categorical_crossentropy', optimizer=tf.keras.optimizers.Adam(), metrics=['accuracy'])\n",
        "\n",
        "efficientnet_history = efficientnet_model.fit(train_data_10_percent, epochs=5, steps_per_epoch= len(train_data_10_percent), validation_data= test_data_10_percent, validation_steps=len(test_data_10_percent),\n",
        "                                              callbacks=[create_tensorboard_callback(dir_name='tensorflow_hub', experiment_name='efficientnet')])"
      ]
    },
    {
      "cell_type": "code",
      "execution_count": null,
      "metadata": {
        "colab": {
          "base_uri": "https://localhost:8080/"
        },
        "id": "QSn8vEWfo2Ij",
        "outputId": "752d7a3f-f511-4b4c-b52a-794f4999650c"
      },
      "outputs": [
        {
          "name": "stdout",
          "output_type": "stream",
          "text": [
            "2023-05-16 13:15:57.840225: W tensorflow/compiler/tf2tensorrt/utils/py_utils.cc:38] TF-TRT Warning: Could not find TensorRT\n",
            "\n",
            "***** TensorBoard Uploader *****\n",
            "\n",
            "This will upload your TensorBoard logs to https://tensorboard.dev/ from\n",
            "the following directory:\n",
            "\n",
            "./tensorflow_hub/\n",
            "\n",
            "This TensorBoard will be visible to everyone. Do not upload sensitive\n",
            "data.\n",
            "\n",
            "Your use of this service is subject to Google's Terms of Service\n",
            "<https://policies.google.com/terms> and Privacy Policy\n",
            "<https://policies.google.com/privacy>, and TensorBoard.dev's Terms of Service\n",
            "<https://tensorboard.dev/policy/terms/>.\n",
            "\n",
            "This notice will not be shown again while you are logged into the uploader.\n",
            "To log out, run `tensorboard dev auth revoke`.\n",
            "\n",
            "Continue? (yes/NO) yes\n",
            "\n",
            "To sign in with the TensorBoard uploader:\n",
            "\n",
            "1. On your computer or phone, visit:\n",
            "\n",
            "   https://www.google.com/device\n",
            "\n",
            "2. Sign in with your Google account, then enter:\n",
            "\n",
            "   YQBB-HWCX\n",
            "\n",
            "\n",
            "\n",
            "New experiment created. View your TensorBoard at: https://tensorboard.dev/experiment/W8Z7EXQsQCW4BG5wZnBfAg/\n",
            "\n",
            "\u001b[1m[2023-05-16T13:23:14]\u001b[0m Started scanning logdir.\n",
            "\u001b[1m[2023-05-16T13:23:17]\u001b[0m Total uploaded: 60 scalars, 0 tensors, 2 binary objects (5.7 MB)\n",
            "\u001b[1m[2023-05-16T13:23:17]\u001b[0m Done scanning logdir.\n",
            "\n",
            "\n",
            "Done. View your TensorBoard at https://tensorboard.dev/experiment/W8Z7EXQsQCW4BG5wZnBfAg/\n"
          ]
        }
      ],
      "source": [
        "!tensorboard dev upload --logdir ./tensorflow_hub/ \\\n",
        "--name \"Efficientnet vs Resnet\" \\\n",
        "--description \"Comparing two different TF hub feature extraction models architectures using 10% of training images\" \\\n",
        "--one_shot"
      ]
    },
    {
      "cell_type": "code",
      "execution_count": 21,
      "metadata": {
        "colab": {
          "base_uri": "https://localhost:8080/"
        },
        "id": "ld1KsZYHsX1n",
        "outputId": "31313171-6afb-4677-c27e-16ae735d1a84"
      },
      "outputs": [
        {
          "output_type": "stream",
          "name": "stdout",
          "text": [
            "2023-05-16 13:26:30.950558: W tensorflow/compiler/tf2tensorrt/utils/py_utils.cc:38] TF-TRT Warning: Could not find TensorRT\n",
            "https://tensorboard.dev/experiment/W8Z7EXQsQCW4BG5wZnBfAg/\n",
            "\tName                 Efficientnet vs Resnet\n",
            "\tDescription          Comparing two different TF hub feature extraction models architectures using 10% of training images\n",
            "\tId                   W8Z7EXQsQCW4BG5wZnBfAg\n",
            "\tCreated              2023-05-16 13:23:14 (3 minutes ago)\n",
            "\tUpdated              2023-05-16 13:23:17 (3 minutes ago)\n",
            "\tRuns                 4\n",
            "\tTags                 5\n",
            "\tScalars              60\n",
            "\tTensor bytes         0\n",
            "\tBinary object bytes  5932389\n",
            "Total: 1 experiment(s)\n"
          ]
        }
      ],
      "source": [
        "!tensorboard dev list"
      ]
    },
    {
      "cell_type": "code",
      "execution_count": null,
      "metadata": {
        "id": "ko_59hD5tDg0"
      },
      "outputs": [],
      "source": []
    }
  ],
  "metadata": {
    "accelerator": "GPU",
    "colab": {
      "provenance": [],
      "authorship_tag": "ABX9TyNRCRzMmm3myAvrg4zgn5gr",
      "include_colab_link": true
    },
    "gpuClass": "standard",
    "kernelspec": {
      "display_name": "Python 3",
      "name": "python3"
    },
    "language_info": {
      "name": "python"
    }
  },
  "nbformat": 4,
  "nbformat_minor": 0
}