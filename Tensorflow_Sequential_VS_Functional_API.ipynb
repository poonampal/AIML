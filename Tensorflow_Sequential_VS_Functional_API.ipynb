{
  "nbformat": 4,
  "nbformat_minor": 0,
  "metadata": {
    "colab": {
      "provenance": [],
      "authorship_tag": "ABX9TyOTBZY36V9X0xNDnkqw7uZF",
      "include_colab_link": true
    },
    "kernelspec": {
      "name": "python3",
      "display_name": "Python 3"
    },
    "language_info": {
      "name": "python"
    }
  },
  "cells": [
    {
      "cell_type": "markdown",
      "metadata": {
        "id": "view-in-github",
        "colab_type": "text"
      },
      "source": [
        "<a href=\"https://colab.research.google.com/github/poonampal/AIML/blob/main/Tensorflow_Sequential_VS_Functional_API.ipynb\" target=\"_parent\"><img src=\"https://colab.research.google.com/assets/colab-badge.svg\" alt=\"Open In Colab\"/></a>"
      ]
    },
    {
      "cell_type": "markdown",
      "source": [
        "**Function Api is more flexible than Sequential Api and allows branching of layers which enables to get multiple output in same neural network.**\n",
        "\n",
        "\n",
        "Predicting Energy output and Exhaust vaccum for a power plant."
      ],
      "metadata": {
        "id": "iyYVbPbcNkvf"
      }
    },
    {
      "cell_type": "code",
      "execution_count": 7,
      "metadata": {
        "colab": {
          "base_uri": "https://localhost:8080/"
        },
        "id": "5T_qDV7-NaW1",
        "outputId": "f0b40552-19e6-4e4b-c0ad-45675dd2fdf9"
      },
      "outputs": [
        {
          "output_type": "stream",
          "name": "stdout",
          "text": [
            "--2023-05-23 15:53:35--  https://github.com/poonampal/tensorflow/blob/59d42166be891a087ce64a34738fd778432bca87/ccpp.xlsx\n",
            "Resolving github.com (github.com)... 140.82.113.3\n",
            "Connecting to github.com (github.com)|140.82.113.3|:443... connected.\n",
            "HTTP request sent, awaiting response... 200 OK\n",
            "Length: unspecified [text/html]\n",
            "Saving to: ‘ccpp.xlsx’\n",
            "\n",
            "\rccpp.xlsx               [<=>                 ]       0  --.-KB/s               \rccpp.xlsx               [ <=>                ] 136.39K  --.-KB/s    in 0.009s  \n",
            "\n",
            "2023-05-23 15:53:35 (14.0 MB/s) - ‘ccpp.xlsx’ saved [139659]\n",
            "\n"
          ]
        }
      ],
      "source": [
        "!wget https://github.com/poonampal/tensorflow/blob/59d42166be891a087ce64a34738fd778432bca87/ccpp.xlsx"
      ]
    },
    {
      "cell_type": "code",
      "source": [
        "# import libraries\n",
        "\n",
        "import tensorflow as tf\n",
        "import numpy as np\n",
        "import pandas as pd\n",
        "import matplotlib.pyplot as plt\n",
        "from sklearn.preprocessing import MinMaxScaler\n",
        "from sklearn.model_selection import train_test_split\n",
        "from tensorflow.keras.models import Sequential, Model\n",
        "from tensorflow.keras.layers import Input, Dense\n"
      ],
      "metadata": {
        "id": "Jl6L-5DURRjw"
      },
      "execution_count": 26,
      "outputs": []
    },
    {
      "cell_type": "code",
      "source": [
        "# read data from file\n",
        "df = pd.read_excel('/content/ccpp.xlsx')\n",
        "df.head()"
      ],
      "metadata": {
        "colab": {
          "base_uri": "https://localhost:8080/",
          "height": 206
        },
        "id": "9ECsy08vS6Ly",
        "outputId": "d3824c37-0bab-4dc1-87ad-752f119ca018"
      },
      "execution_count": 39,
      "outputs": [
        {
          "output_type": "execute_result",
          "data": {
            "text/plain": [
              "      AT      V       AP     RH      PE\n",
              "0  14.96  41.76  1024.07  73.17  463.26\n",
              "1  25.18  62.96  1020.04  59.08  444.37\n",
              "2   5.11  39.40  1012.16  92.14  488.56\n",
              "3  20.86  57.32  1010.24  76.64  446.48\n",
              "4  10.82  37.50  1009.23  96.62  473.90"
            ],
            "text/html": [
              "\n",
              "  <div id=\"df-a0d0efdd-ed71-4673-9bfe-a08fb3b5cb05\">\n",
              "    <div class=\"colab-df-container\">\n",
              "      <div>\n",
              "<style scoped>\n",
              "    .dataframe tbody tr th:only-of-type {\n",
              "        vertical-align: middle;\n",
              "    }\n",
              "\n",
              "    .dataframe tbody tr th {\n",
              "        vertical-align: top;\n",
              "    }\n",
              "\n",
              "    .dataframe thead th {\n",
              "        text-align: right;\n",
              "    }\n",
              "</style>\n",
              "<table border=\"1\" class=\"dataframe\">\n",
              "  <thead>\n",
              "    <tr style=\"text-align: right;\">\n",
              "      <th></th>\n",
              "      <th>AT</th>\n",
              "      <th>V</th>\n",
              "      <th>AP</th>\n",
              "      <th>RH</th>\n",
              "      <th>PE</th>\n",
              "    </tr>\n",
              "  </thead>\n",
              "  <tbody>\n",
              "    <tr>\n",
              "      <th>0</th>\n",
              "      <td>14.96</td>\n",
              "      <td>41.76</td>\n",
              "      <td>1024.07</td>\n",
              "      <td>73.17</td>\n",
              "      <td>463.26</td>\n",
              "    </tr>\n",
              "    <tr>\n",
              "      <th>1</th>\n",
              "      <td>25.18</td>\n",
              "      <td>62.96</td>\n",
              "      <td>1020.04</td>\n",
              "      <td>59.08</td>\n",
              "      <td>444.37</td>\n",
              "    </tr>\n",
              "    <tr>\n",
              "      <th>2</th>\n",
              "      <td>5.11</td>\n",
              "      <td>39.40</td>\n",
              "      <td>1012.16</td>\n",
              "      <td>92.14</td>\n",
              "      <td>488.56</td>\n",
              "    </tr>\n",
              "    <tr>\n",
              "      <th>3</th>\n",
              "      <td>20.86</td>\n",
              "      <td>57.32</td>\n",
              "      <td>1010.24</td>\n",
              "      <td>76.64</td>\n",
              "      <td>446.48</td>\n",
              "    </tr>\n",
              "    <tr>\n",
              "      <th>4</th>\n",
              "      <td>10.82</td>\n",
              "      <td>37.50</td>\n",
              "      <td>1009.23</td>\n",
              "      <td>96.62</td>\n",
              "      <td>473.90</td>\n",
              "    </tr>\n",
              "  </tbody>\n",
              "</table>\n",
              "</div>\n",
              "      <button class=\"colab-df-convert\" onclick=\"convertToInteractive('df-a0d0efdd-ed71-4673-9bfe-a08fb3b5cb05')\"\n",
              "              title=\"Convert this dataframe to an interactive table.\"\n",
              "              style=\"display:none;\">\n",
              "        \n",
              "  <svg xmlns=\"http://www.w3.org/2000/svg\" height=\"24px\"viewBox=\"0 0 24 24\"\n",
              "       width=\"24px\">\n",
              "    <path d=\"M0 0h24v24H0V0z\" fill=\"none\"/>\n",
              "    <path d=\"M18.56 5.44l.94 2.06.94-2.06 2.06-.94-2.06-.94-.94-2.06-.94 2.06-2.06.94zm-11 1L8.5 8.5l.94-2.06 2.06-.94-2.06-.94L8.5 2.5l-.94 2.06-2.06.94zm10 10l.94 2.06.94-2.06 2.06-.94-2.06-.94-.94-2.06-.94 2.06-2.06.94z\"/><path d=\"M17.41 7.96l-1.37-1.37c-.4-.4-.92-.59-1.43-.59-.52 0-1.04.2-1.43.59L10.3 9.45l-7.72 7.72c-.78.78-.78 2.05 0 2.83L4 21.41c.39.39.9.59 1.41.59.51 0 1.02-.2 1.41-.59l7.78-7.78 2.81-2.81c.8-.78.8-2.07 0-2.86zM5.41 20L4 18.59l7.72-7.72 1.47 1.35L5.41 20z\"/>\n",
              "  </svg>\n",
              "      </button>\n",
              "      \n",
              "  <style>\n",
              "    .colab-df-container {\n",
              "      display:flex;\n",
              "      flex-wrap:wrap;\n",
              "      gap: 12px;\n",
              "    }\n",
              "\n",
              "    .colab-df-convert {\n",
              "      background-color: #E8F0FE;\n",
              "      border: none;\n",
              "      border-radius: 50%;\n",
              "      cursor: pointer;\n",
              "      display: none;\n",
              "      fill: #1967D2;\n",
              "      height: 32px;\n",
              "      padding: 0 0 0 0;\n",
              "      width: 32px;\n",
              "    }\n",
              "\n",
              "    .colab-df-convert:hover {\n",
              "      background-color: #E2EBFA;\n",
              "      box-shadow: 0px 1px 2px rgba(60, 64, 67, 0.3), 0px 1px 3px 1px rgba(60, 64, 67, 0.15);\n",
              "      fill: #174EA6;\n",
              "    }\n",
              "\n",
              "    [theme=dark] .colab-df-convert {\n",
              "      background-color: #3B4455;\n",
              "      fill: #D2E3FC;\n",
              "    }\n",
              "\n",
              "    [theme=dark] .colab-df-convert:hover {\n",
              "      background-color: #434B5C;\n",
              "      box-shadow: 0px 1px 3px 1px rgba(0, 0, 0, 0.15);\n",
              "      filter: drop-shadow(0px 1px 2px rgba(0, 0, 0, 0.3));\n",
              "      fill: #FFFFFF;\n",
              "    }\n",
              "  </style>\n",
              "\n",
              "      <script>\n",
              "        const buttonEl =\n",
              "          document.querySelector('#df-a0d0efdd-ed71-4673-9bfe-a08fb3b5cb05 button.colab-df-convert');\n",
              "        buttonEl.style.display =\n",
              "          google.colab.kernel.accessAllowed ? 'block' : 'none';\n",
              "\n",
              "        async function convertToInteractive(key) {\n",
              "          const element = document.querySelector('#df-a0d0efdd-ed71-4673-9bfe-a08fb3b5cb05');\n",
              "          const dataTable =\n",
              "            await google.colab.kernel.invokeFunction('convertToInteractive',\n",
              "                                                     [key], {});\n",
              "          if (!dataTable) return;\n",
              "\n",
              "          const docLinkHtml = 'Like what you see? Visit the ' +\n",
              "            '<a target=\"_blank\" href=https://colab.research.google.com/notebooks/data_table.ipynb>data table notebook</a>'\n",
              "            + ' to learn more about interactive tables.';\n",
              "          element.innerHTML = '';\n",
              "          dataTable['output_type'] = 'display_data';\n",
              "          await google.colab.output.renderOutput(dataTable, element);\n",
              "          const docLink = document.createElement('div');\n",
              "          docLink.innerHTML = docLinkHtml;\n",
              "          element.appendChild(docLink);\n",
              "        }\n",
              "      </script>\n",
              "    </div>\n",
              "  </div>\n",
              "  "
            ]
          },
          "metadata": {},
          "execution_count": 39
        }
      ]
    },
    {
      "cell_type": "code",
      "source": [
        "df.shape"
      ],
      "metadata": {
        "colab": {
          "base_uri": "https://localhost:8080/"
        },
        "id": "t5DsRq0FUlwg",
        "outputId": "4343bf6c-c385-4ccb-87ad-03052f29943e"
      },
      "execution_count": 40,
      "outputs": [
        {
          "output_type": "execute_result",
          "data": {
            "text/plain": [
              "(9568, 5)"
            ]
          },
          "metadata": {},
          "execution_count": 40
        }
      ]
    },
    {
      "cell_type": "code",
      "source": [
        "df.isnull().sum()"
      ],
      "metadata": {
        "colab": {
          "base_uri": "https://localhost:8080/"
        },
        "id": "y-qb2KomUpYC",
        "outputId": "9fe79fbf-d290-4036-9c5c-4723e4a068f9"
      },
      "execution_count": 41,
      "outputs": [
        {
          "output_type": "execute_result",
          "data": {
            "text/plain": [
              "AT    0\n",
              "V     0\n",
              "AP    0\n",
              "RH    0\n",
              "PE    0\n",
              "dtype: int64"
            ]
          },
          "metadata": {},
          "execution_count": 41
        }
      ]
    },
    {
      "cell_type": "code",
      "source": [
        "df.info()"
      ],
      "metadata": {
        "colab": {
          "base_uri": "https://localhost:8080/"
        },
        "id": "d1KaPxwnUuyz",
        "outputId": "2415f5df-380f-41d6-fb06-ac2500b1b4e0"
      },
      "execution_count": 42,
      "outputs": [
        {
          "output_type": "stream",
          "name": "stdout",
          "text": [
            "<class 'pandas.core.frame.DataFrame'>\n",
            "RangeIndex: 9568 entries, 0 to 9567\n",
            "Data columns (total 5 columns):\n",
            " #   Column  Non-Null Count  Dtype  \n",
            "---  ------  --------------  -----  \n",
            " 0   AT      9568 non-null   float64\n",
            " 1   V       9568 non-null   float64\n",
            " 2   AP      9568 non-null   float64\n",
            " 3   RH      9568 non-null   float64\n",
            " 4   PE      9568 non-null   float64\n",
            "dtypes: float64(5)\n",
            "memory usage: 373.9 KB\n"
          ]
        }
      ]
    },
    {
      "cell_type": "code",
      "source": [
        "df.describe()"
      ],
      "metadata": {
        "colab": {
          "base_uri": "https://localhost:8080/",
          "height": 300
        },
        "id": "4eHMyeykUxvr",
        "outputId": "58660ec4-25b6-430e-f397-0da183f36f65"
      },
      "execution_count": 43,
      "outputs": [
        {
          "output_type": "execute_result",
          "data": {
            "text/plain": [
              "                AT            V           AP           RH           PE\n",
              "count  9568.000000  9568.000000  9568.000000  9568.000000  9568.000000\n",
              "mean     19.651231    54.305804  1013.259078    73.308978   454.365009\n",
              "std       7.452473    12.707893     5.938784    14.600269    17.066995\n",
              "min       1.810000    25.360000   992.890000    25.560000   420.260000\n",
              "25%      13.510000    41.740000  1009.100000    63.327500   439.750000\n",
              "50%      20.345000    52.080000  1012.940000    74.975000   451.550000\n",
              "75%      25.720000    66.540000  1017.260000    84.830000   468.430000\n",
              "max      37.110000    81.560000  1033.300000   100.160000   495.760000"
            ],
            "text/html": [
              "\n",
              "  <div id=\"df-c336f611-78f9-4d53-b4b2-35e93ea33c5f\">\n",
              "    <div class=\"colab-df-container\">\n",
              "      <div>\n",
              "<style scoped>\n",
              "    .dataframe tbody tr th:only-of-type {\n",
              "        vertical-align: middle;\n",
              "    }\n",
              "\n",
              "    .dataframe tbody tr th {\n",
              "        vertical-align: top;\n",
              "    }\n",
              "\n",
              "    .dataframe thead th {\n",
              "        text-align: right;\n",
              "    }\n",
              "</style>\n",
              "<table border=\"1\" class=\"dataframe\">\n",
              "  <thead>\n",
              "    <tr style=\"text-align: right;\">\n",
              "      <th></th>\n",
              "      <th>AT</th>\n",
              "      <th>V</th>\n",
              "      <th>AP</th>\n",
              "      <th>RH</th>\n",
              "      <th>PE</th>\n",
              "    </tr>\n",
              "  </thead>\n",
              "  <tbody>\n",
              "    <tr>\n",
              "      <th>count</th>\n",
              "      <td>9568.000000</td>\n",
              "      <td>9568.000000</td>\n",
              "      <td>9568.000000</td>\n",
              "      <td>9568.000000</td>\n",
              "      <td>9568.000000</td>\n",
              "    </tr>\n",
              "    <tr>\n",
              "      <th>mean</th>\n",
              "      <td>19.651231</td>\n",
              "      <td>54.305804</td>\n",
              "      <td>1013.259078</td>\n",
              "      <td>73.308978</td>\n",
              "      <td>454.365009</td>\n",
              "    </tr>\n",
              "    <tr>\n",
              "      <th>std</th>\n",
              "      <td>7.452473</td>\n",
              "      <td>12.707893</td>\n",
              "      <td>5.938784</td>\n",
              "      <td>14.600269</td>\n",
              "      <td>17.066995</td>\n",
              "    </tr>\n",
              "    <tr>\n",
              "      <th>min</th>\n",
              "      <td>1.810000</td>\n",
              "      <td>25.360000</td>\n",
              "      <td>992.890000</td>\n",
              "      <td>25.560000</td>\n",
              "      <td>420.260000</td>\n",
              "    </tr>\n",
              "    <tr>\n",
              "      <th>25%</th>\n",
              "      <td>13.510000</td>\n",
              "      <td>41.740000</td>\n",
              "      <td>1009.100000</td>\n",
              "      <td>63.327500</td>\n",
              "      <td>439.750000</td>\n",
              "    </tr>\n",
              "    <tr>\n",
              "      <th>50%</th>\n",
              "      <td>20.345000</td>\n",
              "      <td>52.080000</td>\n",
              "      <td>1012.940000</td>\n",
              "      <td>74.975000</td>\n",
              "      <td>451.550000</td>\n",
              "    </tr>\n",
              "    <tr>\n",
              "      <th>75%</th>\n",
              "      <td>25.720000</td>\n",
              "      <td>66.540000</td>\n",
              "      <td>1017.260000</td>\n",
              "      <td>84.830000</td>\n",
              "      <td>468.430000</td>\n",
              "    </tr>\n",
              "    <tr>\n",
              "      <th>max</th>\n",
              "      <td>37.110000</td>\n",
              "      <td>81.560000</td>\n",
              "      <td>1033.300000</td>\n",
              "      <td>100.160000</td>\n",
              "      <td>495.760000</td>\n",
              "    </tr>\n",
              "  </tbody>\n",
              "</table>\n",
              "</div>\n",
              "      <button class=\"colab-df-convert\" onclick=\"convertToInteractive('df-c336f611-78f9-4d53-b4b2-35e93ea33c5f')\"\n",
              "              title=\"Convert this dataframe to an interactive table.\"\n",
              "              style=\"display:none;\">\n",
              "        \n",
              "  <svg xmlns=\"http://www.w3.org/2000/svg\" height=\"24px\"viewBox=\"0 0 24 24\"\n",
              "       width=\"24px\">\n",
              "    <path d=\"M0 0h24v24H0V0z\" fill=\"none\"/>\n",
              "    <path d=\"M18.56 5.44l.94 2.06.94-2.06 2.06-.94-2.06-.94-.94-2.06-.94 2.06-2.06.94zm-11 1L8.5 8.5l.94-2.06 2.06-.94-2.06-.94L8.5 2.5l-.94 2.06-2.06.94zm10 10l.94 2.06.94-2.06 2.06-.94-2.06-.94-.94-2.06-.94 2.06-2.06.94z\"/><path d=\"M17.41 7.96l-1.37-1.37c-.4-.4-.92-.59-1.43-.59-.52 0-1.04.2-1.43.59L10.3 9.45l-7.72 7.72c-.78.78-.78 2.05 0 2.83L4 21.41c.39.39.9.59 1.41.59.51 0 1.02-.2 1.41-.59l7.78-7.78 2.81-2.81c.8-.78.8-2.07 0-2.86zM5.41 20L4 18.59l7.72-7.72 1.47 1.35L5.41 20z\"/>\n",
              "  </svg>\n",
              "      </button>\n",
              "      \n",
              "  <style>\n",
              "    .colab-df-container {\n",
              "      display:flex;\n",
              "      flex-wrap:wrap;\n",
              "      gap: 12px;\n",
              "    }\n",
              "\n",
              "    .colab-df-convert {\n",
              "      background-color: #E8F0FE;\n",
              "      border: none;\n",
              "      border-radius: 50%;\n",
              "      cursor: pointer;\n",
              "      display: none;\n",
              "      fill: #1967D2;\n",
              "      height: 32px;\n",
              "      padding: 0 0 0 0;\n",
              "      width: 32px;\n",
              "    }\n",
              "\n",
              "    .colab-df-convert:hover {\n",
              "      background-color: #E2EBFA;\n",
              "      box-shadow: 0px 1px 2px rgba(60, 64, 67, 0.3), 0px 1px 3px 1px rgba(60, 64, 67, 0.15);\n",
              "      fill: #174EA6;\n",
              "    }\n",
              "\n",
              "    [theme=dark] .colab-df-convert {\n",
              "      background-color: #3B4455;\n",
              "      fill: #D2E3FC;\n",
              "    }\n",
              "\n",
              "    [theme=dark] .colab-df-convert:hover {\n",
              "      background-color: #434B5C;\n",
              "      box-shadow: 0px 1px 3px 1px rgba(0, 0, 0, 0.15);\n",
              "      filter: drop-shadow(0px 1px 2px rgba(0, 0, 0, 0.3));\n",
              "      fill: #FFFFFF;\n",
              "    }\n",
              "  </style>\n",
              "\n",
              "      <script>\n",
              "        const buttonEl =\n",
              "          document.querySelector('#df-c336f611-78f9-4d53-b4b2-35e93ea33c5f button.colab-df-convert');\n",
              "        buttonEl.style.display =\n",
              "          google.colab.kernel.accessAllowed ? 'block' : 'none';\n",
              "\n",
              "        async function convertToInteractive(key) {\n",
              "          const element = document.querySelector('#df-c336f611-78f9-4d53-b4b2-35e93ea33c5f');\n",
              "          const dataTable =\n",
              "            await google.colab.kernel.invokeFunction('convertToInteractive',\n",
              "                                                     [key], {});\n",
              "          if (!dataTable) return;\n",
              "\n",
              "          const docLinkHtml = 'Like what you see? Visit the ' +\n",
              "            '<a target=\"_blank\" href=https://colab.research.google.com/notebooks/data_table.ipynb>data table notebook</a>'\n",
              "            + ' to learn more about interactive tables.';\n",
              "          element.innerHTML = '';\n",
              "          dataTable['output_type'] = 'display_data';\n",
              "          await google.colab.output.renderOutput(dataTable, element);\n",
              "          const docLink = document.createElement('div');\n",
              "          docLink.innerHTML = docLinkHtml;\n",
              "          element.appendChild(docLink);\n",
              "        }\n",
              "      </script>\n",
              "    </div>\n",
              "  </div>\n",
              "  "
            ]
          },
          "metadata": {},
          "execution_count": 43
        }
      ]
    },
    {
      "cell_type": "markdown",
      "source": [
        "Observation:\n",
        "  * No missing values in data\n",
        "  * No Outliers\n",
        "  * All features are numerical columns"
      ],
      "metadata": {
        "id": "LbCZfP8tUlbu"
      }
    },
    {
      "cell_type": "code",
      "source": [
        "def getTrainTestOutput(data):\n",
        "  y1 = data.pop('PE')\n",
        "  y1 = np.array(y1)\n",
        "\n",
        "  y2 = data.pop('V')\n",
        "  y2 = np.array(y2)\n",
        "\n",
        "  return y1,y2"
      ],
      "metadata": {
        "id": "FZ9japSYXVx_"
      },
      "execution_count": 45,
      "outputs": []
    },
    {
      "cell_type": "code",
      "source": [
        "# split data \n",
        "\n",
        "train, test = train_test_split(df, test_size=0.2, random_state=1) # train_test_split will split data in train and test\n",
        "\n",
        "y_train = getTrainTestOutput(train) # this function will split train data into train and test\n",
        "y_test = getTrainTestOutput(test)\n",
        "\n",
        "y_train, y_test"
      ],
      "metadata": {
        "colab": {
          "base_uri": "https://localhost:8080/"
        },
        "id": "SryYSp7aWQd6",
        "outputId": "53b6723c-1605-4c70-d9fd-9c119de4e3a6"
      },
      "execution_count": 47,
      "outputs": [
        {
          "output_type": "execute_result",
          "data": {
            "text/plain": [
              "((array([484.32, 449.04, 471.86, ..., 462.56, 450.37, 452.94]),\n",
              "  array([38.91, 65.61, 39.61, ..., 39.54, 45.01, 49.69])),\n",
              " (array([458.96, 463.29, 435.27, ..., 476.22, 440.29, 467.92]),\n",
              "  array([44.63, 42.28, 70.32, ..., 38.38, 73.56, 44.58])))"
            ]
          },
          "metadata": {},
          "execution_count": 47
        }
      ]
    },
    {
      "cell_type": "code",
      "source": [
        "# MinMaxScaler\n",
        "\n",
        "min_max = MinMaxScaler()\n",
        "X_train = min_max.fit_transform(train)\n",
        "X_test = min_max.transform(test)\n",
        "\n",
        "X_train.shape, X_test.shape"
      ],
      "metadata": {
        "colab": {
          "base_uri": "https://localhost:8080/"
        },
        "id": "aQ4tPzLeZiut",
        "outputId": "06f3a8a9-56c9-4713-d804-799f7f9ec94d"
      },
      "execution_count": 35,
      "outputs": [
        {
          "output_type": "execute_result",
          "data": {
            "text/plain": [
              "((7654, 3), (1914, 3))"
            ]
          },
          "metadata": {},
          "execution_count": 35
        }
      ]
    },
    {
      "cell_type": "code",
      "source": [
        "train"
      ],
      "metadata": {
        "colab": {
          "base_uri": "https://localhost:8080/",
          "height": 423
        },
        "id": "uvl1H1dOZ6lO",
        "outputId": "fa9ec646-f8dc-4b52-865c-6f2510fa3427"
      },
      "execution_count": 48,
      "outputs": [
        {
          "output_type": "execute_result",
          "data": {
            "text/plain": [
              "         AT       AP     RH\n",
              "9061   6.61  1015.77  92.31\n",
              "6937  22.72  1014.64  70.53\n",
              "5631  10.06  1018.22  70.22\n",
              "6218  27.53  1009.40  53.73\n",
              "1362  23.89  1010.48  62.31\n",
              "...     ...      ...    ...\n",
              "2895  26.92  1011.09  70.80\n",
              "7813  20.90  1007.16  59.02\n",
              "905   18.59  1008.56  68.61\n",
              "5192  22.96  1012.21  50.81\n",
              "235   20.50  1009.60  70.81\n",
              "\n",
              "[7654 rows x 3 columns]"
            ],
            "text/html": [
              "\n",
              "  <div id=\"df-fd351a53-3a91-48ea-8f37-e23c5b2cb55a\">\n",
              "    <div class=\"colab-df-container\">\n",
              "      <div>\n",
              "<style scoped>\n",
              "    .dataframe tbody tr th:only-of-type {\n",
              "        vertical-align: middle;\n",
              "    }\n",
              "\n",
              "    .dataframe tbody tr th {\n",
              "        vertical-align: top;\n",
              "    }\n",
              "\n",
              "    .dataframe thead th {\n",
              "        text-align: right;\n",
              "    }\n",
              "</style>\n",
              "<table border=\"1\" class=\"dataframe\">\n",
              "  <thead>\n",
              "    <tr style=\"text-align: right;\">\n",
              "      <th></th>\n",
              "      <th>AT</th>\n",
              "      <th>AP</th>\n",
              "      <th>RH</th>\n",
              "    </tr>\n",
              "  </thead>\n",
              "  <tbody>\n",
              "    <tr>\n",
              "      <th>9061</th>\n",
              "      <td>6.61</td>\n",
              "      <td>1015.77</td>\n",
              "      <td>92.31</td>\n",
              "    </tr>\n",
              "    <tr>\n",
              "      <th>6937</th>\n",
              "      <td>22.72</td>\n",
              "      <td>1014.64</td>\n",
              "      <td>70.53</td>\n",
              "    </tr>\n",
              "    <tr>\n",
              "      <th>5631</th>\n",
              "      <td>10.06</td>\n",
              "      <td>1018.22</td>\n",
              "      <td>70.22</td>\n",
              "    </tr>\n",
              "    <tr>\n",
              "      <th>6218</th>\n",
              "      <td>27.53</td>\n",
              "      <td>1009.40</td>\n",
              "      <td>53.73</td>\n",
              "    </tr>\n",
              "    <tr>\n",
              "      <th>1362</th>\n",
              "      <td>23.89</td>\n",
              "      <td>1010.48</td>\n",
              "      <td>62.31</td>\n",
              "    </tr>\n",
              "    <tr>\n",
              "      <th>...</th>\n",
              "      <td>...</td>\n",
              "      <td>...</td>\n",
              "      <td>...</td>\n",
              "    </tr>\n",
              "    <tr>\n",
              "      <th>2895</th>\n",
              "      <td>26.92</td>\n",
              "      <td>1011.09</td>\n",
              "      <td>70.80</td>\n",
              "    </tr>\n",
              "    <tr>\n",
              "      <th>7813</th>\n",
              "      <td>20.90</td>\n",
              "      <td>1007.16</td>\n",
              "      <td>59.02</td>\n",
              "    </tr>\n",
              "    <tr>\n",
              "      <th>905</th>\n",
              "      <td>18.59</td>\n",
              "      <td>1008.56</td>\n",
              "      <td>68.61</td>\n",
              "    </tr>\n",
              "    <tr>\n",
              "      <th>5192</th>\n",
              "      <td>22.96</td>\n",
              "      <td>1012.21</td>\n",
              "      <td>50.81</td>\n",
              "    </tr>\n",
              "    <tr>\n",
              "      <th>235</th>\n",
              "      <td>20.50</td>\n",
              "      <td>1009.60</td>\n",
              "      <td>70.81</td>\n",
              "    </tr>\n",
              "  </tbody>\n",
              "</table>\n",
              "<p>7654 rows × 3 columns</p>\n",
              "</div>\n",
              "      <button class=\"colab-df-convert\" onclick=\"convertToInteractive('df-fd351a53-3a91-48ea-8f37-e23c5b2cb55a')\"\n",
              "              title=\"Convert this dataframe to an interactive table.\"\n",
              "              style=\"display:none;\">\n",
              "        \n",
              "  <svg xmlns=\"http://www.w3.org/2000/svg\" height=\"24px\"viewBox=\"0 0 24 24\"\n",
              "       width=\"24px\">\n",
              "    <path d=\"M0 0h24v24H0V0z\" fill=\"none\"/>\n",
              "    <path d=\"M18.56 5.44l.94 2.06.94-2.06 2.06-.94-2.06-.94-.94-2.06-.94 2.06-2.06.94zm-11 1L8.5 8.5l.94-2.06 2.06-.94-2.06-.94L8.5 2.5l-.94 2.06-2.06.94zm10 10l.94 2.06.94-2.06 2.06-.94-2.06-.94-.94-2.06-.94 2.06-2.06.94z\"/><path d=\"M17.41 7.96l-1.37-1.37c-.4-.4-.92-.59-1.43-.59-.52 0-1.04.2-1.43.59L10.3 9.45l-7.72 7.72c-.78.78-.78 2.05 0 2.83L4 21.41c.39.39.9.59 1.41.59.51 0 1.02-.2 1.41-.59l7.78-7.78 2.81-2.81c.8-.78.8-2.07 0-2.86zM5.41 20L4 18.59l7.72-7.72 1.47 1.35L5.41 20z\"/>\n",
              "  </svg>\n",
              "      </button>\n",
              "      \n",
              "  <style>\n",
              "    .colab-df-container {\n",
              "      display:flex;\n",
              "      flex-wrap:wrap;\n",
              "      gap: 12px;\n",
              "    }\n",
              "\n",
              "    .colab-df-convert {\n",
              "      background-color: #E8F0FE;\n",
              "      border: none;\n",
              "      border-radius: 50%;\n",
              "      cursor: pointer;\n",
              "      display: none;\n",
              "      fill: #1967D2;\n",
              "      height: 32px;\n",
              "      padding: 0 0 0 0;\n",
              "      width: 32px;\n",
              "    }\n",
              "\n",
              "    .colab-df-convert:hover {\n",
              "      background-color: #E2EBFA;\n",
              "      box-shadow: 0px 1px 2px rgba(60, 64, 67, 0.3), 0px 1px 3px 1px rgba(60, 64, 67, 0.15);\n",
              "      fill: #174EA6;\n",
              "    }\n",
              "\n",
              "    [theme=dark] .colab-df-convert {\n",
              "      background-color: #3B4455;\n",
              "      fill: #D2E3FC;\n",
              "    }\n",
              "\n",
              "    [theme=dark] .colab-df-convert:hover {\n",
              "      background-color: #434B5C;\n",
              "      box-shadow: 0px 1px 3px 1px rgba(0, 0, 0, 0.15);\n",
              "      filter: drop-shadow(0px 1px 2px rgba(0, 0, 0, 0.3));\n",
              "      fill: #FFFFFF;\n",
              "    }\n",
              "  </style>\n",
              "\n",
              "      <script>\n",
              "        const buttonEl =\n",
              "          document.querySelector('#df-fd351a53-3a91-48ea-8f37-e23c5b2cb55a button.colab-df-convert');\n",
              "        buttonEl.style.display =\n",
              "          google.colab.kernel.accessAllowed ? 'block' : 'none';\n",
              "\n",
              "        async function convertToInteractive(key) {\n",
              "          const element = document.querySelector('#df-fd351a53-3a91-48ea-8f37-e23c5b2cb55a');\n",
              "          const dataTable =\n",
              "            await google.colab.kernel.invokeFunction('convertToInteractive',\n",
              "                                                     [key], {});\n",
              "          if (!dataTable) return;\n",
              "\n",
              "          const docLinkHtml = 'Like what you see? Visit the ' +\n",
              "            '<a target=\"_blank\" href=https://colab.research.google.com/notebooks/data_table.ipynb>data table notebook</a>'\n",
              "            + ' to learn more about interactive tables.';\n",
              "          element.innerHTML = '';\n",
              "          dataTable['output_type'] = 'display_data';\n",
              "          await google.colab.output.renderOutput(dataTable, element);\n",
              "          const docLink = document.createElement('div');\n",
              "          docLink.innerHTML = docLinkHtml;\n",
              "          element.appendChild(docLink);\n",
              "        }\n",
              "      </script>\n",
              "    </div>\n",
              "  </div>\n",
              "  "
            ]
          },
          "metadata": {},
          "execution_count": 48
        }
      ]
    },
    {
      "cell_type": "code",
      "source": [
        "#Sequential Model - Create and Compile\n",
        "\n",
        "tf.random.set_seed(42)\n",
        "\n",
        "sequential_model_1 = Sequential([\n",
        "    Dense(10,  activation='relu'),\n",
        "    Dense(10, activation='relu'),\n",
        "    Dense(1, activation='linear')\n",
        "])\n",
        "\n",
        "sequential_model_1.compile(loss=tf.keras.losses.mae, optimizer= tf.keras.optimizers.SGD(), metrics=['mae'])"
      ],
      "metadata": {
        "id": "v5rLw1PKSmx4"
      },
      "execution_count": 49,
      "outputs": []
    },
    {
      "cell_type": "code",
      "source": [
        "# Fit Sequential Model\n",
        "sequential_model_1.fit(X_train, y_train, epochs=100, validation_data=(X_test, y_test))"
      ],
      "metadata": {
        "colab": {
          "base_uri": "https://localhost:8080/"
        },
        "id": "HZQJXWeYV9yP",
        "outputId": "1d416c06-7a2b-4691-c455-7bf3a24e81b4"
      },
      "execution_count": 50,
      "outputs": [
        {
          "output_type": "stream",
          "name": "stdout",
          "text": [
            "Epoch 1/100\n",
            "240/240 [==============================] - 1s 3ms/step - loss: 233.0162 - mae: 233.0162 - val_loss: 83.6680 - val_mae: 83.6680\n",
            "Epoch 2/100\n",
            "240/240 [==============================] - 1s 2ms/step - loss: 57.0344 - mae: 57.0344 - val_loss: 81.1483 - val_mae: 81.1483\n",
            "Epoch 3/100\n",
            "240/240 [==============================] - 1s 2ms/step - loss: 54.9141 - mae: 54.9141 - val_loss: 88.3408 - val_mae: 88.3408\n",
            "Epoch 4/100\n",
            "240/240 [==============================] - 0s 2ms/step - loss: 53.9625 - mae: 53.9625 - val_loss: 66.6792 - val_mae: 66.6792\n",
            "Epoch 5/100\n",
            "240/240 [==============================] - 0s 2ms/step - loss: 52.7059 - mae: 52.7059 - val_loss: 103.8979 - val_mae: 103.8979\n",
            "Epoch 6/100\n",
            "240/240 [==============================] - 1s 2ms/step - loss: 52.2213 - mae: 52.2213 - val_loss: 10.5690 - val_mae: 10.5690\n",
            "Epoch 7/100\n",
            "240/240 [==============================] - 1s 2ms/step - loss: 52.3595 - mae: 52.3595 - val_loss: 43.4815 - val_mae: 43.4815\n",
            "Epoch 8/100\n",
            "240/240 [==============================] - 0s 2ms/step - loss: 53.2158 - mae: 53.2158 - val_loss: 53.7675 - val_mae: 53.7675\n",
            "Epoch 9/100\n",
            "240/240 [==============================] - 1s 2ms/step - loss: 53.2531 - mae: 53.2531 - val_loss: 68.1336 - val_mae: 68.1336\n",
            "Epoch 10/100\n",
            "240/240 [==============================] - 0s 2ms/step - loss: 53.0782 - mae: 53.0782 - val_loss: 4.9292 - val_mae: 4.9292\n",
            "Epoch 11/100\n",
            "240/240 [==============================] - 1s 2ms/step - loss: 52.1833 - mae: 52.1833 - val_loss: 21.0973 - val_mae: 21.0973\n",
            "Epoch 12/100\n",
            "240/240 [==============================] - 0s 2ms/step - loss: 51.2993 - mae: 51.2993 - val_loss: 92.6867 - val_mae: 92.6867\n",
            "Epoch 13/100\n",
            "240/240 [==============================] - 1s 2ms/step - loss: 51.0464 - mae: 51.0464 - val_loss: 17.7361 - val_mae: 17.7361\n",
            "Epoch 14/100\n",
            "240/240 [==============================] - 1s 2ms/step - loss: 47.1431 - mae: 47.1431 - val_loss: 8.0953 - val_mae: 8.0953\n",
            "Epoch 15/100\n",
            "240/240 [==============================] - 0s 2ms/step - loss: 47.1633 - mae: 47.1633 - val_loss: 95.3423 - val_mae: 95.3423\n",
            "Epoch 16/100\n",
            "240/240 [==============================] - 0s 2ms/step - loss: 44.8743 - mae: 44.8743 - val_loss: 14.5473 - val_mae: 14.5473\n",
            "Epoch 17/100\n",
            "240/240 [==============================] - 0s 2ms/step - loss: 45.2968 - mae: 45.2968 - val_loss: 4.8159 - val_mae: 4.8159\n",
            "Epoch 18/100\n",
            "240/240 [==============================] - 1s 3ms/step - loss: 43.4588 - mae: 43.4588 - val_loss: 16.5851 - val_mae: 16.5851\n",
            "Epoch 19/100\n",
            "240/240 [==============================] - 1s 3ms/step - loss: 41.7138 - mae: 41.7138 - val_loss: 64.7617 - val_mae: 64.7617\n",
            "Epoch 20/100\n",
            "240/240 [==============================] - 1s 3ms/step - loss: 38.9086 - mae: 38.9086 - val_loss: 26.8361 - val_mae: 26.8361\n",
            "Epoch 21/100\n",
            "240/240 [==============================] - 1s 3ms/step - loss: 34.7002 - mae: 34.7002 - val_loss: 24.7734 - val_mae: 24.7734\n",
            "Epoch 22/100\n",
            "240/240 [==============================] - 1s 2ms/step - loss: 25.6614 - mae: 25.6614 - val_loss: 31.6235 - val_mae: 31.6235\n",
            "Epoch 23/100\n",
            "240/240 [==============================] - 1s 2ms/step - loss: 10.9974 - mae: 10.9974 - val_loss: 5.0383 - val_mae: 5.0383\n",
            "Epoch 24/100\n",
            "240/240 [==============================] - 1s 2ms/step - loss: 6.7952 - mae: 6.7952 - val_loss: 5.1688 - val_mae: 5.1688\n",
            "Epoch 25/100\n",
            "240/240 [==============================] - 0s 2ms/step - loss: 6.7210 - mae: 6.7210 - val_loss: 4.1503 - val_mae: 4.1503\n",
            "Epoch 26/100\n",
            "240/240 [==============================] - 0s 2ms/step - loss: 6.6592 - mae: 6.6592 - val_loss: 10.1795 - val_mae: 10.1795\n",
            "Epoch 27/100\n",
            "240/240 [==============================] - 1s 2ms/step - loss: 6.6929 - mae: 6.6929 - val_loss: 4.1343 - val_mae: 4.1343\n",
            "Epoch 28/100\n",
            "240/240 [==============================] - 1s 2ms/step - loss: 6.6712 - mae: 6.6712 - val_loss: 4.7677 - val_mae: 4.7677\n",
            "Epoch 29/100\n",
            "240/240 [==============================] - 1s 2ms/step - loss: 6.7905 - mae: 6.7905 - val_loss: 6.6476 - val_mae: 6.6476\n",
            "Epoch 30/100\n",
            "240/240 [==============================] - 1s 2ms/step - loss: 6.4766 - mae: 6.4766 - val_loss: 9.1687 - val_mae: 9.1687\n",
            "Epoch 31/100\n",
            "240/240 [==============================] - 0s 2ms/step - loss: 6.6214 - mae: 6.6214 - val_loss: 14.6844 - val_mae: 14.6844\n",
            "Epoch 32/100\n",
            "240/240 [==============================] - 0s 2ms/step - loss: 6.6104 - mae: 6.6104 - val_loss: 4.7256 - val_mae: 4.7256\n",
            "Epoch 33/100\n",
            "240/240 [==============================] - 1s 2ms/step - loss: 6.6879 - mae: 6.6879 - val_loss: 8.3211 - val_mae: 8.3211\n",
            "Epoch 34/100\n",
            "240/240 [==============================] - 1s 2ms/step - loss: 6.7870 - mae: 6.7870 - val_loss: 10.5263 - val_mae: 10.5263\n",
            "Epoch 35/100\n",
            "240/240 [==============================] - 0s 2ms/step - loss: 6.5702 - mae: 6.5702 - val_loss: 12.4661 - val_mae: 12.4661\n",
            "Epoch 36/100\n",
            "240/240 [==============================] - 1s 2ms/step - loss: 6.6723 - mae: 6.6723 - val_loss: 5.8831 - val_mae: 5.8831\n",
            "Epoch 37/100\n",
            "240/240 [==============================] - 1s 2ms/step - loss: 6.5882 - mae: 6.5882 - val_loss: 4.1607 - val_mae: 4.1607\n",
            "Epoch 38/100\n",
            "240/240 [==============================] - 0s 2ms/step - loss: 6.6798 - mae: 6.6798 - val_loss: 4.0590 - val_mae: 4.0590\n",
            "Epoch 39/100\n",
            "240/240 [==============================] - 1s 2ms/step - loss: 6.5859 - mae: 6.5859 - val_loss: 14.8056 - val_mae: 14.8056\n",
            "Epoch 40/100\n",
            "240/240 [==============================] - 0s 2ms/step - loss: 6.8617 - mae: 6.8617 - val_loss: 3.8647 - val_mae: 3.8647\n",
            "Epoch 41/100\n",
            "240/240 [==============================] - 1s 3ms/step - loss: 6.6653 - mae: 6.6653 - val_loss: 11.5855 - val_mae: 11.5855\n",
            "Epoch 42/100\n",
            "240/240 [==============================] - 1s 3ms/step - loss: 6.7196 - mae: 6.7196 - val_loss: 10.3904 - val_mae: 10.3904\n",
            "Epoch 43/100\n",
            "240/240 [==============================] - 1s 3ms/step - loss: 6.8168 - mae: 6.8168 - val_loss: 9.5817 - val_mae: 9.5817\n",
            "Epoch 44/100\n",
            "240/240 [==============================] - 1s 3ms/step - loss: 6.5057 - mae: 6.5057 - val_loss: 8.8298 - val_mae: 8.8298\n",
            "Epoch 45/100\n",
            "240/240 [==============================] - 0s 2ms/step - loss: 6.7858 - mae: 6.7858 - val_loss: 8.9754 - val_mae: 8.9754\n",
            "Epoch 46/100\n",
            "240/240 [==============================] - 1s 2ms/step - loss: 6.5926 - mae: 6.5926 - val_loss: 6.5821 - val_mae: 6.5821\n",
            "Epoch 47/100\n",
            "240/240 [==============================] - 0s 2ms/step - loss: 6.6675 - mae: 6.6675 - val_loss: 4.5440 - val_mae: 4.5440\n",
            "Epoch 48/100\n",
            "240/240 [==============================] - 0s 2ms/step - loss: 6.7463 - mae: 6.7463 - val_loss: 7.6518 - val_mae: 7.6518\n",
            "Epoch 49/100\n",
            "240/240 [==============================] - 1s 2ms/step - loss: 6.8448 - mae: 6.8448 - val_loss: 7.0929 - val_mae: 7.0929\n",
            "Epoch 50/100\n",
            "240/240 [==============================] - 0s 2ms/step - loss: 6.6852 - mae: 6.6852 - val_loss: 4.1832 - val_mae: 4.1832\n",
            "Epoch 51/100\n",
            "240/240 [==============================] - 1s 2ms/step - loss: 6.8416 - mae: 6.8416 - val_loss: 8.7679 - val_mae: 8.7679\n",
            "Epoch 52/100\n",
            "240/240 [==============================] - 0s 2ms/step - loss: 6.6382 - mae: 6.6382 - val_loss: 11.7317 - val_mae: 11.7317\n",
            "Epoch 53/100\n",
            "240/240 [==============================] - 1s 2ms/step - loss: 6.6273 - mae: 6.6273 - val_loss: 10.8521 - val_mae: 10.8521\n",
            "Epoch 54/100\n",
            "240/240 [==============================] - 1s 2ms/step - loss: 6.4352 - mae: 6.4352 - val_loss: 13.7135 - val_mae: 13.7135\n",
            "Epoch 55/100\n",
            "240/240 [==============================] - 0s 2ms/step - loss: 6.6457 - mae: 6.6457 - val_loss: 4.4977 - val_mae: 4.4977\n",
            "Epoch 56/100\n",
            "240/240 [==============================] - 0s 2ms/step - loss: 6.8119 - mae: 6.8119 - val_loss: 6.7798 - val_mae: 6.7798\n",
            "Epoch 57/100\n",
            "240/240 [==============================] - 1s 2ms/step - loss: 6.5547 - mae: 6.5547 - val_loss: 6.1055 - val_mae: 6.1055\n",
            "Epoch 58/100\n",
            "240/240 [==============================] - 1s 2ms/step - loss: 6.4892 - mae: 6.4892 - val_loss: 4.7902 - val_mae: 4.7902\n",
            "Epoch 59/100\n",
            "240/240 [==============================] - 0s 2ms/step - loss: 6.7272 - mae: 6.7272 - val_loss: 6.4378 - val_mae: 6.4378\n",
            "Epoch 60/100\n",
            "240/240 [==============================] - 1s 2ms/step - loss: 6.5955 - mae: 6.5955 - val_loss: 3.9449 - val_mae: 3.9449\n",
            "Epoch 61/100\n",
            "240/240 [==============================] - 0s 2ms/step - loss: 6.6004 - mae: 6.6004 - val_loss: 4.6683 - val_mae: 4.6683\n",
            "Epoch 62/100\n",
            "240/240 [==============================] - 0s 2ms/step - loss: 6.7641 - mae: 6.7641 - val_loss: 8.3279 - val_mae: 8.3279\n",
            "Epoch 63/100\n",
            "240/240 [==============================] - 1s 2ms/step - loss: 6.6497 - mae: 6.6497 - val_loss: 8.0359 - val_mae: 8.0359\n",
            "Epoch 64/100\n",
            "240/240 [==============================] - 1s 2ms/step - loss: 6.5882 - mae: 6.5882 - val_loss: 7.7488 - val_mae: 7.7488\n",
            "Epoch 65/100\n",
            "240/240 [==============================] - 1s 3ms/step - loss: 6.3121 - mae: 6.3121 - val_loss: 8.9368 - val_mae: 8.9368\n",
            "Epoch 66/100\n",
            "240/240 [==============================] - 1s 3ms/step - loss: 6.6952 - mae: 6.6952 - val_loss: 7.5557 - val_mae: 7.5557\n",
            "Epoch 67/100\n",
            "240/240 [==============================] - 1s 3ms/step - loss: 6.6532 - mae: 6.6532 - val_loss: 3.9864 - val_mae: 3.9864\n",
            "Epoch 68/100\n",
            "240/240 [==============================] - 1s 2ms/step - loss: 6.6861 - mae: 6.6861 - val_loss: 7.2037 - val_mae: 7.2037\n",
            "Epoch 69/100\n",
            "240/240 [==============================] - 0s 2ms/step - loss: 6.6691 - mae: 6.6691 - val_loss: 7.0867 - val_mae: 7.0867\n",
            "Epoch 70/100\n",
            "240/240 [==============================] - 1s 2ms/step - loss: 6.6108 - mae: 6.6108 - val_loss: 8.4091 - val_mae: 8.4091\n",
            "Epoch 71/100\n",
            "240/240 [==============================] - 0s 2ms/step - loss: 6.5414 - mae: 6.5414 - val_loss: 5.9700 - val_mae: 5.9700\n",
            "Epoch 72/100\n",
            "240/240 [==============================] - 0s 2ms/step - loss: 6.5577 - mae: 6.5577 - val_loss: 7.7258 - val_mae: 7.7258\n",
            "Epoch 73/100\n",
            "240/240 [==============================] - 1s 2ms/step - loss: 6.3668 - mae: 6.3668 - val_loss: 5.0461 - val_mae: 5.0461\n",
            "Epoch 74/100\n",
            "240/240 [==============================] - 1s 2ms/step - loss: 6.5056 - mae: 6.5056 - val_loss: 10.4107 - val_mae: 10.4107\n",
            "Epoch 75/100\n",
            "240/240 [==============================] - 0s 2ms/step - loss: 6.7464 - mae: 6.7464 - val_loss: 11.5323 - val_mae: 11.5323\n",
            "Epoch 76/100\n",
            "240/240 [==============================] - 1s 2ms/step - loss: 6.5228 - mae: 6.5228 - val_loss: 4.9818 - val_mae: 4.9818\n",
            "Epoch 77/100\n",
            "240/240 [==============================] - 1s 3ms/step - loss: 6.5254 - mae: 6.5254 - val_loss: 4.2756 - val_mae: 4.2756\n",
            "Epoch 78/100\n",
            "240/240 [==============================] - 1s 2ms/step - loss: 6.6387 - mae: 6.6387 - val_loss: 4.9372 - val_mae: 4.9372\n",
            "Epoch 79/100\n",
            "240/240 [==============================] - 1s 2ms/step - loss: 6.6362 - mae: 6.6362 - val_loss: 4.1974 - val_mae: 4.1974\n",
            "Epoch 80/100\n",
            "240/240 [==============================] - 0s 2ms/step - loss: 6.5893 - mae: 6.5893 - val_loss: 8.7994 - val_mae: 8.7994\n",
            "Epoch 81/100\n",
            "240/240 [==============================] - 1s 2ms/step - loss: 6.6281 - mae: 6.6281 - val_loss: 5.9577 - val_mae: 5.9577\n",
            "Epoch 82/100\n",
            "240/240 [==============================] - 1s 2ms/step - loss: 6.6376 - mae: 6.6376 - val_loss: 7.6807 - val_mae: 7.6807\n",
            "Epoch 83/100\n",
            "240/240 [==============================] - 0s 2ms/step - loss: 6.5878 - mae: 6.5878 - val_loss: 7.8617 - val_mae: 7.8617\n",
            "Epoch 84/100\n",
            "240/240 [==============================] - 0s 2ms/step - loss: 6.5601 - mae: 6.5601 - val_loss: 5.0686 - val_mae: 5.0686\n",
            "Epoch 85/100\n",
            "240/240 [==============================] - 0s 2ms/step - loss: 6.5969 - mae: 6.5969 - val_loss: 7.5272 - val_mae: 7.5272\n",
            "Epoch 86/100\n",
            "240/240 [==============================] - 1s 2ms/step - loss: 6.5430 - mae: 6.5430 - val_loss: 3.8945 - val_mae: 3.8945\n",
            "Epoch 87/100\n",
            "240/240 [==============================] - 1s 2ms/step - loss: 6.6139 - mae: 6.6139 - val_loss: 4.4730 - val_mae: 4.4730\n",
            "Epoch 88/100\n",
            "240/240 [==============================] - 1s 3ms/step - loss: 6.5618 - mae: 6.5618 - val_loss: 4.4713 - val_mae: 4.4713\n",
            "Epoch 89/100\n",
            "240/240 [==============================] - 1s 3ms/step - loss: 6.7945 - mae: 6.7945 - val_loss: 4.2650 - val_mae: 4.2650\n",
            "Epoch 90/100\n",
            "240/240 [==============================] - 1s 3ms/step - loss: 6.6717 - mae: 6.6717 - val_loss: 10.6248 - val_mae: 10.6248\n",
            "Epoch 91/100\n",
            "240/240 [==============================] - 1s 3ms/step - loss: 6.5363 - mae: 6.5363 - val_loss: 8.1152 - val_mae: 8.1152\n",
            "Epoch 92/100\n",
            "240/240 [==============================] - 0s 2ms/step - loss: 6.4452 - mae: 6.4452 - val_loss: 8.4113 - val_mae: 8.4113\n",
            "Epoch 93/100\n",
            "240/240 [==============================] - 1s 2ms/step - loss: 6.5233 - mae: 6.5233 - val_loss: 4.2712 - val_mae: 4.2712\n",
            "Epoch 94/100\n",
            "240/240 [==============================] - 0s 2ms/step - loss: 6.6068 - mae: 6.6068 - val_loss: 4.4628 - val_mae: 4.4628\n",
            "Epoch 95/100\n",
            "240/240 [==============================] - 1s 2ms/step - loss: 6.3569 - mae: 6.3569 - val_loss: 3.8538 - val_mae: 3.8538\n",
            "Epoch 96/100\n",
            "240/240 [==============================] - 1s 2ms/step - loss: 6.5645 - mae: 6.5645 - val_loss: 7.0991 - val_mae: 7.0991\n",
            "Epoch 97/100\n",
            "240/240 [==============================] - 0s 2ms/step - loss: 6.3985 - mae: 6.3985 - val_loss: 14.3855 - val_mae: 14.3855\n",
            "Epoch 98/100\n",
            "240/240 [==============================] - 0s 2ms/step - loss: 6.6376 - mae: 6.6376 - val_loss: 4.9137 - val_mae: 4.9137\n",
            "Epoch 99/100\n",
            "240/240 [==============================] - 1s 2ms/step - loss: 6.6162 - mae: 6.6162 - val_loss: 8.1224 - val_mae: 8.1224\n",
            "Epoch 100/100\n",
            "240/240 [==============================] - 1s 2ms/step - loss: 6.4869 - mae: 6.4869 - val_loss: 3.9088 - val_mae: 3.9088\n"
          ]
        },
        {
          "output_type": "execute_result",
          "data": {
            "text/plain": [
              "<keras.callbacks.History at 0x7fe606d8df30>"
            ]
          },
          "metadata": {},
          "execution_count": 50
        }
      ]
    },
    {
      "cell_type": "code",
      "source": [
        "sequential_model_1.evaluate(X_test,y_test)"
      ],
      "metadata": {
        "colab": {
          "base_uri": "https://localhost:8080/"
        },
        "id": "-vZVyf5na0NJ",
        "outputId": "bd6ccefd-38ad-4469-b808-3c1ba2edc22a"
      },
      "execution_count": 53,
      "outputs": [
        {
          "output_type": "stream",
          "name": "stdout",
          "text": [
            "60/60 [==============================] - 0s 2ms/step - loss: 3.9088 - mae: 3.9088\n"
          ]
        },
        {
          "output_type": "execute_result",
          "data": {
            "text/plain": [
              "[3.908834934234619, 3.908834934234619]"
            ]
          },
          "metadata": {},
          "execution_count": 53
        }
      ]
    },
    {
      "cell_type": "code",
      "source": [
        "sequential_model_1.summary()"
      ],
      "metadata": {
        "colab": {
          "base_uri": "https://localhost:8080/"
        },
        "id": "Dt3kMN-mbPHh",
        "outputId": "5025022c-31f6-4f7e-b66c-f023d17008da"
      },
      "execution_count": 54,
      "outputs": [
        {
          "output_type": "stream",
          "name": "stdout",
          "text": [
            "Model: \"sequential_2\"\n",
            "_________________________________________________________________\n",
            " Layer (type)                Output Shape              Param #   \n",
            "=================================================================\n",
            " dense_6 (Dense)             (None, 10)                40        \n",
            "                                                                 \n",
            " dense_7 (Dense)             (None, 10)                110       \n",
            "                                                                 \n",
            " dense_8 (Dense)             (None, 1)                 11        \n",
            "                                                                 \n",
            "=================================================================\n",
            "Total params: 161\n",
            "Trainable params: 161\n",
            "Non-trainable params: 0\n",
            "_________________________________________________________________\n"
          ]
        }
      ]
    },
    {
      "cell_type": "code",
      "source": [
        "y_test"
      ],
      "metadata": {
        "colab": {
          "base_uri": "https://localhost:8080/"
        },
        "id": "f8wXobG4cNPE",
        "outputId": "e7264333-d4c9-4bbb-a236-29b09889c048"
      },
      "execution_count": 55,
      "outputs": [
        {
          "output_type": "execute_result",
          "data": {
            "text/plain": [
              "(array([458.96, 463.29, 435.27, ..., 476.22, 440.29, 467.92]),\n",
              " array([44.63, 42.28, 70.32, ..., 38.38, 73.56, 44.58]))"
            ]
          },
          "metadata": {},
          "execution_count": 55
        }
      ]
    },
    {
      "cell_type": "code",
      "source": [
        "X_test[0], y_test"
      ],
      "metadata": {
        "colab": {
          "base_uri": "https://localhost:8080/"
        },
        "id": "p4FmcIxRcY87",
        "outputId": "71be8406-a53b-4d17-e331-d3d7a882868c"
      },
      "execution_count": 58,
      "outputs": [
        {
          "output_type": "execute_result",
          "data": {
            "text/plain": [
              "(array([0.45665722, 0.26354863, 0.82908847]),\n",
              " (array([458.96, 463.29, 435.27, ..., 476.22, 440.29, 467.92]),\n",
              "  array([44.63, 42.28, 70.32, ..., 38.38, 73.56, 44.58])))"
            ]
          },
          "metadata": {},
          "execution_count": 58
        }
      ]
    },
    {
      "cell_type": "code",
      "source": [
        "sequential_model_1.predict(X_test[0])"
      ],
      "metadata": {
        "colab": {
          "base_uri": "https://localhost:8080/",
          "height": 731
        },
        "id": "rCjZKB22conq",
        "outputId": "a483e842-51ca-45b5-ddc4-059b8733a6e3"
      },
      "execution_count": 59,
      "outputs": [
        {
          "output_type": "error",
          "ename": "ValueError",
          "evalue": "ignored",
          "traceback": [
            "\u001b[0;31m---------------------------------------------------------------------------\u001b[0m",
            "\u001b[0;31mValueError\u001b[0m                                Traceback (most recent call last)",
            "\u001b[0;32m<ipython-input-59-62665a60b5d1>\u001b[0m in \u001b[0;36m<cell line: 1>\u001b[0;34m()\u001b[0m\n\u001b[0;32m----> 1\u001b[0;31m \u001b[0msequential_model_1\u001b[0m\u001b[0;34m.\u001b[0m\u001b[0mpredict\u001b[0m\u001b[0;34m(\u001b[0m\u001b[0mX_test\u001b[0m\u001b[0;34m[\u001b[0m\u001b[0;36m0\u001b[0m\u001b[0;34m]\u001b[0m\u001b[0;34m)\u001b[0m\u001b[0;34m\u001b[0m\u001b[0;34m\u001b[0m\u001b[0m\n\u001b[0m",
            "\u001b[0;32m/usr/local/lib/python3.10/dist-packages/keras/utils/traceback_utils.py\u001b[0m in \u001b[0;36merror_handler\u001b[0;34m(*args, **kwargs)\u001b[0m\n\u001b[1;32m     68\u001b[0m             \u001b[0;31m# To get the full stack trace, call:\u001b[0m\u001b[0;34m\u001b[0m\u001b[0;34m\u001b[0m\u001b[0m\n\u001b[1;32m     69\u001b[0m             \u001b[0;31m# `tf.debugging.disable_traceback_filtering()`\u001b[0m\u001b[0;34m\u001b[0m\u001b[0;34m\u001b[0m\u001b[0m\n\u001b[0;32m---> 70\u001b[0;31m             \u001b[0;32mraise\u001b[0m \u001b[0me\u001b[0m\u001b[0;34m.\u001b[0m\u001b[0mwith_traceback\u001b[0m\u001b[0;34m(\u001b[0m\u001b[0mfiltered_tb\u001b[0m\u001b[0;34m)\u001b[0m \u001b[0;32mfrom\u001b[0m \u001b[0;32mNone\u001b[0m\u001b[0;34m\u001b[0m\u001b[0;34m\u001b[0m\u001b[0m\n\u001b[0m\u001b[1;32m     71\u001b[0m         \u001b[0;32mfinally\u001b[0m\u001b[0;34m:\u001b[0m\u001b[0;34m\u001b[0m\u001b[0;34m\u001b[0m\u001b[0m\n\u001b[1;32m     72\u001b[0m             \u001b[0;32mdel\u001b[0m \u001b[0mfiltered_tb\u001b[0m\u001b[0;34m\u001b[0m\u001b[0;34m\u001b[0m\u001b[0m\n",
            "\u001b[0;32m/usr/local/lib/python3.10/dist-packages/keras/engine/training.py\u001b[0m in \u001b[0;36mtf__predict_function\u001b[0;34m(iterator)\u001b[0m\n\u001b[1;32m     13\u001b[0m                 \u001b[0;32mtry\u001b[0m\u001b[0;34m:\u001b[0m\u001b[0;34m\u001b[0m\u001b[0;34m\u001b[0m\u001b[0m\n\u001b[1;32m     14\u001b[0m                     \u001b[0mdo_return\u001b[0m \u001b[0;34m=\u001b[0m \u001b[0;32mTrue\u001b[0m\u001b[0;34m\u001b[0m\u001b[0;34m\u001b[0m\u001b[0m\n\u001b[0;32m---> 15\u001b[0;31m                     \u001b[0mretval_\u001b[0m \u001b[0;34m=\u001b[0m \u001b[0mag__\u001b[0m\u001b[0;34m.\u001b[0m\u001b[0mconverted_call\u001b[0m\u001b[0;34m(\u001b[0m\u001b[0mag__\u001b[0m\u001b[0;34m.\u001b[0m\u001b[0mld\u001b[0m\u001b[0;34m(\u001b[0m\u001b[0mstep_function\u001b[0m\u001b[0;34m)\u001b[0m\u001b[0;34m,\u001b[0m \u001b[0;34m(\u001b[0m\u001b[0mag__\u001b[0m\u001b[0;34m.\u001b[0m\u001b[0mld\u001b[0m\u001b[0;34m(\u001b[0m\u001b[0mself\u001b[0m\u001b[0;34m)\u001b[0m\u001b[0;34m,\u001b[0m \u001b[0mag__\u001b[0m\u001b[0;34m.\u001b[0m\u001b[0mld\u001b[0m\u001b[0;34m(\u001b[0m\u001b[0miterator\u001b[0m\u001b[0;34m)\u001b[0m\u001b[0;34m)\u001b[0m\u001b[0;34m,\u001b[0m \u001b[0;32mNone\u001b[0m\u001b[0;34m,\u001b[0m \u001b[0mfscope\u001b[0m\u001b[0;34m)\u001b[0m\u001b[0;34m\u001b[0m\u001b[0;34m\u001b[0m\u001b[0m\n\u001b[0m\u001b[1;32m     16\u001b[0m                 \u001b[0;32mexcept\u001b[0m\u001b[0;34m:\u001b[0m\u001b[0;34m\u001b[0m\u001b[0;34m\u001b[0m\u001b[0m\n\u001b[1;32m     17\u001b[0m                     \u001b[0mdo_return\u001b[0m \u001b[0;34m=\u001b[0m \u001b[0;32mFalse\u001b[0m\u001b[0;34m\u001b[0m\u001b[0;34m\u001b[0m\u001b[0m\n",
            "\u001b[0;31mValueError\u001b[0m: in user code:\n\n    File \"/usr/local/lib/python3.10/dist-packages/keras/engine/training.py\", line 2169, in predict_function  *\n        return step_function(self, iterator)\n    File \"/usr/local/lib/python3.10/dist-packages/keras/engine/training.py\", line 2155, in step_function  **\n        outputs = model.distribute_strategy.run(run_step, args=(data,))\n    File \"/usr/local/lib/python3.10/dist-packages/keras/engine/training.py\", line 2143, in run_step  **\n        outputs = model.predict_step(data)\n    File \"/usr/local/lib/python3.10/dist-packages/keras/engine/training.py\", line 2111, in predict_step\n        return self(x, training=False)\n    File \"/usr/local/lib/python3.10/dist-packages/keras/utils/traceback_utils.py\", line 70, in error_handler\n        raise e.with_traceback(filtered_tb) from None\n    File \"/usr/local/lib/python3.10/dist-packages/keras/engine/input_spec.py\", line 253, in assert_input_compatibility\n        raise ValueError(\n\n    ValueError: Exception encountered when calling layer 'sequential_2' (type Sequential).\n    \n    Input 0 of layer \"dense_6\" is incompatible with the layer: expected min_ndim=2, found ndim=1. Full shape received: (None,)\n    \n    Call arguments received by layer 'sequential_2' (type Sequential):\n      • inputs=tf.Tensor(shape=(None,), dtype=float32)\n      • training=False\n      • mask=None\n"
          ]
        }
      ]
    },
    {
      "cell_type": "markdown",
      "source": [
        "Its throwing error as we can't send 2 columns for dependent variable which means sequential doesn't support branching and predicting multiple columns but using functional api, we can achieve it"
      ],
      "metadata": {
        "id": "POz3wxSddGfc"
      }
    },
    {
      "cell_type": "code",
      "source": [
        "tf.random.set_seed(42)\n",
        "\n",
        "input_layer = Input(shape=(3,), name='Input_Layer')\n",
        "\n",
        "Layer_1 = Dense(10, activation='relu', name='Layer_1')(input_layer)\n",
        "Layer_2 = Dense(10, activation='relu', name='Layer_2')(Layer_1)\n",
        "\n",
        "Branched_Layer = Dense(10, activation='relu', name='Branch_Layer')(Layer_2)\n",
        "\n",
        "output_y1 = Dense(1, activation='linear', name='Output_y1')(Layer_2)\n",
        "output_y2 = Dense(1, activation='linear', name='Output_y2')(Branched_Layer)\n",
        "\n",
        "functional_model_1= Model(inputs=input_layer, outputs=[output_y1, output_y2])\n",
        "\n",
        "functional_model_1.compile(loss=tf.keras.losses.mae, optimizer=tf.keras.optimizers.SGD(), metrics=['mae'])"
      ],
      "metadata": {
        "id": "q8TCrm--c-9t"
      },
      "execution_count": 67,
      "outputs": []
    },
    {
      "cell_type": "code",
      "source": [
        "functional_model_history_1 = functional_model_1.fit(X_train,y_train, epochs=10, validation_data =(X_test, y_test), verbose=0)"
      ],
      "metadata": {
        "id": "QBXK8TB4fItb"
      },
      "execution_count": 68,
      "outputs": []
    },
    {
      "cell_type": "code",
      "source": [
        "functional_model_1.summary()"
      ],
      "metadata": {
        "colab": {
          "base_uri": "https://localhost:8080/"
        },
        "id": "A_e3UI7Wfjfp",
        "outputId": "28bae891-0657-43ea-9a9c-a4649b531208"
      },
      "execution_count": 69,
      "outputs": [
        {
          "output_type": "stream",
          "name": "stdout",
          "text": [
            "Model: \"model_2\"\n",
            "__________________________________________________________________________________________________\n",
            " Layer (type)                   Output Shape         Param #     Connected to                     \n",
            "==================================================================================================\n",
            " Input_Layer (InputLayer)       [(None, 3)]          0           []                               \n",
            "                                                                                                  \n",
            " Layer_1 (Dense)                (None, 10)           40          ['Input_Layer[0][0]']            \n",
            "                                                                                                  \n",
            " Layer_2 (Dense)                (None, 10)           110         ['Layer_1[0][0]']                \n",
            "                                                                                                  \n",
            " Branch_Layer (Dense)           (None, 10)           110         ['Layer_2[0][0]']                \n",
            "                                                                                                  \n",
            " Output_y1 (Dense)              (None, 1)            11          ['Layer_2[0][0]']                \n",
            "                                                                                                  \n",
            " Output_y2 (Dense)              (None, 1)            11          ['Branch_Layer[0][0]']           \n",
            "                                                                                                  \n",
            "==================================================================================================\n",
            "Total params: 282\n",
            "Trainable params: 282\n",
            "Non-trainable params: 0\n",
            "__________________________________________________________________________________________________\n"
          ]
        }
      ]
    },
    {
      "cell_type": "code",
      "source": [
        "pd.DataFrame(functional_model_history_1.history).plot()"
      ],
      "metadata": {
        "colab": {
          "base_uri": "https://localhost:8080/",
          "height": 448
        },
        "id": "0PiH-PyngAVn",
        "outputId": "61ceeb1f-6f89-41ac-8e3e-e809b24c7dd1"
      },
      "execution_count": 72,
      "outputs": [
        {
          "output_type": "execute_result",
          "data": {
            "text/plain": [
              "<Axes: >"
            ]
          },
          "metadata": {},
          "execution_count": 72
        },
        {
          "output_type": "display_data",
          "data": {
            "text/plain": [
              "<Figure size 640x480 with 1 Axes>"
            ],
            "image/png": "[encoded data removed]"
          },
          "metadata": {}
        }
      ]
    },
    {
      "cell_type": "code",
      "source": [
        "prdics = functional_model_1.predict(X_test)"
      ],
      "metadata": {
        "colab": {
          "base_uri": "https://localhost:8080/"
        },
        "id": "YM5zQGJogPHy",
        "outputId": "69c0fc6e-fd1b-417c-eb5c-ca5b42b14c45"
      },
      "execution_count": 73,
      "outputs": [
        {
          "output_type": "stream",
          "name": "stdout",
          "text": [
            "60/60 [==============================] - 0s 1ms/step\n"
          ]
        }
      ]
    },
    {
      "cell_type": "code",
      "source": [
        "prdics[0], prdics[1], X_test[0]"
      ],
      "metadata": {
        "colab": {
          "base_uri": "https://localhost:8080/"
        },
        "id": "Uha4SGPAhBy0",
        "outputId": "7d7926d8-7955-4690-9e2c-4241f90a89f9"
      },
      "execution_count": 77,
      "outputs": [
        {
          "output_type": "execute_result",
          "data": {
            "text/plain": [
              "(array([[387.82895],\n",
              "        [400.53525],\n",
              "        [379.20468],\n",
              "        ...,\n",
              "        [405.37494],\n",
              "        [364.4966 ],\n",
              "        [392.99106]], dtype=float32),\n",
              " array([[26.712627],\n",
              "        [27.378363],\n",
              "        [26.27718 ],\n",
              "        ...,\n",
              "        [27.618908],\n",
              "        [25.52534 ],\n",
              "        [26.973858]], dtype=float32),\n",
              " array([0.45665722, 0.26354863, 0.82908847]))"
            ]
          },
          "metadata": {},
          "execution_count": 77
        }
      ]
    },
    {
      "cell_type": "code",
      "source": [
        "y_test"
      ],
      "metadata": {
        "colab": {
          "base_uri": "https://localhost:8080/"
        },
        "id": "6S2kJdPIhEyZ",
        "outputId": "235ad29d-2609-4655-ba4c-8dd4a8b2e6a6"
      },
      "execution_count": 76,
      "outputs": [
        {
          "output_type": "execute_result",
          "data": {
            "text/plain": [
              "(array([458.96, 463.29, 435.27, ..., 476.22, 440.29, 467.92]),\n",
              " array([44.63, 42.28, 70.32, ..., 38.38, 73.56, 44.58]))"
            ]
          },
          "metadata": {},
          "execution_count": 76
        }
      ]
    },
    {
      "cell_type": "code",
      "source": [
        "len(prdics)"
      ],
      "metadata": {
        "colab": {
          "base_uri": "https://localhost:8080/"
        },
        "id": "pnJNZVJQhJ0P",
        "outputId": "e182ed2b-456e-49e5-8eb7-13a0bf20da7d"
      },
      "execution_count": 81,
      "outputs": [
        {
          "output_type": "execute_result",
          "data": {
            "text/plain": [
              "2"
            ]
          },
          "metadata": {},
          "execution_count": 81
        }
      ]
    },
    {
      "cell_type": "code",
      "source": [
        "plt.scatter(y_test[0],prdics[0], label='Plotting actual vs predicted energy')\n",
        "plt.figure()\n",
        "plt.scatter(y_test[1],prdics[1], label='Plotting actual vs predicted vaccum')\n",
        "plt.show()"
      ],
      "metadata": {
        "colab": {
          "base_uri": "https://localhost:8080/",
          "height": 843
        },
        "id": "wQaVfpsihWMA",
        "outputId": "e2bc2cf1-4bb7-4b96-d006-6a1c1d27842c"
      },
      "execution_count": 84,
      "outputs": [
        {
          "output_type": "display_data",
          "data": {
            "text/plain": [
              "<Figure size 640x480 with 1 Axes>"
            ],
            "image/png": "[encoded data removed]"
          },
          "metadata": {}
        },
        {
          "output_type": "display_data",
          "data": {
            "text/plain": [
              "<Figure size 640x480 with 1 Axes>"
            ],
            "image/png": "[encoded data removed]"
          },
          "metadata": {}
        }
      ]
    },
    {
      "cell_type": "code",
      "source": [],
      "metadata": {
        "id": "-vKzRlaJh4lE"
      },
      "execution_count": null,
      "outputs": []
    }
  ]
}