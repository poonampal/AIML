{
 "cells": [
  {
   "cell_type": "markdown",
   "id": "c91881b4-f226-4a4d-a7e5-66741321b4fa",
   "metadata": {},
   "source": [
    "### Problem Statement\n",
    "Diabetes is one of the most frequent diseases worldwide and the number of diabetic patients is growing over the years. The main cause of diabetes remains unknown, yet scientists believe that both genetic factors and environmental lifestyle play a major role in diabetes.\n",
    "\n",
    "Individuals with diabetes face a risk of developing some secondary health issues such as heart diseases and nerve damage. Thus, early detection and treatment of diabetes can prevent complications and assist in reducing the risk of severe health problems. Even though it's incurable, it can be managed by treatment and medication.\n",
    "\n",
    "Researchers at the Bio-Solutions lab want to get a better understanding of this disease among women and are planning to use machine learning models that will help them to identify patients who are at risk of diabetes.\n",
    "\n",
    "You as a data scientist at Bio-Solutions have to build a classification model using a dataset collected by the \"National Institute of Diabetes and Digestive and Kidney Diseases\" consisting of several attributes that would help to identify whether a person is at risk of diabetes or not."
   ]
  },
  {
   "cell_type": "markdown",
   "id": "196ca29e-f34e-4c8c-89e9-ac60cc82ff80",
   "metadata": {},
   "source": [
    "### Objective:\n",
    "To build a model to predict whether an individual is at risk of diabetes or not."
   ]
  },
  {
   "cell_type": "markdown",
   "id": "2634fa1e-f117-4345-b889-f07c64b25a8e",
   "metadata": {},
   "source": [
    "### Data Description:\n",
    "- Pregnancies: Number of times pregnant\n",
    "- Glucose: Plasma glucose concentration over 2 hours in an oral glucose tolerance test\n",
    "- BloodPressure: Diastolic blood pressure (mm Hg)\n",
    "- SkinThickness: Triceps skinfold thickness (mm)\n",
    "- Insulin: 2-Hour serum insulin (mu U/ml)\n",
    "- BMI: Body mass index (weight in kg/(height in m)^2)\n",
    "- Pedigree: Diabetes pedigree function - A function that scores likelihood of diabetes based on family history.\n",
    "- Age: Age in years\n",
    "- Class: Class variable (0: the person is not diabetic or 1: the person is diabetic)"
   ]
  },
  {
   "cell_type": "code",
   "execution_count": 32,
   "id": "e9ee825a-197e-4d77-91ab-7ab845f3e75a",
   "metadata": {
    "tags": []
   },
   "outputs": [],
   "source": [
    "import warnings\n",
    "warnings.filterwarnings(\"ignore\")\n",
    "\n",
    "import numpy as np\n",
    "import pandas as pd\n",
    "\n",
    "import matplotlib.pyplot as plt\n",
    "import seaborn as sns\n",
    "\n",
    "\n",
    "from sklearn.model_selection import train_test_split\n",
    "\n",
    "from sklearn.ensemble import BaggingClassifier\n",
    "from sklearn.ensemble import RandomForestClassifier\n",
    "from sklearn.tree import DecisionTreeClassifier\n",
    "from sklearn import tree\n",
    "\n",
    "\n",
    "from sklearn import metrics\n",
    "from sklearn.metrics import confusion_matrix, classification_report, accuracy_score, precision_score, f1_score, recall_score, roc_auc_score\n",
    "from sklearn.model_selection import GridSearchCV"
   ]
  },
  {
   "cell_type": "code",
   "execution_count": 34,
   "id": "2f569c0f-7ef4-4476-9eeb-ecad0c3e376f",
   "metadata": {
    "tags": []
   },
   "outputs": [
    {
     "data": {
      "text/html": [
       "<div>\n",
       "<style scoped>\n",
       "    .dataframe tbody tr th:only-of-type {\n",
       "        vertical-align: middle;\n",
       "    }\n",
       "\n",
       "    .dataframe tbody tr th {\n",
       "        vertical-align: top;\n",
       "    }\n",
       "\n",
       "    .dataframe thead th {\n",
       "        text-align: right;\n",
       "    }\n",
       "</style>\n",
       "<table border=\"1\" class=\"dataframe\">\n",
       "  <thead>\n",
       "    <tr style=\"text-align: right;\">\n",
       "      <th></th>\n",
       "      <th>Pregnancies</th>\n",
       "      <th>Glucose</th>\n",
       "      <th>BloodPressure</th>\n",
       "      <th>SkinThickness</th>\n",
       "      <th>Insulin</th>\n",
       "      <th>BMI</th>\n",
       "      <th>Pedigree</th>\n",
       "      <th>Age</th>\n",
       "      <th>Class</th>\n",
       "    </tr>\n",
       "  </thead>\n",
       "  <tbody>\n",
       "    <tr>\n",
       "      <th>0</th>\n",
       "      <td>6</td>\n",
       "      <td>148</td>\n",
       "      <td>72</td>\n",
       "      <td>35</td>\n",
       "      <td>0</td>\n",
       "      <td>33.6</td>\n",
       "      <td>0.627</td>\n",
       "      <td>50</td>\n",
       "      <td>1</td>\n",
       "    </tr>\n",
       "    <tr>\n",
       "      <th>1</th>\n",
       "      <td>1</td>\n",
       "      <td>85</td>\n",
       "      <td>66</td>\n",
       "      <td>29</td>\n",
       "      <td>0</td>\n",
       "      <td>26.6</td>\n",
       "      <td>0.351</td>\n",
       "      <td>31</td>\n",
       "      <td>0</td>\n",
       "    </tr>\n",
       "    <tr>\n",
       "      <th>2</th>\n",
       "      <td>8</td>\n",
       "      <td>183</td>\n",
       "      <td>64</td>\n",
       "      <td>0</td>\n",
       "      <td>0</td>\n",
       "      <td>23.3</td>\n",
       "      <td>0.672</td>\n",
       "      <td>32</td>\n",
       "      <td>1</td>\n",
       "    </tr>\n",
       "    <tr>\n",
       "      <th>3</th>\n",
       "      <td>1</td>\n",
       "      <td>89</td>\n",
       "      <td>66</td>\n",
       "      <td>23</td>\n",
       "      <td>94</td>\n",
       "      <td>28.1</td>\n",
       "      <td>0.167</td>\n",
       "      <td>21</td>\n",
       "      <td>0</td>\n",
       "    </tr>\n",
       "    <tr>\n",
       "      <th>4</th>\n",
       "      <td>0</td>\n",
       "      <td>137</td>\n",
       "      <td>40</td>\n",
       "      <td>35</td>\n",
       "      <td>168</td>\n",
       "      <td>43.1</td>\n",
       "      <td>2.288</td>\n",
       "      <td>33</td>\n",
       "      <td>1</td>\n",
       "    </tr>\n",
       "  </tbody>\n",
       "</table>\n",
       "</div>"
      ],
      "text/plain": [
       "   Pregnancies  Glucose  BloodPressure  SkinThickness  Insulin   BMI  \\\n",
       "0            6      148             72             35        0  33.6   \n",
       "1            1       85             66             29        0  26.6   \n",
       "2            8      183             64              0        0  23.3   \n",
       "3            1       89             66             23       94  28.1   \n",
       "4            0      137             40             35      168  43.1   \n",
       "\n",
       "   Pedigree  Age  Class  \n",
       "0     0.627   50      1  \n",
       "1     0.351   31      0  \n",
       "2     0.672   32      1  \n",
       "3     0.167   21      0  \n",
       "4     2.288   33      1  "
      ]
     },
     "execution_count": 34,
     "metadata": {},
     "output_type": "execute_result"
    }
   ],
   "source": [
    "data = pd.read_csv('pima-indians-diabetes.csv')\n",
    "df = data.copy()\n",
    "df.head()"
   ]
  },
  {
   "cell_type": "code",
   "execution_count": 35,
   "id": "ef9682f1-6c25-416b-ac0b-24f13e0a1f4e",
   "metadata": {
    "tags": []
   },
   "outputs": [
    {
     "data": {
      "text/html": [
       "<div>\n",
       "<style scoped>\n",
       "    .dataframe tbody tr th:only-of-type {\n",
       "        vertical-align: middle;\n",
       "    }\n",
       "\n",
       "    .dataframe tbody tr th {\n",
       "        vertical-align: top;\n",
       "    }\n",
       "\n",
       "    .dataframe thead th {\n",
       "        text-align: right;\n",
       "    }\n",
       "</style>\n",
       "<table border=\"1\" class=\"dataframe\">\n",
       "  <thead>\n",
       "    <tr style=\"text-align: right;\">\n",
       "      <th></th>\n",
       "      <th>Pregnancies</th>\n",
       "      <th>Glucose</th>\n",
       "      <th>BloodPressure</th>\n",
       "      <th>SkinThickness</th>\n",
       "      <th>Insulin</th>\n",
       "      <th>BMI</th>\n",
       "      <th>Pedigree</th>\n",
       "      <th>Age</th>\n",
       "      <th>Class</th>\n",
       "    </tr>\n",
       "  </thead>\n",
       "  <tbody>\n",
       "    <tr>\n",
       "      <th>763</th>\n",
       "      <td>10</td>\n",
       "      <td>101</td>\n",
       "      <td>76</td>\n",
       "      <td>48</td>\n",
       "      <td>180</td>\n",
       "      <td>32.9</td>\n",
       "      <td>0.171</td>\n",
       "      <td>63</td>\n",
       "      <td>0</td>\n",
       "    </tr>\n",
       "    <tr>\n",
       "      <th>764</th>\n",
       "      <td>2</td>\n",
       "      <td>122</td>\n",
       "      <td>70</td>\n",
       "      <td>27</td>\n",
       "      <td>0</td>\n",
       "      <td>36.8</td>\n",
       "      <td>0.340</td>\n",
       "      <td>27</td>\n",
       "      <td>0</td>\n",
       "    </tr>\n",
       "    <tr>\n",
       "      <th>765</th>\n",
       "      <td>5</td>\n",
       "      <td>121</td>\n",
       "      <td>72</td>\n",
       "      <td>23</td>\n",
       "      <td>112</td>\n",
       "      <td>26.2</td>\n",
       "      <td>0.245</td>\n",
       "      <td>30</td>\n",
       "      <td>0</td>\n",
       "    </tr>\n",
       "    <tr>\n",
       "      <th>766</th>\n",
       "      <td>1</td>\n",
       "      <td>126</td>\n",
       "      <td>60</td>\n",
       "      <td>0</td>\n",
       "      <td>0</td>\n",
       "      <td>30.1</td>\n",
       "      <td>0.349</td>\n",
       "      <td>47</td>\n",
       "      <td>1</td>\n",
       "    </tr>\n",
       "    <tr>\n",
       "      <th>767</th>\n",
       "      <td>1</td>\n",
       "      <td>93</td>\n",
       "      <td>70</td>\n",
       "      <td>31</td>\n",
       "      <td>0</td>\n",
       "      <td>30.4</td>\n",
       "      <td>0.315</td>\n",
       "      <td>23</td>\n",
       "      <td>0</td>\n",
       "    </tr>\n",
       "  </tbody>\n",
       "</table>\n",
       "</div>"
      ],
      "text/plain": [
       "     Pregnancies  Glucose  BloodPressure  SkinThickness  Insulin   BMI  \\\n",
       "763           10      101             76             48      180  32.9   \n",
       "764            2      122             70             27        0  36.8   \n",
       "765            5      121             72             23      112  26.2   \n",
       "766            1      126             60              0        0  30.1   \n",
       "767            1       93             70             31        0  30.4   \n",
       "\n",
       "     Pedigree  Age  Class  \n",
       "763     0.171   63      0  \n",
       "764     0.340   27      0  \n",
       "765     0.245   30      0  \n",
       "766     0.349   47      1  \n",
       "767     0.315   23      0  "
      ]
     },
     "execution_count": 35,
     "metadata": {},
     "output_type": "execute_result"
    }
   ],
   "source": [
    "df.tail()"
   ]
  },
  {
   "cell_type": "code",
   "execution_count": 36,
   "id": "c1b5133b-ba1c-4c4b-98d5-7d97e4bde911",
   "metadata": {
    "tags": []
   },
   "outputs": [
    {
     "name": "stdout",
     "output_type": "stream",
     "text": [
      "<class 'pandas.core.frame.DataFrame'>\n",
      "RangeIndex: 768 entries, 0 to 767\n",
      "Data columns (total 9 columns):\n",
      " #   Column         Non-Null Count  Dtype  \n",
      "---  ------         --------------  -----  \n",
      " 0   Pregnancies    768 non-null    int64  \n",
      " 1   Glucose        768 non-null    int64  \n",
      " 2   BloodPressure  768 non-null    int64  \n",
      " 3   SkinThickness  768 non-null    int64  \n",
      " 4   Insulin        768 non-null    int64  \n",
      " 5   BMI            768 non-null    float64\n",
      " 6   Pedigree       768 non-null    float64\n",
      " 7   Age            768 non-null    int64  \n",
      " 8   Class          768 non-null    int64  \n",
      "dtypes: float64(2), int64(7)\n",
      "memory usage: 54.1 KB\n"
     ]
    }
   ],
   "source": [
    "df.info()"
   ]
  },
  {
   "cell_type": "code",
   "execution_count": 37,
   "id": "c7f30d7d-4aa2-43a0-9334-2a944793853f",
   "metadata": {
    "tags": []
   },
   "outputs": [
    {
     "data": {
      "text/html": [
       "<div>\n",
       "<style scoped>\n",
       "    .dataframe tbody tr th:only-of-type {\n",
       "        vertical-align: middle;\n",
       "    }\n",
       "\n",
       "    .dataframe tbody tr th {\n",
       "        vertical-align: top;\n",
       "    }\n",
       "\n",
       "    .dataframe thead th {\n",
       "        text-align: right;\n",
       "    }\n",
       "</style>\n",
       "<table border=\"1\" class=\"dataframe\">\n",
       "  <thead>\n",
       "    <tr style=\"text-align: right;\">\n",
       "      <th></th>\n",
       "      <th>Pregnancies</th>\n",
       "      <th>Glucose</th>\n",
       "      <th>BloodPressure</th>\n",
       "      <th>SkinThickness</th>\n",
       "      <th>Insulin</th>\n",
       "      <th>BMI</th>\n",
       "      <th>Pedigree</th>\n",
       "      <th>Age</th>\n",
       "      <th>Class</th>\n",
       "    </tr>\n",
       "  </thead>\n",
       "  <tbody>\n",
       "    <tr>\n",
       "      <th>count</th>\n",
       "      <td>768.000000</td>\n",
       "      <td>768.000000</td>\n",
       "      <td>768.000000</td>\n",
       "      <td>768.000000</td>\n",
       "      <td>768.000000</td>\n",
       "      <td>768.000000</td>\n",
       "      <td>768.000000</td>\n",
       "      <td>768.000000</td>\n",
       "      <td>768.000000</td>\n",
       "    </tr>\n",
       "    <tr>\n",
       "      <th>mean</th>\n",
       "      <td>3.845052</td>\n",
       "      <td>120.894531</td>\n",
       "      <td>69.105469</td>\n",
       "      <td>20.536458</td>\n",
       "      <td>79.799479</td>\n",
       "      <td>31.992578</td>\n",
       "      <td>0.471876</td>\n",
       "      <td>33.240885</td>\n",
       "      <td>0.348958</td>\n",
       "    </tr>\n",
       "    <tr>\n",
       "      <th>std</th>\n",
       "      <td>3.369578</td>\n",
       "      <td>31.972618</td>\n",
       "      <td>19.355807</td>\n",
       "      <td>15.952218</td>\n",
       "      <td>115.244002</td>\n",
       "      <td>7.884160</td>\n",
       "      <td>0.331329</td>\n",
       "      <td>11.760232</td>\n",
       "      <td>0.476951</td>\n",
       "    </tr>\n",
       "    <tr>\n",
       "      <th>min</th>\n",
       "      <td>0.000000</td>\n",
       "      <td>0.000000</td>\n",
       "      <td>0.000000</td>\n",
       "      <td>0.000000</td>\n",
       "      <td>0.000000</td>\n",
       "      <td>0.000000</td>\n",
       "      <td>0.078000</td>\n",
       "      <td>21.000000</td>\n",
       "      <td>0.000000</td>\n",
       "    </tr>\n",
       "    <tr>\n",
       "      <th>25%</th>\n",
       "      <td>1.000000</td>\n",
       "      <td>99.000000</td>\n",
       "      <td>62.000000</td>\n",
       "      <td>0.000000</td>\n",
       "      <td>0.000000</td>\n",
       "      <td>27.300000</td>\n",
       "      <td>0.243750</td>\n",
       "      <td>24.000000</td>\n",
       "      <td>0.000000</td>\n",
       "    </tr>\n",
       "    <tr>\n",
       "      <th>50%</th>\n",
       "      <td>3.000000</td>\n",
       "      <td>117.000000</td>\n",
       "      <td>72.000000</td>\n",
       "      <td>23.000000</td>\n",
       "      <td>30.500000</td>\n",
       "      <td>32.000000</td>\n",
       "      <td>0.372500</td>\n",
       "      <td>29.000000</td>\n",
       "      <td>0.000000</td>\n",
       "    </tr>\n",
       "    <tr>\n",
       "      <th>75%</th>\n",
       "      <td>6.000000</td>\n",
       "      <td>140.250000</td>\n",
       "      <td>80.000000</td>\n",
       "      <td>32.000000</td>\n",
       "      <td>127.250000</td>\n",
       "      <td>36.600000</td>\n",
       "      <td>0.626250</td>\n",
       "      <td>41.000000</td>\n",
       "      <td>1.000000</td>\n",
       "    </tr>\n",
       "    <tr>\n",
       "      <th>max</th>\n",
       "      <td>17.000000</td>\n",
       "      <td>199.000000</td>\n",
       "      <td>122.000000</td>\n",
       "      <td>99.000000</td>\n",
       "      <td>846.000000</td>\n",
       "      <td>67.100000</td>\n",
       "      <td>2.420000</td>\n",
       "      <td>81.000000</td>\n",
       "      <td>1.000000</td>\n",
       "    </tr>\n",
       "  </tbody>\n",
       "</table>\n",
       "</div>"
      ],
      "text/plain": [
       "       Pregnancies     Glucose  BloodPressure  SkinThickness     Insulin  \\\n",
       "count   768.000000  768.000000     768.000000     768.000000  768.000000   \n",
       "mean      3.845052  120.894531      69.105469      20.536458   79.799479   \n",
       "std       3.369578   31.972618      19.355807      15.952218  115.244002   \n",
       "min       0.000000    0.000000       0.000000       0.000000    0.000000   \n",
       "25%       1.000000   99.000000      62.000000       0.000000    0.000000   \n",
       "50%       3.000000  117.000000      72.000000      23.000000   30.500000   \n",
       "75%       6.000000  140.250000      80.000000      32.000000  127.250000   \n",
       "max      17.000000  199.000000     122.000000      99.000000  846.000000   \n",
       "\n",
       "              BMI    Pedigree         Age       Class  \n",
       "count  768.000000  768.000000  768.000000  768.000000  \n",
       "mean    31.992578    0.471876   33.240885    0.348958  \n",
       "std      7.884160    0.331329   11.760232    0.476951  \n",
       "min      0.000000    0.078000   21.000000    0.000000  \n",
       "25%     27.300000    0.243750   24.000000    0.000000  \n",
       "50%     32.000000    0.372500   29.000000    0.000000  \n",
       "75%     36.600000    0.626250   41.000000    1.000000  \n",
       "max     67.100000    2.420000   81.000000    1.000000  "
      ]
     },
     "execution_count": 37,
     "metadata": {},
     "output_type": "execute_result"
    }
   ],
   "source": [
    "df.describe()"
   ]
  },
  {
   "cell_type": "code",
   "execution_count": 38,
   "id": "887756d0-90c5-4f1d-b268-e0203a474c6c",
   "metadata": {
    "tags": []
   },
   "outputs": [
    {
     "data": {
      "text/plain": [
       "0"
      ]
     },
     "execution_count": 38,
     "metadata": {},
     "output_type": "execute_result"
    }
   ],
   "source": [
    "df.duplicated().sum()"
   ]
  },
  {
   "cell_type": "markdown",
   "id": "6bd0c14b-beff-4082-be3e-105b5df8e874",
   "metadata": {
    "tags": []
   },
   "source": [
    "df.isnull().sum()"
   ]
  },
  {
   "cell_type": "code",
   "execution_count": 39,
   "id": "501af904-8935-457b-bc69-0d723687f201",
   "metadata": {
    "tags": []
   },
   "outputs": [
    {
     "data": {
      "text/plain": [
       "(768, 9)"
      ]
     },
     "execution_count": 39,
     "metadata": {},
     "output_type": "execute_result"
    }
   ],
   "source": [
    "df.shape"
   ]
  },
  {
   "cell_type": "markdown",
   "id": "84233346-d099-45cc-9693-9b032243ef84",
   "metadata": {},
   "source": [
    "### Missing value treatment"
   ]
  },
  {
   "cell_type": "code",
   "execution_count": 40,
   "id": "0bd9e72a-2e16-4d57-ab2b-d5f7c3e7fdb8",
   "metadata": {
    "tags": []
   },
   "outputs": [],
   "source": [
    "df.loc[df.Glucose ==0, 'Glucose'] = df.Glucose.median()\n",
    "df.loc[df.BloodPressure ==0, 'BloodPressure'] = df.BloodPressure.median()\n",
    "df.loc[df.SkinThickness == 0, 'SkinThickness'] = df.SkinThickness.median()\n",
    "df.loc[df.Insulin == 0, 'Insulin'] = df.Insulin.median()\n",
    "df.loc[df.BMI == 0, 'BMI'] = df.BMI.median()"
   ]
  },
  {
   "cell_type": "markdown",
   "id": "a23d0ef5-443a-4e0b-96e4-f54b0ce905d2",
   "metadata": {},
   "source": [
    "### Split Data"
   ]
  },
  {
   "cell_type": "code",
   "execution_count": 41,
   "id": "045f4aed-f53d-4ee0-a124-a056184964d1",
   "metadata": {
    "tags": []
   },
   "outputs": [],
   "source": [
    "X = df.drop(['Class'], axis=1)\n",
    "y = df['Class']"
   ]
  },
  {
   "cell_type": "code",
   "execution_count": 42,
   "id": "2bfe80f6-57f5-4a2c-a018-74623581cc12",
   "metadata": {
    "tags": []
   },
   "outputs": [],
   "source": [
    "X_train,X_test,y_train,y_test = train_test_split(X,y, test_size=0.3, random_state=1, stratify=y)"
   ]
  },
  {
   "cell_type": "markdown",
   "id": "2d016bd9-5f41-48b7-af8f-549de8250527",
   "metadata": {},
   "source": [
    "## Model evaluation criterion\n",
    "#### The model can make wrong predictions as:\n",
    "1. Predicting a person doesn't have diabetes and the person has diabetes.\n",
    "2. Predicting a person has diabetes, and the person doesn't have diabetes.\n",
    "#### Which case is more important?\n",
    "Predicting a person doesn't have diabetes, and the person has diabetes.\n",
    "#### Which metric to optimize?\n",
    "We would want Recall to be maximized, the greater the Recall higher the chances of minimizing false negatives because if a model predicts that a person is at risk of diabetes and in reality, that person doesn't have diabetes then that person can go through further levels of testing to confirm whether the person is actually at risk of diabetes but if we predict that a person is not at risk of diabetes but the person is at risk of diabetes then that person will go undiagnosed and this would lead to further health problems."
   ]
  },
  {
   "cell_type": "code",
   "execution_count": 43,
   "id": "c2212a1e-5552-4fcb-9d29-9603c36bc130",
   "metadata": {
    "tags": []
   },
   "outputs": [],
   "source": [
    "# defining the function to compute different metrics to check the performace of classification model using sklearn\n",
    "\n",
    "def model_performance_classification_sklearn(model, predictors, target):\n",
    "    \"\"\"\n",
    "    Function to compute performance of model using different metrics\n",
    "    model: classifier\n",
    "    predictors: independent varibles\n",
    "    target: dependent variables\n",
    "    \"\"\"\n",
    "    \n",
    "    pred = model.predict(predictors)\n",
    "    acc = accuracy_score(target, pred)\n",
    "    recall = recall_score(target, pred)\n",
    "    precision = precision_score(target, pred)\n",
    "    f1 = f1_score(target, pred)\n",
    "    \n",
    "    df_perf = pd.DataFrame(\n",
    "        {\n",
    "        'Accuracy': acc,\n",
    "        'Precision': precision,\n",
    "        'Recall': recall,\n",
    "        'F1': f1\n",
    "        },\n",
    "        index=[0],\n",
    "    )\n",
    "    \n",
    "    return df_perf\n",
    "    "
   ]
  },
  {
   "cell_type": "code",
   "execution_count": 44,
   "id": "d44300dd-285b-453b-92b3-f63eb3887b32",
   "metadata": {
    "tags": []
   },
   "outputs": [],
   "source": [
    "def confusion_matrix_sklearn(model, predictors, target):\n",
    "    \"\"\"\n",
    "    To plot confusion matrix with percentage\n",
    "    model: classifier\n",
    "    predictors: independent variables\n",
    "    target: dependent variables\n",
    "    \"\"\"\n",
    "    \n",
    "    y_pred = model.predict(predictors)\n",
    "    cm = confusion_matrix(target,y_pred)\n",
    "    labels = np.asarray([[\"{0:0.0f}\".format(item) + \"\\n{0:.2%}\".format(item / cm.flatten().sum())]\n",
    "            for item in cm.flatten()]).reshape(2, 2)\n",
    "\n",
    "    plt.figure(figsize=(6, 4))\n",
    "    sns.heatmap(cm, annot=labels, fmt=\"\")\n",
    "    plt.ylabel(\"True label\")\n",
    "    plt.xlabel(\"Predicted label\")"
   ]
  },
  {
   "cell_type": "markdown",
   "id": "65ac44a4-99d8-48f1-8749-143bf24f817f",
   "metadata": {},
   "source": [
    "### Decision Tree"
   ]
  },
  {
   "cell_type": "code",
   "execution_count": 45,
   "id": "4153ec1e-0d3d-4008-8706-e10676ec240a",
   "metadata": {
    "tags": []
   },
   "outputs": [
    {
     "name": "stdout",
     "output_type": "stream",
     "text": [
      "Training Performance:\n",
      "     Accuracy  Precision  Recall   F1\n",
      "0       1.0        1.0     1.0  1.0\n",
      "Testing Performance:\n",
      "     Accuracy  Precision    Recall        F1\n",
      "0  0.731602   0.626667  0.580247  0.602564\n"
     ]
    },
    {
     "data": {
      "image/png": "[encoded data removed]",
      "text/plain": [
       "<Figure size 600x400 with 2 Axes>"
      ]
     },
     "metadata": {},
     "output_type": "display_data"
    }
   ],
   "source": [
    "d_tree = DecisionTreeClassifier(random_state=1)\n",
    "d_tree.fit(X_train, y_train)\n",
    "\n",
    "\n",
    "# calculating different metrics\n",
    "dtree_model_train_perf = model_performance_classification_sklearn(d_tree, X_train, y_train)\n",
    "print(\"Training Performance:\\n \",dtree_model_train_perf)\n",
    "\n",
    "dtree_model_test_perf = model_performance_classification_sklearn(d_tree, X_test,y_test)\n",
    "print(\"Testing Performance:\\n \", dtree_model_test_perf)\n",
    "\n",
    "confusion_matrix_sklearn(d_tree, X_test, y_test)"
   ]
  },
  {
   "cell_type": "markdown",
   "id": "48e1eb61-2c4c-4243-993b-aacf54ce8da2",
   "metadata": {},
   "source": [
    "### Random Forest"
   ]
  },
  {
   "cell_type": "code",
   "execution_count": 46,
   "id": "f64472e3-bf97-4cf2-9f92-5c8ae9fcfd9f",
   "metadata": {
    "tags": []
   },
   "outputs": [
    {
     "name": "stdout",
     "output_type": "stream",
     "text": [
      "Training Performance: \n",
      "    Accuracy  Precision  Recall   F1\n",
      "0       1.0        1.0     1.0  1.0\n",
      "Testing Performance: \n",
      "    Accuracy  Precision   Recall        F1\n",
      "0  0.753247     0.6875  0.54321  0.606897\n"
     ]
    },
    {
     "data": {
      "image/png": "[encoded data removed]",
      "text/plain": [
       "<Figure size 600x400 with 2 Axes>"
      ]
     },
     "metadata": {},
     "output_type": "display_data"
    }
   ],
   "source": [
    "rf_estimator = RandomForestClassifier(random_state=1)\n",
    "rf_estimator.fit(X_train, y_train)\n",
    "\n",
    "rf_estimator_model_perf_train = model_performance_classification_sklearn(rf_estimator, X_train,y_train)\n",
    "rf_estimator_model_perf_test = model_performance_classification_sklearn(rf_estimator, X_test, y_test)\n",
    "\n",
    "print(\"Training Performance: \\n\",rf_estimator_model_perf_train)\n",
    "print(\"Testing Performance: \\n\", rf_estimator_model_perf_test)\n",
    "\n",
    "confusion_matrix_sklearn(rf_estimator, X_test, y_test)"
   ]
  },
  {
   "cell_type": "markdown",
   "id": "b55583c8-a272-40f5-9b72-4f0371e8744a",
   "metadata": {},
   "source": [
    "### Bagging Classifier"
   ]
  },
  {
   "cell_type": "code",
   "execution_count": 47,
   "id": "5b65ecf4-83dd-46e6-b84d-ba92d24d9253",
   "metadata": {
    "tags": []
   },
   "outputs": [
    {
     "name": "stdout",
     "output_type": "stream",
     "text": [
      "Training Performance: \n",
      "    Accuracy  Precision    Recall        F1\n",
      "0  0.994413        1.0  0.983957  0.991914\n",
      "Testing Performance: \n",
      "    Accuracy  Precision    Recall        F1\n",
      "0  0.744589   0.661765  0.555556  0.604027\n"
     ]
    },
    {
     "data": {
      "image/png": "[encoded data removed]",
      "text/plain": [
       "<Figure size 600x400 with 2 Axes>"
      ]
     },
     "metadata": {},
     "output_type": "display_data"
    }
   ],
   "source": [
    "bagging_classifier = BaggingClassifier(random_state=1)\n",
    "bagging_classifier.fit(X_train,y_train)\n",
    "\n",
    "bagging_classifier_model_train_perf = model_performance_classification_sklearn(bagging_classifier, X_train, y_train)\n",
    "bagging_classifier_model_test_perf = model_performance_classification_sklearn(bagging_classifier , X_test, y_test)\n",
    "\n",
    "print(\"Training Performance: \\n\", bagging_classifier_model_train_perf)\n",
    "print(\"Testing Performance: \\n\", bagging_classifier_model_test_perf)\n",
    "\n",
    "confusion_matrix_sklearn(bagging_classifier, X_test, y_test)"
   ]
  },
  {
   "cell_type": "markdown",
   "id": "c3a07546-4a04-4f15-b009-15a39e1c2b61",
   "metadata": {},
   "source": [
    "### Tuning Decision Tree"
   ]
  },
  {
   "cell_type": "code",
   "execution_count": 48,
   "id": "f9b9af90-8420-48eb-97dc-ebcb72cdb17c",
   "metadata": {
    "tags": []
   },
   "outputs": [
    {
     "data": {
      "text/html": [
       "<style>#sk-container-id-2 {color: black;background-color: white;}#sk-container-id-2 pre{padding: 0;}#sk-container-id-2 div.sk-toggleable {background-color: white;}#sk-container-id-2 label.sk-toggleable__label {cursor: pointer;display: block;width: 100%;margin-bottom: 0;padding: 0.3em;box-sizing: border-box;text-align: center;}#sk-container-id-2 label.sk-toggleable__label-arrow:before {content: \"▸\";float: left;margin-right: 0.25em;color: #696969;}#sk-container-id-2 label.sk-toggleable__label-arrow:hover:before {color: black;}#sk-container-id-2 div.sk-estimator:hover label.sk-toggleable__label-arrow:before {color: black;}#sk-container-id-2 div.sk-toggleable__content {max-height: 0;max-width: 0;overflow: hidden;text-align: left;background-color: #f0f8ff;}#sk-container-id-2 div.sk-toggleable__content pre {margin: 0.2em;color: black;border-radius: 0.25em;background-color: #f0f8ff;}#sk-container-id-2 input.sk-toggleable__control:checked~div.sk-toggleable__content {max-height: 200px;max-width: 100%;overflow: auto;}#sk-container-id-2 input.sk-toggleable__control:checked~label.sk-toggleable__label-arrow:before {content: \"▾\";}#sk-container-id-2 div.sk-estimator input.sk-toggleable__control:checked~label.sk-toggleable__label {background-color: #d4ebff;}#sk-container-id-2 div.sk-label input.sk-toggleable__control:checked~label.sk-toggleable__label {background-color: #d4ebff;}#sk-container-id-2 input.sk-hidden--visually {border: 0;clip: rect(1px 1px 1px 1px);clip: rect(1px, 1px, 1px, 1px);height: 1px;margin: -1px;overflow: hidden;padding: 0;position: absolute;width: 1px;}#sk-container-id-2 div.sk-estimator {font-family: monospace;background-color: #f0f8ff;border: 1px dotted black;border-radius: 0.25em;box-sizing: border-box;margin-bottom: 0.5em;}#sk-container-id-2 div.sk-estimator:hover {background-color: #d4ebff;}#sk-container-id-2 div.sk-parallel-item::after {content: \"\";width: 100%;border-bottom: 1px solid gray;flex-grow: 1;}#sk-container-id-2 div.sk-label:hover label.sk-toggleable__label {background-color: #d4ebff;}#sk-container-id-2 div.sk-serial::before {content: \"\";position: absolute;border-left: 1px solid gray;box-sizing: border-box;top: 0;bottom: 0;left: 50%;z-index: 0;}#sk-container-id-2 div.sk-serial {display: flex;flex-direction: column;align-items: center;background-color: white;padding-right: 0.2em;padding-left: 0.2em;position: relative;}#sk-container-id-2 div.sk-item {position: relative;z-index: 1;}#sk-container-id-2 div.sk-parallel {display: flex;align-items: stretch;justify-content: center;background-color: white;position: relative;}#sk-container-id-2 div.sk-item::before, #sk-container-id-2 div.sk-parallel-item::before {content: \"\";position: absolute;border-left: 1px solid gray;box-sizing: border-box;top: 0;bottom: 0;left: 50%;z-index: -1;}#sk-container-id-2 div.sk-parallel-item {display: flex;flex-direction: column;z-index: 1;position: relative;background-color: white;}#sk-container-id-2 div.sk-parallel-item:first-child::after {align-self: flex-end;width: 50%;}#sk-container-id-2 div.sk-parallel-item:last-child::after {align-self: flex-start;width: 50%;}#sk-container-id-2 div.sk-parallel-item:only-child::after {width: 0;}#sk-container-id-2 div.sk-dashed-wrapped {border: 1px dashed gray;margin: 0 0.4em 0.5em 0.4em;box-sizing: border-box;padding-bottom: 0.4em;background-color: white;}#sk-container-id-2 div.sk-label label {font-family: monospace;font-weight: bold;display: inline-block;line-height: 1.2em;}#sk-container-id-2 div.sk-label-container {text-align: center;}#sk-container-id-2 div.sk-container {/* jupyter's `normalize.less` sets `[hidden] { display: none; }` but bootstrap.min.css set `[hidden] { display: none !important; }` so we also need the `!important` here to be able to override the default hidden behavior on the sphinx rendered scikit-learn.org. See: https://github.com/scikit-learn/scikit-learn/issues/21755 */display: inline-block !important;position: relative;}#sk-container-id-2 div.sk-text-repr-fallback {display: none;}</style><div id=\"sk-container-id-2\" class=\"sk-top-container\"><div class=\"sk-text-repr-fallback\"><pre>DecisionTreeClassifier(class_weight={0: 0.35, 1: 0.65}, max_depth=4,\n",
       "                       max_leaf_nodes=5, min_impurity_decrease=0.0001,\n",
       "                       min_samples_leaf=5, random_state=1)</pre><b>In a Jupyter environment, please rerun this cell to show the HTML representation or trust the notebook. <br />On GitHub, the HTML representation is unable to render, please try loading this page with nbviewer.org.</b></div><div class=\"sk-container\" hidden><div class=\"sk-item\"><div class=\"sk-estimator sk-toggleable\"><input class=\"sk-toggleable__control sk-hidden--visually\" id=\"sk-estimator-id-2\" type=\"checkbox\" checked><label for=\"sk-estimator-id-2\" class=\"sk-toggleable__label sk-toggleable__label-arrow\">DecisionTreeClassifier</label><div class=\"sk-toggleable__content\"><pre>DecisionTreeClassifier(class_weight={0: 0.35, 1: 0.65}, max_depth=4,\n",
       "                       max_leaf_nodes=5, min_impurity_decrease=0.0001,\n",
       "                       min_samples_leaf=5, random_state=1)</pre></div></div></div></div></div>"
      ],
      "text/plain": [
       "DecisionTreeClassifier(class_weight={0: 0.35, 1: 0.65}, max_depth=4,\n",
       "                       max_leaf_nodes=5, min_impurity_decrease=0.0001,\n",
       "                       min_samples_leaf=5, random_state=1)"
      ]
     },
     "execution_count": 48,
     "metadata": {},
     "output_type": "execute_result"
    }
   ],
   "source": [
    "dtree_estimator = DecisionTreeClassifier(class_weight={1:0.65,0:0.35}, random_state=1)\n",
    "parameters = {\n",
    "    'max_depth': np.arange(2,10),\n",
    "    'min_samples_leaf': [5,7,10,15],\n",
    "    'max_leaf_nodes': [2,3,5,10,15],\n",
    "    'min_impurity_decrease': [0.0001, 0.001, 0.01, 0.1]\n",
    "}\n",
    "\n",
    "scorer = metrics.make_scorer(metrics.recall_score)\n",
    "\n",
    "grid_obj = GridSearchCV(dtree_estimator, parameters, scoring= scorer, n_jobs=-1)\n",
    "grid_obj = grid_obj.fit(X_train, y_train)\n",
    "\n",
    "dtree_estimator = grid_obj.best_estimator_\n",
    "\n",
    "dtree_estimator.fit(X_train, y_train)\n"
   ]
  },
  {
   "cell_type": "code",
   "execution_count": 49,
   "id": "6d92f815-6490-443d-bfc5-883e87d25c2a",
   "metadata": {
    "tags": []
   },
   "outputs": [
    {
     "name": "stdout",
     "output_type": "stream",
     "text": [
      "Training Performance: \n",
      "    Accuracy  Precision    Recall        F1\n",
      "0  0.759777   0.613281  0.839572  0.708804\n",
      "Testing Performance: \n",
      "    Accuracy  Precision    Recall        F1\n",
      "0  0.692641   0.544643  0.753086  0.632124\n"
     ]
    },
    {
     "data": {
      "image/png": "[encoded data removed]",
      "text/plain": [
       "<Figure size 600x400 with 2 Axes>"
      ]
     },
     "metadata": {},
     "output_type": "display_data"
    }
   ],
   "source": [
    "dtree_estimator_model_perf_train = model_performance_classification_sklearn(dtree_estimator, X_train, y_train)\n",
    "dtree_estimator_model_perf_test = model_performance_classification_sklearn(dtree_estimator,X_test,y_test)\n",
    "\n",
    "print(\"Training Performance: \\n\",dtree_estimator_model_perf_train)\n",
    "print(\"Testing Performance: \\n\", dtree_estimator_model_perf_test)\n",
    "\n",
    "confusion_matrix_sklearn(dtree_estimator, X_test, y_test)"
   ]
  },
  {
   "cell_type": "markdown",
   "id": "fb22a65b-ac3a-440b-bc08-9ec614e512e1",
   "metadata": {},
   "source": [
    "### Tuning Random Forest"
   ]
  },
  {
   "cell_type": "code",
   "execution_count": null,
   "id": "f64b5889-8831-4735-9ed4-429a9e6d8aab",
   "metadata": {
    "tags": []
   },
   "outputs": [],
   "source": [
    "rf_tuned = RandomForestClassifier(class_weight={0:0.35,1:0.65}, random_state=1)\n",
    "\n",
    "parameters = {\n",
    "    \"max_depth\": list(np.arange(3,10,1)),\n",
    "    \"max_features\": np.arange(0.6,1.1,0.1),\n",
    "    \"max_samples\": np.arange(0.7,1.1,0.1),\n",
    "    \"min_samples_split\": np.arange(2,20,5),\n",
    "    \"n_estimators\": np.arange(30,160,20),\n",
    "    \"min_impurity_decrease\": [0.0001,0.001,0.01,0.1]\n",
    "}\n",
    "\n",
    "scorer= metrics.make_scorer(metrics.recall_score)\n",
    "grid_obj = GridSearchCV(rf_tuned,parameters, cv=5, n_jobs=-1,scoring=scorer )\n",
    "\n",
    "grid_obj.fit(X_train, y_train)\n",
    "\n",
    "rf_tuned = grid_obj.best_estimator_\n",
    "rf_tuned.fit(X_train, y_train)"
   ]
  },
  {
   "cell_type": "code",
   "execution_count": null,
   "id": "692c3242-15da-485e-b9a4-a5c339bcaea0",
   "metadata": {
    "tags": []
   },
   "outputs": [],
   "source": [
    "rf_tuned_model_perf_train = model_performance_classification_sklearn(rf_tuned, X_train, y_train)\n",
    "rf_tuned_model_perf_test = model_performance_classification_sklearn(rf_tuned, X_test, y_test)\n",
    "\n",
    "print(\"Training Performance: \\n\", rf_tuned_model_perf_train)\n",
    "print(\"Testing Performance: \\n\", rf_tuned_model_perf_test)\n",
    "\n",
    "confusion_matrix_sklearn(rf_tuned, X_test, y_test)"
   ]
  },
  {
   "cell_type": "markdown",
   "id": "9e26eef3-206b-4f0a-9402-7801ad739ae9",
   "metadata": {},
   "source": [
    "### Tuning Bagging Classifier"
   ]
  },
  {
   "cell_type": "code",
   "execution_count": null,
   "id": "b4509db4-b613-47a3-8ad3-e6db0fb88e64",
   "metadata": {
    "tags": []
   },
   "outputs": [],
   "source": [
    "bagging_estimator_tuned = BaggingClassifier(random_state=1, class_weight={0:0.35,1:0.65})\n",
    "parameters = {\n",
    "    \"max_samples\": [0.7,0.8,0.9,1],\n",
    "    \"max_features\": [0.7,0.8,0.9,1],\n",
    "    \"n_estimators\": [10,20,30,40,50]\n",
    "}\n",
    "\n",
    "scorer = metrics.make_scorer(metrics.recall_scorer)\n",
    "\n",
    "grid_obj = GridSearchCV(bagging_estimator_tuned, parameters, cv=5, scoring=scorer)\n",
    "grid_obj = grid_obj.fit(X_train, y_train)\n",
    "\n",
    "bagging_estimator_tuned = grid_obj.best_estimator_\n",
    "\n",
    "bagging_estimator_tuned.fit(X_train, y_train)"
   ]
  },
  {
   "cell_type": "code",
   "execution_count": null,
   "id": "c359d2ec-2d2b-46a4-8710-774c47788f1d",
   "metadata": {},
   "outputs": [],
   "source": [
    "bagging_estimator_tuned_model_perf_train = model_performance_classification_sklearn(bagging_estimator_tuned, X_train, y_train)\n",
    "bagging_estimator_tuned_model_perf_test = model_performance_classification_sklearn(bagging_estimator_tuned, X_test, y_test)\n",
    "\n",
    "print(\"Training Performance: \\n\", bagging_estimator_tuned_model_perf_train)\n",
    "print(\"Testing Performance: \\n\", bagging_estimator_tuned_model_perf_test)\n",
    "\n",
    "confusion_matrix_sklearn(bagging_estimator_tuned, X_test, y_test)"
   ]
  },
  {
   "cell_type": "markdown",
   "id": "588c6d6c-f863-45a3-81a7-2db8b302d2eb",
   "metadata": {},
   "source": [
    "### Comparing all the models"
   ]
  },
  {
   "cell_type": "code",
   "execution_count": null,
   "id": "fe58d74f-5113-406a-a5b9-9ac09df9e0c2",
   "metadata": {},
   "outputs": [],
   "source": [
    "model_train_com_df = pd.concat([dtree_model_train_perf.T,dtree_estimator_model_perf_train.T, rf_estimator_model_perf_train.T, rf_tuned_model_perf_train.T, bagging_classifier_model_train_perf.T, bagging_estimator_tuned_model_perf_train.T], axis=1)\n",
    "model_train_com_df.columns= [\"Decision Tree\", \"Decision Tree Estimator\", \"Random Forest\", \"Tuned Random Forest\", \"Bagging Classifier\", \"Tuned Bagging Estimator\"]\n",
    "print(\"Comparison of all Models on training dataset\")\n",
    "model_train_com_df"
   ]
  },
  {
   "cell_type": "code",
   "execution_count": null,
   "id": "bb906a08-d798-49a8-aca2-88bbd0ea8d1b",
   "metadata": {},
   "outputs": [],
   "source": [
    "model_test_com_df = pd.concat([dtree_model_test_perf.T, dtree_estimator_model_perf_test.T, rf_estimator_model_perf_test.T,rf_tuned_model_perf_test.T,bagging_classifier_model_test_perf.T,bagging_estimator_tuned_model_perf_test.T], axis=1)\n",
    "model_test_com_df.columns = [\"Decision Tree\", \"Decision Tree Estimator\", \"Random Forest\", \"Tuned Random Forest\", \"Bagging Classifier\",\"Tuned Bagging Classifier\"]\n",
    "\n",
    "print(\"Comparison of all Models on testing dataset\")\n",
    "model_test_com_df\n"
   ]
  },
  {
   "cell_type": "markdown",
   "id": "d9527a0c-32ce-4c68-bf63-9a9177863b55",
   "metadata": {},
   "source": [
    "### Feature importance of tuned decision tree"
   ]
  },
  {
   "cell_type": "code",
   "execution_count": null,
   "id": "a905677f-0a8e-4576-9030-ae16b6211036",
   "metadata": {},
   "outputs": [],
   "source": [
    "feature_names = list(X_train.columns)\n",
    "print(tree.export_text(dtree_estimator, feature_names = feature_names, show_weights =True))"
   ]
  },
  {
   "cell_type": "code",
   "execution_count": null,
   "id": "e5e62032-5596-4e96-a3b3-34d556c016bd",
   "metadata": {},
   "outputs": [],
   "source": [
    "feature_names = list(X_train.columns)\n",
    "importances = dtree_estimator.feature_importances_\n",
    "indices = np.argsort(importances)\n",
    "\n",
    "plt.figure(figsize=(12,12))\n",
    "plt.title(\"Feature Importance\")\n",
    "plt.barh(range(len(indices)), importances[indices], color=\"violet\", align=\"center\")\n",
    "plt.yticks(range(len(indices)),[feature_names[i] for i in indices])\n",
    "plt.xlabel(\"Relative importance\")\n",
    "plt.show()"
   ]
  }
 ],
 "metadata": {
  "kernelspec": {
   "display_name": "conda_python3",
   "language": "python",
   "name": "conda_python3"
  },
  "language_info": {
   "codemirror_mode": {
    "name": "ipython",
    "version": 3
   },
   "file_extension": ".py",
   "mimetype": "text/x-python",
   "name": "python",
   "nbconvert_exporter": "python",
   "pygments_lexer": "ipython3",
   "version": "3.10.8"
  }
 },
 "nbformat": 4,
 "nbformat_minor": 5
}
